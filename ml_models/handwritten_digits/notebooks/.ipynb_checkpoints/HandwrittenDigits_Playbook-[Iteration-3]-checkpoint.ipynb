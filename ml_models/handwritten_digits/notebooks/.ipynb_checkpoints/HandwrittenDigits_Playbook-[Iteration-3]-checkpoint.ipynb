{
 "cells": [
  {
   "cell_type": "markdown",
   "id": "9d513001",
   "metadata": {},
   "source": [
    "# Download and create dataset for training"
   ]
  },
  {
   "cell_type": "markdown",
   "id": "e6f2a640",
   "metadata": {},
   "source": [
    "### NSIT Dataset. Download link: https://s3.amazonaws.com/nist-srd/SD19/by_class.zip"
   ]
  },
  {
   "cell_type": "code",
   "execution_count": 5,
   "id": "5f3e6e78",
   "metadata": {},
   "outputs": [],
   "source": [
    "import sys\n",
    "import os\n",
    "import json\n",
    "sys.path.append(os.path.realpath('../src'))\n",
    "import config\n",
    "import base64\n",
    "from io import BytesIO\n",
    "from PIL import Image, ImageOps"
   ]
  },
  {
   "cell_type": "code",
   "execution_count": 7,
   "id": "71248f03",
   "metadata": {},
   "outputs": [],
   "source": [
    "# To load the 1st version (0.1) of iteration 3.0 training\n",
    "NIST_data_iter3_0 = [json.loads(line) for line in open('../training_samples_v01_iter3_0.json', 'r')]"
   ]
  },
  {
   "cell_type": "code",
   "execution_count": 8,
   "id": "ccec8dc5",
   "metadata": {},
   "outputs": [],
   "source": [
    "# To load the 2nd version (0.2) of iteration 3.1 training\n",
    "NIST_data_iter3_1 = [json.loads(line) for line in open('../training_samples_v02_iter3_1.json', 'r')]"
   ]
  },
  {
   "cell_type": "markdown",
   "id": "cae3787f",
   "metadata": {},
   "source": [
    "## To form the training dataset for the 1st version (0.1) of iteration 3.0 training"
   ]
  },
  {
   "cell_type": "code",
   "execution_count": null,
   "id": "1d10867c",
   "metadata": {},
   "outputs": [],
   "source": [
    "# Path to the NSIT dataset\n",
    "dataset_path = os.path.expanduser('~')+\"/Downloads/by_class/\""
   ]
  },
  {
   "cell_type": "code",
   "execution_count": null,
   "id": "cadd6fa6",
   "metadata": {},
   "outputs": [],
   "source": [
    "# To create folders/classes (0-9) with the images converted to gray background and resizing it to 28*28\n",
    "path = os.path.expanduser('~')+\"/Downloads/\"\n",
    "if not os.path.exists(path+'NIST_dataset_iter3_0/'):\n",
    "    os.mkdir(path+\"NIST_dataset_iter3_0/\")\n",
    "for digit, folder in NIST_data_iter3_0[2]['NIST_class_mapping'].items():\n",
    "    if not os.path.exists(path+'NIST_dataset_iter3_0/'+digit):\n",
    "        os.mkdir(path+'NIST_dataset_iter3_0/'+digit)\n",
    "    for image in NIST_data_iter3_0[3][\"NIST_data\"][digit]:\n",
    "        image_name = image.split('/')[0]\n",
    "        image_jpg = image_name.split('.')[0]\n",
    "        im = Image.open(dataset_path+folder+image).convert('L')\n",
    "        im = im.resize((28,28))\n",
    "        bw = im.point(lambda x: 0 if x<128 else 255)\n",
    "        result = ImageOps.colorize(bw, (0,0,0), (174, 181, 174))\n",
    "        im1 = result.save(path+\"NIST_dataset_iter3_0/\"+digit+\"/\"+image_jpg+\".jpg\")\n",
    "print('Created classes 0 - 9 at Downloads/NIST_dataset_iter3_0')"
   ]
  },
  {
   "cell_type": "code",
   "execution_count": null,
   "id": "be9ca857",
   "metadata": {},
   "outputs": [],
   "source": [
    "# To create background class (10)\n",
    "i=0\n",
    "path = os.path.expanduser('~')+\"/Downloads/\"\n",
    "if not os.path.exists(path+'NIST_dataset_iter3_0/10'):\n",
    "    os.mkdir(path+\"/NIST_dataset_iter3_0/10\")\n",
    "# os.mkdir(os.path.expanduser('~')+'/Downloads/dataset_iter3_0/10')\n",
    "while i < 3000: \n",
    "    new = Image.new(mode='RGB', size = (28,28), color = (174, 181, 174))\n",
    "    new = new.resize((28,28))\n",
    "    new.save(path+'NIST_dataset_iter3_0/10/'+str(i)+'.jpg')\n",
    "    i+=1\n",
    "print('Created classes 0 - 9 at Downloads/NIST_dataset_iter3_0')"
   ]
  },
  {
   "cell_type": "markdown",
   "id": "eedb2807",
   "metadata": {},
   "source": [
    "## To form the training dataset for the 1st version (0.2) of iteration 3.1 training"
   ]
  },
  {
   "cell_type": "code",
   "execution_count": null,
   "id": "1bca1b87",
   "metadata": {},
   "outputs": [],
   "source": [
    "# To create production dataset\n",
    "path = os.path.expanduser('~')+\"/Downloads/\"\n",
    "if not os.path.exists(path+'production_dataset_iter3_1/'):\n",
    "    os.mkdir(path+'production_dataset_iter3_1/')\n",
    "for folder in NIST_data_iter3_1[2]['production_data']:\n",
    "    if not os.path.exists(path+'production_dataset_iter3_1/'+folder):\n",
    "        os.mkdir(path+'production_dataset_iter3_1/'+folder)\n",
    "    for i, b64_string in enumerate(NIST_data_iter3_1[2]['production_data'][folder]):\n",
    "        im = Image.open(BytesIO(base64.b64decode(b64_string)))\n",
    "        im = im.resize((28,28))\n",
    "        im.save(path+'production_dataset_iter3_1/'+folder+'/'+folder+'_'+str(i)+\".png\",'PNG')\n",
    "\n",
    "print('Production dataset created at Downloads/production_dataset_iter3_1')"
   ]
  },
  {
   "cell_type": "code",
   "execution_count": null,
   "id": "c54584b6",
   "metadata": {},
   "outputs": [],
   "source": [
    "# To create NIST misclassifications dataset\n",
    "# Create a folder named 'NIST_data_iter3_1' in Downloads where the data would be created\n",
    "path = os.path.expanduser('~')+\"/Downloads/\"\n",
    "if not os.path.exists(path+'NIST_dataset_iter3_1/'):\n",
    "    os.mkdir(path+\"NIST_dataset_iter3_1/\")\n",
    "for digit, folder in NIST_data_iter3_1[3]['NIST_class_mapping'].items():\n",
    "    if not os.path.exists(path+'NIST_dataset_iter3_1/'+digit):\n",
    "        os.mkdir(path+\"NIST_dataset_iter3_1/\"+digit)\n",
    "    for image in NIST_data_iter3_1[4][\"NIST_data\"][digit]:\n",
    "        image_name = image.split('/')[0]\n",
    "        image_jpg = image_name.split('.')[0]\n",
    "        im = Image.open(dataset_path+folder+image).convert('L')\n",
    "        im = im.resize((28,28))\n",
    "        im.save(path+\"NIST_dataset_iter3_1/\"+digit+\"/\"+image_jpg+\".jpg\")\n",
    "print('NIST dataset created at Downloads/NIST_dataset_iter3_1')"
   ]
  },
  {
   "cell_type": "markdown",
   "id": "7c8b668c",
   "metadata": {},
   "source": [
    "### Existing dataset. Download link: https://drive.google.com/file/d/1bTjKBzN-QsCnrQxznRj-b3Szt8_mLKdL/view?usp=share_link"
   ]
  },
  {
   "cell_type": "code",
   "execution_count": null,
   "id": "fd06272c",
   "metadata": {},
   "outputs": [],
   "source": [
    "from zipfile import ZipFile\n",
    "import os\n",
    "os.mkdir(os.path.expanduser('~')+'/Downloads/printed_digits_v1')\n",
    "with ZipFile(os.path.expanduser('~')+'/Downloads/printed_digits_v1.zip', 'r') as zipObj:\n",
    "   # Extract all the contents of zip file in current directory\n",
    "   zipObj.extractall(path= os.path.expanduser('~')+'/Downloads/printed_digits_v1')\n",
    "print('Extraction of dataset complete!')"
   ]
  },
  {
   "cell_type": "markdown",
   "id": "ee8400d2",
   "metadata": {},
   "source": [
    "### NOTE: Combine both existing dataset and iteration 3.0 training dataset or existing dataset and iteration 3.1 training dataset and place the entire training dataset in ../data/raw"
   ]
  },
  {
   "cell_type": "markdown",
   "id": "8e3ac171",
   "metadata": {},
   "source": [
    "# Training of the model starts here..."
   ]
  },
  {
   "cell_type": "code",
   "execution_count": null,
   "id": "d67e39bb",
   "metadata": {},
   "outputs": [],
   "source": [
    "# All parameters for training are set in config.py. Please change it as per requirements\n",
    "from train import main\n",
    "main()"
   ]
  },
  {
   "cell_type": "markdown",
   "id": "7369cb43",
   "metadata": {},
   "source": [
    "# Prediction using .h5 model"
   ]
  },
  {
   "cell_type": "code",
   "execution_count": null,
   "id": "58eb3ed5",
   "metadata": {},
   "outputs": [],
   "source": [
    "from predict import pred_using_h5_digit, pred_using_tflite_model"
   ]
  },
  {
   "cell_type": "code",
   "execution_count": null,
   "id": "bcaf6430",
   "metadata": {},
   "outputs": [],
   "source": [
    "# Trained model path and test data path\n",
    "model = tf.keras.models.load_model('../models/pre-trained_model/trained_resnet_model_v2_10.h5')"
   ]
  },
  {
   "cell_type": "code",
   "execution_count": null,
   "id": "8bdf95e4",
   "metadata": {},
   "outputs": [],
   "source": [
    "# To get the accuracy on test data and the number of misclassifications\n",
    "path = '../data/test/0/*'\n",
    "result, accuracy = pred_using_h5_digit(model, path)\n",
    "print(\"Accuracy on test dataset using .h5 model>>>>\",accuracy)"
   ]
  },
  {
   "cell_type": "markdown",
   "id": "f602f6f5",
   "metadata": {},
   "source": [
    "### Conversion of .h5 model to .tflite model"
   ]
  },
  {
   "cell_type": "code",
   "execution_count": null,
   "id": "3b1a9c7d",
   "metadata": {},
   "outputs": [],
   "source": [
    "# Parameters for path are set in config.py. Please change it as per requirements \n",
    "h5_model_path = config.H5_MODEL_PATH\n",
    "model = tf.keras.models.load_model(h5_model_path)\n",
    "converter = tf.lite.TFLiteConverter.from_keras_model(model)\n",
    "tflite_model = converter.convert()\n",
    "open(config.TF_LITE_SAVE_PATH, \"wb\").write(tflite_model)"
   ]
  },
  {
   "cell_type": "markdown",
   "id": "0ca1c67d",
   "metadata": {},
   "source": [
    "# Prediction using .tflite model"
   ]
  },
  {
   "cell_type": "code",
   "execution_count": null,
   "id": "077508c8",
   "metadata": {},
   "outputs": [],
   "source": [
    "# Trained model path and test data path\n",
    "model = '../models/tflite_model/trained_resnet_model_v2_10.tflite'"
   ]
  },
  {
   "cell_type": "code",
   "execution_count": null,
   "id": "113cef4f",
   "metadata": {},
   "outputs": [],
   "source": [
    "# To get the accuracy on test data and the number of misclassifications\n",
    "path = '../data/test/0/*'\n",
    "result, accuracy = pred_using_tflite_model(model, path)\n",
    "print(\"Accuracy on test dataset using .tflite model\", accuracy)"
   ]
  }
 ],
 "metadata": {
  "kernelspec": {
   "display_name": "Python 3 (ipykernel)",
   "language": "python",
   "name": "python3"
  },
  "language_info": {
   "codemirror_mode": {
    "name": "ipython",
    "version": 3
   },
   "file_extension": ".py",
   "mimetype": "text/x-python",
   "name": "python",
   "nbconvert_exporter": "python",
   "pygments_lexer": "ipython3",
   "version": "3.8.10"
  }
 },
 "nbformat": 4,
 "nbformat_minor": 5
}

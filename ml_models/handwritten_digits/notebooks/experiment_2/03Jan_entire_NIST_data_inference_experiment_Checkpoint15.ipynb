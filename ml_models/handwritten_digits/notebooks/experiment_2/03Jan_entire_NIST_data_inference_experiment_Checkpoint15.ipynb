{
 "cells": [
  {
   "cell_type": "markdown",
   "id": "96ccd3b1",
   "metadata": {},
   "source": [
    "# Experiment records\n",
    "- Dataset used: Entire NIST subset \n",
    "- Accuracy: 98.3%\n",
    "- Description of experiment: To check the performance and analyse the misclassifications of new model (Jan 03- checkpoint_15_0.03.h5)\n"
   ]
  },
  {
   "cell_type": "code",
   "execution_count": 1,
   "id": "e0c9f187",
   "metadata": {},
   "outputs": [
    {
     "name": "stderr",
     "output_type": "stream",
     "text": [
      "2023-01-04 17:09:37.760348: W tensorflow/stream_executor/platform/default/dso_loader.cc:64] Could not load dynamic library 'libcudart.so.11.0'; dlerror: libcudart.so.11.0: cannot open shared object file: No such file or directory\n",
      "2023-01-04 17:09:37.760371: I tensorflow/stream_executor/cuda/cudart_stub.cc:29] Ignore above cudart dlerror if you do not have a GPU set up on your machine.\n"
     ]
    }
   ],
   "source": [
    "import tensorflow as tf\n",
    "import sys  \n",
    "import os\n",
    "sys.path.append(os.path.realpath('../../src'))\n",
    "# from predict import pred_using_h5_digit, pred_using_tflite_model\n",
    "import cv2\n",
    "import os\n",
    "import glob\n",
    "import numpy as np\n",
    "import matplotlib.pyplot as plt"
   ]
  },
  {
   "cell_type": "code",
   "execution_count": 2,
   "id": "2518bcd8",
   "metadata": {},
   "outputs": [
    {
     "name": "stderr",
     "output_type": "stream",
     "text": [
      "2023-01-04 17:09:41.848213: E tensorflow/stream_executor/cuda/cuda_driver.cc:271] failed call to cuInit: CUDA_ERROR_NO_DEVICE: no CUDA-capable device is detected\n",
      "2023-01-04 17:09:41.848267: I tensorflow/stream_executor/cuda/cuda_diagnostics.cc:156] kernel driver does not appear to be running on this host (ti-lap-492): /proc/driver/nvidia/version does not exist\n",
      "2023-01-04 17:09:41.848883: I tensorflow/core/platform/cpu_feature_guard.cc:142] This TensorFlow binary is optimized with oneAPI Deep Neural Network Library (oneDNN) to use the following CPU instructions in performance-critical operations:  AVX2 FMA\n",
      "To enable them in other operations, rebuild TensorFlow with the appropriate compiler flags.\n"
     ]
    }
   ],
   "source": [
    "model = tf.keras.models.load_model('../../models/saved_model/checkpoint_15_0.03.h5')"
   ]
  },
  {
   "cell_type": "code",
   "execution_count": 3,
   "id": "db98b81b",
   "metadata": {},
   "outputs": [],
   "source": [
    "def pred_using_h5_digit(model, path, gt = None, prediction= None, wrong_results = None):\n",
    "    result = {}\n",
    "    wrong_results = {}\n",
    "    gt=[]\n",
    "    prediction = []\n",
    "    wrong_count=0\n",
    "    for img1 in sorted(glob.iglob(path)):\n",
    "        img=cv2.imread(img1)\n",
    "        img_name = img1.split('/')[-1]\n",
    "        img=cv2.resize(img,(28,28))\n",
    "        write_img = img\n",
    "        img= cv2.cvtColor(img, cv2.COLOR_BGR2GRAY)\n",
    "        img = img.astype('float32') / 255.\n",
    "        img= np.reshape(img,(1,28,28,1))\n",
    "        res=model.predict(img)\n",
    "        pred=res[0].argmax(axis=0)\n",
    "        ground_truth = int(img1.split('/')[-2])\n",
    "        gt.append(int(ground_truth))\n",
    "        prediction.append(pred)\n",
    "        result[img1] = pred\n",
    "        if pred!= int(ground_truth):\n",
    "            wrong_count+=1\n",
    "            wrong_results[img1] = pred\n",
    "#             cv2.imwrite('/home/venkateshiyer/handwritten_dataset/NIST_full_missclass/'+str(ground_truth)+'/'+img_name, write_img)\n",
    "    accuracy = (len(glob.glob(path))-wrong_count)/len(glob.glob(path))\n",
    "    return result, accuracy, gt, prediction, wrong_results"
   ]
  },
  {
   "cell_type": "code",
   "execution_count": 4,
   "id": "ece8b7ba",
   "metadata": {},
   "outputs": [
    {
     "name": "stderr",
     "output_type": "stream",
     "text": [
      "2023-01-04 17:10:05.037549: I tensorflow/compiler/mlir/mlir_graph_optimization_pass.cc:185] None of the MLIR Optimization Passes are enabled (registered 2)\n"
     ]
    }
   ],
   "source": [
    "path = os.path.expanduser('~')+'/handwritten_dataset/NIST_full/0/*'\n",
    "result, accuracy, gt, prediction, wrong_results = pred_using_h5_digit(model,path)"
   ]
  },
  {
   "cell_type": "code",
   "execution_count": 5,
   "id": "6b4beecd",
   "metadata": {},
   "outputs": [
    {
     "name": "stdout",
     "output_type": "stream",
     "text": [
      "0.9877123238164076\n",
      "              precision    recall  f1-score   support\n",
      "\n",
      "           0       1.00      0.99      0.99      5534\n",
      "           2       0.00      0.00      0.00         0\n",
      "           3       0.00      0.00      0.00         0\n",
      "           4       0.00      0.00      0.00         0\n",
      "           5       0.00      0.00      0.00         0\n",
      "           6       0.00      0.00      0.00         0\n",
      "           7       0.00      0.00      0.00         0\n",
      "           8       0.00      0.00      0.00         0\n",
      "           9       0.00      0.00      0.00         0\n",
      "\n",
      "    accuracy                           0.99      5534\n",
      "   macro avg       0.11      0.11      0.11      5534\n",
      "weighted avg       1.00      0.99      0.99      5534\n",
      "\n"
     ]
    },
    {
     "name": "stderr",
     "output_type": "stream",
     "text": [
      "/home/venkateshiyer/ocrtool/lib/python3.8/site-packages/sklearn/metrics/_classification.py:1334: UndefinedMetricWarning: Recall and F-score are ill-defined and being set to 0.0 in labels with no true samples. Use `zero_division` parameter to control this behavior.\n",
      "  _warn_prf(average, modifier, msg_start, len(result))\n",
      "/home/venkateshiyer/ocrtool/lib/python3.8/site-packages/sklearn/metrics/_classification.py:1334: UndefinedMetricWarning: Recall and F-score are ill-defined and being set to 0.0 in labels with no true samples. Use `zero_division` parameter to control this behavior.\n",
      "  _warn_prf(average, modifier, msg_start, len(result))\n",
      "/home/venkateshiyer/ocrtool/lib/python3.8/site-packages/sklearn/metrics/_classification.py:1334: UndefinedMetricWarning: Recall and F-score are ill-defined and being set to 0.0 in labels with no true samples. Use `zero_division` parameter to control this behavior.\n",
      "  _warn_prf(average, modifier, msg_start, len(result))\n"
     ]
    }
   ],
   "source": [
    "print(accuracy)\n",
    "from sklearn import metrics\n",
    "print(metrics.classification_report(gt, prediction))"
   ]
  },
  {
   "cell_type": "code",
   "execution_count": 6,
   "id": "cd265249",
   "metadata": {},
   "outputs": [
    {
     "data": {
      "text/plain": [
       "68"
      ]
     },
     "execution_count": 6,
     "metadata": {},
     "output_type": "execute_result"
    }
   ],
   "source": [
    "len(wrong_results)"
   ]
  },
  {
   "cell_type": "code",
   "execution_count": 7,
   "id": "58f92f56",
   "metadata": {},
   "outputs": [
    {
     "data": {
      "text/plain": [
       "{'/home/venkateshiyer/handwritten_dataset/NIST_full/0/hsf_0_00060.png': 2,\n",
       " '/home/venkateshiyer/handwritten_dataset/NIST_full/0/hsf_0_00357.png': 8,\n",
       " '/home/venkateshiyer/handwritten_dataset/NIST_full/0/hsf_0_00486.png': 3,\n",
       " '/home/venkateshiyer/handwritten_dataset/NIST_full/0/hsf_0_00513.png': 3,\n",
       " '/home/venkateshiyer/handwritten_dataset/NIST_full/0/hsf_0_00547.png': 9,\n",
       " '/home/venkateshiyer/handwritten_dataset/NIST_full/0/hsf_0_00548.png': 9,\n",
       " '/home/venkateshiyer/handwritten_dataset/NIST_full/0/hsf_0_00617.png': 2,\n",
       " '/home/venkateshiyer/handwritten_dataset/NIST_full/0/hsf_0_00619.png': 3,\n",
       " '/home/venkateshiyer/handwritten_dataset/NIST_full/0/hsf_0_00761.png': 3,\n",
       " '/home/venkateshiyer/handwritten_dataset/NIST_full/0/hsf_0_00834.png': 2,\n",
       " '/home/venkateshiyer/handwritten_dataset/NIST_full/0/hsf_0_00849.png': 6,\n",
       " '/home/venkateshiyer/handwritten_dataset/NIST_full/0/hsf_0_00934.png': 2,\n",
       " '/home/venkateshiyer/handwritten_dataset/NIST_full/0/hsf_0_00956.png': 6,\n",
       " '/home/venkateshiyer/handwritten_dataset/NIST_full/0/hsf_0_01018.png': 6,\n",
       " '/home/venkateshiyer/handwritten_dataset/NIST_full/0/hsf_0_01176.png': 9,\n",
       " '/home/venkateshiyer/handwritten_dataset/NIST_full/0/hsf_0_01254.png': 6,\n",
       " '/home/venkateshiyer/handwritten_dataset/NIST_full/0/hsf_0_01412.png': 2,\n",
       " '/home/venkateshiyer/handwritten_dataset/NIST_full/0/hsf_0_01425.png': 6,\n",
       " '/home/venkateshiyer/handwritten_dataset/NIST_full/0/hsf_0_01521.png': 8,\n",
       " '/home/venkateshiyer/handwritten_dataset/NIST_full/0/hsf_0_01522.png': 9,\n",
       " '/home/venkateshiyer/handwritten_dataset/NIST_full/0/hsf_0_01542.png': 7,\n",
       " '/home/venkateshiyer/handwritten_dataset/NIST_full/0/hsf_0_01596.png': 4,\n",
       " '/home/venkateshiyer/handwritten_dataset/NIST_full/0/hsf_0_01619.png': 6,\n",
       " '/home/venkateshiyer/handwritten_dataset/NIST_full/0/hsf_0_01677.png': 3,\n",
       " '/home/venkateshiyer/handwritten_dataset/NIST_full/0/hsf_0_01937.png': 2,\n",
       " '/home/venkateshiyer/handwritten_dataset/NIST_full/0/hsf_0_02004.png': 8,\n",
       " '/home/venkateshiyer/handwritten_dataset/NIST_full/0/hsf_0_02036.png': 8,\n",
       " '/home/venkateshiyer/handwritten_dataset/NIST_full/0/hsf_0_02039.png': 6,\n",
       " '/home/venkateshiyer/handwritten_dataset/NIST_full/0/hsf_0_02050.png': 3,\n",
       " '/home/venkateshiyer/handwritten_dataset/NIST_full/0/hsf_0_02054.png': 6,\n",
       " '/home/venkateshiyer/handwritten_dataset/NIST_full/0/hsf_0_02178.png': 4,\n",
       " '/home/venkateshiyer/handwritten_dataset/NIST_full/0/hsf_0_02226.png': 7,\n",
       " '/home/venkateshiyer/handwritten_dataset/NIST_full/0/hsf_0_02397.png': 2,\n",
       " '/home/venkateshiyer/handwritten_dataset/NIST_full/0/hsf_0_02441.png': 6,\n",
       " '/home/venkateshiyer/handwritten_dataset/NIST_full/0/hsf_0_02454.png': 2,\n",
       " '/home/venkateshiyer/handwritten_dataset/NIST_full/0/hsf_0_02557.png': 6,\n",
       " '/home/venkateshiyer/handwritten_dataset/NIST_full/0/hsf_0_02920.png': 3,\n",
       " '/home/venkateshiyer/handwritten_dataset/NIST_full/0/hsf_0_03050.png': 2,\n",
       " '/home/venkateshiyer/handwritten_dataset/NIST_full/0/hsf_0_03163.png': 2,\n",
       " '/home/venkateshiyer/handwritten_dataset/NIST_full/0/hsf_0_03222.png': 2,\n",
       " '/home/venkateshiyer/handwritten_dataset/NIST_full/0/hsf_0_03379.png': 2,\n",
       " '/home/venkateshiyer/handwritten_dataset/NIST_full/0/hsf_0_03386.png': 9,\n",
       " '/home/venkateshiyer/handwritten_dataset/NIST_full/0/hsf_0_03570.png': 2,\n",
       " '/home/venkateshiyer/handwritten_dataset/NIST_full/0/hsf_0_03576.png': 5,\n",
       " '/home/venkateshiyer/handwritten_dataset/NIST_full/0/hsf_0_03706.png': 6,\n",
       " '/home/venkateshiyer/handwritten_dataset/NIST_full/0/hsf_0_03818.png': 2,\n",
       " '/home/venkateshiyer/handwritten_dataset/NIST_full/0/hsf_0_03837.png': 2,\n",
       " '/home/venkateshiyer/handwritten_dataset/NIST_full/0/hsf_0_03859.png': 3,\n",
       " '/home/venkateshiyer/handwritten_dataset/NIST_full/0/hsf_0_04123.png': 2,\n",
       " '/home/venkateshiyer/handwritten_dataset/NIST_full/0/hsf_0_04259.png': 3,\n",
       " '/home/venkateshiyer/handwritten_dataset/NIST_full/0/hsf_0_04302.png': 6,\n",
       " '/home/venkateshiyer/handwritten_dataset/NIST_full/0/hsf_0_04316.png': 6,\n",
       " '/home/venkateshiyer/handwritten_dataset/NIST_full/0/hsf_0_04383.png': 2,\n",
       " '/home/venkateshiyer/handwritten_dataset/NIST_full/0/hsf_0_04385.png': 5,\n",
       " '/home/venkateshiyer/handwritten_dataset/NIST_full/0/hsf_0_04582.png': 6,\n",
       " '/home/venkateshiyer/handwritten_dataset/NIST_full/0/hsf_0_04674.png': 7,\n",
       " '/home/venkateshiyer/handwritten_dataset/NIST_full/0/hsf_0_04736.png': 9,\n",
       " '/home/venkateshiyer/handwritten_dataset/NIST_full/0/hsf_0_04896.png': 3,\n",
       " '/home/venkateshiyer/handwritten_dataset/NIST_full/0/hsf_0_04930.png': 2,\n",
       " '/home/venkateshiyer/handwritten_dataset/NIST_full/0/hsf_0_05006.png': 2,\n",
       " '/home/venkateshiyer/handwritten_dataset/NIST_full/0/hsf_0_05037.png': 9,\n",
       " '/home/venkateshiyer/handwritten_dataset/NIST_full/0/hsf_0_05067.png': 5,\n",
       " '/home/venkateshiyer/handwritten_dataset/NIST_full/0/hsf_0_05077.png': 3,\n",
       " '/home/venkateshiyer/handwritten_dataset/NIST_full/0/hsf_0_05094.png': 6,\n",
       " '/home/venkateshiyer/handwritten_dataset/NIST_full/0/hsf_0_05264.png': 8,\n",
       " '/home/venkateshiyer/handwritten_dataset/NIST_full/0/hsf_0_05277.png': 8,\n",
       " '/home/venkateshiyer/handwritten_dataset/NIST_full/0/hsf_0_05335.png': 3,\n",
       " '/home/venkateshiyer/handwritten_dataset/NIST_full/0/hsf_0_05532.png': 6}"
      ]
     },
     "execution_count": 7,
     "metadata": {},
     "output_type": "execute_result"
    }
   ],
   "source": [
    "wrong_results"
   ]
  },
  {
   "cell_type": "code",
   "execution_count": 8,
   "id": "ddf7e800",
   "metadata": {},
   "outputs": [],
   "source": [
    "path = os.path.expanduser('~')+'/handwritten_dataset/NIST_full/1/*'\n",
    "result, accuracy, gt, prediction, wrong_results = pred_using_h5_digit(model,path)"
   ]
  },
  {
   "cell_type": "code",
   "execution_count": 9,
   "id": "5581d517",
   "metadata": {},
   "outputs": [
    {
     "name": "stdout",
     "output_type": "stream",
     "text": [
      "0.9748668442077231\n",
      "              precision    recall  f1-score   support\n",
      "\n",
      "           0       0.00      0.00      0.00         0\n",
      "           1       1.00      0.97      0.99      6008\n",
      "           2       0.00      0.00      0.00         0\n",
      "           3       0.00      0.00      0.00         0\n",
      "           4       0.00      0.00      0.00         0\n",
      "           5       0.00      0.00      0.00         0\n",
      "           6       0.00      0.00      0.00         0\n",
      "           7       0.00      0.00      0.00         0\n",
      "           8       0.00      0.00      0.00         0\n",
      "\n",
      "    accuracy                           0.97      6008\n",
      "   macro avg       0.11      0.11      0.11      6008\n",
      "weighted avg       1.00      0.97      0.99      6008\n",
      "\n"
     ]
    },
    {
     "name": "stderr",
     "output_type": "stream",
     "text": [
      "/home/venkateshiyer/ocrtool/lib/python3.8/site-packages/sklearn/metrics/_classification.py:1334: UndefinedMetricWarning: Recall and F-score are ill-defined and being set to 0.0 in labels with no true samples. Use `zero_division` parameter to control this behavior.\n",
      "  _warn_prf(average, modifier, msg_start, len(result))\n",
      "/home/venkateshiyer/ocrtool/lib/python3.8/site-packages/sklearn/metrics/_classification.py:1334: UndefinedMetricWarning: Recall and F-score are ill-defined and being set to 0.0 in labels with no true samples. Use `zero_division` parameter to control this behavior.\n",
      "  _warn_prf(average, modifier, msg_start, len(result))\n",
      "/home/venkateshiyer/ocrtool/lib/python3.8/site-packages/sklearn/metrics/_classification.py:1334: UndefinedMetricWarning: Recall and F-score are ill-defined and being set to 0.0 in labels with no true samples. Use `zero_division` parameter to control this behavior.\n",
      "  _warn_prf(average, modifier, msg_start, len(result))\n"
     ]
    }
   ],
   "source": [
    "print(accuracy)\n",
    "from sklearn import metrics\n",
    "print(metrics.classification_report(gt, prediction))"
   ]
  },
  {
   "cell_type": "code",
   "execution_count": 10,
   "id": "df725056",
   "metadata": {},
   "outputs": [
    {
     "data": {
      "text/plain": [
       "151"
      ]
     },
     "execution_count": 10,
     "metadata": {},
     "output_type": "execute_result"
    }
   ],
   "source": [
    "len(wrong_results)"
   ]
  },
  {
   "cell_type": "code",
   "execution_count": 11,
   "id": "91467af5",
   "metadata": {},
   "outputs": [
    {
     "data": {
      "text/plain": [
       "{'/home/venkateshiyer/handwritten_dataset/NIST_full/1/hsf_0_00003.png': 7,\n",
       " '/home/venkateshiyer/handwritten_dataset/NIST_full/1/hsf_0_00035.png': 6,\n",
       " '/home/venkateshiyer/handwritten_dataset/NIST_full/1/hsf_0_00214.png': 7,\n",
       " '/home/venkateshiyer/handwritten_dataset/NIST_full/1/hsf_0_00219.png': 7,\n",
       " '/home/venkateshiyer/handwritten_dataset/NIST_full/1/hsf_0_00230.png': 7,\n",
       " '/home/venkateshiyer/handwritten_dataset/NIST_full/1/hsf_0_00232.png': 7,\n",
       " '/home/venkateshiyer/handwritten_dataset/NIST_full/1/hsf_0_00234.png': 7,\n",
       " '/home/venkateshiyer/handwritten_dataset/NIST_full/1/hsf_0_00284.png': 7,\n",
       " '/home/venkateshiyer/handwritten_dataset/NIST_full/1/hsf_0_00321.png': 7,\n",
       " '/home/venkateshiyer/handwritten_dataset/NIST_full/1/hsf_0_00322.png': 7,\n",
       " '/home/venkateshiyer/handwritten_dataset/NIST_full/1/hsf_0_00343.png': 7,\n",
       " '/home/venkateshiyer/handwritten_dataset/NIST_full/1/hsf_0_00347.png': 8,\n",
       " '/home/venkateshiyer/handwritten_dataset/NIST_full/1/hsf_0_00387.png': 0,\n",
       " '/home/venkateshiyer/handwritten_dataset/NIST_full/1/hsf_0_00393.png': 7,\n",
       " '/home/venkateshiyer/handwritten_dataset/NIST_full/1/hsf_0_00528.png': 4,\n",
       " '/home/venkateshiyer/handwritten_dataset/NIST_full/1/hsf_0_00579.png': 0,\n",
       " '/home/venkateshiyer/handwritten_dataset/NIST_full/1/hsf_0_00580.png': 6,\n",
       " '/home/venkateshiyer/handwritten_dataset/NIST_full/1/hsf_0_00582.png': 8,\n",
       " '/home/venkateshiyer/handwritten_dataset/NIST_full/1/hsf_0_00584.png': 0,\n",
       " '/home/venkateshiyer/handwritten_dataset/NIST_full/1/hsf_0_00596.png': 7,\n",
       " '/home/venkateshiyer/handwritten_dataset/NIST_full/1/hsf_0_00617.png': 5,\n",
       " '/home/venkateshiyer/handwritten_dataset/NIST_full/1/hsf_0_00690.png': 7,\n",
       " '/home/venkateshiyer/handwritten_dataset/NIST_full/1/hsf_0_00699.png': 7,\n",
       " '/home/venkateshiyer/handwritten_dataset/NIST_full/1/hsf_0_00723.png': 6,\n",
       " '/home/venkateshiyer/handwritten_dataset/NIST_full/1/hsf_0_00855.png': 6,\n",
       " '/home/venkateshiyer/handwritten_dataset/NIST_full/1/hsf_0_00904.png': 7,\n",
       " '/home/venkateshiyer/handwritten_dataset/NIST_full/1/hsf_0_00968.png': 6,\n",
       " '/home/venkateshiyer/handwritten_dataset/NIST_full/1/hsf_0_00972.png': 7,\n",
       " '/home/venkateshiyer/handwritten_dataset/NIST_full/1/hsf_0_00979.png': 4,\n",
       " '/home/venkateshiyer/handwritten_dataset/NIST_full/1/hsf_0_00980.png': 7,\n",
       " '/home/venkateshiyer/handwritten_dataset/NIST_full/1/hsf_0_00982.png': 7,\n",
       " '/home/venkateshiyer/handwritten_dataset/NIST_full/1/hsf_0_01067.png': 7,\n",
       " '/home/venkateshiyer/handwritten_dataset/NIST_full/1/hsf_0_01112.png': 7,\n",
       " '/home/venkateshiyer/handwritten_dataset/NIST_full/1/hsf_0_01234.png': 8,\n",
       " '/home/venkateshiyer/handwritten_dataset/NIST_full/1/hsf_0_01276.png': 7,\n",
       " '/home/venkateshiyer/handwritten_dataset/NIST_full/1/hsf_0_01337.png': 7,\n",
       " '/home/venkateshiyer/handwritten_dataset/NIST_full/1/hsf_0_01349.png': 7,\n",
       " '/home/venkateshiyer/handwritten_dataset/NIST_full/1/hsf_0_01388.png': 7,\n",
       " '/home/venkateshiyer/handwritten_dataset/NIST_full/1/hsf_0_01397.png': 7,\n",
       " '/home/venkateshiyer/handwritten_dataset/NIST_full/1/hsf_0_01404.png': 7,\n",
       " '/home/venkateshiyer/handwritten_dataset/NIST_full/1/hsf_0_01419.png': 3,\n",
       " '/home/venkateshiyer/handwritten_dataset/NIST_full/1/hsf_0_01426.png': 7,\n",
       " '/home/venkateshiyer/handwritten_dataset/NIST_full/1/hsf_0_01475.png': 7,\n",
       " '/home/venkateshiyer/handwritten_dataset/NIST_full/1/hsf_0_01489.png': 7,\n",
       " '/home/venkateshiyer/handwritten_dataset/NIST_full/1/hsf_0_01501.png': 7,\n",
       " '/home/venkateshiyer/handwritten_dataset/NIST_full/1/hsf_0_01512.png': 7,\n",
       " '/home/venkateshiyer/handwritten_dataset/NIST_full/1/hsf_0_01564.png': 6,\n",
       " '/home/venkateshiyer/handwritten_dataset/NIST_full/1/hsf_0_01632.png': 7,\n",
       " '/home/venkateshiyer/handwritten_dataset/NIST_full/1/hsf_0_01636.png': 7,\n",
       " '/home/venkateshiyer/handwritten_dataset/NIST_full/1/hsf_0_01657.png': 7,\n",
       " '/home/venkateshiyer/handwritten_dataset/NIST_full/1/hsf_0_01769.png': 7,\n",
       " '/home/venkateshiyer/handwritten_dataset/NIST_full/1/hsf_0_01784.png': 7,\n",
       " '/home/venkateshiyer/handwritten_dataset/NIST_full/1/hsf_0_01791.png': 7,\n",
       " '/home/venkateshiyer/handwritten_dataset/NIST_full/1/hsf_0_01902.png': 7,\n",
       " '/home/venkateshiyer/handwritten_dataset/NIST_full/1/hsf_0_01903.png': 6,\n",
       " '/home/venkateshiyer/handwritten_dataset/NIST_full/1/hsf_0_02019.png': 7,\n",
       " '/home/venkateshiyer/handwritten_dataset/NIST_full/1/hsf_0_02043.png': 7,\n",
       " '/home/venkateshiyer/handwritten_dataset/NIST_full/1/hsf_0_02143.png': 7,\n",
       " '/home/venkateshiyer/handwritten_dataset/NIST_full/1/hsf_0_02159.png': 7,\n",
       " '/home/venkateshiyer/handwritten_dataset/NIST_full/1/hsf_0_02184.png': 7,\n",
       " '/home/venkateshiyer/handwritten_dataset/NIST_full/1/hsf_0_02197.png': 7,\n",
       " '/home/venkateshiyer/handwritten_dataset/NIST_full/1/hsf_0_02225.png': 6,\n",
       " '/home/venkateshiyer/handwritten_dataset/NIST_full/1/hsf_0_02235.png': 7,\n",
       " '/home/venkateshiyer/handwritten_dataset/NIST_full/1/hsf_0_02264.png': 7,\n",
       " '/home/venkateshiyer/handwritten_dataset/NIST_full/1/hsf_0_02325.png': 7,\n",
       " '/home/venkateshiyer/handwritten_dataset/NIST_full/1/hsf_0_02326.png': 7,\n",
       " '/home/venkateshiyer/handwritten_dataset/NIST_full/1/hsf_0_02377.png': 7,\n",
       " '/home/venkateshiyer/handwritten_dataset/NIST_full/1/hsf_0_02403.png': 7,\n",
       " '/home/venkateshiyer/handwritten_dataset/NIST_full/1/hsf_0_02404.png': 7,\n",
       " '/home/venkateshiyer/handwritten_dataset/NIST_full/1/hsf_0_02589.png': 4,\n",
       " '/home/venkateshiyer/handwritten_dataset/NIST_full/1/hsf_0_02642.png': 7,\n",
       " '/home/venkateshiyer/handwritten_dataset/NIST_full/1/hsf_0_02665.png': 7,\n",
       " '/home/venkateshiyer/handwritten_dataset/NIST_full/1/hsf_0_02668.png': 7,\n",
       " '/home/venkateshiyer/handwritten_dataset/NIST_full/1/hsf_0_02687.png': 7,\n",
       " '/home/venkateshiyer/handwritten_dataset/NIST_full/1/hsf_0_02690.png': 7,\n",
       " '/home/venkateshiyer/handwritten_dataset/NIST_full/1/hsf_0_02800.png': 7,\n",
       " '/home/venkateshiyer/handwritten_dataset/NIST_full/1/hsf_0_02857.png': 3,\n",
       " '/home/venkateshiyer/handwritten_dataset/NIST_full/1/hsf_0_02858.png': 3,\n",
       " '/home/venkateshiyer/handwritten_dataset/NIST_full/1/hsf_0_02860.png': 2,\n",
       " '/home/venkateshiyer/handwritten_dataset/NIST_full/1/hsf_0_02863.png': 2,\n",
       " '/home/venkateshiyer/handwritten_dataset/NIST_full/1/hsf_0_02868.png': 2,\n",
       " '/home/venkateshiyer/handwritten_dataset/NIST_full/1/hsf_0_03162.png': 7,\n",
       " '/home/venkateshiyer/handwritten_dataset/NIST_full/1/hsf_0_03218.png': 7,\n",
       " '/home/venkateshiyer/handwritten_dataset/NIST_full/1/hsf_0_03301.png': 7,\n",
       " '/home/venkateshiyer/handwritten_dataset/NIST_full/1/hsf_0_03340.png': 7,\n",
       " '/home/venkateshiyer/handwritten_dataset/NIST_full/1/hsf_0_03397.png': 2,\n",
       " '/home/venkateshiyer/handwritten_dataset/NIST_full/1/hsf_0_03499.png': 7,\n",
       " '/home/venkateshiyer/handwritten_dataset/NIST_full/1/hsf_0_03536.png': 7,\n",
       " '/home/venkateshiyer/handwritten_dataset/NIST_full/1/hsf_0_03541.png': 7,\n",
       " '/home/venkateshiyer/handwritten_dataset/NIST_full/1/hsf_0_03551.png': 6,\n",
       " '/home/venkateshiyer/handwritten_dataset/NIST_full/1/hsf_0_03554.png': 6,\n",
       " '/home/venkateshiyer/handwritten_dataset/NIST_full/1/hsf_0_03582.png': 3,\n",
       " '/home/venkateshiyer/handwritten_dataset/NIST_full/1/hsf_0_03629.png': 7,\n",
       " '/home/venkateshiyer/handwritten_dataset/NIST_full/1/hsf_0_03657.png': 4,\n",
       " '/home/venkateshiyer/handwritten_dataset/NIST_full/1/hsf_0_03738.png': 8,\n",
       " '/home/venkateshiyer/handwritten_dataset/NIST_full/1/hsf_0_03787.png': 7,\n",
       " '/home/venkateshiyer/handwritten_dataset/NIST_full/1/hsf_0_03831.png': 7,\n",
       " '/home/venkateshiyer/handwritten_dataset/NIST_full/1/hsf_0_03837.png': 7,\n",
       " '/home/venkateshiyer/handwritten_dataset/NIST_full/1/hsf_0_03933.png': 6,\n",
       " '/home/venkateshiyer/handwritten_dataset/NIST_full/1/hsf_0_03964.png': 7,\n",
       " '/home/venkateshiyer/handwritten_dataset/NIST_full/1/hsf_0_03971.png': 7,\n",
       " '/home/venkateshiyer/handwritten_dataset/NIST_full/1/hsf_0_04064.png': 5,\n",
       " '/home/venkateshiyer/handwritten_dataset/NIST_full/1/hsf_0_04084.png': 7,\n",
       " '/home/venkateshiyer/handwritten_dataset/NIST_full/1/hsf_0_04145.png': 6,\n",
       " '/home/venkateshiyer/handwritten_dataset/NIST_full/1/hsf_0_04154.png': 6,\n",
       " '/home/venkateshiyer/handwritten_dataset/NIST_full/1/hsf_0_04206.png': 7,\n",
       " '/home/venkateshiyer/handwritten_dataset/NIST_full/1/hsf_0_04248.png': 7,\n",
       " '/home/venkateshiyer/handwritten_dataset/NIST_full/1/hsf_0_04258.png': 0,\n",
       " '/home/venkateshiyer/handwritten_dataset/NIST_full/1/hsf_0_04262.png': 0,\n",
       " '/home/venkateshiyer/handwritten_dataset/NIST_full/1/hsf_0_04263.png': 8,\n",
       " '/home/venkateshiyer/handwritten_dataset/NIST_full/1/hsf_0_04264.png': 7,\n",
       " '/home/venkateshiyer/handwritten_dataset/NIST_full/1/hsf_0_04265.png': 0,\n",
       " '/home/venkateshiyer/handwritten_dataset/NIST_full/1/hsf_0_04266.png': 0,\n",
       " '/home/venkateshiyer/handwritten_dataset/NIST_full/1/hsf_0_04267.png': 0,\n",
       " '/home/venkateshiyer/handwritten_dataset/NIST_full/1/hsf_0_04268.png': 0,\n",
       " '/home/venkateshiyer/handwritten_dataset/NIST_full/1/hsf_0_04318.png': 7,\n",
       " '/home/venkateshiyer/handwritten_dataset/NIST_full/1/hsf_0_04332.png': 3,\n",
       " '/home/venkateshiyer/handwritten_dataset/NIST_full/1/hsf_0_04343.png': 7,\n",
       " '/home/venkateshiyer/handwritten_dataset/NIST_full/1/hsf_0_04461.png': 3,\n",
       " '/home/venkateshiyer/handwritten_dataset/NIST_full/1/hsf_0_04509.png': 7,\n",
       " '/home/venkateshiyer/handwritten_dataset/NIST_full/1/hsf_0_04544.png': 7,\n",
       " '/home/venkateshiyer/handwritten_dataset/NIST_full/1/hsf_0_04636.png': 7,\n",
       " '/home/venkateshiyer/handwritten_dataset/NIST_full/1/hsf_0_04734.png': 6,\n",
       " '/home/venkateshiyer/handwritten_dataset/NIST_full/1/hsf_0_04802.png': 7,\n",
       " '/home/venkateshiyer/handwritten_dataset/NIST_full/1/hsf_0_04872.png': 7,\n",
       " '/home/venkateshiyer/handwritten_dataset/NIST_full/1/hsf_0_04981.png': 7,\n",
       " '/home/venkateshiyer/handwritten_dataset/NIST_full/1/hsf_0_05062.png': 7,\n",
       " '/home/venkateshiyer/handwritten_dataset/NIST_full/1/hsf_0_05147.png': 7,\n",
       " '/home/venkateshiyer/handwritten_dataset/NIST_full/1/hsf_0_05149.png': 7,\n",
       " '/home/venkateshiyer/handwritten_dataset/NIST_full/1/hsf_0_05150.png': 7,\n",
       " '/home/venkateshiyer/handwritten_dataset/NIST_full/1/hsf_0_05152.png': 7,\n",
       " '/home/venkateshiyer/handwritten_dataset/NIST_full/1/hsf_0_05171.png': 7,\n",
       " '/home/venkateshiyer/handwritten_dataset/NIST_full/1/hsf_0_05179.png': 7,\n",
       " '/home/venkateshiyer/handwritten_dataset/NIST_full/1/hsf_0_05196.png': 7,\n",
       " '/home/venkateshiyer/handwritten_dataset/NIST_full/1/hsf_0_05236.png': 7,\n",
       " '/home/venkateshiyer/handwritten_dataset/NIST_full/1/hsf_0_05237.png': 7,\n",
       " '/home/venkateshiyer/handwritten_dataset/NIST_full/1/hsf_0_05272.png': 7,\n",
       " '/home/venkateshiyer/handwritten_dataset/NIST_full/1/hsf_0_05295.png': 7,\n",
       " '/home/venkateshiyer/handwritten_dataset/NIST_full/1/hsf_0_05319.png': 7,\n",
       " '/home/venkateshiyer/handwritten_dataset/NIST_full/1/hsf_0_05380.png': 6,\n",
       " '/home/venkateshiyer/handwritten_dataset/NIST_full/1/hsf_0_05404.png': 6,\n",
       " '/home/venkateshiyer/handwritten_dataset/NIST_full/1/hsf_0_05417.png': 6,\n",
       " '/home/venkateshiyer/handwritten_dataset/NIST_full/1/hsf_0_05500.png': 7,\n",
       " '/home/venkateshiyer/handwritten_dataset/NIST_full/1/hsf_0_05504.png': 7,\n",
       " '/home/venkateshiyer/handwritten_dataset/NIST_full/1/hsf_0_05536.png': 7,\n",
       " '/home/venkateshiyer/handwritten_dataset/NIST_full/1/hsf_0_05599.png': 7,\n",
       " '/home/venkateshiyer/handwritten_dataset/NIST_full/1/hsf_0_05647.png': 7,\n",
       " '/home/venkateshiyer/handwritten_dataset/NIST_full/1/hsf_0_05710.png': 7,\n",
       " '/home/venkateshiyer/handwritten_dataset/NIST_full/1/hsf_0_05837.png': 7,\n",
       " '/home/venkateshiyer/handwritten_dataset/NIST_full/1/hsf_0_05939.png': 7,\n",
       " '/home/venkateshiyer/handwritten_dataset/NIST_full/1/hsf_0_05944.png': 7}"
      ]
     },
     "execution_count": 11,
     "metadata": {},
     "output_type": "execute_result"
    }
   ],
   "source": [
    "wrong_results"
   ]
  },
  {
   "cell_type": "code",
   "execution_count": 12,
   "id": "45e5072a",
   "metadata": {},
   "outputs": [],
   "source": [
    "path = os.path.expanduser('~')+'/handwritten_dataset/NIST_full/2/*'\n",
    "result, accuracy, gt, prediction, wrong_results = pred_using_h5_digit(model,path)"
   ]
  },
  {
   "cell_type": "code",
   "execution_count": 13,
   "id": "86061563",
   "metadata": {},
   "outputs": [
    {
     "name": "stdout",
     "output_type": "stream",
     "text": [
      "0.9969930464198459\n",
      "              precision    recall  f1-score   support\n",
      "\n",
      "           0       0.00      0.00      0.00         0\n",
      "           2       1.00      1.00      1.00      5321\n",
      "           4       0.00      0.00      0.00         0\n",
      "           5       0.00      0.00      0.00         0\n",
      "           7       0.00      0.00      0.00         0\n",
      "           9       0.00      0.00      0.00         0\n",
      "\n",
      "    accuracy                           1.00      5321\n",
      "   macro avg       0.17      0.17      0.17      5321\n",
      "weighted avg       1.00      1.00      1.00      5321\n",
      "\n"
     ]
    },
    {
     "name": "stderr",
     "output_type": "stream",
     "text": [
      "/home/venkateshiyer/ocrtool/lib/python3.8/site-packages/sklearn/metrics/_classification.py:1334: UndefinedMetricWarning: Recall and F-score are ill-defined and being set to 0.0 in labels with no true samples. Use `zero_division` parameter to control this behavior.\n",
      "  _warn_prf(average, modifier, msg_start, len(result))\n",
      "/home/venkateshiyer/ocrtool/lib/python3.8/site-packages/sklearn/metrics/_classification.py:1334: UndefinedMetricWarning: Recall and F-score are ill-defined and being set to 0.0 in labels with no true samples. Use `zero_division` parameter to control this behavior.\n",
      "  _warn_prf(average, modifier, msg_start, len(result))\n",
      "/home/venkateshiyer/ocrtool/lib/python3.8/site-packages/sklearn/metrics/_classification.py:1334: UndefinedMetricWarning: Recall and F-score are ill-defined and being set to 0.0 in labels with no true samples. Use `zero_division` parameter to control this behavior.\n",
      "  _warn_prf(average, modifier, msg_start, len(result))\n"
     ]
    }
   ],
   "source": [
    "print(accuracy)\n",
    "from sklearn import metrics\n",
    "print(metrics.classification_report(gt, prediction))"
   ]
  },
  {
   "cell_type": "code",
   "execution_count": 14,
   "id": "e4e4d48a",
   "metadata": {},
   "outputs": [
    {
     "data": {
      "text/plain": [
       "16"
      ]
     },
     "execution_count": 14,
     "metadata": {},
     "output_type": "execute_result"
    }
   ],
   "source": [
    "len(wrong_results)"
   ]
  },
  {
   "cell_type": "code",
   "execution_count": 15,
   "id": "3aa7f173",
   "metadata": {},
   "outputs": [
    {
     "data": {
      "text/plain": [
       "{'/home/venkateshiyer/handwritten_dataset/NIST_full/2/hsf_0_00049.png': 7,\n",
       " '/home/venkateshiyer/handwritten_dataset/NIST_full/2/hsf_0_00205.png': 5,\n",
       " '/home/venkateshiyer/handwritten_dataset/NIST_full/2/hsf_0_01514.png': 7,\n",
       " '/home/venkateshiyer/handwritten_dataset/NIST_full/2/hsf_0_01574.png': 0,\n",
       " '/home/venkateshiyer/handwritten_dataset/NIST_full/2/hsf_0_01761.png': 7,\n",
       " '/home/venkateshiyer/handwritten_dataset/NIST_full/2/hsf_0_01822.png': 9,\n",
       " '/home/venkateshiyer/handwritten_dataset/NIST_full/2/hsf_0_02166.png': 9,\n",
       " '/home/venkateshiyer/handwritten_dataset/NIST_full/2/hsf_0_03022.png': 0,\n",
       " '/home/venkateshiyer/handwritten_dataset/NIST_full/2/hsf_0_03446.png': 7,\n",
       " '/home/venkateshiyer/handwritten_dataset/NIST_full/2/hsf_0_03878.png': 7,\n",
       " '/home/venkateshiyer/handwritten_dataset/NIST_full/2/hsf_0_03938.png': 7,\n",
       " '/home/venkateshiyer/handwritten_dataset/NIST_full/2/hsf_0_04116.png': 7,\n",
       " '/home/venkateshiyer/handwritten_dataset/NIST_full/2/hsf_0_04155.png': 9,\n",
       " '/home/venkateshiyer/handwritten_dataset/NIST_full/2/hsf_0_04203.png': 4,\n",
       " '/home/venkateshiyer/handwritten_dataset/NIST_full/2/hsf_0_04205.png': 7,\n",
       " '/home/venkateshiyer/handwritten_dataset/NIST_full/2/hsf_0_04414.png': 5}"
      ]
     },
     "execution_count": 15,
     "metadata": {},
     "output_type": "execute_result"
    }
   ],
   "source": [
    "wrong_results"
   ]
  },
  {
   "cell_type": "code",
   "execution_count": 16,
   "id": "0ca6c8f0",
   "metadata": {},
   "outputs": [],
   "source": [
    "path = os.path.expanduser('~')+'/handwritten_dataset/NIST_full/3/*'\n",
    "result, accuracy, gt, prediction, wrong_results = pred_using_h5_digit(model,path)"
   ]
  },
  {
   "cell_type": "code",
   "execution_count": 17,
   "id": "1b4124b1",
   "metadata": {},
   "outputs": [
    {
     "name": "stdout",
     "output_type": "stream",
     "text": [
      "0.9824749642346209\n",
      "              precision    recall  f1-score   support\n",
      "\n",
      "           1       0.00      0.00      0.00         0\n",
      "           2       0.00      0.00      0.00         0\n",
      "           3       1.00      0.98      0.99      5592\n",
      "           5       0.00      0.00      0.00         0\n",
      "           7       0.00      0.00      0.00         0\n",
      "           8       0.00      0.00      0.00         0\n",
      "           9       0.00      0.00      0.00         0\n",
      "\n",
      "    accuracy                           0.98      5592\n",
      "   macro avg       0.14      0.14      0.14      5592\n",
      "weighted avg       1.00      0.98      0.99      5592\n",
      "\n"
     ]
    },
    {
     "name": "stderr",
     "output_type": "stream",
     "text": [
      "/home/venkateshiyer/ocrtool/lib/python3.8/site-packages/sklearn/metrics/_classification.py:1334: UndefinedMetricWarning: Recall and F-score are ill-defined and being set to 0.0 in labels with no true samples. Use `zero_division` parameter to control this behavior.\n",
      "  _warn_prf(average, modifier, msg_start, len(result))\n",
      "/home/venkateshiyer/ocrtool/lib/python3.8/site-packages/sklearn/metrics/_classification.py:1334: UndefinedMetricWarning: Recall and F-score are ill-defined and being set to 0.0 in labels with no true samples. Use `zero_division` parameter to control this behavior.\n",
      "  _warn_prf(average, modifier, msg_start, len(result))\n",
      "/home/venkateshiyer/ocrtool/lib/python3.8/site-packages/sklearn/metrics/_classification.py:1334: UndefinedMetricWarning: Recall and F-score are ill-defined and being set to 0.0 in labels with no true samples. Use `zero_division` parameter to control this behavior.\n",
      "  _warn_prf(average, modifier, msg_start, len(result))\n"
     ]
    }
   ],
   "source": [
    "print(accuracy)\n",
    "from sklearn import metrics\n",
    "print(metrics.classification_report(gt, prediction))"
   ]
  },
  {
   "cell_type": "code",
   "execution_count": 18,
   "id": "c170fd16",
   "metadata": {},
   "outputs": [
    {
     "data": {
      "text/plain": [
       "98"
      ]
     },
     "execution_count": 18,
     "metadata": {},
     "output_type": "execute_result"
    }
   ],
   "source": [
    "len(wrong_results)"
   ]
  },
  {
   "cell_type": "code",
   "execution_count": 19,
   "id": "ff265470",
   "metadata": {},
   "outputs": [
    {
     "data": {
      "text/plain": [
       "{'/home/venkateshiyer/handwritten_dataset/NIST_full/3/hsf_0_00072.png': 2,\n",
       " '/home/venkateshiyer/handwritten_dataset/NIST_full/3/hsf_0_00148.png': 2,\n",
       " '/home/venkateshiyer/handwritten_dataset/NIST_full/3/hsf_0_00297.png': 2,\n",
       " '/home/venkateshiyer/handwritten_dataset/NIST_full/3/hsf_0_00430.png': 2,\n",
       " '/home/venkateshiyer/handwritten_dataset/NIST_full/3/hsf_0_00448.png': 2,\n",
       " '/home/venkateshiyer/handwritten_dataset/NIST_full/3/hsf_0_00552.png': 2,\n",
       " '/home/venkateshiyer/handwritten_dataset/NIST_full/3/hsf_0_00602.png': 2,\n",
       " '/home/venkateshiyer/handwritten_dataset/NIST_full/3/hsf_0_00616.png': 2,\n",
       " '/home/venkateshiyer/handwritten_dataset/NIST_full/3/hsf_0_00617.png': 2,\n",
       " '/home/venkateshiyer/handwritten_dataset/NIST_full/3/hsf_0_00626.png': 2,\n",
       " '/home/venkateshiyer/handwritten_dataset/NIST_full/3/hsf_0_00678.png': 2,\n",
       " '/home/venkateshiyer/handwritten_dataset/NIST_full/3/hsf_0_00703.png': 2,\n",
       " '/home/venkateshiyer/handwritten_dataset/NIST_full/3/hsf_0_00769.png': 2,\n",
       " '/home/venkateshiyer/handwritten_dataset/NIST_full/3/hsf_0_00824.png': 2,\n",
       " '/home/venkateshiyer/handwritten_dataset/NIST_full/3/hsf_0_00836.png': 5,\n",
       " '/home/venkateshiyer/handwritten_dataset/NIST_full/3/hsf_0_00926.png': 2,\n",
       " '/home/venkateshiyer/handwritten_dataset/NIST_full/3/hsf_0_01130.png': 2,\n",
       " '/home/venkateshiyer/handwritten_dataset/NIST_full/3/hsf_0_01195.png': 2,\n",
       " '/home/venkateshiyer/handwritten_dataset/NIST_full/3/hsf_0_01197.png': 5,\n",
       " '/home/venkateshiyer/handwritten_dataset/NIST_full/3/hsf_0_01205.png': 5,\n",
       " '/home/venkateshiyer/handwritten_dataset/NIST_full/3/hsf_0_01265.png': 2,\n",
       " '/home/venkateshiyer/handwritten_dataset/NIST_full/3/hsf_0_01408.png': 2,\n",
       " '/home/venkateshiyer/handwritten_dataset/NIST_full/3/hsf_0_01440.png': 7,\n",
       " '/home/venkateshiyer/handwritten_dataset/NIST_full/3/hsf_0_01444.png': 2,\n",
       " '/home/venkateshiyer/handwritten_dataset/NIST_full/3/hsf_0_01460.png': 2,\n",
       " '/home/venkateshiyer/handwritten_dataset/NIST_full/3/hsf_0_01538.png': 2,\n",
       " '/home/venkateshiyer/handwritten_dataset/NIST_full/3/hsf_0_01540.png': 2,\n",
       " '/home/venkateshiyer/handwritten_dataset/NIST_full/3/hsf_0_01579.png': 2,\n",
       " '/home/venkateshiyer/handwritten_dataset/NIST_full/3/hsf_0_01624.png': 2,\n",
       " '/home/venkateshiyer/handwritten_dataset/NIST_full/3/hsf_0_01648.png': 2,\n",
       " '/home/venkateshiyer/handwritten_dataset/NIST_full/3/hsf_0_01705.png': 5,\n",
       " '/home/venkateshiyer/handwritten_dataset/NIST_full/3/hsf_0_01943.png': 7,\n",
       " '/home/venkateshiyer/handwritten_dataset/NIST_full/3/hsf_0_02075.png': 7,\n",
       " '/home/venkateshiyer/handwritten_dataset/NIST_full/3/hsf_0_02079.png': 5,\n",
       " '/home/venkateshiyer/handwritten_dataset/NIST_full/3/hsf_0_02220.png': 2,\n",
       " '/home/venkateshiyer/handwritten_dataset/NIST_full/3/hsf_0_02249.png': 2,\n",
       " '/home/venkateshiyer/handwritten_dataset/NIST_full/3/hsf_0_02306.png': 2,\n",
       " '/home/venkateshiyer/handwritten_dataset/NIST_full/3/hsf_0_02353.png': 2,\n",
       " '/home/venkateshiyer/handwritten_dataset/NIST_full/3/hsf_0_02360.png': 2,\n",
       " '/home/venkateshiyer/handwritten_dataset/NIST_full/3/hsf_0_02362.png': 2,\n",
       " '/home/venkateshiyer/handwritten_dataset/NIST_full/3/hsf_0_02429.png': 7,\n",
       " '/home/venkateshiyer/handwritten_dataset/NIST_full/3/hsf_0_02433.png': 2,\n",
       " '/home/venkateshiyer/handwritten_dataset/NIST_full/3/hsf_0_02434.png': 2,\n",
       " '/home/venkateshiyer/handwritten_dataset/NIST_full/3/hsf_0_02455.png': 2,\n",
       " '/home/venkateshiyer/handwritten_dataset/NIST_full/3/hsf_0_02507.png': 5,\n",
       " '/home/venkateshiyer/handwritten_dataset/NIST_full/3/hsf_0_02512.png': 8,\n",
       " '/home/venkateshiyer/handwritten_dataset/NIST_full/3/hsf_0_02548.png': 7,\n",
       " '/home/venkateshiyer/handwritten_dataset/NIST_full/3/hsf_0_02626.png': 2,\n",
       " '/home/venkateshiyer/handwritten_dataset/NIST_full/3/hsf_0_02648.png': 2,\n",
       " '/home/venkateshiyer/handwritten_dataset/NIST_full/3/hsf_0_02651.png': 7,\n",
       " '/home/venkateshiyer/handwritten_dataset/NIST_full/3/hsf_0_02653.png': 9,\n",
       " '/home/venkateshiyer/handwritten_dataset/NIST_full/3/hsf_0_02772.png': 2,\n",
       " '/home/venkateshiyer/handwritten_dataset/NIST_full/3/hsf_0_02963.png': 2,\n",
       " '/home/venkateshiyer/handwritten_dataset/NIST_full/3/hsf_0_03198.png': 2,\n",
       " '/home/venkateshiyer/handwritten_dataset/NIST_full/3/hsf_0_03274.png': 2,\n",
       " '/home/venkateshiyer/handwritten_dataset/NIST_full/3/hsf_0_03556.png': 2,\n",
       " '/home/venkateshiyer/handwritten_dataset/NIST_full/3/hsf_0_03563.png': 2,\n",
       " '/home/venkateshiyer/handwritten_dataset/NIST_full/3/hsf_0_03594.png': 9,\n",
       " '/home/venkateshiyer/handwritten_dataset/NIST_full/3/hsf_0_03597.png': 2,\n",
       " '/home/venkateshiyer/handwritten_dataset/NIST_full/3/hsf_0_03649.png': 5,\n",
       " '/home/venkateshiyer/handwritten_dataset/NIST_full/3/hsf_0_03835.png': 2,\n",
       " '/home/venkateshiyer/handwritten_dataset/NIST_full/3/hsf_0_04340.png': 2,\n",
       " '/home/venkateshiyer/handwritten_dataset/NIST_full/3/hsf_0_04346.png': 2,\n",
       " '/home/venkateshiyer/handwritten_dataset/NIST_full/3/hsf_0_04365.png': 2,\n",
       " '/home/venkateshiyer/handwritten_dataset/NIST_full/3/hsf_0_04426.png': 1,\n",
       " '/home/venkateshiyer/handwritten_dataset/NIST_full/3/hsf_0_04435.png': 2,\n",
       " '/home/venkateshiyer/handwritten_dataset/NIST_full/3/hsf_0_04496.png': 2,\n",
       " '/home/venkateshiyer/handwritten_dataset/NIST_full/3/hsf_0_04631.png': 2,\n",
       " '/home/venkateshiyer/handwritten_dataset/NIST_full/3/hsf_0_04640.png': 2,\n",
       " '/home/venkateshiyer/handwritten_dataset/NIST_full/3/hsf_0_04657.png': 2,\n",
       " '/home/venkateshiyer/handwritten_dataset/NIST_full/3/hsf_0_04708.png': 2,\n",
       " '/home/venkateshiyer/handwritten_dataset/NIST_full/3/hsf_0_04710.png': 2,\n",
       " '/home/venkateshiyer/handwritten_dataset/NIST_full/3/hsf_0_04731.png': 2,\n",
       " '/home/venkateshiyer/handwritten_dataset/NIST_full/3/hsf_0_04756.png': 2,\n",
       " '/home/venkateshiyer/handwritten_dataset/NIST_full/3/hsf_0_04918.png': 2,\n",
       " '/home/venkateshiyer/handwritten_dataset/NIST_full/3/hsf_0_04961.png': 7,\n",
       " '/home/venkateshiyer/handwritten_dataset/NIST_full/3/hsf_0_05005.png': 2,\n",
       " '/home/venkateshiyer/handwritten_dataset/NIST_full/3/hsf_0_05007.png': 2,\n",
       " '/home/venkateshiyer/handwritten_dataset/NIST_full/3/hsf_0_05008.png': 2,\n",
       " '/home/venkateshiyer/handwritten_dataset/NIST_full/3/hsf_0_05009.png': 2,\n",
       " '/home/venkateshiyer/handwritten_dataset/NIST_full/3/hsf_0_05011.png': 2,\n",
       " '/home/venkateshiyer/handwritten_dataset/NIST_full/3/hsf_0_05138.png': 9,\n",
       " '/home/venkateshiyer/handwritten_dataset/NIST_full/3/hsf_0_05144.png': 2,\n",
       " '/home/venkateshiyer/handwritten_dataset/NIST_full/3/hsf_0_05190.png': 2,\n",
       " '/home/venkateshiyer/handwritten_dataset/NIST_full/3/hsf_0_05218.png': 8,\n",
       " '/home/venkateshiyer/handwritten_dataset/NIST_full/3/hsf_0_05271.png': 2,\n",
       " '/home/venkateshiyer/handwritten_dataset/NIST_full/3/hsf_0_05274.png': 2,\n",
       " '/home/venkateshiyer/handwritten_dataset/NIST_full/3/hsf_0_05280.png': 2,\n",
       " '/home/venkateshiyer/handwritten_dataset/NIST_full/3/hsf_0_05282.png': 2,\n",
       " '/home/venkateshiyer/handwritten_dataset/NIST_full/3/hsf_0_05302.png': 2,\n",
       " '/home/venkateshiyer/handwritten_dataset/NIST_full/3/hsf_0_05305.png': 2,\n",
       " '/home/venkateshiyer/handwritten_dataset/NIST_full/3/hsf_0_05308.png': 5,\n",
       " '/home/venkateshiyer/handwritten_dataset/NIST_full/3/hsf_0_05372.png': 2,\n",
       " '/home/venkateshiyer/handwritten_dataset/NIST_full/3/hsf_0_05459.png': 2,\n",
       " '/home/venkateshiyer/handwritten_dataset/NIST_full/3/hsf_0_05477.png': 7,\n",
       " '/home/venkateshiyer/handwritten_dataset/NIST_full/3/hsf_0_05501.png': 8,\n",
       " '/home/venkateshiyer/handwritten_dataset/NIST_full/3/hsf_0_05586.png': 2,\n",
       " '/home/venkateshiyer/handwritten_dataset/NIST_full/3/hsf_0_05587.png': 2}"
      ]
     },
     "execution_count": 19,
     "metadata": {},
     "output_type": "execute_result"
    }
   ],
   "source": [
    "wrong_results"
   ]
  },
  {
   "cell_type": "code",
   "execution_count": 20,
   "id": "4738af3f",
   "metadata": {},
   "outputs": [],
   "source": [
    "path = os.path.expanduser('~')+'/handwritten_dataset/NIST_full/4/*'\n",
    "result, accuracy, gt, prediction, wrong_results = pred_using_h5_digit(model,path)"
   ]
  },
  {
   "cell_type": "code",
   "execution_count": 21,
   "id": "2cc0cb42",
   "metadata": {},
   "outputs": [
    {
     "name": "stdout",
     "output_type": "stream",
     "text": [
      "0.9912006257332812\n",
      "              precision    recall  f1-score   support\n",
      "\n",
      "           2       0.00      0.00      0.00         0\n",
      "           4       1.00      0.99      1.00      5114\n",
      "           5       0.00      0.00      0.00         0\n",
      "           6       0.00      0.00      0.00         0\n",
      "           7       0.00      0.00      0.00         0\n",
      "           9       0.00      0.00      0.00         0\n",
      "\n",
      "    accuracy                           0.99      5114\n",
      "   macro avg       0.17      0.17      0.17      5114\n",
      "weighted avg       1.00      0.99      1.00      5114\n",
      "\n"
     ]
    },
    {
     "name": "stderr",
     "output_type": "stream",
     "text": [
      "/home/venkateshiyer/ocrtool/lib/python3.8/site-packages/sklearn/metrics/_classification.py:1334: UndefinedMetricWarning: Recall and F-score are ill-defined and being set to 0.0 in labels with no true samples. Use `zero_division` parameter to control this behavior.\n",
      "  _warn_prf(average, modifier, msg_start, len(result))\n",
      "/home/venkateshiyer/ocrtool/lib/python3.8/site-packages/sklearn/metrics/_classification.py:1334: UndefinedMetricWarning: Recall and F-score are ill-defined and being set to 0.0 in labels with no true samples. Use `zero_division` parameter to control this behavior.\n",
      "  _warn_prf(average, modifier, msg_start, len(result))\n",
      "/home/venkateshiyer/ocrtool/lib/python3.8/site-packages/sklearn/metrics/_classification.py:1334: UndefinedMetricWarning: Recall and F-score are ill-defined and being set to 0.0 in labels with no true samples. Use `zero_division` parameter to control this behavior.\n",
      "  _warn_prf(average, modifier, msg_start, len(result))\n"
     ]
    }
   ],
   "source": [
    "print(accuracy)\n",
    "from sklearn import metrics\n",
    "print(metrics.classification_report(gt, prediction))"
   ]
  },
  {
   "cell_type": "code",
   "execution_count": 22,
   "id": "d57b8b85",
   "metadata": {},
   "outputs": [
    {
     "data": {
      "text/plain": [
       "45"
      ]
     },
     "execution_count": 22,
     "metadata": {},
     "output_type": "execute_result"
    }
   ],
   "source": [
    "len(wrong_results)"
   ]
  },
  {
   "cell_type": "code",
   "execution_count": 23,
   "id": "518b2a50",
   "metadata": {},
   "outputs": [
    {
     "data": {
      "text/plain": [
       "{'/home/venkateshiyer/handwritten_dataset/NIST_full/4/hsf_0_00505.png': 9,\n",
       " '/home/venkateshiyer/handwritten_dataset/NIST_full/4/hsf_0_00973.png': 5,\n",
       " '/home/venkateshiyer/handwritten_dataset/NIST_full/4/hsf_0_01100.png': 2,\n",
       " '/home/venkateshiyer/handwritten_dataset/NIST_full/4/hsf_0_01137.png': 9,\n",
       " '/home/venkateshiyer/handwritten_dataset/NIST_full/4/hsf_0_01138.png': 9,\n",
       " '/home/venkateshiyer/handwritten_dataset/NIST_full/4/hsf_0_01183.png': 9,\n",
       " '/home/venkateshiyer/handwritten_dataset/NIST_full/4/hsf_0_01250.png': 7,\n",
       " '/home/venkateshiyer/handwritten_dataset/NIST_full/4/hsf_0_01298.png': 7,\n",
       " '/home/venkateshiyer/handwritten_dataset/NIST_full/4/hsf_0_01353.png': 7,\n",
       " '/home/venkateshiyer/handwritten_dataset/NIST_full/4/hsf_0_01470.png': 7,\n",
       " '/home/venkateshiyer/handwritten_dataset/NIST_full/4/hsf_0_01507.png': 2,\n",
       " '/home/venkateshiyer/handwritten_dataset/NIST_full/4/hsf_0_01517.png': 7,\n",
       " '/home/venkateshiyer/handwritten_dataset/NIST_full/4/hsf_0_01542.png': 9,\n",
       " '/home/venkateshiyer/handwritten_dataset/NIST_full/4/hsf_0_01543.png': 9,\n",
       " '/home/venkateshiyer/handwritten_dataset/NIST_full/4/hsf_0_01657.png': 7,\n",
       " '/home/venkateshiyer/handwritten_dataset/NIST_full/4/hsf_0_01900.png': 7,\n",
       " '/home/venkateshiyer/handwritten_dataset/NIST_full/4/hsf_0_01907.png': 7,\n",
       " '/home/venkateshiyer/handwritten_dataset/NIST_full/4/hsf_0_01957.png': 9,\n",
       " '/home/venkateshiyer/handwritten_dataset/NIST_full/4/hsf_0_02362.png': 9,\n",
       " '/home/venkateshiyer/handwritten_dataset/NIST_full/4/hsf_0_02416.png': 9,\n",
       " '/home/venkateshiyer/handwritten_dataset/NIST_full/4/hsf_0_02420.png': 9,\n",
       " '/home/venkateshiyer/handwritten_dataset/NIST_full/4/hsf_0_02559.png': 7,\n",
       " '/home/venkateshiyer/handwritten_dataset/NIST_full/4/hsf_0_02909.png': 7,\n",
       " '/home/venkateshiyer/handwritten_dataset/NIST_full/4/hsf_0_02933.png': 9,\n",
       " '/home/venkateshiyer/handwritten_dataset/NIST_full/4/hsf_0_02961.png': 7,\n",
       " '/home/venkateshiyer/handwritten_dataset/NIST_full/4/hsf_0_02969.png': 7,\n",
       " '/home/venkateshiyer/handwritten_dataset/NIST_full/4/hsf_0_02982.png': 6,\n",
       " '/home/venkateshiyer/handwritten_dataset/NIST_full/4/hsf_0_02985.png': 2,\n",
       " '/home/venkateshiyer/handwritten_dataset/NIST_full/4/hsf_0_02986.png': 2,\n",
       " '/home/venkateshiyer/handwritten_dataset/NIST_full/4/hsf_0_03174.png': 7,\n",
       " '/home/venkateshiyer/handwritten_dataset/NIST_full/4/hsf_0_03178.png': 9,\n",
       " '/home/venkateshiyer/handwritten_dataset/NIST_full/4/hsf_0_03179.png': 9,\n",
       " '/home/venkateshiyer/handwritten_dataset/NIST_full/4/hsf_0_03180.png': 9,\n",
       " '/home/venkateshiyer/handwritten_dataset/NIST_full/4/hsf_0_03185.png': 7,\n",
       " '/home/venkateshiyer/handwritten_dataset/NIST_full/4/hsf_0_03285.png': 9,\n",
       " '/home/venkateshiyer/handwritten_dataset/NIST_full/4/hsf_0_03372.png': 9,\n",
       " '/home/venkateshiyer/handwritten_dataset/NIST_full/4/hsf_0_03412.png': 9,\n",
       " '/home/venkateshiyer/handwritten_dataset/NIST_full/4/hsf_0_03697.png': 9,\n",
       " '/home/venkateshiyer/handwritten_dataset/NIST_full/4/hsf_0_03815.png': 9,\n",
       " '/home/venkateshiyer/handwritten_dataset/NIST_full/4/hsf_0_03938.png': 9,\n",
       " '/home/venkateshiyer/handwritten_dataset/NIST_full/4/hsf_0_04094.png': 2,\n",
       " '/home/venkateshiyer/handwritten_dataset/NIST_full/4/hsf_0_04164.png': 9,\n",
       " '/home/venkateshiyer/handwritten_dataset/NIST_full/4/hsf_0_04515.png': 9,\n",
       " '/home/venkateshiyer/handwritten_dataset/NIST_full/4/hsf_0_04773.png': 9,\n",
       " '/home/venkateshiyer/handwritten_dataset/NIST_full/4/hsf_0_04777.png': 9}"
      ]
     },
     "execution_count": 23,
     "metadata": {},
     "output_type": "execute_result"
    }
   ],
   "source": [
    "wrong_results"
   ]
  },
  {
   "cell_type": "code",
   "execution_count": 24,
   "id": "15a7d881",
   "metadata": {},
   "outputs": [],
   "source": [
    "path = os.path.expanduser('~')+'/handwritten_dataset/NIST_full/5/*'\n",
    "result, accuracy, gt, prediction, wrong_results = pred_using_h5_digit(model,path)"
   ]
  },
  {
   "cell_type": "code",
   "execution_count": 25,
   "id": "3c7e6b6c",
   "metadata": {},
   "outputs": [
    {
     "name": "stdout",
     "output_type": "stream",
     "text": [
      "0.9858787747121442\n",
      "              precision    recall  f1-score   support\n",
      "\n",
      "           0       0.00      0.00      0.00         0\n",
      "           2       0.00      0.00      0.00         0\n",
      "           3       0.00      0.00      0.00         0\n",
      "           4       0.00      0.00      0.00         0\n",
      "           5       1.00      0.99      0.99      4603\n",
      "           6       0.00      0.00      0.00         0\n",
      "           8       0.00      0.00      0.00         0\n",
      "           9       0.00      0.00      0.00         0\n",
      "\n",
      "    accuracy                           0.99      4603\n",
      "   macro avg       0.12      0.12      0.12      4603\n",
      "weighted avg       1.00      0.99      0.99      4603\n",
      "\n"
     ]
    },
    {
     "name": "stderr",
     "output_type": "stream",
     "text": [
      "/home/venkateshiyer/ocrtool/lib/python3.8/site-packages/sklearn/metrics/_classification.py:1334: UndefinedMetricWarning: Recall and F-score are ill-defined and being set to 0.0 in labels with no true samples. Use `zero_division` parameter to control this behavior.\n",
      "  _warn_prf(average, modifier, msg_start, len(result))\n",
      "/home/venkateshiyer/ocrtool/lib/python3.8/site-packages/sklearn/metrics/_classification.py:1334: UndefinedMetricWarning: Recall and F-score are ill-defined and being set to 0.0 in labels with no true samples. Use `zero_division` parameter to control this behavior.\n",
      "  _warn_prf(average, modifier, msg_start, len(result))\n",
      "/home/venkateshiyer/ocrtool/lib/python3.8/site-packages/sklearn/metrics/_classification.py:1334: UndefinedMetricWarning: Recall and F-score are ill-defined and being set to 0.0 in labels with no true samples. Use `zero_division` parameter to control this behavior.\n",
      "  _warn_prf(average, modifier, msg_start, len(result))\n"
     ]
    }
   ],
   "source": [
    "print(accuracy)\n",
    "from sklearn import metrics\n",
    "print(metrics.classification_report(gt, prediction))"
   ]
  },
  {
   "cell_type": "code",
   "execution_count": 26,
   "id": "d1caa17b",
   "metadata": {},
   "outputs": [
    {
     "data": {
      "text/plain": [
       "65"
      ]
     },
     "execution_count": 26,
     "metadata": {},
     "output_type": "execute_result"
    }
   ],
   "source": [
    "len(wrong_results)"
   ]
  },
  {
   "cell_type": "code",
   "execution_count": 27,
   "id": "e12af9cf",
   "metadata": {},
   "outputs": [
    {
     "data": {
      "text/plain": [
       "{'/home/venkateshiyer/handwritten_dataset/NIST_full/5/hsf_0_00130.png': 3,\n",
       " '/home/venkateshiyer/handwritten_dataset/NIST_full/5/hsf_0_00261.png': 6,\n",
       " '/home/venkateshiyer/handwritten_dataset/NIST_full/5/hsf_0_00466.png': 6,\n",
       " '/home/venkateshiyer/handwritten_dataset/NIST_full/5/hsf_0_00580.png': 3,\n",
       " '/home/venkateshiyer/handwritten_dataset/NIST_full/5/hsf_0_00596.png': 9,\n",
       " '/home/venkateshiyer/handwritten_dataset/NIST_full/5/hsf_0_00676.png': 3,\n",
       " '/home/venkateshiyer/handwritten_dataset/NIST_full/5/hsf_0_00767.png': 9,\n",
       " '/home/venkateshiyer/handwritten_dataset/NIST_full/5/hsf_0_00769.png': 9,\n",
       " '/home/venkateshiyer/handwritten_dataset/NIST_full/5/hsf_0_00770.png': 9,\n",
       " '/home/venkateshiyer/handwritten_dataset/NIST_full/5/hsf_0_00772.png': 9,\n",
       " '/home/venkateshiyer/handwritten_dataset/NIST_full/5/hsf_0_00775.png': 9,\n",
       " '/home/venkateshiyer/handwritten_dataset/NIST_full/5/hsf_0_00827.png': 3,\n",
       " '/home/venkateshiyer/handwritten_dataset/NIST_full/5/hsf_0_00915.png': 9,\n",
       " '/home/venkateshiyer/handwritten_dataset/NIST_full/5/hsf_0_00962.png': 6,\n",
       " '/home/venkateshiyer/handwritten_dataset/NIST_full/5/hsf_0_01078.png': 3,\n",
       " '/home/venkateshiyer/handwritten_dataset/NIST_full/5/hsf_0_01082.png': 3,\n",
       " '/home/venkateshiyer/handwritten_dataset/NIST_full/5/hsf_0_01111.png': 3,\n",
       " '/home/venkateshiyer/handwritten_dataset/NIST_full/5/hsf_0_01169.png': 0,\n",
       " '/home/venkateshiyer/handwritten_dataset/NIST_full/5/hsf_0_01174.png': 6,\n",
       " '/home/venkateshiyer/handwritten_dataset/NIST_full/5/hsf_0_01271.png': 3,\n",
       " '/home/venkateshiyer/handwritten_dataset/NIST_full/5/hsf_0_01493.png': 6,\n",
       " '/home/venkateshiyer/handwritten_dataset/NIST_full/5/hsf_0_01544.png': 9,\n",
       " '/home/venkateshiyer/handwritten_dataset/NIST_full/5/hsf_0_01685.png': 6,\n",
       " '/home/venkateshiyer/handwritten_dataset/NIST_full/5/hsf_0_01892.png': 8,\n",
       " '/home/venkateshiyer/handwritten_dataset/NIST_full/5/hsf_0_02077.png': 8,\n",
       " '/home/venkateshiyer/handwritten_dataset/NIST_full/5/hsf_0_02187.png': 3,\n",
       " '/home/venkateshiyer/handwritten_dataset/NIST_full/5/hsf_0_02189.png': 3,\n",
       " '/home/venkateshiyer/handwritten_dataset/NIST_full/5/hsf_0_02385.png': 2,\n",
       " '/home/venkateshiyer/handwritten_dataset/NIST_full/5/hsf_0_02386.png': 0,\n",
       " '/home/venkateshiyer/handwritten_dataset/NIST_full/5/hsf_0_02441.png': 3,\n",
       " '/home/venkateshiyer/handwritten_dataset/NIST_full/5/hsf_0_02468.png': 3,\n",
       " '/home/venkateshiyer/handwritten_dataset/NIST_full/5/hsf_0_02492.png': 3,\n",
       " '/home/venkateshiyer/handwritten_dataset/NIST_full/5/hsf_0_02620.png': 8,\n",
       " '/home/venkateshiyer/handwritten_dataset/NIST_full/5/hsf_0_02654.png': 4,\n",
       " '/home/venkateshiyer/handwritten_dataset/NIST_full/5/hsf_0_02694.png': 2,\n",
       " '/home/venkateshiyer/handwritten_dataset/NIST_full/5/hsf_0_02829.png': 8,\n",
       " '/home/venkateshiyer/handwritten_dataset/NIST_full/5/hsf_0_02847.png': 9,\n",
       " '/home/venkateshiyer/handwritten_dataset/NIST_full/5/hsf_0_02857.png': 9,\n",
       " '/home/venkateshiyer/handwritten_dataset/NIST_full/5/hsf_0_02884.png': 8,\n",
       " '/home/venkateshiyer/handwritten_dataset/NIST_full/5/hsf_0_03077.png': 3,\n",
       " '/home/venkateshiyer/handwritten_dataset/NIST_full/5/hsf_0_03079.png': 3,\n",
       " '/home/venkateshiyer/handwritten_dataset/NIST_full/5/hsf_0_03100.png': 3,\n",
       " '/home/venkateshiyer/handwritten_dataset/NIST_full/5/hsf_0_03107.png': 3,\n",
       " '/home/venkateshiyer/handwritten_dataset/NIST_full/5/hsf_0_03395.png': 3,\n",
       " '/home/venkateshiyer/handwritten_dataset/NIST_full/5/hsf_0_03428.png': 6,\n",
       " '/home/venkateshiyer/handwritten_dataset/NIST_full/5/hsf_0_03430.png': 6,\n",
       " '/home/venkateshiyer/handwritten_dataset/NIST_full/5/hsf_0_03476.png': 6,\n",
       " '/home/venkateshiyer/handwritten_dataset/NIST_full/5/hsf_0_03481.png': 6,\n",
       " '/home/venkateshiyer/handwritten_dataset/NIST_full/5/hsf_0_03534.png': 3,\n",
       " '/home/venkateshiyer/handwritten_dataset/NIST_full/5/hsf_0_03580.png': 2,\n",
       " '/home/venkateshiyer/handwritten_dataset/NIST_full/5/hsf_0_03589.png': 9,\n",
       " '/home/venkateshiyer/handwritten_dataset/NIST_full/5/hsf_0_03804.png': 6,\n",
       " '/home/venkateshiyer/handwritten_dataset/NIST_full/5/hsf_0_03811.png': 3,\n",
       " '/home/venkateshiyer/handwritten_dataset/NIST_full/5/hsf_0_03822.png': 3,\n",
       " '/home/venkateshiyer/handwritten_dataset/NIST_full/5/hsf_0_03876.png': 3,\n",
       " '/home/venkateshiyer/handwritten_dataset/NIST_full/5/hsf_0_03881.png': 3,\n",
       " '/home/venkateshiyer/handwritten_dataset/NIST_full/5/hsf_0_03923.png': 3,\n",
       " '/home/venkateshiyer/handwritten_dataset/NIST_full/5/hsf_0_03953.png': 6,\n",
       " '/home/venkateshiyer/handwritten_dataset/NIST_full/5/hsf_0_04023.png': 3,\n",
       " '/home/venkateshiyer/handwritten_dataset/NIST_full/5/hsf_0_04051.png': 6,\n",
       " '/home/venkateshiyer/handwritten_dataset/NIST_full/5/hsf_0_04143.png': 9,\n",
       " '/home/venkateshiyer/handwritten_dataset/NIST_full/5/hsf_0_04153.png': 9,\n",
       " '/home/venkateshiyer/handwritten_dataset/NIST_full/5/hsf_0_04374.png': 8,\n",
       " '/home/venkateshiyer/handwritten_dataset/NIST_full/5/hsf_0_04379.png': 6,\n",
       " '/home/venkateshiyer/handwritten_dataset/NIST_full/5/hsf_0_04440.png': 3}"
      ]
     },
     "execution_count": 27,
     "metadata": {},
     "output_type": "execute_result"
    }
   ],
   "source": [
    "wrong_results"
   ]
  },
  {
   "cell_type": "code",
   "execution_count": 28,
   "id": "755ce9db",
   "metadata": {},
   "outputs": [],
   "source": [
    "path = os.path.expanduser('~')+'/handwritten_dataset/NIST_full/6/*'\n",
    "result, accuracy, gt, prediction, wrong_results = pred_using_h5_digit(model,path)"
   ]
  },
  {
   "cell_type": "code",
   "execution_count": 29,
   "id": "78943276",
   "metadata": {},
   "outputs": [
    {
     "name": "stdout",
     "output_type": "stream",
     "text": [
      "0.9915966386554622\n",
      "              precision    recall  f1-score   support\n",
      "\n",
      "           0       0.00      0.00      0.00         0\n",
      "           2       0.00      0.00      0.00         0\n",
      "           3       0.00      0.00      0.00         0\n",
      "           4       0.00      0.00      0.00         0\n",
      "           5       0.00      0.00      0.00         0\n",
      "           6       1.00      0.99      1.00      5236\n",
      "           7       0.00      0.00      0.00         0\n",
      "           8       0.00      0.00      0.00         0\n",
      "           9       0.00      0.00      0.00         0\n",
      "\n",
      "    accuracy                           0.99      5236\n",
      "   macro avg       0.11      0.11      0.11      5236\n",
      "weighted avg       1.00      0.99      1.00      5236\n",
      "\n"
     ]
    },
    {
     "name": "stderr",
     "output_type": "stream",
     "text": [
      "/home/venkateshiyer/ocrtool/lib/python3.8/site-packages/sklearn/metrics/_classification.py:1334: UndefinedMetricWarning: Recall and F-score are ill-defined and being set to 0.0 in labels with no true samples. Use `zero_division` parameter to control this behavior.\n",
      "  _warn_prf(average, modifier, msg_start, len(result))\n",
      "/home/venkateshiyer/ocrtool/lib/python3.8/site-packages/sklearn/metrics/_classification.py:1334: UndefinedMetricWarning: Recall and F-score are ill-defined and being set to 0.0 in labels with no true samples. Use `zero_division` parameter to control this behavior.\n",
      "  _warn_prf(average, modifier, msg_start, len(result))\n",
      "/home/venkateshiyer/ocrtool/lib/python3.8/site-packages/sklearn/metrics/_classification.py:1334: UndefinedMetricWarning: Recall and F-score are ill-defined and being set to 0.0 in labels with no true samples. Use `zero_division` parameter to control this behavior.\n",
      "  _warn_prf(average, modifier, msg_start, len(result))\n"
     ]
    }
   ],
   "source": [
    "print(accuracy)\n",
    "from sklearn import metrics\n",
    "print(metrics.classification_report(gt, prediction))"
   ]
  },
  {
   "cell_type": "code",
   "execution_count": 30,
   "id": "304e3058",
   "metadata": {},
   "outputs": [
    {
     "data": {
      "text/plain": [
       "44"
      ]
     },
     "execution_count": 30,
     "metadata": {},
     "output_type": "execute_result"
    }
   ],
   "source": [
    "len(wrong_results)"
   ]
  },
  {
   "cell_type": "code",
   "execution_count": 31,
   "id": "ed8eea55",
   "metadata": {},
   "outputs": [
    {
     "data": {
      "text/plain": [
       "{'/home/venkateshiyer/handwritten_dataset/NIST_full/6/hsf_0_00024.png': 4,\n",
       " '/home/venkateshiyer/handwritten_dataset/NIST_full/6/hsf_0_00216.png': 4,\n",
       " '/home/venkateshiyer/handwritten_dataset/NIST_full/6/hsf_0_00225.png': 2,\n",
       " '/home/venkateshiyer/handwritten_dataset/NIST_full/6/hsf_0_00382.png': 4,\n",
       " '/home/venkateshiyer/handwritten_dataset/NIST_full/6/hsf_0_00462.png': 9,\n",
       " '/home/venkateshiyer/handwritten_dataset/NIST_full/6/hsf_0_00814.png': 5,\n",
       " '/home/venkateshiyer/handwritten_dataset/NIST_full/6/hsf_0_00821.png': 9,\n",
       " '/home/venkateshiyer/handwritten_dataset/NIST_full/6/hsf_0_00828.png': 5,\n",
       " '/home/venkateshiyer/handwritten_dataset/NIST_full/6/hsf_0_00983.png': 4,\n",
       " '/home/venkateshiyer/handwritten_dataset/NIST_full/6/hsf_0_01101.png': 4,\n",
       " '/home/venkateshiyer/handwritten_dataset/NIST_full/6/hsf_0_01108.png': 5,\n",
       " '/home/venkateshiyer/handwritten_dataset/NIST_full/6/hsf_0_01314.png': 4,\n",
       " '/home/venkateshiyer/handwritten_dataset/NIST_full/6/hsf_0_01316.png': 2,\n",
       " '/home/venkateshiyer/handwritten_dataset/NIST_full/6/hsf_0_01640.png': 4,\n",
       " '/home/venkateshiyer/handwritten_dataset/NIST_full/6/hsf_0_01725.png': 4,\n",
       " '/home/venkateshiyer/handwritten_dataset/NIST_full/6/hsf_0_01843.png': 5,\n",
       " '/home/venkateshiyer/handwritten_dataset/NIST_full/6/hsf_0_01884.png': 0,\n",
       " '/home/venkateshiyer/handwritten_dataset/NIST_full/6/hsf_0_01916.png': 5,\n",
       " '/home/venkateshiyer/handwritten_dataset/NIST_full/6/hsf_0_02376.png': 4,\n",
       " '/home/venkateshiyer/handwritten_dataset/NIST_full/6/hsf_0_02467.png': 0,\n",
       " '/home/venkateshiyer/handwritten_dataset/NIST_full/6/hsf_0_02538.png': 4,\n",
       " '/home/venkateshiyer/handwritten_dataset/NIST_full/6/hsf_0_02547.png': 7,\n",
       " '/home/venkateshiyer/handwritten_dataset/NIST_full/6/hsf_0_02837.png': 0,\n",
       " '/home/venkateshiyer/handwritten_dataset/NIST_full/6/hsf_0_02876.png': 8,\n",
       " '/home/venkateshiyer/handwritten_dataset/NIST_full/6/hsf_0_03068.png': 5,\n",
       " '/home/venkateshiyer/handwritten_dataset/NIST_full/6/hsf_0_03094.png': 8,\n",
       " '/home/venkateshiyer/handwritten_dataset/NIST_full/6/hsf_0_03589.png': 4,\n",
       " '/home/venkateshiyer/handwritten_dataset/NIST_full/6/hsf_0_03629.png': 5,\n",
       " '/home/venkateshiyer/handwritten_dataset/NIST_full/6/hsf_0_03797.png': 5,\n",
       " '/home/venkateshiyer/handwritten_dataset/NIST_full/6/hsf_0_03871.png': 2,\n",
       " '/home/venkateshiyer/handwritten_dataset/NIST_full/6/hsf_0_04052.png': 3,\n",
       " '/home/venkateshiyer/handwritten_dataset/NIST_full/6/hsf_0_04054.png': 4,\n",
       " '/home/venkateshiyer/handwritten_dataset/NIST_full/6/hsf_0_04055.png': 4,\n",
       " '/home/venkateshiyer/handwritten_dataset/NIST_full/6/hsf_0_04058.png': 0,\n",
       " '/home/venkateshiyer/handwritten_dataset/NIST_full/6/hsf_0_04069.png': 4,\n",
       " '/home/venkateshiyer/handwritten_dataset/NIST_full/6/hsf_0_04243.png': 9,\n",
       " '/home/venkateshiyer/handwritten_dataset/NIST_full/6/hsf_0_04452.png': 4,\n",
       " '/home/venkateshiyer/handwritten_dataset/NIST_full/6/hsf_0_04708.png': 0,\n",
       " '/home/venkateshiyer/handwritten_dataset/NIST_full/6/hsf_0_04777.png': 5,\n",
       " '/home/venkateshiyer/handwritten_dataset/NIST_full/6/hsf_0_04935.png': 8,\n",
       " '/home/venkateshiyer/handwritten_dataset/NIST_full/6/hsf_0_04951.png': 4,\n",
       " '/home/venkateshiyer/handwritten_dataset/NIST_full/6/hsf_0_04962.png': 0,\n",
       " '/home/venkateshiyer/handwritten_dataset/NIST_full/6/hsf_0_05116.png': 2,\n",
       " '/home/venkateshiyer/handwritten_dataset/NIST_full/6/hsf_0_05120.png': 4}"
      ]
     },
     "execution_count": 31,
     "metadata": {},
     "output_type": "execute_result"
    }
   ],
   "source": [
    "wrong_results"
   ]
  },
  {
   "cell_type": "code",
   "execution_count": null,
   "id": "d4c0936f",
   "metadata": {},
   "outputs": [],
   "source": []
  },
  {
   "cell_type": "code",
   "execution_count": 32,
   "id": "efe54f32",
   "metadata": {},
   "outputs": [],
   "source": [
    "path = os.path.expanduser('~')+'/handwritten_dataset/NIST_full/7/*'\n",
    "result, accuracy, gt, prediction, wrong_results = pred_using_h5_digit(model,path)"
   ]
  },
  {
   "cell_type": "code",
   "execution_count": 33,
   "id": "2480caba",
   "metadata": {},
   "outputs": [
    {
     "name": "stdout",
     "output_type": "stream",
     "text": [
      "0.9957058507783145\n",
      "              precision    recall  f1-score   support\n",
      "\n",
      "           1       0.00      0.00      0.00         0\n",
      "           2       0.00      0.00      0.00         0\n",
      "           3       0.00      0.00      0.00         0\n",
      "           4       0.00      0.00      0.00         0\n",
      "           7       1.00      1.00      1.00      5589\n",
      "           9       0.00      0.00      0.00         0\n",
      "\n",
      "    accuracy                           1.00      5589\n",
      "   macro avg       0.17      0.17      0.17      5589\n",
      "weighted avg       1.00      1.00      1.00      5589\n",
      "\n"
     ]
    },
    {
     "name": "stderr",
     "output_type": "stream",
     "text": [
      "/home/venkateshiyer/ocrtool/lib/python3.8/site-packages/sklearn/metrics/_classification.py:1334: UndefinedMetricWarning: Recall and F-score are ill-defined and being set to 0.0 in labels with no true samples. Use `zero_division` parameter to control this behavior.\n",
      "  _warn_prf(average, modifier, msg_start, len(result))\n",
      "/home/venkateshiyer/ocrtool/lib/python3.8/site-packages/sklearn/metrics/_classification.py:1334: UndefinedMetricWarning: Recall and F-score are ill-defined and being set to 0.0 in labels with no true samples. Use `zero_division` parameter to control this behavior.\n",
      "  _warn_prf(average, modifier, msg_start, len(result))\n",
      "/home/venkateshiyer/ocrtool/lib/python3.8/site-packages/sklearn/metrics/_classification.py:1334: UndefinedMetricWarning: Recall and F-score are ill-defined and being set to 0.0 in labels with no true samples. Use `zero_division` parameter to control this behavior.\n",
      "  _warn_prf(average, modifier, msg_start, len(result))\n"
     ]
    }
   ],
   "source": [
    "print(accuracy)\n",
    "from sklearn import metrics\n",
    "print(metrics.classification_report(gt, prediction))"
   ]
  },
  {
   "cell_type": "code",
   "execution_count": 34,
   "id": "d06d0b63",
   "metadata": {},
   "outputs": [
    {
     "data": {
      "text/plain": [
       "24"
      ]
     },
     "execution_count": 34,
     "metadata": {},
     "output_type": "execute_result"
    }
   ],
   "source": [
    "len(wrong_results)"
   ]
  },
  {
   "cell_type": "code",
   "execution_count": 35,
   "id": "599b4442",
   "metadata": {},
   "outputs": [
    {
     "data": {
      "text/plain": [
       "{'/home/venkateshiyer/handwritten_dataset/NIST_full/7/hsf_0_00051.png': 9,\n",
       " '/home/venkateshiyer/handwritten_dataset/NIST_full/7/hsf_0_00052.png': 9,\n",
       " '/home/venkateshiyer/handwritten_dataset/NIST_full/7/hsf_0_00306.png': 9,\n",
       " '/home/venkateshiyer/handwritten_dataset/NIST_full/7/hsf_0_00496.png': 4,\n",
       " '/home/venkateshiyer/handwritten_dataset/NIST_full/7/hsf_0_00714.png': 1,\n",
       " '/home/venkateshiyer/handwritten_dataset/NIST_full/7/hsf_0_01418.png': 3,\n",
       " '/home/venkateshiyer/handwritten_dataset/NIST_full/7/hsf_0_01421.png': 2,\n",
       " '/home/venkateshiyer/handwritten_dataset/NIST_full/7/hsf_0_01422.png': 2,\n",
       " '/home/venkateshiyer/handwritten_dataset/NIST_full/7/hsf_0_01426.png': 2,\n",
       " '/home/venkateshiyer/handwritten_dataset/NIST_full/7/hsf_0_01646.png': 9,\n",
       " '/home/venkateshiyer/handwritten_dataset/NIST_full/7/hsf_0_01699.png': 1,\n",
       " '/home/venkateshiyer/handwritten_dataset/NIST_full/7/hsf_0_02193.png': 9,\n",
       " '/home/venkateshiyer/handwritten_dataset/NIST_full/7/hsf_0_02745.png': 9,\n",
       " '/home/venkateshiyer/handwritten_dataset/NIST_full/7/hsf_0_02815.png': 9,\n",
       " '/home/venkateshiyer/handwritten_dataset/NIST_full/7/hsf_0_03630.png': 2,\n",
       " '/home/venkateshiyer/handwritten_dataset/NIST_full/7/hsf_0_03717.png': 9,\n",
       " '/home/venkateshiyer/handwritten_dataset/NIST_full/7/hsf_0_04060.png': 2,\n",
       " '/home/venkateshiyer/handwritten_dataset/NIST_full/7/hsf_0_04062.png': 2,\n",
       " '/home/venkateshiyer/handwritten_dataset/NIST_full/7/hsf_0_04066.png': 2,\n",
       " '/home/venkateshiyer/handwritten_dataset/NIST_full/7/hsf_0_04325.png': 1,\n",
       " '/home/venkateshiyer/handwritten_dataset/NIST_full/7/hsf_0_04768.png': 9,\n",
       " '/home/venkateshiyer/handwritten_dataset/NIST_full/7/hsf_0_05264.png': 9,\n",
       " '/home/venkateshiyer/handwritten_dataset/NIST_full/7/hsf_0_05527.png': 4,\n",
       " '/home/venkateshiyer/handwritten_dataset/NIST_full/7/hsf_0_05536.png': 9}"
      ]
     },
     "execution_count": 35,
     "metadata": {},
     "output_type": "execute_result"
    }
   ],
   "source": [
    "wrong_results"
   ]
  },
  {
   "cell_type": "code",
   "execution_count": 36,
   "id": "a8f14d36",
   "metadata": {},
   "outputs": [],
   "source": [
    "path = os.path.expanduser('~')+'/handwritten_dataset/NIST_full/8/*'\n",
    "result, accuracy, gt, prediction, wrong_results = pred_using_h5_digit(model,path)"
   ]
  },
  {
   "cell_type": "code",
   "execution_count": 37,
   "id": "ba83496d",
   "metadata": {},
   "outputs": [
    {
     "name": "stdout",
     "output_type": "stream",
     "text": [
      "0.943177499049791\n",
      "              precision    recall  f1-score   support\n",
      "\n",
      "           0       0.00      0.00      0.00         0\n",
      "           1       0.00      0.00      0.00         0\n",
      "           2       0.00      0.00      0.00         0\n",
      "           3       0.00      0.00      0.00         0\n",
      "           4       0.00      0.00      0.00         0\n",
      "           5       0.00      0.00      0.00         0\n",
      "           6       0.00      0.00      0.00         0\n",
      "           7       0.00      0.00      0.00         0\n",
      "           8       1.00      0.94      0.97      5262\n",
      "           9       0.00      0.00      0.00         0\n",
      "\n",
      "    accuracy                           0.94      5262\n",
      "   macro avg       0.10      0.09      0.10      5262\n",
      "weighted avg       1.00      0.94      0.97      5262\n",
      "\n"
     ]
    },
    {
     "name": "stderr",
     "output_type": "stream",
     "text": [
      "/home/venkateshiyer/ocrtool/lib/python3.8/site-packages/sklearn/metrics/_classification.py:1334: UndefinedMetricWarning: Recall and F-score are ill-defined and being set to 0.0 in labels with no true samples. Use `zero_division` parameter to control this behavior.\n",
      "  _warn_prf(average, modifier, msg_start, len(result))\n",
      "/home/venkateshiyer/ocrtool/lib/python3.8/site-packages/sklearn/metrics/_classification.py:1334: UndefinedMetricWarning: Recall and F-score are ill-defined and being set to 0.0 in labels with no true samples. Use `zero_division` parameter to control this behavior.\n",
      "  _warn_prf(average, modifier, msg_start, len(result))\n",
      "/home/venkateshiyer/ocrtool/lib/python3.8/site-packages/sklearn/metrics/_classification.py:1334: UndefinedMetricWarning: Recall and F-score are ill-defined and being set to 0.0 in labels with no true samples. Use `zero_division` parameter to control this behavior.\n",
      "  _warn_prf(average, modifier, msg_start, len(result))\n"
     ]
    }
   ],
   "source": [
    "print(accuracy)\n",
    "from sklearn import metrics\n",
    "print(metrics.classification_report(gt, prediction))"
   ]
  },
  {
   "cell_type": "code",
   "execution_count": 38,
   "id": "85dd3e09",
   "metadata": {},
   "outputs": [
    {
     "data": {
      "text/plain": [
       "299"
      ]
     },
     "execution_count": 38,
     "metadata": {},
     "output_type": "execute_result"
    }
   ],
   "source": [
    "len(wrong_results)"
   ]
  },
  {
   "cell_type": "code",
   "execution_count": 39,
   "id": "bd967399",
   "metadata": {},
   "outputs": [
    {
     "data": {
      "text/plain": [
       "{'/home/venkateshiyer/handwritten_dataset/NIST_full/8/hsf_0_00007.png': 3,\n",
       " '/home/venkateshiyer/handwritten_dataset/NIST_full/8/hsf_0_00009.png': 3,\n",
       " '/home/venkateshiyer/handwritten_dataset/NIST_full/8/hsf_0_00060.png': 4,\n",
       " '/home/venkateshiyer/handwritten_dataset/NIST_full/8/hsf_0_00076.png': 9,\n",
       " '/home/venkateshiyer/handwritten_dataset/NIST_full/8/hsf_0_00105.png': 2,\n",
       " '/home/venkateshiyer/handwritten_dataset/NIST_full/8/hsf_0_00141.png': 5,\n",
       " '/home/venkateshiyer/handwritten_dataset/NIST_full/8/hsf_0_00146.png': 9,\n",
       " '/home/venkateshiyer/handwritten_dataset/NIST_full/8/hsf_0_00185.png': 3,\n",
       " '/home/venkateshiyer/handwritten_dataset/NIST_full/8/hsf_0_00190.png': 3,\n",
       " '/home/venkateshiyer/handwritten_dataset/NIST_full/8/hsf_0_00206.png': 3,\n",
       " '/home/venkateshiyer/handwritten_dataset/NIST_full/8/hsf_0_00207.png': 7,\n",
       " '/home/venkateshiyer/handwritten_dataset/NIST_full/8/hsf_0_00238.png': 9,\n",
       " '/home/venkateshiyer/handwritten_dataset/NIST_full/8/hsf_0_00301.png': 3,\n",
       " '/home/venkateshiyer/handwritten_dataset/NIST_full/8/hsf_0_00398.png': 3,\n",
       " '/home/venkateshiyer/handwritten_dataset/NIST_full/8/hsf_0_00405.png': 3,\n",
       " '/home/venkateshiyer/handwritten_dataset/NIST_full/8/hsf_0_00423.png': 9,\n",
       " '/home/venkateshiyer/handwritten_dataset/NIST_full/8/hsf_0_00431.png': 4,\n",
       " '/home/venkateshiyer/handwritten_dataset/NIST_full/8/hsf_0_00432.png': 4,\n",
       " '/home/venkateshiyer/handwritten_dataset/NIST_full/8/hsf_0_00436.png': 4,\n",
       " '/home/venkateshiyer/handwritten_dataset/NIST_full/8/hsf_0_00437.png': 9,\n",
       " '/home/venkateshiyer/handwritten_dataset/NIST_full/8/hsf_0_00450.png': 9,\n",
       " '/home/venkateshiyer/handwritten_dataset/NIST_full/8/hsf_0_00454.png': 3,\n",
       " '/home/venkateshiyer/handwritten_dataset/NIST_full/8/hsf_0_00463.png': 3,\n",
       " '/home/venkateshiyer/handwritten_dataset/NIST_full/8/hsf_0_00475.png': 2,\n",
       " '/home/venkateshiyer/handwritten_dataset/NIST_full/8/hsf_0_00551.png': 9,\n",
       " '/home/venkateshiyer/handwritten_dataset/NIST_full/8/hsf_0_00571.png': 2,\n",
       " '/home/venkateshiyer/handwritten_dataset/NIST_full/8/hsf_0_00579.png': 9,\n",
       " '/home/venkateshiyer/handwritten_dataset/NIST_full/8/hsf_0_00583.png': 9,\n",
       " '/home/venkateshiyer/handwritten_dataset/NIST_full/8/hsf_0_00629.png': 9,\n",
       " '/home/venkateshiyer/handwritten_dataset/NIST_full/8/hsf_0_00631.png': 5,\n",
       " '/home/venkateshiyer/handwritten_dataset/NIST_full/8/hsf_0_00633.png': 3,\n",
       " '/home/venkateshiyer/handwritten_dataset/NIST_full/8/hsf_0_00634.png': 3,\n",
       " '/home/venkateshiyer/handwritten_dataset/NIST_full/8/hsf_0_00661.png': 5,\n",
       " '/home/venkateshiyer/handwritten_dataset/NIST_full/8/hsf_0_00664.png': 0,\n",
       " '/home/venkateshiyer/handwritten_dataset/NIST_full/8/hsf_0_00686.png': 9,\n",
       " '/home/venkateshiyer/handwritten_dataset/NIST_full/8/hsf_0_00687.png': 9,\n",
       " '/home/venkateshiyer/handwritten_dataset/NIST_full/8/hsf_0_00713.png': 3,\n",
       " '/home/venkateshiyer/handwritten_dataset/NIST_full/8/hsf_0_00756.png': 3,\n",
       " '/home/venkateshiyer/handwritten_dataset/NIST_full/8/hsf_0_00758.png': 2,\n",
       " '/home/venkateshiyer/handwritten_dataset/NIST_full/8/hsf_0_00760.png': 3,\n",
       " '/home/venkateshiyer/handwritten_dataset/NIST_full/8/hsf_0_00763.png': 2,\n",
       " '/home/venkateshiyer/handwritten_dataset/NIST_full/8/hsf_0_00766.png': 5,\n",
       " '/home/venkateshiyer/handwritten_dataset/NIST_full/8/hsf_0_00767.png': 3,\n",
       " '/home/venkateshiyer/handwritten_dataset/NIST_full/8/hsf_0_00772.png': 4,\n",
       " '/home/venkateshiyer/handwritten_dataset/NIST_full/8/hsf_0_00775.png': 3,\n",
       " '/home/venkateshiyer/handwritten_dataset/NIST_full/8/hsf_0_00788.png': 2,\n",
       " '/home/venkateshiyer/handwritten_dataset/NIST_full/8/hsf_0_00824.png': 9,\n",
       " '/home/venkateshiyer/handwritten_dataset/NIST_full/8/hsf_0_00831.png': 3,\n",
       " '/home/venkateshiyer/handwritten_dataset/NIST_full/8/hsf_0_00856.png': 7,\n",
       " '/home/venkateshiyer/handwritten_dataset/NIST_full/8/hsf_0_00858.png': 9,\n",
       " '/home/venkateshiyer/handwritten_dataset/NIST_full/8/hsf_0_00865.png': 9,\n",
       " '/home/venkateshiyer/handwritten_dataset/NIST_full/8/hsf_0_00896.png': 9,\n",
       " '/home/venkateshiyer/handwritten_dataset/NIST_full/8/hsf_0_00932.png': 7,\n",
       " '/home/venkateshiyer/handwritten_dataset/NIST_full/8/hsf_0_00967.png': 3,\n",
       " '/home/venkateshiyer/handwritten_dataset/NIST_full/8/hsf_0_00995.png': 9,\n",
       " '/home/venkateshiyer/handwritten_dataset/NIST_full/8/hsf_0_01011.png': 0,\n",
       " '/home/venkateshiyer/handwritten_dataset/NIST_full/8/hsf_0_01022.png': 3,\n",
       " '/home/venkateshiyer/handwritten_dataset/NIST_full/8/hsf_0_01050.png': 3,\n",
       " '/home/venkateshiyer/handwritten_dataset/NIST_full/8/hsf_0_01082.png': 5,\n",
       " '/home/venkateshiyer/handwritten_dataset/NIST_full/8/hsf_0_01127.png': 9,\n",
       " '/home/venkateshiyer/handwritten_dataset/NIST_full/8/hsf_0_01128.png': 9,\n",
       " '/home/venkateshiyer/handwritten_dataset/NIST_full/8/hsf_0_01171.png': 3,\n",
       " '/home/venkateshiyer/handwritten_dataset/NIST_full/8/hsf_0_01176.png': 9,\n",
       " '/home/venkateshiyer/handwritten_dataset/NIST_full/8/hsf_0_01180.png': 9,\n",
       " '/home/venkateshiyer/handwritten_dataset/NIST_full/8/hsf_0_01181.png': 2,\n",
       " '/home/venkateshiyer/handwritten_dataset/NIST_full/8/hsf_0_01186.png': 7,\n",
       " '/home/venkateshiyer/handwritten_dataset/NIST_full/8/hsf_0_01199.png': 4,\n",
       " '/home/venkateshiyer/handwritten_dataset/NIST_full/8/hsf_0_01200.png': 4,\n",
       " '/home/venkateshiyer/handwritten_dataset/NIST_full/8/hsf_0_01212.png': 9,\n",
       " '/home/venkateshiyer/handwritten_dataset/NIST_full/8/hsf_0_01264.png': 9,\n",
       " '/home/venkateshiyer/handwritten_dataset/NIST_full/8/hsf_0_01273.png': 7,\n",
       " '/home/venkateshiyer/handwritten_dataset/NIST_full/8/hsf_0_01276.png': 3,\n",
       " '/home/venkateshiyer/handwritten_dataset/NIST_full/8/hsf_0_01296.png': 9,\n",
       " '/home/venkateshiyer/handwritten_dataset/NIST_full/8/hsf_0_01304.png': 2,\n",
       " '/home/venkateshiyer/handwritten_dataset/NIST_full/8/hsf_0_01314.png': 4,\n",
       " '/home/venkateshiyer/handwritten_dataset/NIST_full/8/hsf_0_01317.png': 9,\n",
       " '/home/venkateshiyer/handwritten_dataset/NIST_full/8/hsf_0_01330.png': 2,\n",
       " '/home/venkateshiyer/handwritten_dataset/NIST_full/8/hsf_0_01331.png': 2,\n",
       " '/home/venkateshiyer/handwritten_dataset/NIST_full/8/hsf_0_01332.png': 2,\n",
       " '/home/venkateshiyer/handwritten_dataset/NIST_full/8/hsf_0_01334.png': 3,\n",
       " '/home/venkateshiyer/handwritten_dataset/NIST_full/8/hsf_0_01335.png': 3,\n",
       " '/home/venkateshiyer/handwritten_dataset/NIST_full/8/hsf_0_01337.png': 3,\n",
       " '/home/venkateshiyer/handwritten_dataset/NIST_full/8/hsf_0_01338.png': 3,\n",
       " '/home/venkateshiyer/handwritten_dataset/NIST_full/8/hsf_0_01339.png': 3,\n",
       " '/home/venkateshiyer/handwritten_dataset/NIST_full/8/hsf_0_01341.png': 9,\n",
       " '/home/venkateshiyer/handwritten_dataset/NIST_full/8/hsf_0_01344.png': 3,\n",
       " '/home/venkateshiyer/handwritten_dataset/NIST_full/8/hsf_0_01345.png': 3,\n",
       " '/home/venkateshiyer/handwritten_dataset/NIST_full/8/hsf_0_01346.png': 3,\n",
       " '/home/venkateshiyer/handwritten_dataset/NIST_full/8/hsf_0_01347.png': 9,\n",
       " '/home/venkateshiyer/handwritten_dataset/NIST_full/8/hsf_0_01352.png': 2,\n",
       " '/home/venkateshiyer/handwritten_dataset/NIST_full/8/hsf_0_01357.png': 3,\n",
       " '/home/venkateshiyer/handwritten_dataset/NIST_full/8/hsf_0_01363.png': 9,\n",
       " '/home/venkateshiyer/handwritten_dataset/NIST_full/8/hsf_0_01434.png': 4,\n",
       " '/home/venkateshiyer/handwritten_dataset/NIST_full/8/hsf_0_01440.png': 3,\n",
       " '/home/venkateshiyer/handwritten_dataset/NIST_full/8/hsf_0_01446.png': 9,\n",
       " '/home/venkateshiyer/handwritten_dataset/NIST_full/8/hsf_0_01458.png': 9,\n",
       " '/home/venkateshiyer/handwritten_dataset/NIST_full/8/hsf_0_01495.png': 9,\n",
       " '/home/venkateshiyer/handwritten_dataset/NIST_full/8/hsf_0_01562.png': 9,\n",
       " '/home/venkateshiyer/handwritten_dataset/NIST_full/8/hsf_0_01580.png': 3,\n",
       " '/home/venkateshiyer/handwritten_dataset/NIST_full/8/hsf_0_01581.png': 3,\n",
       " '/home/venkateshiyer/handwritten_dataset/NIST_full/8/hsf_0_01586.png': 9,\n",
       " '/home/venkateshiyer/handwritten_dataset/NIST_full/8/hsf_0_01601.png': 0,\n",
       " '/home/venkateshiyer/handwritten_dataset/NIST_full/8/hsf_0_01613.png': 4,\n",
       " '/home/venkateshiyer/handwritten_dataset/NIST_full/8/hsf_0_01638.png': 9,\n",
       " '/home/venkateshiyer/handwritten_dataset/NIST_full/8/hsf_0_01678.png': 3,\n",
       " '/home/venkateshiyer/handwritten_dataset/NIST_full/8/hsf_0_01716.png': 9,\n",
       " '/home/venkateshiyer/handwritten_dataset/NIST_full/8/hsf_0_01717.png': 7,\n",
       " '/home/venkateshiyer/handwritten_dataset/NIST_full/8/hsf_0_01718.png': 7,\n",
       " '/home/venkateshiyer/handwritten_dataset/NIST_full/8/hsf_0_01722.png': 7,\n",
       " '/home/venkateshiyer/handwritten_dataset/NIST_full/8/hsf_0_01723.png': 7,\n",
       " '/home/venkateshiyer/handwritten_dataset/NIST_full/8/hsf_0_01735.png': 2,\n",
       " '/home/venkateshiyer/handwritten_dataset/NIST_full/8/hsf_0_01776.png': 9,\n",
       " '/home/venkateshiyer/handwritten_dataset/NIST_full/8/hsf_0_01778.png': 4,\n",
       " '/home/venkateshiyer/handwritten_dataset/NIST_full/8/hsf_0_01779.png': 2,\n",
       " '/home/venkateshiyer/handwritten_dataset/NIST_full/8/hsf_0_01782.png': 9,\n",
       " '/home/venkateshiyer/handwritten_dataset/NIST_full/8/hsf_0_01816.png': 3,\n",
       " '/home/venkateshiyer/handwritten_dataset/NIST_full/8/hsf_0_01852.png': 2,\n",
       " '/home/venkateshiyer/handwritten_dataset/NIST_full/8/hsf_0_01857.png': 3,\n",
       " '/home/venkateshiyer/handwritten_dataset/NIST_full/8/hsf_0_01915.png': 9,\n",
       " '/home/venkateshiyer/handwritten_dataset/NIST_full/8/hsf_0_01923.png': 2,\n",
       " '/home/venkateshiyer/handwritten_dataset/NIST_full/8/hsf_0_01925.png': 3,\n",
       " '/home/venkateshiyer/handwritten_dataset/NIST_full/8/hsf_0_01954.png': 4,\n",
       " '/home/venkateshiyer/handwritten_dataset/NIST_full/8/hsf_0_01956.png': 4,\n",
       " '/home/venkateshiyer/handwritten_dataset/NIST_full/8/hsf_0_01961.png': 4,\n",
       " '/home/venkateshiyer/handwritten_dataset/NIST_full/8/hsf_0_02000.png': 7,\n",
       " '/home/venkateshiyer/handwritten_dataset/NIST_full/8/hsf_0_02016.png': 2,\n",
       " '/home/venkateshiyer/handwritten_dataset/NIST_full/8/hsf_0_02037.png': 3,\n",
       " '/home/venkateshiyer/handwritten_dataset/NIST_full/8/hsf_0_02045.png': 3,\n",
       " '/home/venkateshiyer/handwritten_dataset/NIST_full/8/hsf_0_02107.png': 3,\n",
       " '/home/venkateshiyer/handwritten_dataset/NIST_full/8/hsf_0_02134.png': 9,\n",
       " '/home/venkateshiyer/handwritten_dataset/NIST_full/8/hsf_0_02139.png': 1,\n",
       " '/home/venkateshiyer/handwritten_dataset/NIST_full/8/hsf_0_02160.png': 3,\n",
       " '/home/venkateshiyer/handwritten_dataset/NIST_full/8/hsf_0_02166.png': 9,\n",
       " '/home/venkateshiyer/handwritten_dataset/NIST_full/8/hsf_0_02172.png': 7,\n",
       " '/home/venkateshiyer/handwritten_dataset/NIST_full/8/hsf_0_02177.png': 4,\n",
       " '/home/venkateshiyer/handwritten_dataset/NIST_full/8/hsf_0_02238.png': 4,\n",
       " '/home/venkateshiyer/handwritten_dataset/NIST_full/8/hsf_0_02270.png': 3,\n",
       " '/home/venkateshiyer/handwritten_dataset/NIST_full/8/hsf_0_02281.png': 2,\n",
       " '/home/venkateshiyer/handwritten_dataset/NIST_full/8/hsf_0_02296.png': 2,\n",
       " '/home/venkateshiyer/handwritten_dataset/NIST_full/8/hsf_0_02310.png': 3,\n",
       " '/home/venkateshiyer/handwritten_dataset/NIST_full/8/hsf_0_02315.png': 3,\n",
       " '/home/venkateshiyer/handwritten_dataset/NIST_full/8/hsf_0_02344.png': 4,\n",
       " '/home/venkateshiyer/handwritten_dataset/NIST_full/8/hsf_0_02346.png': 4,\n",
       " '/home/venkateshiyer/handwritten_dataset/NIST_full/8/hsf_0_02352.png': 6,\n",
       " '/home/venkateshiyer/handwritten_dataset/NIST_full/8/hsf_0_02356.png': 2,\n",
       " '/home/venkateshiyer/handwritten_dataset/NIST_full/8/hsf_0_02361.png': 3,\n",
       " '/home/venkateshiyer/handwritten_dataset/NIST_full/8/hsf_0_02391.png': 3,\n",
       " '/home/venkateshiyer/handwritten_dataset/NIST_full/8/hsf_0_02414.png': 9,\n",
       " '/home/venkateshiyer/handwritten_dataset/NIST_full/8/hsf_0_02429.png': 3,\n",
       " '/home/venkateshiyer/handwritten_dataset/NIST_full/8/hsf_0_02452.png': 9,\n",
       " '/home/venkateshiyer/handwritten_dataset/NIST_full/8/hsf_0_02453.png': 9,\n",
       " '/home/venkateshiyer/handwritten_dataset/NIST_full/8/hsf_0_02457.png': 9,\n",
       " '/home/venkateshiyer/handwritten_dataset/NIST_full/8/hsf_0_02497.png': 5,\n",
       " '/home/venkateshiyer/handwritten_dataset/NIST_full/8/hsf_0_02499.png': 4,\n",
       " '/home/venkateshiyer/handwritten_dataset/NIST_full/8/hsf_0_02516.png': 3,\n",
       " '/home/venkateshiyer/handwritten_dataset/NIST_full/8/hsf_0_02522.png': 3,\n",
       " '/home/venkateshiyer/handwritten_dataset/NIST_full/8/hsf_0_02523.png': 9,\n",
       " '/home/venkateshiyer/handwritten_dataset/NIST_full/8/hsf_0_02524.png': 3,\n",
       " '/home/venkateshiyer/handwritten_dataset/NIST_full/8/hsf_0_02545.png': 9,\n",
       " '/home/venkateshiyer/handwritten_dataset/NIST_full/8/hsf_0_02551.png': 3,\n",
       " '/home/venkateshiyer/handwritten_dataset/NIST_full/8/hsf_0_02559.png': 3,\n",
       " '/home/venkateshiyer/handwritten_dataset/NIST_full/8/hsf_0_02581.png': 3,\n",
       " '/home/venkateshiyer/handwritten_dataset/NIST_full/8/hsf_0_02590.png': 4,\n",
       " '/home/venkateshiyer/handwritten_dataset/NIST_full/8/hsf_0_02602.png': 3,\n",
       " '/home/venkateshiyer/handwritten_dataset/NIST_full/8/hsf_0_02645.png': 2,\n",
       " '/home/venkateshiyer/handwritten_dataset/NIST_full/8/hsf_0_02676.png': 2,\n",
       " '/home/venkateshiyer/handwritten_dataset/NIST_full/8/hsf_0_02677.png': 2,\n",
       " '/home/venkateshiyer/handwritten_dataset/NIST_full/8/hsf_0_02684.png': 3,\n",
       " '/home/venkateshiyer/handwritten_dataset/NIST_full/8/hsf_0_02685.png': 3,\n",
       " '/home/venkateshiyer/handwritten_dataset/NIST_full/8/hsf_0_02709.png': 4,\n",
       " '/home/venkateshiyer/handwritten_dataset/NIST_full/8/hsf_0_02728.png': 9,\n",
       " '/home/venkateshiyer/handwritten_dataset/NIST_full/8/hsf_0_02750.png': 3,\n",
       " '/home/venkateshiyer/handwritten_dataset/NIST_full/8/hsf_0_02753.png': 3,\n",
       " '/home/venkateshiyer/handwritten_dataset/NIST_full/8/hsf_0_02797.png': 3,\n",
       " '/home/venkateshiyer/handwritten_dataset/NIST_full/8/hsf_0_02806.png': 3,\n",
       " '/home/venkateshiyer/handwritten_dataset/NIST_full/8/hsf_0_02842.png': 2,\n",
       " '/home/venkateshiyer/handwritten_dataset/NIST_full/8/hsf_0_02856.png': 7,\n",
       " '/home/venkateshiyer/handwritten_dataset/NIST_full/8/hsf_0_02858.png': 3,\n",
       " '/home/venkateshiyer/handwritten_dataset/NIST_full/8/hsf_0_02859.png': 3,\n",
       " '/home/venkateshiyer/handwritten_dataset/NIST_full/8/hsf_0_02861.png': 3,\n",
       " '/home/venkateshiyer/handwritten_dataset/NIST_full/8/hsf_0_02868.png': 3,\n",
       " '/home/venkateshiyer/handwritten_dataset/NIST_full/8/hsf_0_02870.png': 3,\n",
       " '/home/venkateshiyer/handwritten_dataset/NIST_full/8/hsf_0_02874.png': 4,\n",
       " '/home/venkateshiyer/handwritten_dataset/NIST_full/8/hsf_0_02902.png': 9,\n",
       " '/home/venkateshiyer/handwritten_dataset/NIST_full/8/hsf_0_02941.png': 3,\n",
       " '/home/venkateshiyer/handwritten_dataset/NIST_full/8/hsf_0_02948.png': 3,\n",
       " '/home/venkateshiyer/handwritten_dataset/NIST_full/8/hsf_0_02992.png': 2,\n",
       " '/home/venkateshiyer/handwritten_dataset/NIST_full/8/hsf_0_02993.png': 9,\n",
       " '/home/venkateshiyer/handwritten_dataset/NIST_full/8/hsf_0_02994.png': 3,\n",
       " '/home/venkateshiyer/handwritten_dataset/NIST_full/8/hsf_0_02997.png': 3,\n",
       " '/home/venkateshiyer/handwritten_dataset/NIST_full/8/hsf_0_03000.png': 0,\n",
       " '/home/venkateshiyer/handwritten_dataset/NIST_full/8/hsf_0_03004.png': 3,\n",
       " '/home/venkateshiyer/handwritten_dataset/NIST_full/8/hsf_0_03034.png': 2,\n",
       " '/home/venkateshiyer/handwritten_dataset/NIST_full/8/hsf_0_03048.png': 9,\n",
       " '/home/venkateshiyer/handwritten_dataset/NIST_full/8/hsf_0_03075.png': 2,\n",
       " '/home/venkateshiyer/handwritten_dataset/NIST_full/8/hsf_0_03083.png': 2,\n",
       " '/home/venkateshiyer/handwritten_dataset/NIST_full/8/hsf_0_03131.png': 9,\n",
       " '/home/venkateshiyer/handwritten_dataset/NIST_full/8/hsf_0_03162.png': 2,\n",
       " '/home/venkateshiyer/handwritten_dataset/NIST_full/8/hsf_0_03171.png': 2,\n",
       " '/home/venkateshiyer/handwritten_dataset/NIST_full/8/hsf_0_03175.png': 9,\n",
       " '/home/venkateshiyer/handwritten_dataset/NIST_full/8/hsf_0_03205.png': 9,\n",
       " '/home/venkateshiyer/handwritten_dataset/NIST_full/8/hsf_0_03222.png': 9,\n",
       " '/home/venkateshiyer/handwritten_dataset/NIST_full/8/hsf_0_03240.png': 9,\n",
       " '/home/venkateshiyer/handwritten_dataset/NIST_full/8/hsf_0_03271.png': 3,\n",
       " '/home/venkateshiyer/handwritten_dataset/NIST_full/8/hsf_0_03274.png': 3,\n",
       " '/home/venkateshiyer/handwritten_dataset/NIST_full/8/hsf_0_03275.png': 3,\n",
       " '/home/venkateshiyer/handwritten_dataset/NIST_full/8/hsf_0_03276.png': 3,\n",
       " '/home/venkateshiyer/handwritten_dataset/NIST_full/8/hsf_0_03284.png': 5,\n",
       " '/home/venkateshiyer/handwritten_dataset/NIST_full/8/hsf_0_03285.png': 3,\n",
       " '/home/venkateshiyer/handwritten_dataset/NIST_full/8/hsf_0_03338.png': 9,\n",
       " '/home/venkateshiyer/handwritten_dataset/NIST_full/8/hsf_0_03348.png': 9,\n",
       " '/home/venkateshiyer/handwritten_dataset/NIST_full/8/hsf_0_03360.png': 9,\n",
       " '/home/venkateshiyer/handwritten_dataset/NIST_full/8/hsf_0_03361.png': 5,\n",
       " '/home/venkateshiyer/handwritten_dataset/NIST_full/8/hsf_0_03381.png': 2,\n",
       " '/home/venkateshiyer/handwritten_dataset/NIST_full/8/hsf_0_03384.png': 2,\n",
       " '/home/venkateshiyer/handwritten_dataset/NIST_full/8/hsf_0_03395.png': 7,\n",
       " '/home/venkateshiyer/handwritten_dataset/NIST_full/8/hsf_0_03440.png': 3,\n",
       " '/home/venkateshiyer/handwritten_dataset/NIST_full/8/hsf_0_03504.png': 3,\n",
       " '/home/venkateshiyer/handwritten_dataset/NIST_full/8/hsf_0_03508.png': 7,\n",
       " '/home/venkateshiyer/handwritten_dataset/NIST_full/8/hsf_0_03544.png': 3,\n",
       " '/home/venkateshiyer/handwritten_dataset/NIST_full/8/hsf_0_03554.png': 3,\n",
       " '/home/venkateshiyer/handwritten_dataset/NIST_full/8/hsf_0_03557.png': 3,\n",
       " '/home/venkateshiyer/handwritten_dataset/NIST_full/8/hsf_0_03595.png': 2,\n",
       " '/home/venkateshiyer/handwritten_dataset/NIST_full/8/hsf_0_03599.png': 2,\n",
       " '/home/venkateshiyer/handwritten_dataset/NIST_full/8/hsf_0_03614.png': 7,\n",
       " '/home/venkateshiyer/handwritten_dataset/NIST_full/8/hsf_0_03621.png': 7,\n",
       " '/home/venkateshiyer/handwritten_dataset/NIST_full/8/hsf_0_03633.png': 9,\n",
       " '/home/venkateshiyer/handwritten_dataset/NIST_full/8/hsf_0_03643.png': 2,\n",
       " '/home/venkateshiyer/handwritten_dataset/NIST_full/8/hsf_0_03650.png': 4,\n",
       " '/home/venkateshiyer/handwritten_dataset/NIST_full/8/hsf_0_03676.png': 3,\n",
       " '/home/venkateshiyer/handwritten_dataset/NIST_full/8/hsf_0_03737.png': 3,\n",
       " '/home/venkateshiyer/handwritten_dataset/NIST_full/8/hsf_0_03785.png': 4,\n",
       " '/home/venkateshiyer/handwritten_dataset/NIST_full/8/hsf_0_03804.png': 3,\n",
       " '/home/venkateshiyer/handwritten_dataset/NIST_full/8/hsf_0_03833.png': 4,\n",
       " '/home/venkateshiyer/handwritten_dataset/NIST_full/8/hsf_0_03854.png': 3,\n",
       " '/home/venkateshiyer/handwritten_dataset/NIST_full/8/hsf_0_03897.png': 3,\n",
       " '/home/venkateshiyer/handwritten_dataset/NIST_full/8/hsf_0_03976.png': 3,\n",
       " '/home/venkateshiyer/handwritten_dataset/NIST_full/8/hsf_0_03978.png': 3,\n",
       " '/home/venkateshiyer/handwritten_dataset/NIST_full/8/hsf_0_03982.png': 3,\n",
       " '/home/venkateshiyer/handwritten_dataset/NIST_full/8/hsf_0_03996.png': 9,\n",
       " '/home/venkateshiyer/handwritten_dataset/NIST_full/8/hsf_0_04004.png': 3,\n",
       " '/home/venkateshiyer/handwritten_dataset/NIST_full/8/hsf_0_04077.png': 7,\n",
       " '/home/venkateshiyer/handwritten_dataset/NIST_full/8/hsf_0_04085.png': 7,\n",
       " '/home/venkateshiyer/handwritten_dataset/NIST_full/8/hsf_0_04103.png': 9,\n",
       " '/home/venkateshiyer/handwritten_dataset/NIST_full/8/hsf_0_04116.png': 3,\n",
       " '/home/venkateshiyer/handwritten_dataset/NIST_full/8/hsf_0_04136.png': 7,\n",
       " '/home/venkateshiyer/handwritten_dataset/NIST_full/8/hsf_0_04138.png': 3,\n",
       " '/home/venkateshiyer/handwritten_dataset/NIST_full/8/hsf_0_04156.png': 3,\n",
       " '/home/venkateshiyer/handwritten_dataset/NIST_full/8/hsf_0_04197.png': 3,\n",
       " '/home/venkateshiyer/handwritten_dataset/NIST_full/8/hsf_0_04202.png': 4,\n",
       " '/home/venkateshiyer/handwritten_dataset/NIST_full/8/hsf_0_04248.png': 3,\n",
       " '/home/venkateshiyer/handwritten_dataset/NIST_full/8/hsf_0_04250.png': 3,\n",
       " '/home/venkateshiyer/handwritten_dataset/NIST_full/8/hsf_0_04272.png': 3,\n",
       " '/home/venkateshiyer/handwritten_dataset/NIST_full/8/hsf_0_04279.png': 3,\n",
       " '/home/venkateshiyer/handwritten_dataset/NIST_full/8/hsf_0_04293.png': 3,\n",
       " '/home/venkateshiyer/handwritten_dataset/NIST_full/8/hsf_0_04331.png': 4,\n",
       " '/home/venkateshiyer/handwritten_dataset/NIST_full/8/hsf_0_04335.png': 9,\n",
       " '/home/venkateshiyer/handwritten_dataset/NIST_full/8/hsf_0_04357.png': 3,\n",
       " '/home/venkateshiyer/handwritten_dataset/NIST_full/8/hsf_0_04365.png': 2,\n",
       " '/home/venkateshiyer/handwritten_dataset/NIST_full/8/hsf_0_04427.png': 9,\n",
       " '/home/venkateshiyer/handwritten_dataset/NIST_full/8/hsf_0_04428.png': 9,\n",
       " '/home/venkateshiyer/handwritten_dataset/NIST_full/8/hsf_0_04433.png': 3,\n",
       " '/home/venkateshiyer/handwritten_dataset/NIST_full/8/hsf_0_04434.png': 3,\n",
       " '/home/venkateshiyer/handwritten_dataset/NIST_full/8/hsf_0_04437.png': 7,\n",
       " '/home/venkateshiyer/handwritten_dataset/NIST_full/8/hsf_0_04438.png': 2,\n",
       " '/home/venkateshiyer/handwritten_dataset/NIST_full/8/hsf_0_04442.png': 3,\n",
       " '/home/venkateshiyer/handwritten_dataset/NIST_full/8/hsf_0_04446.png': 3,\n",
       " '/home/venkateshiyer/handwritten_dataset/NIST_full/8/hsf_0_04448.png': 3,\n",
       " '/home/venkateshiyer/handwritten_dataset/NIST_full/8/hsf_0_04534.png': 3,\n",
       " '/home/venkateshiyer/handwritten_dataset/NIST_full/8/hsf_0_04542.png': 9,\n",
       " '/home/venkateshiyer/handwritten_dataset/NIST_full/8/hsf_0_04603.png': 3,\n",
       " '/home/venkateshiyer/handwritten_dataset/NIST_full/8/hsf_0_04604.png': 3,\n",
       " '/home/venkateshiyer/handwritten_dataset/NIST_full/8/hsf_0_04661.png': 2,\n",
       " '/home/venkateshiyer/handwritten_dataset/NIST_full/8/hsf_0_04669.png': 7,\n",
       " '/home/venkateshiyer/handwritten_dataset/NIST_full/8/hsf_0_04672.png': 9,\n",
       " '/home/venkateshiyer/handwritten_dataset/NIST_full/8/hsf_0_04684.png': 7,\n",
       " '/home/venkateshiyer/handwritten_dataset/NIST_full/8/hsf_0_04686.png': 3,\n",
       " '/home/venkateshiyer/handwritten_dataset/NIST_full/8/hsf_0_04693.png': 9,\n",
       " '/home/venkateshiyer/handwritten_dataset/NIST_full/8/hsf_0_04698.png': 7,\n",
       " '/home/venkateshiyer/handwritten_dataset/NIST_full/8/hsf_0_04728.png': 5,\n",
       " '/home/venkateshiyer/handwritten_dataset/NIST_full/8/hsf_0_04750.png': 4,\n",
       " '/home/venkateshiyer/handwritten_dataset/NIST_full/8/hsf_0_04752.png': 9,\n",
       " '/home/venkateshiyer/handwritten_dataset/NIST_full/8/hsf_0_04757.png': 9,\n",
       " '/home/venkateshiyer/handwritten_dataset/NIST_full/8/hsf_0_04760.png': 9,\n",
       " '/home/venkateshiyer/handwritten_dataset/NIST_full/8/hsf_0_04797.png': 9,\n",
       " '/home/venkateshiyer/handwritten_dataset/NIST_full/8/hsf_0_04803.png': 9,\n",
       " '/home/venkateshiyer/handwritten_dataset/NIST_full/8/hsf_0_04867.png': 3,\n",
       " '/home/venkateshiyer/handwritten_dataset/NIST_full/8/hsf_0_04909.png': 2,\n",
       " '/home/venkateshiyer/handwritten_dataset/NIST_full/8/hsf_0_04953.png': 2,\n",
       " '/home/venkateshiyer/handwritten_dataset/NIST_full/8/hsf_0_04962.png': 2,\n",
       " '/home/venkateshiyer/handwritten_dataset/NIST_full/8/hsf_0_04981.png': 2,\n",
       " '/home/venkateshiyer/handwritten_dataset/NIST_full/8/hsf_0_05014.png': 3,\n",
       " '/home/venkateshiyer/handwritten_dataset/NIST_full/8/hsf_0_05092.png': 3,\n",
       " '/home/venkateshiyer/handwritten_dataset/NIST_full/8/hsf_0_05129.png': 2,\n",
       " '/home/venkateshiyer/handwritten_dataset/NIST_full/8/hsf_0_05161.png': 9,\n",
       " '/home/venkateshiyer/handwritten_dataset/NIST_full/8/hsf_0_05202.png': 4,\n",
       " '/home/venkateshiyer/handwritten_dataset/NIST_full/8/hsf_0_05204.png': 3,\n",
       " '/home/venkateshiyer/handwritten_dataset/NIST_full/8/hsf_0_05235.png': 4,\n",
       " '/home/venkateshiyer/handwritten_dataset/NIST_full/8/hsf_0_05236.png': 4}"
      ]
     },
     "execution_count": 39,
     "metadata": {},
     "output_type": "execute_result"
    }
   ],
   "source": [
    "wrong_results"
   ]
  },
  {
   "cell_type": "code",
   "execution_count": 40,
   "id": "3d24dfe1",
   "metadata": {},
   "outputs": [],
   "source": [
    "path = os.path.expanduser('~')+'/handwritten_dataset/NIST_full/9/*'\n",
    "result, accuracy, gt, prediction, wrong_results = pred_using_h5_digit(model,path)"
   ]
  },
  {
   "cell_type": "code",
   "execution_count": 41,
   "id": "68ec18a8",
   "metadata": {},
   "outputs": [
    {
     "name": "stdout",
     "output_type": "stream",
     "text": [
      "0.9865125240847784\n",
      "              precision    recall  f1-score   support\n",
      "\n",
      "           0       0.00      0.00      0.00         0\n",
      "           2       0.00      0.00      0.00         0\n",
      "           3       0.00      0.00      0.00         0\n",
      "           4       0.00      0.00      0.00         0\n",
      "           5       0.00      0.00      0.00         0\n",
      "           7       0.00      0.00      0.00         0\n",
      "           8       0.00      0.00      0.00         0\n",
      "           9       1.00      0.99      0.99      5190\n",
      "\n",
      "    accuracy                           0.99      5190\n",
      "   macro avg       0.12      0.12      0.12      5190\n",
      "weighted avg       1.00      0.99      0.99      5190\n",
      "\n"
     ]
    },
    {
     "name": "stderr",
     "output_type": "stream",
     "text": [
      "/home/venkateshiyer/ocrtool/lib/python3.8/site-packages/sklearn/metrics/_classification.py:1334: UndefinedMetricWarning: Recall and F-score are ill-defined and being set to 0.0 in labels with no true samples. Use `zero_division` parameter to control this behavior.\n",
      "  _warn_prf(average, modifier, msg_start, len(result))\n",
      "/home/venkateshiyer/ocrtool/lib/python3.8/site-packages/sklearn/metrics/_classification.py:1334: UndefinedMetricWarning: Recall and F-score are ill-defined and being set to 0.0 in labels with no true samples. Use `zero_division` parameter to control this behavior.\n",
      "  _warn_prf(average, modifier, msg_start, len(result))\n",
      "/home/venkateshiyer/ocrtool/lib/python3.8/site-packages/sklearn/metrics/_classification.py:1334: UndefinedMetricWarning: Recall and F-score are ill-defined and being set to 0.0 in labels with no true samples. Use `zero_division` parameter to control this behavior.\n",
      "  _warn_prf(average, modifier, msg_start, len(result))\n"
     ]
    }
   ],
   "source": [
    "print(accuracy)\n",
    "from sklearn import metrics\n",
    "print(metrics.classification_report(gt, prediction))"
   ]
  },
  {
   "cell_type": "code",
   "execution_count": 42,
   "id": "72a3d787",
   "metadata": {},
   "outputs": [
    {
     "data": {
      "text/plain": [
       "70"
      ]
     },
     "execution_count": 42,
     "metadata": {},
     "output_type": "execute_result"
    }
   ],
   "source": [
    "len(wrong_results)"
   ]
  },
  {
   "cell_type": "code",
   "execution_count": 43,
   "id": "da3a9971",
   "metadata": {},
   "outputs": [
    {
     "data": {
      "text/plain": [
       "{'/home/venkateshiyer/handwritten_dataset/NIST_full/9/hsf_0_00469.png': 7,\n",
       " '/home/venkateshiyer/handwritten_dataset/NIST_full/9/hsf_0_00544.png': 4,\n",
       " '/home/venkateshiyer/handwritten_dataset/NIST_full/9/hsf_0_00568.png': 4,\n",
       " '/home/venkateshiyer/handwritten_dataset/NIST_full/9/hsf_0_00582.png': 7,\n",
       " '/home/venkateshiyer/handwritten_dataset/NIST_full/9/hsf_0_00637.png': 7,\n",
       " '/home/venkateshiyer/handwritten_dataset/NIST_full/9/hsf_0_00639.png': 7,\n",
       " '/home/venkateshiyer/handwritten_dataset/NIST_full/9/hsf_0_00667.png': 7,\n",
       " '/home/venkateshiyer/handwritten_dataset/NIST_full/9/hsf_0_00819.png': 7,\n",
       " '/home/venkateshiyer/handwritten_dataset/NIST_full/9/hsf_0_00875.png': 7,\n",
       " '/home/venkateshiyer/handwritten_dataset/NIST_full/9/hsf_0_00981.png': 7,\n",
       " '/home/venkateshiyer/handwritten_dataset/NIST_full/9/hsf_0_01032.png': 7,\n",
       " '/home/venkateshiyer/handwritten_dataset/NIST_full/9/hsf_0_01203.png': 4,\n",
       " '/home/venkateshiyer/handwritten_dataset/NIST_full/9/hsf_0_01241.png': 7,\n",
       " '/home/venkateshiyer/handwritten_dataset/NIST_full/9/hsf_0_01281.png': 4,\n",
       " '/home/venkateshiyer/handwritten_dataset/NIST_full/9/hsf_0_01337.png': 3,\n",
       " '/home/venkateshiyer/handwritten_dataset/NIST_full/9/hsf_0_01338.png': 3,\n",
       " '/home/venkateshiyer/handwritten_dataset/NIST_full/9/hsf_0_01344.png': 7,\n",
       " '/home/venkateshiyer/handwritten_dataset/NIST_full/9/hsf_0_01345.png': 3,\n",
       " '/home/venkateshiyer/handwritten_dataset/NIST_full/9/hsf_0_01621.png': 7,\n",
       " '/home/venkateshiyer/handwritten_dataset/NIST_full/9/hsf_0_01719.png': 7,\n",
       " '/home/venkateshiyer/handwritten_dataset/NIST_full/9/hsf_0_01720.png': 7,\n",
       " '/home/venkateshiyer/handwritten_dataset/NIST_full/9/hsf_0_01721.png': 7,\n",
       " '/home/venkateshiyer/handwritten_dataset/NIST_full/9/hsf_0_01725.png': 7,\n",
       " '/home/venkateshiyer/handwritten_dataset/NIST_full/9/hsf_0_01927.png': 4,\n",
       " '/home/venkateshiyer/handwritten_dataset/NIST_full/9/hsf_0_01954.png': 7,\n",
       " '/home/venkateshiyer/handwritten_dataset/NIST_full/9/hsf_0_02022.png': 7,\n",
       " '/home/venkateshiyer/handwritten_dataset/NIST_full/9/hsf_0_02029.png': 7,\n",
       " '/home/venkateshiyer/handwritten_dataset/NIST_full/9/hsf_0_02079.png': 7,\n",
       " '/home/venkateshiyer/handwritten_dataset/NIST_full/9/hsf_0_02199.png': 4,\n",
       " '/home/venkateshiyer/handwritten_dataset/NIST_full/9/hsf_0_02286.png': 7,\n",
       " '/home/venkateshiyer/handwritten_dataset/NIST_full/9/hsf_0_02347.png': 7,\n",
       " '/home/venkateshiyer/handwritten_dataset/NIST_full/9/hsf_0_02369.png': 4,\n",
       " '/home/venkateshiyer/handwritten_dataset/NIST_full/9/hsf_0_02398.png': 7,\n",
       " '/home/venkateshiyer/handwritten_dataset/NIST_full/9/hsf_0_02427.png': 7,\n",
       " '/home/venkateshiyer/handwritten_dataset/NIST_full/9/hsf_0_02554.png': 4,\n",
       " '/home/venkateshiyer/handwritten_dataset/NIST_full/9/hsf_0_02604.png': 4,\n",
       " '/home/venkateshiyer/handwritten_dataset/NIST_full/9/hsf_0_02900.png': 7,\n",
       " '/home/venkateshiyer/handwritten_dataset/NIST_full/9/hsf_0_02941.png': 7,\n",
       " '/home/venkateshiyer/handwritten_dataset/NIST_full/9/hsf_0_02979.png': 3,\n",
       " '/home/venkateshiyer/handwritten_dataset/NIST_full/9/hsf_0_02980.png': 7,\n",
       " '/home/venkateshiyer/handwritten_dataset/NIST_full/9/hsf_0_02987.png': 4,\n",
       " '/home/venkateshiyer/handwritten_dataset/NIST_full/9/hsf_0_03039.png': 7,\n",
       " '/home/venkateshiyer/handwritten_dataset/NIST_full/9/hsf_0_03250.png': 7,\n",
       " '/home/venkateshiyer/handwritten_dataset/NIST_full/9/hsf_0_03259.png': 7,\n",
       " '/home/venkateshiyer/handwritten_dataset/NIST_full/9/hsf_0_03317.png': 7,\n",
       " '/home/venkateshiyer/handwritten_dataset/NIST_full/9/hsf_0_03394.png': 7,\n",
       " '/home/venkateshiyer/handwritten_dataset/NIST_full/9/hsf_0_03565.png': 7,\n",
       " '/home/venkateshiyer/handwritten_dataset/NIST_full/9/hsf_0_03875.png': 7,\n",
       " '/home/venkateshiyer/handwritten_dataset/NIST_full/9/hsf_0_03951.png': 7,\n",
       " '/home/venkateshiyer/handwritten_dataset/NIST_full/9/hsf_0_03953.png': 4,\n",
       " '/home/venkateshiyer/handwritten_dataset/NIST_full/9/hsf_0_03954.png': 4,\n",
       " '/home/venkateshiyer/handwritten_dataset/NIST_full/9/hsf_0_03999.png': 4,\n",
       " '/home/venkateshiyer/handwritten_dataset/NIST_full/9/hsf_0_04035.png': 2,\n",
       " '/home/venkateshiyer/handwritten_dataset/NIST_full/9/hsf_0_04039.png': 3,\n",
       " '/home/venkateshiyer/handwritten_dataset/NIST_full/9/hsf_0_04045.png': 7,\n",
       " '/home/venkateshiyer/handwritten_dataset/NIST_full/9/hsf_0_04172.png': 7,\n",
       " '/home/venkateshiyer/handwritten_dataset/NIST_full/9/hsf_0_04220.png': 5,\n",
       " '/home/venkateshiyer/handwritten_dataset/NIST_full/9/hsf_0_04222.png': 8,\n",
       " '/home/venkateshiyer/handwritten_dataset/NIST_full/9/hsf_0_04240.png': 3,\n",
       " '/home/venkateshiyer/handwritten_dataset/NIST_full/9/hsf_0_04243.png': 2,\n",
       " '/home/venkateshiyer/handwritten_dataset/NIST_full/9/hsf_0_04273.png': 7,\n",
       " '/home/venkateshiyer/handwritten_dataset/NIST_full/9/hsf_0_04411.png': 7,\n",
       " '/home/venkateshiyer/handwritten_dataset/NIST_full/9/hsf_0_04413.png': 7,\n",
       " '/home/venkateshiyer/handwritten_dataset/NIST_full/9/hsf_0_04454.png': 4,\n",
       " '/home/venkateshiyer/handwritten_dataset/NIST_full/9/hsf_0_04689.png': 4,\n",
       " '/home/venkateshiyer/handwritten_dataset/NIST_full/9/hsf_0_04697.png': 7,\n",
       " '/home/venkateshiyer/handwritten_dataset/NIST_full/9/hsf_0_04909.png': 7,\n",
       " '/home/venkateshiyer/handwritten_dataset/NIST_full/9/hsf_0_04936.png': 4,\n",
       " '/home/venkateshiyer/handwritten_dataset/NIST_full/9/hsf_0_04975.png': 4,\n",
       " '/home/venkateshiyer/handwritten_dataset/NIST_full/9/hsf_0_05171.png': 0}"
      ]
     },
     "execution_count": 43,
     "metadata": {},
     "output_type": "execute_result"
    }
   ],
   "source": [
    "wrong_results"
   ]
  },
  {
   "cell_type": "code",
   "execution_count": 1,
   "id": "c7aa3c33",
   "metadata": {},
   "outputs": [
    {
     "name": "stderr",
     "output_type": "stream",
     "text": [
      "2023-01-05 08:47:20.013064: W tensorflow/stream_executor/platform/default/dso_loader.cc:64] Could not load dynamic library 'libcudart.so.11.0'; dlerror: libcudart.so.11.0: cannot open shared object file: No such file or directory\n",
      "2023-01-05 08:47:20.013090: I tensorflow/stream_executor/cuda/cudart_stub.cc:29] Ignore above cudart dlerror if you do not have a GPU set up on your machine.\n"
     ]
    }
   ],
   "source": [
    "import tensorflow as tf\n",
    "import sys  \n",
    "import os\n",
    "sys.path.append(os.path.realpath('../../src'))\n",
    "from predict import pred_using_tflite_model\n",
    "import cv2\n",
    "import os\n",
    "import glob\n",
    "import numpy as np\n",
    "import matplotlib.pyplot as plt"
   ]
  },
  {
   "cell_type": "code",
   "execution_count": 2,
   "id": "fc7d5231",
   "metadata": {},
   "outputs": [],
   "source": [
    "model = '../../models/tflite_model/model_030123.tflite'"
   ]
  },
  {
   "cell_type": "code",
   "execution_count": 3,
   "id": "813aed41",
   "metadata": {},
   "outputs": [],
   "source": [
    "path = os.path.expanduser('~')+'/handwritten_dataset/NIST_full/0/*'\n",
    "result, accuracy = pred_using_tflite_model(model, path)"
   ]
  },
  {
   "cell_type": "code",
   "execution_count": 4,
   "id": "461229a7",
   "metadata": {},
   "outputs": [
    {
     "data": {
      "text/plain": [
       "0.9877123238164076"
      ]
     },
     "execution_count": 4,
     "metadata": {},
     "output_type": "execute_result"
    }
   ],
   "source": [
    "accuracy"
   ]
  },
  {
   "cell_type": "code",
   "execution_count": 5,
   "id": "165fabe4",
   "metadata": {},
   "outputs": [],
   "source": [
    "path = os.path.expanduser('~')+'/handwritten_dataset/NIST_full/1/*'\n",
    "result, accuracy = pred_using_tflite_model(model, path)"
   ]
  },
  {
   "cell_type": "code",
   "execution_count": 6,
   "id": "bf3c2f07",
   "metadata": {},
   "outputs": [
    {
     "data": {
      "text/plain": [
       "0.9748668442077231"
      ]
     },
     "execution_count": 6,
     "metadata": {},
     "output_type": "execute_result"
    }
   ],
   "source": [
    "accuracy"
   ]
  },
  {
   "cell_type": "code",
   "execution_count": 7,
   "id": "88239013",
   "metadata": {},
   "outputs": [],
   "source": [
    "path = os.path.expanduser('~')+'/handwritten_dataset/NIST_full/2/*'\n",
    "result, accuracy = pred_using_tflite_model(model, path)"
   ]
  },
  {
   "cell_type": "code",
   "execution_count": 8,
   "id": "2555aa42",
   "metadata": {},
   "outputs": [
    {
     "data": {
      "text/plain": [
       "0.9969930464198459"
      ]
     },
     "execution_count": 8,
     "metadata": {},
     "output_type": "execute_result"
    }
   ],
   "source": [
    "accuracy"
   ]
  },
  {
   "cell_type": "code",
   "execution_count": 9,
   "id": "14a6c9d7",
   "metadata": {},
   "outputs": [],
   "source": [
    "path = os.path.expanduser('~')+'/handwritten_dataset/NIST_full/3/*'\n",
    "result, accuracy = pred_using_tflite_model(model, path)"
   ]
  },
  {
   "cell_type": "code",
   "execution_count": 10,
   "id": "0af470f5",
   "metadata": {},
   "outputs": [
    {
     "data": {
      "text/plain": [
       "0.9824749642346209"
      ]
     },
     "execution_count": 10,
     "metadata": {},
     "output_type": "execute_result"
    }
   ],
   "source": [
    "accuracy"
   ]
  },
  {
   "cell_type": "code",
   "execution_count": 11,
   "id": "ae9a2195",
   "metadata": {},
   "outputs": [],
   "source": [
    "path = os.path.expanduser('~')+'/handwritten_dataset/NIST_full/4/*'\n",
    "result, accuracy = pred_using_tflite_model(model, path)"
   ]
  },
  {
   "cell_type": "code",
   "execution_count": 12,
   "id": "394cf9cf",
   "metadata": {},
   "outputs": [
    {
     "data": {
      "text/plain": [
       "0.9912006257332812"
      ]
     },
     "execution_count": 12,
     "metadata": {},
     "output_type": "execute_result"
    }
   ],
   "source": [
    "accuracy"
   ]
  },
  {
   "cell_type": "code",
   "execution_count": 13,
   "id": "4058885c",
   "metadata": {},
   "outputs": [],
   "source": [
    "path = os.path.expanduser('~')+'/handwritten_dataset/NIST_full/5/*'\n",
    "result, accuracy = pred_using_tflite_model(model, path)"
   ]
  },
  {
   "cell_type": "code",
   "execution_count": 14,
   "id": "70e49ae9",
   "metadata": {},
   "outputs": [
    {
     "data": {
      "text/plain": [
       "0.9858787747121442"
      ]
     },
     "execution_count": 14,
     "metadata": {},
     "output_type": "execute_result"
    }
   ],
   "source": [
    "accuracy"
   ]
  },
  {
   "cell_type": "code",
   "execution_count": 15,
   "id": "6c50442b",
   "metadata": {},
   "outputs": [],
   "source": [
    "path = os.path.expanduser('~')+'/handwritten_dataset/NIST_full/6/*'\n",
    "result, accuracy = pred_using_tflite_model(model, path)"
   ]
  },
  {
   "cell_type": "code",
   "execution_count": 16,
   "id": "cd1c698e",
   "metadata": {},
   "outputs": [
    {
     "data": {
      "text/plain": [
       "0.9915966386554622"
      ]
     },
     "execution_count": 16,
     "metadata": {},
     "output_type": "execute_result"
    }
   ],
   "source": [
    "accuracy"
   ]
  },
  {
   "cell_type": "code",
   "execution_count": 17,
   "id": "8bd61be5",
   "metadata": {},
   "outputs": [],
   "source": [
    "path = os.path.expanduser('~')+'/handwritten_dataset/NIST_full/7/*'\n",
    "result, accuracy = pred_using_tflite_model(model, path)"
   ]
  },
  {
   "cell_type": "code",
   "execution_count": 18,
   "id": "2865485a",
   "metadata": {},
   "outputs": [
    {
     "data": {
      "text/plain": [
       "0.9957058507783145"
      ]
     },
     "execution_count": 18,
     "metadata": {},
     "output_type": "execute_result"
    }
   ],
   "source": [
    "accuracy"
   ]
  },
  {
   "cell_type": "code",
   "execution_count": 19,
   "id": "bf0210b2",
   "metadata": {},
   "outputs": [],
   "source": [
    "path = os.path.expanduser('~')+'/handwritten_dataset/NIST_full/8/*'\n",
    "result, accuracy = pred_using_tflite_model(model, path)"
   ]
  },
  {
   "cell_type": "code",
   "execution_count": 20,
   "id": "361a1927",
   "metadata": {},
   "outputs": [
    {
     "data": {
      "text/plain": [
       "0.943177499049791"
      ]
     },
     "execution_count": 20,
     "metadata": {},
     "output_type": "execute_result"
    }
   ],
   "source": [
    "accuracy"
   ]
  },
  {
   "cell_type": "code",
   "execution_count": 21,
   "id": "20c011f5",
   "metadata": {},
   "outputs": [],
   "source": [
    "path = os.path.expanduser('~')+'/handwritten_dataset/NIST_full/9/*'\n",
    "result, accuracy = pred_using_tflite_model(model, path)"
   ]
  },
  {
   "cell_type": "code",
   "execution_count": 22,
   "id": "72abdb78",
   "metadata": {},
   "outputs": [
    {
     "data": {
      "text/plain": [
       "0.9865125240847784"
      ]
     },
     "execution_count": 22,
     "metadata": {},
     "output_type": "execute_result"
    }
   ],
   "source": [
    "accuracy"
   ]
  },
  {
   "cell_type": "code",
   "execution_count": null,
   "id": "1ec643c4",
   "metadata": {},
   "outputs": [],
   "source": []
  }
 ],
 "metadata": {
  "kernelspec": {
   "display_name": "Python 3 (ipykernel)",
   "language": "python",
   "name": "python3"
  },
  "language_info": {
   "codemirror_mode": {
    "name": "ipython",
    "version": 3
   },
   "file_extension": ".py",
   "mimetype": "text/x-python",
   "name": "python",
   "nbconvert_exporter": "python",
   "pygments_lexer": "ipython3",
   "version": "3.8.10"
  }
 },
 "nbformat": 4,
 "nbformat_minor": 5
}

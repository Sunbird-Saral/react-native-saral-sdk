{
 "cells": [
  {
   "cell_type": "markdown",
   "id": "9184f30b",
   "metadata": {},
   "source": [
    "# Experiment records\n",
    "- Dataset used: Entire existing dataset \n",
    "- Accuracy: 99.8%\n",
    "- Description of experiment: To check the performance and analyse the misclassifications of new model (Jan 03- checkpoint_15_0.03.h5)"
   ]
  },
  {
   "cell_type": "code",
   "execution_count": 1,
   "id": "e8f3b2ae",
   "metadata": {},
   "outputs": [
    {
     "name": "stderr",
     "output_type": "stream",
     "text": [
      "2023-01-04 19:00:22.118207: W tensorflow/stream_executor/platform/default/dso_loader.cc:64] Could not load dynamic library 'libcudart.so.11.0'; dlerror: libcudart.so.11.0: cannot open shared object file: No such file or directory\n",
      "2023-01-04 19:00:22.118233: I tensorflow/stream_executor/cuda/cudart_stub.cc:29] Ignore above cudart dlerror if you do not have a GPU set up on your machine.\n"
     ]
    }
   ],
   "source": [
    "import tensorflow as tf\n",
    "import sys  \n",
    "import os\n",
    "sys.path.append(os.path.realpath('../../src'))\n",
    "# from predict import pred_using_h5_digit, pred_using_tflite_model\n",
    "import cv2\n",
    "import os\n",
    "import glob\n",
    "import numpy as np\n",
    "import matplotlib.pyplot as plt"
   ]
  },
  {
   "cell_type": "code",
   "execution_count": 2,
   "id": "6318a0de",
   "metadata": {},
   "outputs": [
    {
     "name": "stderr",
     "output_type": "stream",
     "text": [
      "2023-01-04 19:00:25.848158: E tensorflow/stream_executor/cuda/cuda_driver.cc:271] failed call to cuInit: CUDA_ERROR_NO_DEVICE: no CUDA-capable device is detected\n",
      "2023-01-04 19:00:25.848186: I tensorflow/stream_executor/cuda/cuda_diagnostics.cc:156] kernel driver does not appear to be running on this host (ti-lap-492): /proc/driver/nvidia/version does not exist\n",
      "2023-01-04 19:00:25.848508: I tensorflow/core/platform/cpu_feature_guard.cc:142] This TensorFlow binary is optimized with oneAPI Deep Neural Network Library (oneDNN) to use the following CPU instructions in performance-critical operations:  AVX2 FMA\n",
      "To enable them in other operations, rebuild TensorFlow with the appropriate compiler flags.\n"
     ]
    }
   ],
   "source": [
    "model = tf.keras.models.load_model('../../models/saved_model/checkpoint_15_0.03.h5')"
   ]
  },
  {
   "cell_type": "code",
   "execution_count": 3,
   "id": "9835db6f",
   "metadata": {},
   "outputs": [],
   "source": [
    "def pred_using_h5_digit(model, path, gt = None, prediction= None, wrong_results = None):\n",
    "    result = {}\n",
    "    wrong_results = {}\n",
    "    gt=[]\n",
    "    prediction = []\n",
    "    wrong_count=0\n",
    "    for img1 in sorted(glob.iglob(path)):\n",
    "        img=cv2.imread(img1)\n",
    "        img=cv2.resize(img,(28,28))\n",
    "        img= cv2.cvtColor(img, cv2.COLOR_BGR2GRAY)\n",
    "        img = img.astype('float32') / 255.\n",
    "        img= np.reshape(img,(1,28,28,1))\n",
    "        res=model.predict(img)\n",
    "        pred=res[0].argmax(axis=0)\n",
    "        ground_truth = int(img1.split('/')[-2])\n",
    "        gt.append(int(ground_truth))\n",
    "        prediction.append(pred)\n",
    "        result[img1] = pred\n",
    "        if pred!= int(ground_truth):\n",
    "            wrong_count+=1\n",
    "            wrong_results[img1] = pred\n",
    "    accuracy = (len(glob.glob(path))-wrong_count)/len(glob.glob(path))\n",
    "    return result, accuracy, gt, prediction, wrong_results"
   ]
  },
  {
   "cell_type": "code",
   "execution_count": 4,
   "id": "456e1dc9",
   "metadata": {},
   "outputs": [
    {
     "name": "stdout",
     "output_type": "stream",
     "text": [
      "4072\n"
     ]
    },
    {
     "name": "stderr",
     "output_type": "stream",
     "text": [
      "2023-01-04 19:00:37.907296: I tensorflow/compiler/mlir/mlir_graph_optimization_pass.cc:185] None of the MLIR Optimization Passes are enabled (registered 2)\n"
     ]
    }
   ],
   "source": [
    "path = os.path.expanduser('~')+'/Downloads/printed_digits_v1/0/*'\n",
    "print(len(glob.glob(path)))\n",
    "result, accuracy, gt, prediction, wrong_results = pred_using_h5_digit(model,path)"
   ]
  },
  {
   "cell_type": "code",
   "execution_count": 5,
   "id": "aa6df961",
   "metadata": {},
   "outputs": [
    {
     "name": "stdout",
     "output_type": "stream",
     "text": [
      "0.99950884086444\n",
      "              precision    recall  f1-score   support\n",
      "\n",
      "           0       1.00      1.00      1.00      4072\n",
      "           8       0.00      0.00      0.00         0\n",
      "           9       0.00      0.00      0.00         0\n",
      "\n",
      "    accuracy                           1.00      4072\n",
      "   macro avg       0.33      0.33      0.33      4072\n",
      "weighted avg       1.00      1.00      1.00      4072\n",
      "\n"
     ]
    },
    {
     "name": "stderr",
     "output_type": "stream",
     "text": [
      "/home/venkateshiyer/ocrtool/lib/python3.8/site-packages/sklearn/metrics/_classification.py:1334: UndefinedMetricWarning: Recall and F-score are ill-defined and being set to 0.0 in labels with no true samples. Use `zero_division` parameter to control this behavior.\n",
      "  _warn_prf(average, modifier, msg_start, len(result))\n",
      "/home/venkateshiyer/ocrtool/lib/python3.8/site-packages/sklearn/metrics/_classification.py:1334: UndefinedMetricWarning: Recall and F-score are ill-defined and being set to 0.0 in labels with no true samples. Use `zero_division` parameter to control this behavior.\n",
      "  _warn_prf(average, modifier, msg_start, len(result))\n",
      "/home/venkateshiyer/ocrtool/lib/python3.8/site-packages/sklearn/metrics/_classification.py:1334: UndefinedMetricWarning: Recall and F-score are ill-defined and being set to 0.0 in labels with no true samples. Use `zero_division` parameter to control this behavior.\n",
      "  _warn_prf(average, modifier, msg_start, len(result))\n"
     ]
    }
   ],
   "source": [
    "print(accuracy)\n",
    "from sklearn import metrics\n",
    "print(metrics.classification_report(gt, prediction))"
   ]
  },
  {
   "cell_type": "code",
   "execution_count": 6,
   "id": "56f5ac9d",
   "metadata": {},
   "outputs": [],
   "source": [
    "path = os.path.expanduser('~')+'/Downloads/printed_digits_v1/1/*'\n",
    "result, accuracy, gt, prediction, wrong_results = pred_using_h5_digit(model,path)"
   ]
  },
  {
   "cell_type": "code",
   "execution_count": 7,
   "id": "f82ecfcc",
   "metadata": {},
   "outputs": [
    {
     "name": "stdout",
     "output_type": "stream",
     "text": [
      "0.998282278843401\n",
      "              precision    recall  f1-score   support\n",
      "\n",
      "           1       1.00      1.00      1.00      3493\n",
      "           2       0.00      0.00      0.00         0\n",
      "           7       0.00      0.00      0.00         0\n",
      "\n",
      "    accuracy                           1.00      3493\n",
      "   macro avg       0.33      0.33      0.33      3493\n",
      "weighted avg       1.00      1.00      1.00      3493\n",
      "\n"
     ]
    },
    {
     "name": "stderr",
     "output_type": "stream",
     "text": [
      "/home/venkateshiyer/ocrtool/lib/python3.8/site-packages/sklearn/metrics/_classification.py:1334: UndefinedMetricWarning: Recall and F-score are ill-defined and being set to 0.0 in labels with no true samples. Use `zero_division` parameter to control this behavior.\n",
      "  _warn_prf(average, modifier, msg_start, len(result))\n",
      "/home/venkateshiyer/ocrtool/lib/python3.8/site-packages/sklearn/metrics/_classification.py:1334: UndefinedMetricWarning: Recall and F-score are ill-defined and being set to 0.0 in labels with no true samples. Use `zero_division` parameter to control this behavior.\n",
      "  _warn_prf(average, modifier, msg_start, len(result))\n",
      "/home/venkateshiyer/ocrtool/lib/python3.8/site-packages/sklearn/metrics/_classification.py:1334: UndefinedMetricWarning: Recall and F-score are ill-defined and being set to 0.0 in labels with no true samples. Use `zero_division` parameter to control this behavior.\n",
      "  _warn_prf(average, modifier, msg_start, len(result))\n"
     ]
    }
   ],
   "source": [
    "print(accuracy)\n",
    "from sklearn import metrics\n",
    "print(metrics.classification_report(gt, prediction))"
   ]
  },
  {
   "cell_type": "code",
   "execution_count": 8,
   "id": "d5a19e94",
   "metadata": {},
   "outputs": [
    {
     "data": {
      "text/plain": [
       "6"
      ]
     },
     "execution_count": 8,
     "metadata": {},
     "output_type": "execute_result"
    }
   ],
   "source": [
    "len(wrong_results)"
   ]
  },
  {
   "cell_type": "code",
   "execution_count": 10,
   "id": "25a0fb07",
   "metadata": {},
   "outputs": [
    {
     "data": {
      "text/plain": [
       "Text(0.5, 0.98, 'Misclassifications')"
      ]
     },
     "execution_count": 10,
     "metadata": {},
     "output_type": "execute_result"
    },
    {
     "data": {
      "image/png": "[encoded data removed]",
      "text/plain": [
       "<Figure size 1000x1000 with 6 Axes>"
      ]
     },
     "metadata": {},
     "output_type": "display_data"
    }
   ],
   "source": [
    "import operator\n",
    "fig, axis = plt.subplots(nrows= 1, ncols=6, figsize=(10,10))\n",
    "if type(axis)!=np.ndarray:\n",
    "    axis = np.array([[axis]])\n",
    "axis = axis.flatten()\n",
    "count=0\n",
    "for img_name, prediction in sorted(wrong_results.items()):\n",
    "    pic =plt.imread(img_name)\n",
    "    axis[count].imshow(pic)\n",
    "    axis[count].set(title=prediction)\n",
    "    count+=1\n",
    "fig.suptitle('Misclassifications', fontsize=2)"
   ]
  },
  {
   "cell_type": "code",
   "execution_count": 11,
   "id": "c3c0f4a8",
   "metadata": {},
   "outputs": [],
   "source": [
    "path = os.path.expanduser('~')+'/Downloads/printed_digits_v1/2/*'\n",
    "result, accuracy, gt, prediction, wrong_results = pred_using_h5_digit(model,path)"
   ]
  },
  {
   "cell_type": "code",
   "execution_count": 12,
   "id": "edf850b2",
   "metadata": {},
   "outputs": [
    {
     "name": "stdout",
     "output_type": "stream",
     "text": [
      "0.9994199535962877\n",
      "              precision    recall  f1-score   support\n",
      "\n",
      "           2       1.00      1.00      1.00      3448\n",
      "          10       0.00      0.00      0.00         0\n",
      "\n",
      "    accuracy                           1.00      3448\n",
      "   macro avg       0.50      0.50      0.50      3448\n",
      "weighted avg       1.00      1.00      1.00      3448\n",
      "\n"
     ]
    },
    {
     "name": "stderr",
     "output_type": "stream",
     "text": [
      "/home/venkateshiyer/ocrtool/lib/python3.8/site-packages/sklearn/metrics/_classification.py:1334: UndefinedMetricWarning: Recall and F-score are ill-defined and being set to 0.0 in labels with no true samples. Use `zero_division` parameter to control this behavior.\n",
      "  _warn_prf(average, modifier, msg_start, len(result))\n",
      "/home/venkateshiyer/ocrtool/lib/python3.8/site-packages/sklearn/metrics/_classification.py:1334: UndefinedMetricWarning: Recall and F-score are ill-defined and being set to 0.0 in labels with no true samples. Use `zero_division` parameter to control this behavior.\n",
      "  _warn_prf(average, modifier, msg_start, len(result))\n",
      "/home/venkateshiyer/ocrtool/lib/python3.8/site-packages/sklearn/metrics/_classification.py:1334: UndefinedMetricWarning: Recall and F-score are ill-defined and being set to 0.0 in labels with no true samples. Use `zero_division` parameter to control this behavior.\n",
      "  _warn_prf(average, modifier, msg_start, len(result))\n"
     ]
    }
   ],
   "source": [
    "print(accuracy)\n",
    "from sklearn import metrics\n",
    "print(metrics.classification_report(gt, prediction))"
   ]
  },
  {
   "cell_type": "code",
   "execution_count": 13,
   "id": "f95475e6",
   "metadata": {},
   "outputs": [],
   "source": [
    "path = os.path.expanduser('~')+'/Downloads/printed_digits_v1/3/*'\n",
    "result, accuracy, gt, prediction, wrong_results = pred_using_h5_digit(model,path)"
   ]
  },
  {
   "cell_type": "code",
   "execution_count": 14,
   "id": "1ca657b1",
   "metadata": {},
   "outputs": [
    {
     "name": "stdout",
     "output_type": "stream",
     "text": [
      "0.9976377952755906\n",
      "              precision    recall  f1-score   support\n",
      "\n",
      "           0       0.00      0.00      0.00         0\n",
      "           2       0.00      0.00      0.00         0\n",
      "           3       1.00      1.00      1.00      5080\n",
      "           5       0.00      0.00      0.00         0\n",
      "           6       0.00      0.00      0.00         0\n",
      "           7       0.00      0.00      0.00         0\n",
      "           8       0.00      0.00      0.00         0\n",
      "\n",
      "    accuracy                           1.00      5080\n",
      "   macro avg       0.14      0.14      0.14      5080\n",
      "weighted avg       1.00      1.00      1.00      5080\n",
      "\n"
     ]
    },
    {
     "name": "stderr",
     "output_type": "stream",
     "text": [
      "/home/venkateshiyer/ocrtool/lib/python3.8/site-packages/sklearn/metrics/_classification.py:1334: UndefinedMetricWarning: Recall and F-score are ill-defined and being set to 0.0 in labels with no true samples. Use `zero_division` parameter to control this behavior.\n",
      "  _warn_prf(average, modifier, msg_start, len(result))\n",
      "/home/venkateshiyer/ocrtool/lib/python3.8/site-packages/sklearn/metrics/_classification.py:1334: UndefinedMetricWarning: Recall and F-score are ill-defined and being set to 0.0 in labels with no true samples. Use `zero_division` parameter to control this behavior.\n",
      "  _warn_prf(average, modifier, msg_start, len(result))\n",
      "/home/venkateshiyer/ocrtool/lib/python3.8/site-packages/sklearn/metrics/_classification.py:1334: UndefinedMetricWarning: Recall and F-score are ill-defined and being set to 0.0 in labels with no true samples. Use `zero_division` parameter to control this behavior.\n",
      "  _warn_prf(average, modifier, msg_start, len(result))\n"
     ]
    }
   ],
   "source": [
    "print(accuracy)\n",
    "from sklearn import metrics\n",
    "print(metrics.classification_report(gt, prediction))"
   ]
  },
  {
   "cell_type": "code",
   "execution_count": 15,
   "id": "11d328a1",
   "metadata": {},
   "outputs": [],
   "source": [
    "path = os.path.expanduser('~')+'/Downloads/printed_digits_v1/4/*'\n",
    "result, accuracy, gt, prediction, wrong_results = pred_using_h5_digit(model,path)"
   ]
  },
  {
   "cell_type": "code",
   "execution_count": 16,
   "id": "3a75ced9",
   "metadata": {},
   "outputs": [
    {
     "name": "stdout",
     "output_type": "stream",
     "text": [
      "0.9988465974625144\n",
      "              precision    recall  f1-score   support\n",
      "\n",
      "           1       0.00      0.00      0.00         0\n",
      "           2       0.00      0.00      0.00         0\n",
      "           4       1.00      1.00      1.00      3468\n",
      "           9       0.00      0.00      0.00         0\n",
      "\n",
      "    accuracy                           1.00      3468\n",
      "   macro avg       0.25      0.25      0.25      3468\n",
      "weighted avg       1.00      1.00      1.00      3468\n",
      "\n"
     ]
    },
    {
     "name": "stderr",
     "output_type": "stream",
     "text": [
      "/home/venkateshiyer/ocrtool/lib/python3.8/site-packages/sklearn/metrics/_classification.py:1334: UndefinedMetricWarning: Recall and F-score are ill-defined and being set to 0.0 in labels with no true samples. Use `zero_division` parameter to control this behavior.\n",
      "  _warn_prf(average, modifier, msg_start, len(result))\n",
      "/home/venkateshiyer/ocrtool/lib/python3.8/site-packages/sklearn/metrics/_classification.py:1334: UndefinedMetricWarning: Recall and F-score are ill-defined and being set to 0.0 in labels with no true samples. Use `zero_division` parameter to control this behavior.\n",
      "  _warn_prf(average, modifier, msg_start, len(result))\n",
      "/home/venkateshiyer/ocrtool/lib/python3.8/site-packages/sklearn/metrics/_classification.py:1334: UndefinedMetricWarning: Recall and F-score are ill-defined and being set to 0.0 in labels with no true samples. Use `zero_division` parameter to control this behavior.\n",
      "  _warn_prf(average, modifier, msg_start, len(result))\n"
     ]
    }
   ],
   "source": [
    "print(accuracy)\n",
    "from sklearn import metrics\n",
    "print(metrics.classification_report(gt, prediction))"
   ]
  },
  {
   "cell_type": "code",
   "execution_count": 17,
   "id": "af434149",
   "metadata": {},
   "outputs": [],
   "source": [
    "path = os.path.expanduser('~')+'/Downloads/printed_digits_v1/5/*'\n",
    "result, accuracy, gt, prediction, wrong_results = pred_using_h5_digit(model,path)"
   ]
  },
  {
   "cell_type": "code",
   "execution_count": 18,
   "id": "954fa0fb",
   "metadata": {},
   "outputs": [
    {
     "name": "stdout",
     "output_type": "stream",
     "text": [
      "0.9981329350261389\n",
      "              precision    recall  f1-score   support\n",
      "\n",
      "           2       0.00      0.00      0.00         0\n",
      "           5       1.00      1.00      1.00      2678\n",
      "           6       0.00      0.00      0.00         0\n",
      "           9       0.00      0.00      0.00         0\n",
      "\n",
      "    accuracy                           1.00      2678\n",
      "   macro avg       0.25      0.25      0.25      2678\n",
      "weighted avg       1.00      1.00      1.00      2678\n",
      "\n"
     ]
    },
    {
     "name": "stderr",
     "output_type": "stream",
     "text": [
      "/home/venkateshiyer/ocrtool/lib/python3.8/site-packages/sklearn/metrics/_classification.py:1334: UndefinedMetricWarning: Recall and F-score are ill-defined and being set to 0.0 in labels with no true samples. Use `zero_division` parameter to control this behavior.\n",
      "  _warn_prf(average, modifier, msg_start, len(result))\n",
      "/home/venkateshiyer/ocrtool/lib/python3.8/site-packages/sklearn/metrics/_classification.py:1334: UndefinedMetricWarning: Recall and F-score are ill-defined and being set to 0.0 in labels with no true samples. Use `zero_division` parameter to control this behavior.\n",
      "  _warn_prf(average, modifier, msg_start, len(result))\n",
      "/home/venkateshiyer/ocrtool/lib/python3.8/site-packages/sklearn/metrics/_classification.py:1334: UndefinedMetricWarning: Recall and F-score are ill-defined and being set to 0.0 in labels with no true samples. Use `zero_division` parameter to control this behavior.\n",
      "  _warn_prf(average, modifier, msg_start, len(result))\n"
     ]
    }
   ],
   "source": [
    "print(accuracy)\n",
    "from sklearn import metrics\n",
    "print(metrics.classification_report(gt, prediction))"
   ]
  },
  {
   "cell_type": "code",
   "execution_count": 19,
   "id": "bb72b8c2",
   "metadata": {},
   "outputs": [
    {
     "data": {
      "text/plain": [
       "5"
      ]
     },
     "execution_count": 19,
     "metadata": {},
     "output_type": "execute_result"
    }
   ],
   "source": [
    "len(wrong_results)"
   ]
  },
  {
   "cell_type": "code",
   "execution_count": 21,
   "id": "3d4693da",
   "metadata": {},
   "outputs": [
    {
     "data": {
      "text/plain": [
       "Text(0.5, 0.98, 'Misclassifications')"
      ]
     },
     "execution_count": 21,
     "metadata": {},
     "output_type": "execute_result"
    },
    {
     "data": {
      "image/png": "[encoded data removed]",
      "text/plain": [
       "<Figure size 500x500 with 5 Axes>"
      ]
     },
     "metadata": {},
     "output_type": "display_data"
    }
   ],
   "source": [
    "import operator\n",
    "fig, axis = plt.subplots(nrows= 1, ncols=5, figsize=(5,5))\n",
    "if type(axis)!=np.ndarray:\n",
    "    axis = np.array([[axis]])\n",
    "axis = axis.flatten()\n",
    "count=0\n",
    "for img_name, prediction in sorted(wrong_results.items()):\n",
    "    pic =plt.imread(img_name)\n",
    "    axis[count].imshow(pic)\n",
    "    axis[count].set(title=prediction)\n",
    "    count+=1\n",
    "fig.suptitle('Misclassifications', fontsize=2)"
   ]
  },
  {
   "cell_type": "code",
   "execution_count": 22,
   "id": "8679a89c",
   "metadata": {},
   "outputs": [],
   "source": [
    "path = os.path.expanduser('~')+'/Downloads/printed_digits_v1/6/*'\n",
    "result, accuracy, gt, prediction, wrong_results = pred_using_h5_digit(model,path)"
   ]
  },
  {
   "cell_type": "code",
   "execution_count": 23,
   "id": "3f4e1f1c",
   "metadata": {},
   "outputs": [
    {
     "name": "stdout",
     "output_type": "stream",
     "text": [
      "1.0\n",
      "              precision    recall  f1-score   support\n",
      "\n",
      "           6       1.00      1.00      1.00      2968\n",
      "\n",
      "    accuracy                           1.00      2968\n",
      "   macro avg       1.00      1.00      1.00      2968\n",
      "weighted avg       1.00      1.00      1.00      2968\n",
      "\n"
     ]
    }
   ],
   "source": [
    "print(accuracy)\n",
    "from sklearn import metrics\n",
    "print(metrics.classification_report(gt, prediction))"
   ]
  },
  {
   "cell_type": "code",
   "execution_count": 24,
   "id": "7e0d6cff",
   "metadata": {},
   "outputs": [
    {
     "data": {
      "text/plain": [
       "0"
      ]
     },
     "execution_count": 24,
     "metadata": {},
     "output_type": "execute_result"
    }
   ],
   "source": [
    "len(wrong_results)"
   ]
  },
  {
   "cell_type": "code",
   "execution_count": 25,
   "id": "d619c743",
   "metadata": {},
   "outputs": [],
   "source": [
    "path = os.path.expanduser('~')+'/Downloads/printed_digits_v1/7/*'\n",
    "result, accuracy, gt, prediction, wrong_results = pred_using_h5_digit(model,path)"
   ]
  },
  {
   "cell_type": "code",
   "execution_count": 26,
   "id": "b118c2ae",
   "metadata": {},
   "outputs": [
    {
     "name": "stdout",
     "output_type": "stream",
     "text": [
      "0.9994196169471852\n",
      "              precision    recall  f1-score   support\n",
      "\n",
      "           1       0.00      0.00      0.00         0\n",
      "           7       1.00      1.00      1.00      3446\n",
      "\n",
      "    accuracy                           1.00      3446\n",
      "   macro avg       0.50      0.50      0.50      3446\n",
      "weighted avg       1.00      1.00      1.00      3446\n",
      "\n"
     ]
    },
    {
     "name": "stderr",
     "output_type": "stream",
     "text": [
      "/home/venkateshiyer/ocrtool/lib/python3.8/site-packages/sklearn/metrics/_classification.py:1334: UndefinedMetricWarning: Recall and F-score are ill-defined and being set to 0.0 in labels with no true samples. Use `zero_division` parameter to control this behavior.\n",
      "  _warn_prf(average, modifier, msg_start, len(result))\n",
      "/home/venkateshiyer/ocrtool/lib/python3.8/site-packages/sklearn/metrics/_classification.py:1334: UndefinedMetricWarning: Recall and F-score are ill-defined and being set to 0.0 in labels with no true samples. Use `zero_division` parameter to control this behavior.\n",
      "  _warn_prf(average, modifier, msg_start, len(result))\n",
      "/home/venkateshiyer/ocrtool/lib/python3.8/site-packages/sklearn/metrics/_classification.py:1334: UndefinedMetricWarning: Recall and F-score are ill-defined and being set to 0.0 in labels with no true samples. Use `zero_division` parameter to control this behavior.\n",
      "  _warn_prf(average, modifier, msg_start, len(result))\n"
     ]
    }
   ],
   "source": [
    "print(accuracy)\n",
    "from sklearn import metrics\n",
    "print(metrics.classification_report(gt, prediction))"
   ]
  },
  {
   "cell_type": "code",
   "execution_count": 33,
   "id": "84585f2a",
   "metadata": {},
   "outputs": [],
   "source": [
    "path = os.path.expanduser('~')+'/Downloads/printed_digits_v1/8/*'\n",
    "result, accuracy, gt, prediction, wrong_results = pred_using_h5_digit(model,path)"
   ]
  },
  {
   "cell_type": "code",
   "execution_count": 34,
   "id": "c07ca269",
   "metadata": {},
   "outputs": [
    {
     "name": "stdout",
     "output_type": "stream",
     "text": [
      "1.0\n",
      "              precision    recall  f1-score   support\n",
      "\n",
      "           8       1.00      1.00      1.00      3404\n",
      "\n",
      "    accuracy                           1.00      3404\n",
      "   macro avg       1.00      1.00      1.00      3404\n",
      "weighted avg       1.00      1.00      1.00      3404\n",
      "\n"
     ]
    }
   ],
   "source": [
    "print(accuracy)\n",
    "from sklearn import metrics\n",
    "print(metrics.classification_report(gt, prediction))"
   ]
  },
  {
   "cell_type": "code",
   "execution_count": 35,
   "id": "6faf0041",
   "metadata": {},
   "outputs": [],
   "source": [
    "path = os.path.expanduser('~')+'/Downloads/printed_digits_v1/9/*'\n",
    "result, accuracy, gt, prediction, wrong_results = pred_using_h5_digit(model,path)"
   ]
  },
  {
   "cell_type": "code",
   "execution_count": 36,
   "id": "f396f824",
   "metadata": {},
   "outputs": [
    {
     "name": "stdout",
     "output_type": "stream",
     "text": [
      "0.9994308480364257\n",
      "              precision    recall  f1-score   support\n",
      "\n",
      "           8       0.00      0.00      0.00         0\n",
      "           9       1.00      1.00      1.00      1757\n",
      "\n",
      "    accuracy                           1.00      1757\n",
      "   macro avg       0.50      0.50      0.50      1757\n",
      "weighted avg       1.00      1.00      1.00      1757\n",
      "\n"
     ]
    },
    {
     "name": "stderr",
     "output_type": "stream",
     "text": [
      "/home/venkateshiyer/ocrtool/lib/python3.8/site-packages/sklearn/metrics/_classification.py:1334: UndefinedMetricWarning: Recall and F-score are ill-defined and being set to 0.0 in labels with no true samples. Use `zero_division` parameter to control this behavior.\n",
      "  _warn_prf(average, modifier, msg_start, len(result))\n",
      "/home/venkateshiyer/ocrtool/lib/python3.8/site-packages/sklearn/metrics/_classification.py:1334: UndefinedMetricWarning: Recall and F-score are ill-defined and being set to 0.0 in labels with no true samples. Use `zero_division` parameter to control this behavior.\n",
      "  _warn_prf(average, modifier, msg_start, len(result))\n",
      "/home/venkateshiyer/ocrtool/lib/python3.8/site-packages/sklearn/metrics/_classification.py:1334: UndefinedMetricWarning: Recall and F-score are ill-defined and being set to 0.0 in labels with no true samples. Use `zero_division` parameter to control this behavior.\n",
      "  _warn_prf(average, modifier, msg_start, len(result))\n"
     ]
    }
   ],
   "source": [
    "print(accuracy)\n",
    "from sklearn import metrics\n",
    "print(metrics.classification_report(gt, prediction))"
   ]
  },
  {
   "cell_type": "code",
   "execution_count": 37,
   "id": "7c3da92e",
   "metadata": {},
   "outputs": [
    {
     "data": {
      "text/plain": [
       "1"
      ]
     },
     "execution_count": 37,
     "metadata": {},
     "output_type": "execute_result"
    }
   ],
   "source": [
    "len(wrong_results)"
   ]
  },
  {
   "cell_type": "code",
   "execution_count": 39,
   "id": "717b8fee",
   "metadata": {},
   "outputs": [
    {
     "data": {
      "text/plain": [
       "{'/home/venkateshiyer/Downloads/printed_digits_v1/9/7e0f91716401400c989022096bf80e84.jpg': 8}"
      ]
     },
     "execution_count": 39,
     "metadata": {},
     "output_type": "execute_result"
    }
   ],
   "source": [
    "wrong_results"
   ]
  },
  {
   "cell_type": "code",
   "execution_count": 38,
   "id": "44981f1e",
   "metadata": {},
   "outputs": [
    {
     "data": {
      "text/plain": [
       "Text(0.5, 0.98, 'Misclassifications')"
      ]
     },
     "execution_count": 38,
     "metadata": {},
     "output_type": "execute_result"
    },
    {
     "data": {
      "image/png": "[encoded data removed]",
      "text/plain": [
       "<Figure size 200x200 with 1 Axes>"
      ]
     },
     "metadata": {},
     "output_type": "display_data"
    }
   ],
   "source": [
    "import operator\n",
    "fig, axis = plt.subplots(nrows= 1, ncols=1, figsize=(2,2))\n",
    "if type(axis)!=np.ndarray:\n",
    "    axis = np.array([[axis]])\n",
    "axis = axis.flatten()\n",
    "count=0\n",
    "for img_name, prediction in sorted(wrong_results.items()):\n",
    "    pic =plt.imread(img_name)\n",
    "    axis[count].imshow(pic)\n",
    "    axis[count].set(title=prediction)\n",
    "    count+=1\n",
    "fig.suptitle('Misclassifications', fontsize=2)"
   ]
  },
  {
   "cell_type": "code",
   "execution_count": 1,
   "id": "1da09aa0",
   "metadata": {},
   "outputs": [
    {
     "name": "stderr",
     "output_type": "stream",
     "text": [
      "2023-01-05 09:07:43.031691: W tensorflow/stream_executor/platform/default/dso_loader.cc:64] Could not load dynamic library 'libcudart.so.11.0'; dlerror: libcudart.so.11.0: cannot open shared object file: No such file or directory\n",
      "2023-01-05 09:07:43.031717: I tensorflow/stream_executor/cuda/cudart_stub.cc:29] Ignore above cudart dlerror if you do not have a GPU set up on your machine.\n"
     ]
    }
   ],
   "source": [
    "import tensorflow as tf\n",
    "import sys  \n",
    "import os\n",
    "sys.path.append(os.path.realpath('../../src'))\n",
    "from predict import pred_using_tflite_model\n",
    "import cv2\n",
    "import os\n",
    "import glob\n",
    "import numpy as np\n",
    "import matplotlib.pyplot as plt"
   ]
  },
  {
   "cell_type": "code",
   "execution_count": 2,
   "id": "c1f16a51",
   "metadata": {},
   "outputs": [],
   "source": [
    "model = '../../models/tflite_model/model_030123.tflite'"
   ]
  },
  {
   "cell_type": "code",
   "execution_count": 7,
   "id": "85ecfaa6",
   "metadata": {},
   "outputs": [],
   "source": [
    "path = os.path.expanduser('~')+'/Downloads/printed_digits_v1/0/*'\n",
    "result, accuracy = pred_using_tflite_model(model, path)"
   ]
  },
  {
   "cell_type": "code",
   "execution_count": 8,
   "id": "a223b96f",
   "metadata": {},
   "outputs": [
    {
     "data": {
      "text/plain": [
       "0.99950884086444"
      ]
     },
     "execution_count": 8,
     "metadata": {},
     "output_type": "execute_result"
    }
   ],
   "source": [
    "accuracy"
   ]
  },
  {
   "cell_type": "code",
   "execution_count": 9,
   "id": "3b3ca3f8",
   "metadata": {},
   "outputs": [],
   "source": [
    "path = os.path.expanduser('~')+'/Downloads/printed_digits_v1/1/*'\n",
    "result, accuracy = pred_using_tflite_model(model, path)"
   ]
  },
  {
   "cell_type": "code",
   "execution_count": 10,
   "id": "bdac9f48",
   "metadata": {},
   "outputs": [
    {
     "data": {
      "text/plain": [
       "0.998282278843401"
      ]
     },
     "execution_count": 10,
     "metadata": {},
     "output_type": "execute_result"
    }
   ],
   "source": [
    "accuracy"
   ]
  },
  {
   "cell_type": "code",
   "execution_count": 11,
   "id": "0e7b61c7",
   "metadata": {},
   "outputs": [],
   "source": [
    "path = os.path.expanduser('~')+'/Downloads/printed_digits_v1/2/*'\n",
    "result, accuracy = pred_using_tflite_model(model, path)"
   ]
  },
  {
   "cell_type": "code",
   "execution_count": 12,
   "id": "9cadf53e",
   "metadata": {},
   "outputs": [
    {
     "data": {
      "text/plain": [
       "0.9994199535962877"
      ]
     },
     "execution_count": 12,
     "metadata": {},
     "output_type": "execute_result"
    }
   ],
   "source": [
    "accuracy"
   ]
  },
  {
   "cell_type": "code",
   "execution_count": 13,
   "id": "e53dc788",
   "metadata": {},
   "outputs": [],
   "source": [
    "path = os.path.expanduser('~')+'/Downloads/printed_digits_v1/3/*'\n",
    "result, accuracy = pred_using_tflite_model(model, path)"
   ]
  },
  {
   "cell_type": "code",
   "execution_count": 14,
   "id": "4c1b0d20",
   "metadata": {},
   "outputs": [
    {
     "data": {
      "text/plain": [
       "0.9976377952755906"
      ]
     },
     "execution_count": 14,
     "metadata": {},
     "output_type": "execute_result"
    }
   ],
   "source": [
    "accuracy"
   ]
  },
  {
   "cell_type": "code",
   "execution_count": 15,
   "id": "830225ef",
   "metadata": {},
   "outputs": [],
   "source": [
    "path = os.path.expanduser('~')+'/Downloads/printed_digits_v1/4/*'\n",
    "result, accuracy = pred_using_tflite_model(model, path)"
   ]
  },
  {
   "cell_type": "code",
   "execution_count": 16,
   "id": "3d79d33c",
   "metadata": {},
   "outputs": [
    {
     "data": {
      "text/plain": [
       "0.9988465974625144"
      ]
     },
     "execution_count": 16,
     "metadata": {},
     "output_type": "execute_result"
    }
   ],
   "source": [
    "accuracy"
   ]
  },
  {
   "cell_type": "code",
   "execution_count": 17,
   "id": "12fbb68e",
   "metadata": {},
   "outputs": [],
   "source": [
    "path = os.path.expanduser('~')+'/Downloads/printed_digits_v1/5/*'\n",
    "result, accuracy = pred_using_tflite_model(model, path)"
   ]
  },
  {
   "cell_type": "code",
   "execution_count": 18,
   "id": "9ab9cd9a",
   "metadata": {},
   "outputs": [
    {
     "data": {
      "text/plain": [
       "0.9981329350261389"
      ]
     },
     "execution_count": 18,
     "metadata": {},
     "output_type": "execute_result"
    }
   ],
   "source": [
    "accuracy"
   ]
  },
  {
   "cell_type": "code",
   "execution_count": 19,
   "id": "94903f2f",
   "metadata": {},
   "outputs": [],
   "source": [
    "path = os.path.expanduser('~')+'/Downloads/printed_digits_v1/6/*'\n",
    "result, accuracy = pred_using_tflite_model(model, path)"
   ]
  },
  {
   "cell_type": "code",
   "execution_count": 20,
   "id": "07319a22",
   "metadata": {},
   "outputs": [
    {
     "data": {
      "text/plain": [
       "1.0"
      ]
     },
     "execution_count": 20,
     "metadata": {},
     "output_type": "execute_result"
    }
   ],
   "source": [
    "accuracy"
   ]
  },
  {
   "cell_type": "code",
   "execution_count": 21,
   "id": "777a3f36",
   "metadata": {},
   "outputs": [],
   "source": [
    "path = os.path.expanduser('~')+'/Downloads/printed_digits_v1/7/*'\n",
    "result, accuracy = pred_using_tflite_model(model, path)"
   ]
  },
  {
   "cell_type": "code",
   "execution_count": 22,
   "id": "83911472",
   "metadata": {},
   "outputs": [
    {
     "data": {
      "text/plain": [
       "0.9994196169471852"
      ]
     },
     "execution_count": 22,
     "metadata": {},
     "output_type": "execute_result"
    }
   ],
   "source": [
    "accuracy"
   ]
  },
  {
   "cell_type": "code",
   "execution_count": 23,
   "id": "b33d08b0",
   "metadata": {},
   "outputs": [],
   "source": [
    "path = os.path.expanduser('~')+'/Downloads/printed_digits_v1/8/*'\n",
    "result, accuracy = pred_using_tflite_model(model, path)"
   ]
  },
  {
   "cell_type": "code",
   "execution_count": 24,
   "id": "2989d5cf",
   "metadata": {},
   "outputs": [
    {
     "data": {
      "text/plain": [
       "1.0"
      ]
     },
     "execution_count": 24,
     "metadata": {},
     "output_type": "execute_result"
    }
   ],
   "source": [
    "accuracy"
   ]
  },
  {
   "cell_type": "code",
   "execution_count": null,
   "id": "ddfda3cc",
   "metadata": {},
   "outputs": [],
   "source": [
    "path = os.path.expanduser('~')+'/Downloads/printed_digits_v1/9/*'\n",
    "result, accuracy = pred_using_tflite_model(model, path)"
   ]
  }
 ],
 "metadata": {
  "kernelspec": {
   "display_name": "Python 3 (ipykernel)",
   "language": "python",
   "name": "python3"
  },
  "language_info": {
   "codemirror_mode": {
    "name": "ipython",
    "version": 3
   },
   "file_extension": ".py",
   "mimetype": "text/x-python",
   "name": "python",
   "nbconvert_exporter": "python",
   "pygments_lexer": "ipython3",
   "version": "3.8.10"
  }
 },
 "nbformat": 4,
 "nbformat_minor": 5
}

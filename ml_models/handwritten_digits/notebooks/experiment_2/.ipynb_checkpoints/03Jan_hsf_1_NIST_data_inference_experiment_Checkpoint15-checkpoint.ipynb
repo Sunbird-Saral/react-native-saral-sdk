{
 "cells": [
  {
   "cell_type": "markdown",
   "id": "96ccd3b1",
   "metadata": {},
   "source": [
    "# Experiment records\n",
    "- Dataset used: Entire NIST subset (hsf_1) \n",
    "- Accuracy: 98.2%\n",
    "- Description of experiment: To check the performance and analyse the misclassifications of new model (Jan 03- checkpoint_15_0.03.h5)\n"
   ]
  },
  {
   "cell_type": "code",
   "execution_count": 1,
   "id": "e0c9f187",
   "metadata": {},
   "outputs": [
    {
     "name": "stderr",
     "output_type": "stream",
     "text": [
      "2023-01-05 15:52:20.382707: W tensorflow/stream_executor/platform/default/dso_loader.cc:64] Could not load dynamic library 'libcudart.so.11.0'; dlerror: libcudart.so.11.0: cannot open shared object file: No such file or directory\n",
      "2023-01-05 15:52:20.382733: I tensorflow/stream_executor/cuda/cudart_stub.cc:29] Ignore above cudart dlerror if you do not have a GPU set up on your machine.\n"
     ]
    }
   ],
   "source": [
    "import tensorflow as tf\n",
    "import sys  \n",
    "import os\n",
    "sys.path.append(os.path.realpath('../../src'))\n",
    "# from predict import pred_using_h5_digit, pred_using_tflite_model\n",
    "import cv2\n",
    "import os\n",
    "import glob\n",
    "import numpy as np\n",
    "import matplotlib.pyplot as plt"
   ]
  },
  {
   "cell_type": "code",
   "execution_count": 2,
   "id": "2518bcd8",
   "metadata": {},
   "outputs": [
    {
     "name": "stderr",
     "output_type": "stream",
     "text": [
      "2023-01-05 15:52:26.914833: E tensorflow/stream_executor/cuda/cuda_driver.cc:271] failed call to cuInit: CUDA_ERROR_NO_DEVICE: no CUDA-capable device is detected\n",
      "2023-01-05 15:52:26.914883: I tensorflow/stream_executor/cuda/cuda_diagnostics.cc:156] kernel driver does not appear to be running on this host (ti-lap-492): /proc/driver/nvidia/version does not exist\n",
      "2023-01-05 15:52:26.915467: I tensorflow/core/platform/cpu_feature_guard.cc:142] This TensorFlow binary is optimized with oneAPI Deep Neural Network Library (oneDNN) to use the following CPU instructions in performance-critical operations:  AVX2 FMA\n",
      "To enable them in other operations, rebuild TensorFlow with the appropriate compiler flags.\n"
     ]
    }
   ],
   "source": [
    "model = tf.keras.models.load_model('../../models/saved_model/checkpoint_15_0.03.h5')"
   ]
  },
  {
   "cell_type": "code",
   "execution_count": 3,
   "id": "db98b81b",
   "metadata": {},
   "outputs": [],
   "source": [
    "def pred_using_h5_digit(model, path, gt = None, prediction= None, wrong_results = None):\n",
    "    result = {}\n",
    "    wrong_results = {}\n",
    "    gt=[]\n",
    "    prediction = []\n",
    "    wrong_count=0\n",
    "    for img1 in sorted(glob.iglob(path)):\n",
    "        img=cv2.imread(img1)\n",
    "        img_name = img1.split('/')[-1]\n",
    "        img=cv2.resize(img,(28,28))\n",
    "        write_img = img\n",
    "        img= cv2.cvtColor(img, cv2.COLOR_BGR2GRAY)\n",
    "        img = img.astype('float32') / 255.\n",
    "        img= np.reshape(img,(1,28,28,1))\n",
    "        res=model.predict(img)\n",
    "        pred=res[0].argmax(axis=0)\n",
    "        ground_truth = int(img1.split('/')[-2])\n",
    "        gt.append(int(ground_truth))\n",
    "        prediction.append(pred)\n",
    "        result[img1] = pred\n",
    "        if pred!= int(ground_truth):\n",
    "            wrong_count+=1\n",
    "            wrong_results[img1] = pred\n",
    "#             cv2.imwrite('/home/venkateshiyer/handwritten_dataset/NIST_full_missclass/'+str(ground_truth)+'/'+img_name, write_img)\n",
    "    accuracy = (len(glob.glob(path))-wrong_count)/len(glob.glob(path))\n",
    "    return result, accuracy, gt, prediction, wrong_results"
   ]
  },
  {
   "cell_type": "code",
   "execution_count": 4,
   "id": "ece8b7ba",
   "metadata": {},
   "outputs": [
    {
     "name": "stderr",
     "output_type": "stream",
     "text": [
      "2023-01-05 15:52:56.173131: I tensorflow/compiler/mlir/mlir_graph_optimization_pass.cc:185] None of the MLIR Optimization Passes are enabled (registered 2)\n"
     ]
    }
   ],
   "source": [
    "path = os.path.expanduser('~')+'/handwritten_dataset/final_NIST_inference/0/*'\n",
    "result, accuracy, gt, prediction, wrong_results = pred_using_h5_digit(model,path)"
   ]
  },
  {
   "cell_type": "code",
   "execution_count": 5,
   "id": "6b4beecd",
   "metadata": {},
   "outputs": [
    {
     "name": "stdout",
     "output_type": "stream",
     "text": [
      "0.9857456140350878\n",
      "              precision    recall  f1-score   support\n",
      "\n",
      "           0       1.00      0.99      0.99      5472\n",
      "           2       0.00      0.00      0.00         0\n",
      "           3       0.00      0.00      0.00         0\n",
      "           4       0.00      0.00      0.00         0\n",
      "           5       0.00      0.00      0.00         0\n",
      "           6       0.00      0.00      0.00         0\n",
      "           7       0.00      0.00      0.00         0\n",
      "           8       0.00      0.00      0.00         0\n",
      "           9       0.00      0.00      0.00         0\n",
      "\n",
      "    accuracy                           0.99      5472\n",
      "   macro avg       0.11      0.11      0.11      5472\n",
      "weighted avg       1.00      0.99      0.99      5472\n",
      "\n"
     ]
    },
    {
     "name": "stderr",
     "output_type": "stream",
     "text": [
      "/home/venkateshiyer/ocrtool/lib/python3.8/site-packages/sklearn/metrics/_classification.py:1334: UndefinedMetricWarning: Recall and F-score are ill-defined and being set to 0.0 in labels with no true samples. Use `zero_division` parameter to control this behavior.\n",
      "  _warn_prf(average, modifier, msg_start, len(result))\n",
      "/home/venkateshiyer/ocrtool/lib/python3.8/site-packages/sklearn/metrics/_classification.py:1334: UndefinedMetricWarning: Recall and F-score are ill-defined and being set to 0.0 in labels with no true samples. Use `zero_division` parameter to control this behavior.\n",
      "  _warn_prf(average, modifier, msg_start, len(result))\n",
      "/home/venkateshiyer/ocrtool/lib/python3.8/site-packages/sklearn/metrics/_classification.py:1334: UndefinedMetricWarning: Recall and F-score are ill-defined and being set to 0.0 in labels with no true samples. Use `zero_division` parameter to control this behavior.\n",
      "  _warn_prf(average, modifier, msg_start, len(result))\n"
     ]
    }
   ],
   "source": [
    "print(accuracy)\n",
    "from sklearn import metrics\n",
    "print(metrics.classification_report(gt, prediction))"
   ]
  },
  {
   "cell_type": "code",
   "execution_count": 6,
   "id": "cd265249",
   "metadata": {},
   "outputs": [
    {
     "data": {
      "text/plain": [
       "78"
      ]
     },
     "execution_count": 6,
     "metadata": {},
     "output_type": "execute_result"
    }
   ],
   "source": [
    "len(wrong_results)"
   ]
  },
  {
   "cell_type": "code",
   "execution_count": 7,
   "id": "58f92f56",
   "metadata": {},
   "outputs": [
    {
     "data": {
      "text/plain": [
       "{'/home/venkateshiyer/handwritten_dataset/final_NIST_inference/0/hsf_1_00102.png': 6,\n",
       " '/home/venkateshiyer/handwritten_dataset/final_NIST_inference/0/hsf_1_00127.png': 8,\n",
       " '/home/venkateshiyer/handwritten_dataset/final_NIST_inference/0/hsf_1_00165.png': 6,\n",
       " '/home/venkateshiyer/handwritten_dataset/final_NIST_inference/0/hsf_1_00186.png': 6,\n",
       " '/home/venkateshiyer/handwritten_dataset/final_NIST_inference/0/hsf_1_00220.png': 6,\n",
       " '/home/venkateshiyer/handwritten_dataset/final_NIST_inference/0/hsf_1_00336.png': 3,\n",
       " '/home/venkateshiyer/handwritten_dataset/final_NIST_inference/0/hsf_1_00353.png': 6,\n",
       " '/home/venkateshiyer/handwritten_dataset/final_NIST_inference/0/hsf_1_00363.png': 6,\n",
       " '/home/venkateshiyer/handwritten_dataset/final_NIST_inference/0/hsf_1_00479.png': 3,\n",
       " '/home/venkateshiyer/handwritten_dataset/final_NIST_inference/0/hsf_1_00480.png': 7,\n",
       " '/home/venkateshiyer/handwritten_dataset/final_NIST_inference/0/hsf_1_00568.png': 6,\n",
       " '/home/venkateshiyer/handwritten_dataset/final_NIST_inference/0/hsf_1_00696.png': 9,\n",
       " '/home/venkateshiyer/handwritten_dataset/final_NIST_inference/0/hsf_1_00720.png': 3,\n",
       " '/home/venkateshiyer/handwritten_dataset/final_NIST_inference/0/hsf_1_00782.png': 9,\n",
       " '/home/venkateshiyer/handwritten_dataset/final_NIST_inference/0/hsf_1_00830.png': 4,\n",
       " '/home/venkateshiyer/handwritten_dataset/final_NIST_inference/0/hsf_1_00925.png': 6,\n",
       " '/home/venkateshiyer/handwritten_dataset/final_NIST_inference/0/hsf_1_00939.png': 2,\n",
       " '/home/venkateshiyer/handwritten_dataset/final_NIST_inference/0/hsf_1_01049.png': 6,\n",
       " '/home/venkateshiyer/handwritten_dataset/final_NIST_inference/0/hsf_1_01109.png': 6,\n",
       " '/home/venkateshiyer/handwritten_dataset/final_NIST_inference/0/hsf_1_01113.png': 3,\n",
       " '/home/venkateshiyer/handwritten_dataset/final_NIST_inference/0/hsf_1_01265.png': 9,\n",
       " '/home/venkateshiyer/handwritten_dataset/final_NIST_inference/0/hsf_1_01307.png': 9,\n",
       " '/home/venkateshiyer/handwritten_dataset/final_NIST_inference/0/hsf_1_01312.png': 9,\n",
       " '/home/venkateshiyer/handwritten_dataset/final_NIST_inference/0/hsf_1_01325.png': 2,\n",
       " '/home/venkateshiyer/handwritten_dataset/final_NIST_inference/0/hsf_1_01380.png': 6,\n",
       " '/home/venkateshiyer/handwritten_dataset/final_NIST_inference/0/hsf_1_01384.png': 6,\n",
       " '/home/venkateshiyer/handwritten_dataset/final_NIST_inference/0/hsf_1_01387.png': 6,\n",
       " '/home/venkateshiyer/handwritten_dataset/final_NIST_inference/0/hsf_1_01432.png': 9,\n",
       " '/home/venkateshiyer/handwritten_dataset/final_NIST_inference/0/hsf_1_01527.png': 6,\n",
       " '/home/venkateshiyer/handwritten_dataset/final_NIST_inference/0/hsf_1_01603.png': 7,\n",
       " '/home/venkateshiyer/handwritten_dataset/final_NIST_inference/0/hsf_1_01726.png': 8,\n",
       " '/home/venkateshiyer/handwritten_dataset/final_NIST_inference/0/hsf_1_01786.png': 9,\n",
       " '/home/venkateshiyer/handwritten_dataset/final_NIST_inference/0/hsf_1_01795.png': 9,\n",
       " '/home/venkateshiyer/handwritten_dataset/final_NIST_inference/0/hsf_1_01847.png': 3,\n",
       " '/home/venkateshiyer/handwritten_dataset/final_NIST_inference/0/hsf_1_01855.png': 3,\n",
       " '/home/venkateshiyer/handwritten_dataset/final_NIST_inference/0/hsf_1_02086.png': 6,\n",
       " '/home/venkateshiyer/handwritten_dataset/final_NIST_inference/0/hsf_1_02306.png': 3,\n",
       " '/home/venkateshiyer/handwritten_dataset/final_NIST_inference/0/hsf_1_02471.png': 5,\n",
       " '/home/venkateshiyer/handwritten_dataset/final_NIST_inference/0/hsf_1_02510.png': 3,\n",
       " '/home/venkateshiyer/handwritten_dataset/final_NIST_inference/0/hsf_1_02518.png': 6,\n",
       " '/home/venkateshiyer/handwritten_dataset/final_NIST_inference/0/hsf_1_02526.png': 9,\n",
       " '/home/venkateshiyer/handwritten_dataset/final_NIST_inference/0/hsf_1_02532.png': 3,\n",
       " '/home/venkateshiyer/handwritten_dataset/final_NIST_inference/0/hsf_1_02544.png': 4,\n",
       " '/home/venkateshiyer/handwritten_dataset/final_NIST_inference/0/hsf_1_02583.png': 3,\n",
       " '/home/venkateshiyer/handwritten_dataset/final_NIST_inference/0/hsf_1_02618.png': 7,\n",
       " '/home/venkateshiyer/handwritten_dataset/final_NIST_inference/0/hsf_1_02679.png': 6,\n",
       " '/home/venkateshiyer/handwritten_dataset/final_NIST_inference/0/hsf_1_02746.png': 2,\n",
       " '/home/venkateshiyer/handwritten_dataset/final_NIST_inference/0/hsf_1_02751.png': 6,\n",
       " '/home/venkateshiyer/handwritten_dataset/final_NIST_inference/0/hsf_1_02829.png': 9,\n",
       " '/home/venkateshiyer/handwritten_dataset/final_NIST_inference/0/hsf_1_02933.png': 6,\n",
       " '/home/venkateshiyer/handwritten_dataset/final_NIST_inference/0/hsf_1_02935.png': 3,\n",
       " '/home/venkateshiyer/handwritten_dataset/final_NIST_inference/0/hsf_1_02941.png': 6,\n",
       " '/home/venkateshiyer/handwritten_dataset/final_NIST_inference/0/hsf_1_03056.png': 2,\n",
       " '/home/venkateshiyer/handwritten_dataset/final_NIST_inference/0/hsf_1_03147.png': 2,\n",
       " '/home/venkateshiyer/handwritten_dataset/final_NIST_inference/0/hsf_1_03164.png': 9,\n",
       " '/home/venkateshiyer/handwritten_dataset/final_NIST_inference/0/hsf_1_03196.png': 2,\n",
       " '/home/venkateshiyer/handwritten_dataset/final_NIST_inference/0/hsf_1_03201.png': 7,\n",
       " '/home/venkateshiyer/handwritten_dataset/final_NIST_inference/0/hsf_1_03287.png': 2,\n",
       " '/home/venkateshiyer/handwritten_dataset/final_NIST_inference/0/hsf_1_03383.png': 5,\n",
       " '/home/venkateshiyer/handwritten_dataset/final_NIST_inference/0/hsf_1_03726.png': 6,\n",
       " '/home/venkateshiyer/handwritten_dataset/final_NIST_inference/0/hsf_1_03770.png': 9,\n",
       " '/home/venkateshiyer/handwritten_dataset/final_NIST_inference/0/hsf_1_03882.png': 6,\n",
       " '/home/venkateshiyer/handwritten_dataset/final_NIST_inference/0/hsf_1_03883.png': 6,\n",
       " '/home/venkateshiyer/handwritten_dataset/final_NIST_inference/0/hsf_1_04046.png': 7,\n",
       " '/home/venkateshiyer/handwritten_dataset/final_NIST_inference/0/hsf_1_04061.png': 9,\n",
       " '/home/venkateshiyer/handwritten_dataset/final_NIST_inference/0/hsf_1_04277.png': 6,\n",
       " '/home/venkateshiyer/handwritten_dataset/final_NIST_inference/0/hsf_1_04283.png': 8,\n",
       " '/home/venkateshiyer/handwritten_dataset/final_NIST_inference/0/hsf_1_04382.png': 8,\n",
       " '/home/venkateshiyer/handwritten_dataset/final_NIST_inference/0/hsf_1_04436.png': 2,\n",
       " '/home/venkateshiyer/handwritten_dataset/final_NIST_inference/0/hsf_1_04674.png': 2,\n",
       " '/home/venkateshiyer/handwritten_dataset/final_NIST_inference/0/hsf_1_04779.png': 6,\n",
       " '/home/venkateshiyer/handwritten_dataset/final_NIST_inference/0/hsf_1_04847.png': 2,\n",
       " '/home/venkateshiyer/handwritten_dataset/final_NIST_inference/0/hsf_1_04907.png': 2,\n",
       " '/home/venkateshiyer/handwritten_dataset/final_NIST_inference/0/hsf_1_04966.png': 8,\n",
       " '/home/venkateshiyer/handwritten_dataset/final_NIST_inference/0/hsf_1_05197.png': 8,\n",
       " '/home/venkateshiyer/handwritten_dataset/final_NIST_inference/0/hsf_1_05387.png': 9,\n",
       " '/home/venkateshiyer/handwritten_dataset/final_NIST_inference/0/hsf_1_05403.png': 2,\n",
       " '/home/venkateshiyer/handwritten_dataset/final_NIST_inference/0/hsf_1_05408.png': 3}"
      ]
     },
     "execution_count": 7,
     "metadata": {},
     "output_type": "execute_result"
    }
   ],
   "source": [
    "wrong_results"
   ]
  },
  {
   "cell_type": "code",
   "execution_count": 8,
   "id": "ddf7e800",
   "metadata": {},
   "outputs": [],
   "source": [
    "path = os.path.expanduser('~')+'/handwritten_dataset/final_NIST_inference/1/*'\n",
    "result, accuracy, gt, prediction, wrong_results = pred_using_h5_digit(model,path)"
   ]
  },
  {
   "cell_type": "code",
   "execution_count": 9,
   "id": "5581d517",
   "metadata": {},
   "outputs": [
    {
     "name": "stdout",
     "output_type": "stream",
     "text": [
      "0.977561955793704\n",
      "              precision    recall  f1-score   support\n",
      "\n",
      "           0       0.00      0.00      0.00         0\n",
      "           1       1.00      0.98      0.99      5972\n",
      "           2       0.00      0.00      0.00         0\n",
      "           3       0.00      0.00      0.00         0\n",
      "           4       0.00      0.00      0.00         0\n",
      "           5       0.00      0.00      0.00         0\n",
      "           6       0.00      0.00      0.00         0\n",
      "           7       0.00      0.00      0.00         0\n",
      "           8       0.00      0.00      0.00         0\n",
      "\n",
      "    accuracy                           0.98      5972\n",
      "   macro avg       0.11      0.11      0.11      5972\n",
      "weighted avg       1.00      0.98      0.99      5972\n",
      "\n"
     ]
    },
    {
     "name": "stderr",
     "output_type": "stream",
     "text": [
      "/home/venkateshiyer/ocrtool/lib/python3.8/site-packages/sklearn/metrics/_classification.py:1334: UndefinedMetricWarning: Recall and F-score are ill-defined and being set to 0.0 in labels with no true samples. Use `zero_division` parameter to control this behavior.\n",
      "  _warn_prf(average, modifier, msg_start, len(result))\n",
      "/home/venkateshiyer/ocrtool/lib/python3.8/site-packages/sklearn/metrics/_classification.py:1334: UndefinedMetricWarning: Recall and F-score are ill-defined and being set to 0.0 in labels with no true samples. Use `zero_division` parameter to control this behavior.\n",
      "  _warn_prf(average, modifier, msg_start, len(result))\n",
      "/home/venkateshiyer/ocrtool/lib/python3.8/site-packages/sklearn/metrics/_classification.py:1334: UndefinedMetricWarning: Recall and F-score are ill-defined and being set to 0.0 in labels with no true samples. Use `zero_division` parameter to control this behavior.\n",
      "  _warn_prf(average, modifier, msg_start, len(result))\n"
     ]
    }
   ],
   "source": [
    "print(accuracy)\n",
    "from sklearn import metrics\n",
    "print(metrics.classification_report(gt, prediction))"
   ]
  },
  {
   "cell_type": "code",
   "execution_count": 10,
   "id": "df725056",
   "metadata": {},
   "outputs": [
    {
     "data": {
      "text/plain": [
       "151"
      ]
     },
     "execution_count": 10,
     "metadata": {},
     "output_type": "execute_result"
    }
   ],
   "source": [
    "len(wrong_results)"
   ]
  },
  {
   "cell_type": "code",
   "execution_count": 11,
   "id": "91467af5",
   "metadata": {},
   "outputs": [
    {
     "data": {
      "text/plain": [
       "{'/home/venkateshiyer/handwritten_dataset/NIST_full/1/hsf_0_00003.png': 7,\n",
       " '/home/venkateshiyer/handwritten_dataset/NIST_full/1/hsf_0_00035.png': 6,\n",
       " '/home/venkateshiyer/handwritten_dataset/NIST_full/1/hsf_0_00214.png': 7,\n",
       " '/home/venkateshiyer/handwritten_dataset/NIST_full/1/hsf_0_00219.png': 7,\n",
       " '/home/venkateshiyer/handwritten_dataset/NIST_full/1/hsf_0_00230.png': 7,\n",
       " '/home/venkateshiyer/handwritten_dataset/NIST_full/1/hsf_0_00232.png': 7,\n",
       " '/home/venkateshiyer/handwritten_dataset/NIST_full/1/hsf_0_00234.png': 7,\n",
       " '/home/venkateshiyer/handwritten_dataset/NIST_full/1/hsf_0_00284.png': 7,\n",
       " '/home/venkateshiyer/handwritten_dataset/NIST_full/1/hsf_0_00321.png': 7,\n",
       " '/home/venkateshiyer/handwritten_dataset/NIST_full/1/hsf_0_00322.png': 7,\n",
       " '/home/venkateshiyer/handwritten_dataset/NIST_full/1/hsf_0_00343.png': 7,\n",
       " '/home/venkateshiyer/handwritten_dataset/NIST_full/1/hsf_0_00347.png': 8,\n",
       " '/home/venkateshiyer/handwritten_dataset/NIST_full/1/hsf_0_00387.png': 0,\n",
       " '/home/venkateshiyer/handwritten_dataset/NIST_full/1/hsf_0_00393.png': 7,\n",
       " '/home/venkateshiyer/handwritten_dataset/NIST_full/1/hsf_0_00528.png': 4,\n",
       " '/home/venkateshiyer/handwritten_dataset/NIST_full/1/hsf_0_00579.png': 0,\n",
       " '/home/venkateshiyer/handwritten_dataset/NIST_full/1/hsf_0_00580.png': 6,\n",
       " '/home/venkateshiyer/handwritten_dataset/NIST_full/1/hsf_0_00582.png': 8,\n",
       " '/home/venkateshiyer/handwritten_dataset/NIST_full/1/hsf_0_00584.png': 0,\n",
       " '/home/venkateshiyer/handwritten_dataset/NIST_full/1/hsf_0_00596.png': 7,\n",
       " '/home/venkateshiyer/handwritten_dataset/NIST_full/1/hsf_0_00617.png': 5,\n",
       " '/home/venkateshiyer/handwritten_dataset/NIST_full/1/hsf_0_00690.png': 7,\n",
       " '/home/venkateshiyer/handwritten_dataset/NIST_full/1/hsf_0_00699.png': 7,\n",
       " '/home/venkateshiyer/handwritten_dataset/NIST_full/1/hsf_0_00723.png': 6,\n",
       " '/home/venkateshiyer/handwritten_dataset/NIST_full/1/hsf_0_00855.png': 6,\n",
       " '/home/venkateshiyer/handwritten_dataset/NIST_full/1/hsf_0_00904.png': 7,\n",
       " '/home/venkateshiyer/handwritten_dataset/NIST_full/1/hsf_0_00968.png': 6,\n",
       " '/home/venkateshiyer/handwritten_dataset/NIST_full/1/hsf_0_00972.png': 7,\n",
       " '/home/venkateshiyer/handwritten_dataset/NIST_full/1/hsf_0_00979.png': 4,\n",
       " '/home/venkateshiyer/handwritten_dataset/NIST_full/1/hsf_0_00980.png': 7,\n",
       " '/home/venkateshiyer/handwritten_dataset/NIST_full/1/hsf_0_00982.png': 7,\n",
       " '/home/venkateshiyer/handwritten_dataset/NIST_full/1/hsf_0_01067.png': 7,\n",
       " '/home/venkateshiyer/handwritten_dataset/NIST_full/1/hsf_0_01112.png': 7,\n",
       " '/home/venkateshiyer/handwritten_dataset/NIST_full/1/hsf_0_01234.png': 8,\n",
       " '/home/venkateshiyer/handwritten_dataset/NIST_full/1/hsf_0_01276.png': 7,\n",
       " '/home/venkateshiyer/handwritten_dataset/NIST_full/1/hsf_0_01337.png': 7,\n",
       " '/home/venkateshiyer/handwritten_dataset/NIST_full/1/hsf_0_01349.png': 7,\n",
       " '/home/venkateshiyer/handwritten_dataset/NIST_full/1/hsf_0_01388.png': 7,\n",
       " '/home/venkateshiyer/handwritten_dataset/NIST_full/1/hsf_0_01397.png': 7,\n",
       " '/home/venkateshiyer/handwritten_dataset/NIST_full/1/hsf_0_01404.png': 7,\n",
       " '/home/venkateshiyer/handwritten_dataset/NIST_full/1/hsf_0_01419.png': 3,\n",
       " '/home/venkateshiyer/handwritten_dataset/NIST_full/1/hsf_0_01426.png': 7,\n",
       " '/home/venkateshiyer/handwritten_dataset/NIST_full/1/hsf_0_01475.png': 7,\n",
       " '/home/venkateshiyer/handwritten_dataset/NIST_full/1/hsf_0_01489.png': 7,\n",
       " '/home/venkateshiyer/handwritten_dataset/NIST_full/1/hsf_0_01501.png': 7,\n",
       " '/home/venkateshiyer/handwritten_dataset/NIST_full/1/hsf_0_01512.png': 7,\n",
       " '/home/venkateshiyer/handwritten_dataset/NIST_full/1/hsf_0_01564.png': 6,\n",
       " '/home/venkateshiyer/handwritten_dataset/NIST_full/1/hsf_0_01632.png': 7,\n",
       " '/home/venkateshiyer/handwritten_dataset/NIST_full/1/hsf_0_01636.png': 7,\n",
       " '/home/venkateshiyer/handwritten_dataset/NIST_full/1/hsf_0_01657.png': 7,\n",
       " '/home/venkateshiyer/handwritten_dataset/NIST_full/1/hsf_0_01769.png': 7,\n",
       " '/home/venkateshiyer/handwritten_dataset/NIST_full/1/hsf_0_01784.png': 7,\n",
       " '/home/venkateshiyer/handwritten_dataset/NIST_full/1/hsf_0_01791.png': 7,\n",
       " '/home/venkateshiyer/handwritten_dataset/NIST_full/1/hsf_0_01902.png': 7,\n",
       " '/home/venkateshiyer/handwritten_dataset/NIST_full/1/hsf_0_01903.png': 6,\n",
       " '/home/venkateshiyer/handwritten_dataset/NIST_full/1/hsf_0_02019.png': 7,\n",
       " '/home/venkateshiyer/handwritten_dataset/NIST_full/1/hsf_0_02043.png': 7,\n",
       " '/home/venkateshiyer/handwritten_dataset/NIST_full/1/hsf_0_02143.png': 7,\n",
       " '/home/venkateshiyer/handwritten_dataset/NIST_full/1/hsf_0_02159.png': 7,\n",
       " '/home/venkateshiyer/handwritten_dataset/NIST_full/1/hsf_0_02184.png': 7,\n",
       " '/home/venkateshiyer/handwritten_dataset/NIST_full/1/hsf_0_02197.png': 7,\n",
       " '/home/venkateshiyer/handwritten_dataset/NIST_full/1/hsf_0_02225.png': 6,\n",
       " '/home/venkateshiyer/handwritten_dataset/NIST_full/1/hsf_0_02235.png': 7,\n",
       " '/home/venkateshiyer/handwritten_dataset/NIST_full/1/hsf_0_02264.png': 7,\n",
       " '/home/venkateshiyer/handwritten_dataset/NIST_full/1/hsf_0_02325.png': 7,\n",
       " '/home/venkateshiyer/handwritten_dataset/NIST_full/1/hsf_0_02326.png': 7,\n",
       " '/home/venkateshiyer/handwritten_dataset/NIST_full/1/hsf_0_02377.png': 7,\n",
       " '/home/venkateshiyer/handwritten_dataset/NIST_full/1/hsf_0_02403.png': 7,\n",
       " '/home/venkateshiyer/handwritten_dataset/NIST_full/1/hsf_0_02404.png': 7,\n",
       " '/home/venkateshiyer/handwritten_dataset/NIST_full/1/hsf_0_02589.png': 4,\n",
       " '/home/venkateshiyer/handwritten_dataset/NIST_full/1/hsf_0_02642.png': 7,\n",
       " '/home/venkateshiyer/handwritten_dataset/NIST_full/1/hsf_0_02665.png': 7,\n",
       " '/home/venkateshiyer/handwritten_dataset/NIST_full/1/hsf_0_02668.png': 7,\n",
       " '/home/venkateshiyer/handwritten_dataset/NIST_full/1/hsf_0_02687.png': 7,\n",
       " '/home/venkateshiyer/handwritten_dataset/NIST_full/1/hsf_0_02690.png': 7,\n",
       " '/home/venkateshiyer/handwritten_dataset/NIST_full/1/hsf_0_02800.png': 7,\n",
       " '/home/venkateshiyer/handwritten_dataset/NIST_full/1/hsf_0_02857.png': 3,\n",
       " '/home/venkateshiyer/handwritten_dataset/NIST_full/1/hsf_0_02858.png': 3,\n",
       " '/home/venkateshiyer/handwritten_dataset/NIST_full/1/hsf_0_02860.png': 2,\n",
       " '/home/venkateshiyer/handwritten_dataset/NIST_full/1/hsf_0_02863.png': 2,\n",
       " '/home/venkateshiyer/handwritten_dataset/NIST_full/1/hsf_0_02868.png': 2,\n",
       " '/home/venkateshiyer/handwritten_dataset/NIST_full/1/hsf_0_03162.png': 7,\n",
       " '/home/venkateshiyer/handwritten_dataset/NIST_full/1/hsf_0_03218.png': 7,\n",
       " '/home/venkateshiyer/handwritten_dataset/NIST_full/1/hsf_0_03301.png': 7,\n",
       " '/home/venkateshiyer/handwritten_dataset/NIST_full/1/hsf_0_03340.png': 7,\n",
       " '/home/venkateshiyer/handwritten_dataset/NIST_full/1/hsf_0_03397.png': 2,\n",
       " '/home/venkateshiyer/handwritten_dataset/NIST_full/1/hsf_0_03499.png': 7,\n",
       " '/home/venkateshiyer/handwritten_dataset/NIST_full/1/hsf_0_03536.png': 7,\n",
       " '/home/venkateshiyer/handwritten_dataset/NIST_full/1/hsf_0_03541.png': 7,\n",
       " '/home/venkateshiyer/handwritten_dataset/NIST_full/1/hsf_0_03551.png': 6,\n",
       " '/home/venkateshiyer/handwritten_dataset/NIST_full/1/hsf_0_03554.png': 6,\n",
       " '/home/venkateshiyer/handwritten_dataset/NIST_full/1/hsf_0_03582.png': 3,\n",
       " '/home/venkateshiyer/handwritten_dataset/NIST_full/1/hsf_0_03629.png': 7,\n",
       " '/home/venkateshiyer/handwritten_dataset/NIST_full/1/hsf_0_03657.png': 4,\n",
       " '/home/venkateshiyer/handwritten_dataset/NIST_full/1/hsf_0_03738.png': 8,\n",
       " '/home/venkateshiyer/handwritten_dataset/NIST_full/1/hsf_0_03787.png': 7,\n",
       " '/home/venkateshiyer/handwritten_dataset/NIST_full/1/hsf_0_03831.png': 7,\n",
       " '/home/venkateshiyer/handwritten_dataset/NIST_full/1/hsf_0_03837.png': 7,\n",
       " '/home/venkateshiyer/handwritten_dataset/NIST_full/1/hsf_0_03933.png': 6,\n",
       " '/home/venkateshiyer/handwritten_dataset/NIST_full/1/hsf_0_03964.png': 7,\n",
       " '/home/venkateshiyer/handwritten_dataset/NIST_full/1/hsf_0_03971.png': 7,\n",
       " '/home/venkateshiyer/handwritten_dataset/NIST_full/1/hsf_0_04064.png': 5,\n",
       " '/home/venkateshiyer/handwritten_dataset/NIST_full/1/hsf_0_04084.png': 7,\n",
       " '/home/venkateshiyer/handwritten_dataset/NIST_full/1/hsf_0_04145.png': 6,\n",
       " '/home/venkateshiyer/handwritten_dataset/NIST_full/1/hsf_0_04154.png': 6,\n",
       " '/home/venkateshiyer/handwritten_dataset/NIST_full/1/hsf_0_04206.png': 7,\n",
       " '/home/venkateshiyer/handwritten_dataset/NIST_full/1/hsf_0_04248.png': 7,\n",
       " '/home/venkateshiyer/handwritten_dataset/NIST_full/1/hsf_0_04258.png': 0,\n",
       " '/home/venkateshiyer/handwritten_dataset/NIST_full/1/hsf_0_04262.png': 0,\n",
       " '/home/venkateshiyer/handwritten_dataset/NIST_full/1/hsf_0_04263.png': 8,\n",
       " '/home/venkateshiyer/handwritten_dataset/NIST_full/1/hsf_0_04264.png': 7,\n",
       " '/home/venkateshiyer/handwritten_dataset/NIST_full/1/hsf_0_04265.png': 0,\n",
       " '/home/venkateshiyer/handwritten_dataset/NIST_full/1/hsf_0_04266.png': 0,\n",
       " '/home/venkateshiyer/handwritten_dataset/NIST_full/1/hsf_0_04267.png': 0,\n",
       " '/home/venkateshiyer/handwritten_dataset/NIST_full/1/hsf_0_04268.png': 0,\n",
       " '/home/venkateshiyer/handwritten_dataset/NIST_full/1/hsf_0_04318.png': 7,\n",
       " '/home/venkateshiyer/handwritten_dataset/NIST_full/1/hsf_0_04332.png': 3,\n",
       " '/home/venkateshiyer/handwritten_dataset/NIST_full/1/hsf_0_04343.png': 7,\n",
       " '/home/venkateshiyer/handwritten_dataset/NIST_full/1/hsf_0_04461.png': 3,\n",
       " '/home/venkateshiyer/handwritten_dataset/NIST_full/1/hsf_0_04509.png': 7,\n",
       " '/home/venkateshiyer/handwritten_dataset/NIST_full/1/hsf_0_04544.png': 7,\n",
       " '/home/venkateshiyer/handwritten_dataset/NIST_full/1/hsf_0_04636.png': 7,\n",
       " '/home/venkateshiyer/handwritten_dataset/NIST_full/1/hsf_0_04734.png': 6,\n",
       " '/home/venkateshiyer/handwritten_dataset/NIST_full/1/hsf_0_04802.png': 7,\n",
       " '/home/venkateshiyer/handwritten_dataset/NIST_full/1/hsf_0_04872.png': 7,\n",
       " '/home/venkateshiyer/handwritten_dataset/NIST_full/1/hsf_0_04981.png': 7,\n",
       " '/home/venkateshiyer/handwritten_dataset/NIST_full/1/hsf_0_05062.png': 7,\n",
       " '/home/venkateshiyer/handwritten_dataset/NIST_full/1/hsf_0_05147.png': 7,\n",
       " '/home/venkateshiyer/handwritten_dataset/NIST_full/1/hsf_0_05149.png': 7,\n",
       " '/home/venkateshiyer/handwritten_dataset/NIST_full/1/hsf_0_05150.png': 7,\n",
       " '/home/venkateshiyer/handwritten_dataset/NIST_full/1/hsf_0_05152.png': 7,\n",
       " '/home/venkateshiyer/handwritten_dataset/NIST_full/1/hsf_0_05171.png': 7,\n",
       " '/home/venkateshiyer/handwritten_dataset/NIST_full/1/hsf_0_05179.png': 7,\n",
       " '/home/venkateshiyer/handwritten_dataset/NIST_full/1/hsf_0_05196.png': 7,\n",
       " '/home/venkateshiyer/handwritten_dataset/NIST_full/1/hsf_0_05236.png': 7,\n",
       " '/home/venkateshiyer/handwritten_dataset/NIST_full/1/hsf_0_05237.png': 7,\n",
       " '/home/venkateshiyer/handwritten_dataset/NIST_full/1/hsf_0_05272.png': 7,\n",
       " '/home/venkateshiyer/handwritten_dataset/NIST_full/1/hsf_0_05295.png': 7,\n",
       " '/home/venkateshiyer/handwritten_dataset/NIST_full/1/hsf_0_05319.png': 7,\n",
       " '/home/venkateshiyer/handwritten_dataset/NIST_full/1/hsf_0_05380.png': 6,\n",
       " '/home/venkateshiyer/handwritten_dataset/NIST_full/1/hsf_0_05404.png': 6,\n",
       " '/home/venkateshiyer/handwritten_dataset/NIST_full/1/hsf_0_05417.png': 6,\n",
       " '/home/venkateshiyer/handwritten_dataset/NIST_full/1/hsf_0_05500.png': 7,\n",
       " '/home/venkateshiyer/handwritten_dataset/NIST_full/1/hsf_0_05504.png': 7,\n",
       " '/home/venkateshiyer/handwritten_dataset/NIST_full/1/hsf_0_05536.png': 7,\n",
       " '/home/venkateshiyer/handwritten_dataset/NIST_full/1/hsf_0_05599.png': 7,\n",
       " '/home/venkateshiyer/handwritten_dataset/NIST_full/1/hsf_0_05647.png': 7,\n",
       " '/home/venkateshiyer/handwritten_dataset/NIST_full/1/hsf_0_05710.png': 7,\n",
       " '/home/venkateshiyer/handwritten_dataset/NIST_full/1/hsf_0_05837.png': 7,\n",
       " '/home/venkateshiyer/handwritten_dataset/NIST_full/1/hsf_0_05939.png': 7,\n",
       " '/home/venkateshiyer/handwritten_dataset/NIST_full/1/hsf_0_05944.png': 7}"
      ]
     },
     "execution_count": 11,
     "metadata": {},
     "output_type": "execute_result"
    }
   ],
   "source": [
    "wrong_results"
   ]
  },
  {
   "cell_type": "code",
   "execution_count": 10,
   "id": "45e5072a",
   "metadata": {},
   "outputs": [],
   "source": [
    "path = os.path.expanduser('~')+'/handwritten_dataset/final_NIST_inference/2/*'\n",
    "result, accuracy, gt, prediction, wrong_results = pred_using_h5_digit(model,path)"
   ]
  },
  {
   "cell_type": "code",
   "execution_count": 11,
   "id": "86061563",
   "metadata": {},
   "outputs": [
    {
     "name": "stdout",
     "output_type": "stream",
     "text": [
      "0.9961998859965799\n",
      "              precision    recall  f1-score   support\n",
      "\n",
      "           0       0.00      0.00      0.00         0\n",
      "           2       1.00      1.00      1.00      5263\n",
      "           3       0.00      0.00      0.00         0\n",
      "           4       0.00      0.00      0.00         0\n",
      "           6       0.00      0.00      0.00         0\n",
      "           7       0.00      0.00      0.00         0\n",
      "           8       0.00      0.00      0.00         0\n",
      "           9       0.00      0.00      0.00         0\n",
      "\n",
      "    accuracy                           1.00      5263\n",
      "   macro avg       0.12      0.12      0.12      5263\n",
      "weighted avg       1.00      1.00      1.00      5263\n",
      "\n"
     ]
    },
    {
     "name": "stderr",
     "output_type": "stream",
     "text": [
      "/home/venkateshiyer/ocrtool/lib/python3.8/site-packages/sklearn/metrics/_classification.py:1334: UndefinedMetricWarning: Recall and F-score are ill-defined and being set to 0.0 in labels with no true samples. Use `zero_division` parameter to control this behavior.\n",
      "  _warn_prf(average, modifier, msg_start, len(result))\n",
      "/home/venkateshiyer/ocrtool/lib/python3.8/site-packages/sklearn/metrics/_classification.py:1334: UndefinedMetricWarning: Recall and F-score are ill-defined and being set to 0.0 in labels with no true samples. Use `zero_division` parameter to control this behavior.\n",
      "  _warn_prf(average, modifier, msg_start, len(result))\n",
      "/home/venkateshiyer/ocrtool/lib/python3.8/site-packages/sklearn/metrics/_classification.py:1334: UndefinedMetricWarning: Recall and F-score are ill-defined and being set to 0.0 in labels with no true samples. Use `zero_division` parameter to control this behavior.\n",
      "  _warn_prf(average, modifier, msg_start, len(result))\n"
     ]
    }
   ],
   "source": [
    "print(accuracy)\n",
    "from sklearn import metrics\n",
    "print(metrics.classification_report(gt, prediction))"
   ]
  },
  {
   "cell_type": "code",
   "execution_count": 14,
   "id": "e4e4d48a",
   "metadata": {},
   "outputs": [
    {
     "data": {
      "text/plain": [
       "16"
      ]
     },
     "execution_count": 14,
     "metadata": {},
     "output_type": "execute_result"
    }
   ],
   "source": [
    "len(wrong_results)"
   ]
  },
  {
   "cell_type": "code",
   "execution_count": 15,
   "id": "3aa7f173",
   "metadata": {},
   "outputs": [
    {
     "data": {
      "text/plain": [
       "{'/home/venkateshiyer/handwritten_dataset/NIST_full/2/hsf_0_00049.png': 7,\n",
       " '/home/venkateshiyer/handwritten_dataset/NIST_full/2/hsf_0_00205.png': 5,\n",
       " '/home/venkateshiyer/handwritten_dataset/NIST_full/2/hsf_0_01514.png': 7,\n",
       " '/home/venkateshiyer/handwritten_dataset/NIST_full/2/hsf_0_01574.png': 0,\n",
       " '/home/venkateshiyer/handwritten_dataset/NIST_full/2/hsf_0_01761.png': 7,\n",
       " '/home/venkateshiyer/handwritten_dataset/NIST_full/2/hsf_0_01822.png': 9,\n",
       " '/home/venkateshiyer/handwritten_dataset/NIST_full/2/hsf_0_02166.png': 9,\n",
       " '/home/venkateshiyer/handwritten_dataset/NIST_full/2/hsf_0_03022.png': 0,\n",
       " '/home/venkateshiyer/handwritten_dataset/NIST_full/2/hsf_0_03446.png': 7,\n",
       " '/home/venkateshiyer/handwritten_dataset/NIST_full/2/hsf_0_03878.png': 7,\n",
       " '/home/venkateshiyer/handwritten_dataset/NIST_full/2/hsf_0_03938.png': 7,\n",
       " '/home/venkateshiyer/handwritten_dataset/NIST_full/2/hsf_0_04116.png': 7,\n",
       " '/home/venkateshiyer/handwritten_dataset/NIST_full/2/hsf_0_04155.png': 9,\n",
       " '/home/venkateshiyer/handwritten_dataset/NIST_full/2/hsf_0_04203.png': 4,\n",
       " '/home/venkateshiyer/handwritten_dataset/NIST_full/2/hsf_0_04205.png': 7,\n",
       " '/home/venkateshiyer/handwritten_dataset/NIST_full/2/hsf_0_04414.png': 5}"
      ]
     },
     "execution_count": 15,
     "metadata": {},
     "output_type": "execute_result"
    }
   ],
   "source": [
    "wrong_results"
   ]
  },
  {
   "cell_type": "code",
   "execution_count": 12,
   "id": "0ca6c8f0",
   "metadata": {},
   "outputs": [],
   "source": [
    "path = os.path.expanduser('~')+'/handwritten_dataset/final_NIST_inference/3/*'\n",
    "result, accuracy, gt, prediction, wrong_results = pred_using_h5_digit(model,path)"
   ]
  },
  {
   "cell_type": "code",
   "execution_count": 13,
   "id": "1b4124b1",
   "metadata": {},
   "outputs": [
    {
     "name": "stdout",
     "output_type": "stream",
     "text": [
      "0.9885807504078303\n",
      "              precision    recall  f1-score   support\n",
      "\n",
      "           2       0.00      0.00      0.00         0\n",
      "           3       1.00      0.99      0.99      5517\n",
      "           5       0.00      0.00      0.00         0\n",
      "           7       0.00      0.00      0.00         0\n",
      "           8       0.00      0.00      0.00         0\n",
      "           9       0.00      0.00      0.00         0\n",
      "\n",
      "    accuracy                           0.99      5517\n",
      "   macro avg       0.17      0.16      0.17      5517\n",
      "weighted avg       1.00      0.99      0.99      5517\n",
      "\n"
     ]
    },
    {
     "name": "stderr",
     "output_type": "stream",
     "text": [
      "/home/venkateshiyer/ocrtool/lib/python3.8/site-packages/sklearn/metrics/_classification.py:1334: UndefinedMetricWarning: Recall and F-score are ill-defined and being set to 0.0 in labels with no true samples. Use `zero_division` parameter to control this behavior.\n",
      "  _warn_prf(average, modifier, msg_start, len(result))\n",
      "/home/venkateshiyer/ocrtool/lib/python3.8/site-packages/sklearn/metrics/_classification.py:1334: UndefinedMetricWarning: Recall and F-score are ill-defined and being set to 0.0 in labels with no true samples. Use `zero_division` parameter to control this behavior.\n",
      "  _warn_prf(average, modifier, msg_start, len(result))\n",
      "/home/venkateshiyer/ocrtool/lib/python3.8/site-packages/sklearn/metrics/_classification.py:1334: UndefinedMetricWarning: Recall and F-score are ill-defined and being set to 0.0 in labels with no true samples. Use `zero_division` parameter to control this behavior.\n",
      "  _warn_prf(average, modifier, msg_start, len(result))\n"
     ]
    }
   ],
   "source": [
    "print(accuracy)\n",
    "from sklearn import metrics\n",
    "print(metrics.classification_report(gt, prediction))"
   ]
  },
  {
   "cell_type": "code",
   "execution_count": 14,
   "id": "c170fd16",
   "metadata": {},
   "outputs": [
    {
     "data": {
      "text/plain": [
       "63"
      ]
     },
     "execution_count": 14,
     "metadata": {},
     "output_type": "execute_result"
    }
   ],
   "source": [
    "len(wrong_results)"
   ]
  },
  {
   "cell_type": "code",
   "execution_count": 15,
   "id": "ff265470",
   "metadata": {},
   "outputs": [
    {
     "data": {
      "text/plain": [
       "{'/home/venkateshiyer/handwritten_dataset/final_NIST_inference/3/hsf_1_00204.png': 2,\n",
       " '/home/venkateshiyer/handwritten_dataset/final_NIST_inference/3/hsf_1_00209.png': 7,\n",
       " '/home/venkateshiyer/handwritten_dataset/final_NIST_inference/3/hsf_1_00212.png': 2,\n",
       " '/home/venkateshiyer/handwritten_dataset/final_NIST_inference/3/hsf_1_00214.png': 2,\n",
       " '/home/venkateshiyer/handwritten_dataset/final_NIST_inference/3/hsf_1_00215.png': 2,\n",
       " '/home/venkateshiyer/handwritten_dataset/final_NIST_inference/3/hsf_1_00216.png': 2,\n",
       " '/home/venkateshiyer/handwritten_dataset/final_NIST_inference/3/hsf_1_00217.png': 2,\n",
       " '/home/venkateshiyer/handwritten_dataset/final_NIST_inference/3/hsf_1_00218.png': 2,\n",
       " '/home/venkateshiyer/handwritten_dataset/final_NIST_inference/3/hsf_1_00220.png': 2,\n",
       " '/home/venkateshiyer/handwritten_dataset/final_NIST_inference/3/hsf_1_00260.png': 9,\n",
       " '/home/venkateshiyer/handwritten_dataset/final_NIST_inference/3/hsf_1_00700.png': 2,\n",
       " '/home/venkateshiyer/handwritten_dataset/final_NIST_inference/3/hsf_1_00703.png': 8,\n",
       " '/home/venkateshiyer/handwritten_dataset/final_NIST_inference/3/hsf_1_00811.png': 5,\n",
       " '/home/venkateshiyer/handwritten_dataset/final_NIST_inference/3/hsf_1_00840.png': 2,\n",
       " '/home/venkateshiyer/handwritten_dataset/final_NIST_inference/3/hsf_1_01103.png': 2,\n",
       " '/home/venkateshiyer/handwritten_dataset/final_NIST_inference/3/hsf_1_01108.png': 2,\n",
       " '/home/venkateshiyer/handwritten_dataset/final_NIST_inference/3/hsf_1_01114.png': 9,\n",
       " '/home/venkateshiyer/handwritten_dataset/final_NIST_inference/3/hsf_1_01153.png': 2,\n",
       " '/home/venkateshiyer/handwritten_dataset/final_NIST_inference/3/hsf_1_01404.png': 7,\n",
       " '/home/venkateshiyer/handwritten_dataset/final_NIST_inference/3/hsf_1_01406.png': 7,\n",
       " '/home/venkateshiyer/handwritten_dataset/final_NIST_inference/3/hsf_1_01481.png': 8,\n",
       " '/home/venkateshiyer/handwritten_dataset/final_NIST_inference/3/hsf_1_01631.png': 7,\n",
       " '/home/venkateshiyer/handwritten_dataset/final_NIST_inference/3/hsf_1_01728.png': 2,\n",
       " '/home/venkateshiyer/handwritten_dataset/final_NIST_inference/3/hsf_1_01749.png': 5,\n",
       " '/home/venkateshiyer/handwritten_dataset/final_NIST_inference/3/hsf_1_01880.png': 2,\n",
       " '/home/venkateshiyer/handwritten_dataset/final_NIST_inference/3/hsf_1_01903.png': 2,\n",
       " '/home/venkateshiyer/handwritten_dataset/final_NIST_inference/3/hsf_1_02005.png': 5,\n",
       " '/home/venkateshiyer/handwritten_dataset/final_NIST_inference/3/hsf_1_02031.png': 2,\n",
       " '/home/venkateshiyer/handwritten_dataset/final_NIST_inference/3/hsf_1_02053.png': 5,\n",
       " '/home/venkateshiyer/handwritten_dataset/final_NIST_inference/3/hsf_1_02062.png': 2,\n",
       " '/home/venkateshiyer/handwritten_dataset/final_NIST_inference/3/hsf_1_02341.png': 7,\n",
       " '/home/venkateshiyer/handwritten_dataset/final_NIST_inference/3/hsf_1_02535.png': 8,\n",
       " '/home/venkateshiyer/handwritten_dataset/final_NIST_inference/3/hsf_1_02552.png': 2,\n",
       " '/home/venkateshiyer/handwritten_dataset/final_NIST_inference/3/hsf_1_02583.png': 2,\n",
       " '/home/venkateshiyer/handwritten_dataset/final_NIST_inference/3/hsf_1_02678.png': 2,\n",
       " '/home/venkateshiyer/handwritten_dataset/final_NIST_inference/3/hsf_1_02728.png': 2,\n",
       " '/home/venkateshiyer/handwritten_dataset/final_NIST_inference/3/hsf_1_02763.png': 7,\n",
       " '/home/venkateshiyer/handwritten_dataset/final_NIST_inference/3/hsf_1_02792.png': 2,\n",
       " '/home/venkateshiyer/handwritten_dataset/final_NIST_inference/3/hsf_1_02793.png': 2,\n",
       " '/home/venkateshiyer/handwritten_dataset/final_NIST_inference/3/hsf_1_03261.png': 2,\n",
       " '/home/venkateshiyer/handwritten_dataset/final_NIST_inference/3/hsf_1_03523.png': 7,\n",
       " '/home/venkateshiyer/handwritten_dataset/final_NIST_inference/3/hsf_1_03578.png': 2,\n",
       " '/home/venkateshiyer/handwritten_dataset/final_NIST_inference/3/hsf_1_03592.png': 2,\n",
       " '/home/venkateshiyer/handwritten_dataset/final_NIST_inference/3/hsf_1_03676.png': 2,\n",
       " '/home/venkateshiyer/handwritten_dataset/final_NIST_inference/3/hsf_1_03802.png': 2,\n",
       " '/home/venkateshiyer/handwritten_dataset/final_NIST_inference/3/hsf_1_04046.png': 2,\n",
       " '/home/venkateshiyer/handwritten_dataset/final_NIST_inference/3/hsf_1_04142.png': 2,\n",
       " '/home/venkateshiyer/handwritten_dataset/final_NIST_inference/3/hsf_1_04150.png': 2,\n",
       " '/home/venkateshiyer/handwritten_dataset/final_NIST_inference/3/hsf_1_04377.png': 2,\n",
       " '/home/venkateshiyer/handwritten_dataset/final_NIST_inference/3/hsf_1_04482.png': 2,\n",
       " '/home/venkateshiyer/handwritten_dataset/final_NIST_inference/3/hsf_1_04492.png': 7,\n",
       " '/home/venkateshiyer/handwritten_dataset/final_NIST_inference/3/hsf_1_04604.png': 2,\n",
       " '/home/venkateshiyer/handwritten_dataset/final_NIST_inference/3/hsf_1_04731.png': 7,\n",
       " '/home/venkateshiyer/handwritten_dataset/final_NIST_inference/3/hsf_1_04769.png': 2,\n",
       " '/home/venkateshiyer/handwritten_dataset/final_NIST_inference/3/hsf_1_04828.png': 7,\n",
       " '/home/venkateshiyer/handwritten_dataset/final_NIST_inference/3/hsf_1_04865.png': 7,\n",
       " '/home/venkateshiyer/handwritten_dataset/final_NIST_inference/3/hsf_1_05000.png': 5,\n",
       " '/home/venkateshiyer/handwritten_dataset/final_NIST_inference/3/hsf_1_05107.png': 2,\n",
       " '/home/venkateshiyer/handwritten_dataset/final_NIST_inference/3/hsf_1_05118.png': 2,\n",
       " '/home/venkateshiyer/handwritten_dataset/final_NIST_inference/3/hsf_1_05126.png': 2,\n",
       " '/home/venkateshiyer/handwritten_dataset/final_NIST_inference/3/hsf_1_05387.png': 2,\n",
       " '/home/venkateshiyer/handwritten_dataset/final_NIST_inference/3/hsf_1_05455.png': 2,\n",
       " '/home/venkateshiyer/handwritten_dataset/final_NIST_inference/3/hsf_1_05506.png': 7}"
      ]
     },
     "execution_count": 15,
     "metadata": {},
     "output_type": "execute_result"
    }
   ],
   "source": [
    "wrong_results"
   ]
  },
  {
   "cell_type": "code",
   "execution_count": 16,
   "id": "4738af3f",
   "metadata": {},
   "outputs": [],
   "source": [
    "path = os.path.expanduser('~')+'/handwritten_dataset/final_NIST_inference/4/*'\n",
    "result, accuracy, gt, prediction, wrong_results = pred_using_h5_digit(model,path)"
   ]
  },
  {
   "cell_type": "code",
   "execution_count": 17,
   "id": "2cc0cb42",
   "metadata": {},
   "outputs": [
    {
     "name": "stdout",
     "output_type": "stream",
     "text": [
      "0.9813030069390902\n",
      "              precision    recall  f1-score   support\n",
      "\n",
      "           1       0.00      0.00      0.00         0\n",
      "           2       0.00      0.00      0.00         0\n",
      "           4       1.00      0.98      0.99      5188\n",
      "           6       0.00      0.00      0.00         0\n",
      "           7       0.00      0.00      0.00         0\n",
      "           9       0.00      0.00      0.00         0\n",
      "\n",
      "    accuracy                           0.98      5188\n",
      "   macro avg       0.17      0.16      0.17      5188\n",
      "weighted avg       1.00      0.98      0.99      5188\n",
      "\n"
     ]
    },
    {
     "name": "stderr",
     "output_type": "stream",
     "text": [
      "/home/venkateshiyer/ocrtool/lib/python3.8/site-packages/sklearn/metrics/_classification.py:1334: UndefinedMetricWarning: Recall and F-score are ill-defined and being set to 0.0 in labels with no true samples. Use `zero_division` parameter to control this behavior.\n",
      "  _warn_prf(average, modifier, msg_start, len(result))\n",
      "/home/venkateshiyer/ocrtool/lib/python3.8/site-packages/sklearn/metrics/_classification.py:1334: UndefinedMetricWarning: Recall and F-score are ill-defined and being set to 0.0 in labels with no true samples. Use `zero_division` parameter to control this behavior.\n",
      "  _warn_prf(average, modifier, msg_start, len(result))\n",
      "/home/venkateshiyer/ocrtool/lib/python3.8/site-packages/sklearn/metrics/_classification.py:1334: UndefinedMetricWarning: Recall and F-score are ill-defined and being set to 0.0 in labels with no true samples. Use `zero_division` parameter to control this behavior.\n",
      "  _warn_prf(average, modifier, msg_start, len(result))\n"
     ]
    }
   ],
   "source": [
    "print(accuracy)\n",
    "from sklearn import metrics\n",
    "print(metrics.classification_report(gt, prediction))"
   ]
  },
  {
   "cell_type": "code",
   "execution_count": 22,
   "id": "d57b8b85",
   "metadata": {},
   "outputs": [
    {
     "data": {
      "text/plain": [
       "45"
      ]
     },
     "execution_count": 22,
     "metadata": {},
     "output_type": "execute_result"
    }
   ],
   "source": [
    "len(wrong_results)"
   ]
  },
  {
   "cell_type": "code",
   "execution_count": 23,
   "id": "518b2a50",
   "metadata": {},
   "outputs": [
    {
     "data": {
      "text/plain": [
       "{'/home/venkateshiyer/handwritten_dataset/NIST_full/4/hsf_0_00505.png': 9,\n",
       " '/home/venkateshiyer/handwritten_dataset/NIST_full/4/hsf_0_00973.png': 5,\n",
       " '/home/venkateshiyer/handwritten_dataset/NIST_full/4/hsf_0_01100.png': 2,\n",
       " '/home/venkateshiyer/handwritten_dataset/NIST_full/4/hsf_0_01137.png': 9,\n",
       " '/home/venkateshiyer/handwritten_dataset/NIST_full/4/hsf_0_01138.png': 9,\n",
       " '/home/venkateshiyer/handwritten_dataset/NIST_full/4/hsf_0_01183.png': 9,\n",
       " '/home/venkateshiyer/handwritten_dataset/NIST_full/4/hsf_0_01250.png': 7,\n",
       " '/home/venkateshiyer/handwritten_dataset/NIST_full/4/hsf_0_01298.png': 7,\n",
       " '/home/venkateshiyer/handwritten_dataset/NIST_full/4/hsf_0_01353.png': 7,\n",
       " '/home/venkateshiyer/handwritten_dataset/NIST_full/4/hsf_0_01470.png': 7,\n",
       " '/home/venkateshiyer/handwritten_dataset/NIST_full/4/hsf_0_01507.png': 2,\n",
       " '/home/venkateshiyer/handwritten_dataset/NIST_full/4/hsf_0_01517.png': 7,\n",
       " '/home/venkateshiyer/handwritten_dataset/NIST_full/4/hsf_0_01542.png': 9,\n",
       " '/home/venkateshiyer/handwritten_dataset/NIST_full/4/hsf_0_01543.png': 9,\n",
       " '/home/venkateshiyer/handwritten_dataset/NIST_full/4/hsf_0_01657.png': 7,\n",
       " '/home/venkateshiyer/handwritten_dataset/NIST_full/4/hsf_0_01900.png': 7,\n",
       " '/home/venkateshiyer/handwritten_dataset/NIST_full/4/hsf_0_01907.png': 7,\n",
       " '/home/venkateshiyer/handwritten_dataset/NIST_full/4/hsf_0_01957.png': 9,\n",
       " '/home/venkateshiyer/handwritten_dataset/NIST_full/4/hsf_0_02362.png': 9,\n",
       " '/home/venkateshiyer/handwritten_dataset/NIST_full/4/hsf_0_02416.png': 9,\n",
       " '/home/venkateshiyer/handwritten_dataset/NIST_full/4/hsf_0_02420.png': 9,\n",
       " '/home/venkateshiyer/handwritten_dataset/NIST_full/4/hsf_0_02559.png': 7,\n",
       " '/home/venkateshiyer/handwritten_dataset/NIST_full/4/hsf_0_02909.png': 7,\n",
       " '/home/venkateshiyer/handwritten_dataset/NIST_full/4/hsf_0_02933.png': 9,\n",
       " '/home/venkateshiyer/handwritten_dataset/NIST_full/4/hsf_0_02961.png': 7,\n",
       " '/home/venkateshiyer/handwritten_dataset/NIST_full/4/hsf_0_02969.png': 7,\n",
       " '/home/venkateshiyer/handwritten_dataset/NIST_full/4/hsf_0_02982.png': 6,\n",
       " '/home/venkateshiyer/handwritten_dataset/NIST_full/4/hsf_0_02985.png': 2,\n",
       " '/home/venkateshiyer/handwritten_dataset/NIST_full/4/hsf_0_02986.png': 2,\n",
       " '/home/venkateshiyer/handwritten_dataset/NIST_full/4/hsf_0_03174.png': 7,\n",
       " '/home/venkateshiyer/handwritten_dataset/NIST_full/4/hsf_0_03178.png': 9,\n",
       " '/home/venkateshiyer/handwritten_dataset/NIST_full/4/hsf_0_03179.png': 9,\n",
       " '/home/venkateshiyer/handwritten_dataset/NIST_full/4/hsf_0_03180.png': 9,\n",
       " '/home/venkateshiyer/handwritten_dataset/NIST_full/4/hsf_0_03185.png': 7,\n",
       " '/home/venkateshiyer/handwritten_dataset/NIST_full/4/hsf_0_03285.png': 9,\n",
       " '/home/venkateshiyer/handwritten_dataset/NIST_full/4/hsf_0_03372.png': 9,\n",
       " '/home/venkateshiyer/handwritten_dataset/NIST_full/4/hsf_0_03412.png': 9,\n",
       " '/home/venkateshiyer/handwritten_dataset/NIST_full/4/hsf_0_03697.png': 9,\n",
       " '/home/venkateshiyer/handwritten_dataset/NIST_full/4/hsf_0_03815.png': 9,\n",
       " '/home/venkateshiyer/handwritten_dataset/NIST_full/4/hsf_0_03938.png': 9,\n",
       " '/home/venkateshiyer/handwritten_dataset/NIST_full/4/hsf_0_04094.png': 2,\n",
       " '/home/venkateshiyer/handwritten_dataset/NIST_full/4/hsf_0_04164.png': 9,\n",
       " '/home/venkateshiyer/handwritten_dataset/NIST_full/4/hsf_0_04515.png': 9,\n",
       " '/home/venkateshiyer/handwritten_dataset/NIST_full/4/hsf_0_04773.png': 9,\n",
       " '/home/venkateshiyer/handwritten_dataset/NIST_full/4/hsf_0_04777.png': 9}"
      ]
     },
     "execution_count": 23,
     "metadata": {},
     "output_type": "execute_result"
    }
   ],
   "source": [
    "wrong_results"
   ]
  },
  {
   "cell_type": "code",
   "execution_count": 18,
   "id": "15a7d881",
   "metadata": {},
   "outputs": [],
   "source": [
    "path = os.path.expanduser('~')+'/handwritten_dataset/final_NIST_inference/5/*'\n",
    "result, accuracy, gt, prediction, wrong_results = pred_using_h5_digit(model,path)"
   ]
  },
  {
   "cell_type": "code",
   "execution_count": 19,
   "id": "3c7e6b6c",
   "metadata": {},
   "outputs": [
    {
     "name": "stdout",
     "output_type": "stream",
     "text": [
      "0.9814814814814815\n",
      "              precision    recall  f1-score   support\n",
      "\n",
      "           0       0.00      0.00      0.00         0\n",
      "           2       0.00      0.00      0.00         0\n",
      "           3       0.00      0.00      0.00         0\n",
      "           4       0.00      0.00      0.00         0\n",
      "           5       1.00      0.98      0.99      4644\n",
      "           6       0.00      0.00      0.00         0\n",
      "           7       0.00      0.00      0.00         0\n",
      "           8       0.00      0.00      0.00         0\n",
      "           9       0.00      0.00      0.00         0\n",
      "\n",
      "    accuracy                           0.98      4644\n",
      "   macro avg       0.11      0.11      0.11      4644\n",
      "weighted avg       1.00      0.98      0.99      4644\n",
      "\n"
     ]
    },
    {
     "name": "stderr",
     "output_type": "stream",
     "text": [
      "/home/venkateshiyer/ocrtool/lib/python3.8/site-packages/sklearn/metrics/_classification.py:1334: UndefinedMetricWarning: Recall and F-score are ill-defined and being set to 0.0 in labels with no true samples. Use `zero_division` parameter to control this behavior.\n",
      "  _warn_prf(average, modifier, msg_start, len(result))\n",
      "/home/venkateshiyer/ocrtool/lib/python3.8/site-packages/sklearn/metrics/_classification.py:1334: UndefinedMetricWarning: Recall and F-score are ill-defined and being set to 0.0 in labels with no true samples. Use `zero_division` parameter to control this behavior.\n",
      "  _warn_prf(average, modifier, msg_start, len(result))\n",
      "/home/venkateshiyer/ocrtool/lib/python3.8/site-packages/sklearn/metrics/_classification.py:1334: UndefinedMetricWarning: Recall and F-score are ill-defined and being set to 0.0 in labels with no true samples. Use `zero_division` parameter to control this behavior.\n",
      "  _warn_prf(average, modifier, msg_start, len(result))\n"
     ]
    }
   ],
   "source": [
    "print(accuracy)\n",
    "from sklearn import metrics\n",
    "print(metrics.classification_report(gt, prediction))"
   ]
  },
  {
   "cell_type": "code",
   "execution_count": 20,
   "id": "d1caa17b",
   "metadata": {},
   "outputs": [
    {
     "data": {
      "text/plain": [
       "86"
      ]
     },
     "execution_count": 20,
     "metadata": {},
     "output_type": "execute_result"
    }
   ],
   "source": [
    "len(wrong_results)"
   ]
  },
  {
   "cell_type": "code",
   "execution_count": 21,
   "id": "e12af9cf",
   "metadata": {},
   "outputs": [
    {
     "data": {
      "text/plain": [
       "{'/home/venkateshiyer/handwritten_dataset/final_NIST_inference/5/hsf_1_00050.png': 6,\n",
       " '/home/venkateshiyer/handwritten_dataset/final_NIST_inference/5/hsf_1_00089.png': 8,\n",
       " '/home/venkateshiyer/handwritten_dataset/final_NIST_inference/5/hsf_1_00124.png': 8,\n",
       " '/home/venkateshiyer/handwritten_dataset/final_NIST_inference/5/hsf_1_00126.png': 8,\n",
       " '/home/venkateshiyer/handwritten_dataset/final_NIST_inference/5/hsf_1_00289.png': 9,\n",
       " '/home/venkateshiyer/handwritten_dataset/final_NIST_inference/5/hsf_1_00297.png': 3,\n",
       " '/home/venkateshiyer/handwritten_dataset/final_NIST_inference/5/hsf_1_00327.png': 9,\n",
       " '/home/venkateshiyer/handwritten_dataset/final_NIST_inference/5/hsf_1_00331.png': 3,\n",
       " '/home/venkateshiyer/handwritten_dataset/final_NIST_inference/5/hsf_1_00332.png': 3,\n",
       " '/home/venkateshiyer/handwritten_dataset/final_NIST_inference/5/hsf_1_00334.png': 3,\n",
       " '/home/venkateshiyer/handwritten_dataset/final_NIST_inference/5/hsf_1_00336.png': 3,\n",
       " '/home/venkateshiyer/handwritten_dataset/final_NIST_inference/5/hsf_1_00338.png': 8,\n",
       " '/home/venkateshiyer/handwritten_dataset/final_NIST_inference/5/hsf_1_00340.png': 3,\n",
       " '/home/venkateshiyer/handwritten_dataset/final_NIST_inference/5/hsf_1_00341.png': 3,\n",
       " '/home/venkateshiyer/handwritten_dataset/final_NIST_inference/5/hsf_1_00379.png': 9,\n",
       " '/home/venkateshiyer/handwritten_dataset/final_NIST_inference/5/hsf_1_00383.png': 9,\n",
       " '/home/venkateshiyer/handwritten_dataset/final_NIST_inference/5/hsf_1_00390.png': 0,\n",
       " '/home/venkateshiyer/handwritten_dataset/final_NIST_inference/5/hsf_1_00403.png': 3,\n",
       " '/home/venkateshiyer/handwritten_dataset/final_NIST_inference/5/hsf_1_00405.png': 3,\n",
       " '/home/venkateshiyer/handwritten_dataset/final_NIST_inference/5/hsf_1_00512.png': 9,\n",
       " '/home/venkateshiyer/handwritten_dataset/final_NIST_inference/5/hsf_1_00541.png': 9,\n",
       " '/home/venkateshiyer/handwritten_dataset/final_NIST_inference/5/hsf_1_00547.png': 9,\n",
       " '/home/venkateshiyer/handwritten_dataset/final_NIST_inference/5/hsf_1_00610.png': 3,\n",
       " '/home/venkateshiyer/handwritten_dataset/final_NIST_inference/5/hsf_1_00640.png': 9,\n",
       " '/home/venkateshiyer/handwritten_dataset/final_NIST_inference/5/hsf_1_00720.png': 3,\n",
       " '/home/venkateshiyer/handwritten_dataset/final_NIST_inference/5/hsf_1_00733.png': 2,\n",
       " '/home/venkateshiyer/handwritten_dataset/final_NIST_inference/5/hsf_1_00789.png': 3,\n",
       " '/home/venkateshiyer/handwritten_dataset/final_NIST_inference/5/hsf_1_00795.png': 3,\n",
       " '/home/venkateshiyer/handwritten_dataset/final_NIST_inference/5/hsf_1_00818.png': 3,\n",
       " '/home/venkateshiyer/handwritten_dataset/final_NIST_inference/5/hsf_1_00820.png': 3,\n",
       " '/home/venkateshiyer/handwritten_dataset/final_NIST_inference/5/hsf_1_00850.png': 9,\n",
       " '/home/venkateshiyer/handwritten_dataset/final_NIST_inference/5/hsf_1_00881.png': 8,\n",
       " '/home/venkateshiyer/handwritten_dataset/final_NIST_inference/5/hsf_1_01032.png': 8,\n",
       " '/home/venkateshiyer/handwritten_dataset/final_NIST_inference/5/hsf_1_01039.png': 4,\n",
       " '/home/venkateshiyer/handwritten_dataset/final_NIST_inference/5/hsf_1_01054.png': 9,\n",
       " '/home/venkateshiyer/handwritten_dataset/final_NIST_inference/5/hsf_1_01266.png': 3,\n",
       " '/home/venkateshiyer/handwritten_dataset/final_NIST_inference/5/hsf_1_01270.png': 8,\n",
       " '/home/venkateshiyer/handwritten_dataset/final_NIST_inference/5/hsf_1_01352.png': 3,\n",
       " '/home/venkateshiyer/handwritten_dataset/final_NIST_inference/5/hsf_1_01439.png': 3,\n",
       " '/home/venkateshiyer/handwritten_dataset/final_NIST_inference/5/hsf_1_01546.png': 3,\n",
       " '/home/venkateshiyer/handwritten_dataset/final_NIST_inference/5/hsf_1_01570.png': 3,\n",
       " '/home/venkateshiyer/handwritten_dataset/final_NIST_inference/5/hsf_1_01652.png': 8,\n",
       " '/home/venkateshiyer/handwritten_dataset/final_NIST_inference/5/hsf_1_02092.png': 3,\n",
       " '/home/venkateshiyer/handwritten_dataset/final_NIST_inference/5/hsf_1_02129.png': 0,\n",
       " '/home/venkateshiyer/handwritten_dataset/final_NIST_inference/5/hsf_1_02135.png': 3,\n",
       " '/home/venkateshiyer/handwritten_dataset/final_NIST_inference/5/hsf_1_02208.png': 2,\n",
       " '/home/venkateshiyer/handwritten_dataset/final_NIST_inference/5/hsf_1_02218.png': 3,\n",
       " '/home/venkateshiyer/handwritten_dataset/final_NIST_inference/5/hsf_1_02306.png': 6,\n",
       " '/home/venkateshiyer/handwritten_dataset/final_NIST_inference/5/hsf_1_02337.png': 3,\n",
       " '/home/venkateshiyer/handwritten_dataset/final_NIST_inference/5/hsf_1_02345.png': 6,\n",
       " '/home/venkateshiyer/handwritten_dataset/final_NIST_inference/5/hsf_1_02422.png': 3,\n",
       " '/home/venkateshiyer/handwritten_dataset/final_NIST_inference/5/hsf_1_02636.png': 3,\n",
       " '/home/venkateshiyer/handwritten_dataset/final_NIST_inference/5/hsf_1_02648.png': 3,\n",
       " '/home/venkateshiyer/handwritten_dataset/final_NIST_inference/5/hsf_1_02728.png': 8,\n",
       " '/home/venkateshiyer/handwritten_dataset/final_NIST_inference/5/hsf_1_02750.png': 9,\n",
       " '/home/venkateshiyer/handwritten_dataset/final_NIST_inference/5/hsf_1_02801.png': 8,\n",
       " '/home/venkateshiyer/handwritten_dataset/final_NIST_inference/5/hsf_1_02824.png': 3,\n",
       " '/home/venkateshiyer/handwritten_dataset/final_NIST_inference/5/hsf_1_02899.png': 3,\n",
       " '/home/venkateshiyer/handwritten_dataset/final_NIST_inference/5/hsf_1_03009.png': 9,\n",
       " '/home/venkateshiyer/handwritten_dataset/final_NIST_inference/5/hsf_1_03010.png': 7,\n",
       " '/home/venkateshiyer/handwritten_dataset/final_NIST_inference/5/hsf_1_03036.png': 8,\n",
       " '/home/venkateshiyer/handwritten_dataset/final_NIST_inference/5/hsf_1_03057.png': 3,\n",
       " '/home/venkateshiyer/handwritten_dataset/final_NIST_inference/5/hsf_1_03144.png': 9,\n",
       " '/home/venkateshiyer/handwritten_dataset/final_NIST_inference/5/hsf_1_03145.png': 8,\n",
       " '/home/venkateshiyer/handwritten_dataset/final_NIST_inference/5/hsf_1_03202.png': 3,\n",
       " '/home/venkateshiyer/handwritten_dataset/final_NIST_inference/5/hsf_1_03260.png': 8,\n",
       " '/home/venkateshiyer/handwritten_dataset/final_NIST_inference/5/hsf_1_03460.png': 3,\n",
       " '/home/venkateshiyer/handwritten_dataset/final_NIST_inference/5/hsf_1_03481.png': 3,\n",
       " '/home/venkateshiyer/handwritten_dataset/final_NIST_inference/5/hsf_1_03597.png': 3,\n",
       " '/home/venkateshiyer/handwritten_dataset/final_NIST_inference/5/hsf_1_03606.png': 9,\n",
       " '/home/venkateshiyer/handwritten_dataset/final_NIST_inference/5/hsf_1_03689.png': 3,\n",
       " '/home/venkateshiyer/handwritten_dataset/final_NIST_inference/5/hsf_1_03781.png': 8,\n",
       " '/home/venkateshiyer/handwritten_dataset/final_NIST_inference/5/hsf_1_03816.png': 9,\n",
       " '/home/venkateshiyer/handwritten_dataset/final_NIST_inference/5/hsf_1_03875.png': 3,\n",
       " '/home/venkateshiyer/handwritten_dataset/final_NIST_inference/5/hsf_1_03885.png': 0,\n",
       " '/home/venkateshiyer/handwritten_dataset/final_NIST_inference/5/hsf_1_04009.png': 9,\n",
       " '/home/venkateshiyer/handwritten_dataset/final_NIST_inference/5/hsf_1_04143.png': 6,\n",
       " '/home/venkateshiyer/handwritten_dataset/final_NIST_inference/5/hsf_1_04181.png': 3,\n",
       " '/home/venkateshiyer/handwritten_dataset/final_NIST_inference/5/hsf_1_04251.png': 3,\n",
       " '/home/venkateshiyer/handwritten_dataset/final_NIST_inference/5/hsf_1_04254.png': 3,\n",
       " '/home/venkateshiyer/handwritten_dataset/final_NIST_inference/5/hsf_1_04271.png': 6,\n",
       " '/home/venkateshiyer/handwritten_dataset/final_NIST_inference/5/hsf_1_04309.png': 3,\n",
       " '/home/venkateshiyer/handwritten_dataset/final_NIST_inference/5/hsf_1_04410.png': 9,\n",
       " '/home/venkateshiyer/handwritten_dataset/final_NIST_inference/5/hsf_1_04519.png': 3,\n",
       " '/home/venkateshiyer/handwritten_dataset/final_NIST_inference/5/hsf_1_04522.png': 8,\n",
       " '/home/venkateshiyer/handwritten_dataset/final_NIST_inference/5/hsf_1_04552.png': 9}"
      ]
     },
     "execution_count": 21,
     "metadata": {},
     "output_type": "execute_result"
    }
   ],
   "source": [
    "wrong_results"
   ]
  },
  {
   "cell_type": "code",
   "execution_count": 22,
   "id": "755ce9db",
   "metadata": {},
   "outputs": [],
   "source": [
    "path = os.path.expanduser('~')+'/handwritten_dataset/final_NIST_inference/6/*'\n",
    "result, accuracy, gt, prediction, wrong_results = pred_using_h5_digit(model,path)"
   ]
  },
  {
   "cell_type": "code",
   "execution_count": 24,
   "id": "78943276",
   "metadata": {},
   "outputs": [
    {
     "name": "stdout",
     "output_type": "stream",
     "text": [
      "0.9920514761544285\n",
      "              precision    recall  f1-score   support\n",
      "\n",
      "           0       0.00      0.00      0.00         0\n",
      "           1       0.00      0.00      0.00         0\n",
      "           2       0.00      0.00      0.00         0\n",
      "           3       0.00      0.00      0.00         0\n",
      "           4       0.00      0.00      0.00         0\n",
      "           5       0.00      0.00      0.00         0\n",
      "           6       1.00      0.99      1.00      5284\n",
      "           8       0.00      0.00      0.00         0\n",
      "           9       0.00      0.00      0.00         0\n",
      "\n",
      "    accuracy                           0.99      5284\n",
      "   macro avg       0.11      0.11      0.11      5284\n",
      "weighted avg       1.00      0.99      1.00      5284\n",
      "\n"
     ]
    },
    {
     "name": "stderr",
     "output_type": "stream",
     "text": [
      "/home/venkateshiyer/ocrtool/lib/python3.8/site-packages/sklearn/metrics/_classification.py:1334: UndefinedMetricWarning: Recall and F-score are ill-defined and being set to 0.0 in labels with no true samples. Use `zero_division` parameter to control this behavior.\n",
      "  _warn_prf(average, modifier, msg_start, len(result))\n",
      "/home/venkateshiyer/ocrtool/lib/python3.8/site-packages/sklearn/metrics/_classification.py:1334: UndefinedMetricWarning: Recall and F-score are ill-defined and being set to 0.0 in labels with no true samples. Use `zero_division` parameter to control this behavior.\n",
      "  _warn_prf(average, modifier, msg_start, len(result))\n",
      "/home/venkateshiyer/ocrtool/lib/python3.8/site-packages/sklearn/metrics/_classification.py:1334: UndefinedMetricWarning: Recall and F-score are ill-defined and being set to 0.0 in labels with no true samples. Use `zero_division` parameter to control this behavior.\n",
      "  _warn_prf(average, modifier, msg_start, len(result))\n"
     ]
    }
   ],
   "source": [
    "print(accuracy)\n",
    "from sklearn import metrics\n",
    "print(metrics.classification_report(gt, prediction))"
   ]
  },
  {
   "cell_type": "code",
   "execution_count": 25,
   "id": "304e3058",
   "metadata": {},
   "outputs": [
    {
     "data": {
      "text/plain": [
       "42"
      ]
     },
     "execution_count": 25,
     "metadata": {},
     "output_type": "execute_result"
    }
   ],
   "source": [
    "len(wrong_results)"
   ]
  },
  {
   "cell_type": "code",
   "execution_count": 26,
   "id": "ed8eea55",
   "metadata": {},
   "outputs": [
    {
     "data": {
      "text/plain": [
       "{'/home/venkateshiyer/handwritten_dataset/final_NIST_inference/6/hsf_1_00108.png': 2,\n",
       " '/home/venkateshiyer/handwritten_dataset/final_NIST_inference/6/hsf_1_00115.png': 4,\n",
       " '/home/venkateshiyer/handwritten_dataset/final_NIST_inference/6/hsf_1_00350.png': 4,\n",
       " '/home/venkateshiyer/handwritten_dataset/final_NIST_inference/6/hsf_1_00351.png': 4,\n",
       " '/home/venkateshiyer/handwritten_dataset/final_NIST_inference/6/hsf_1_00355.png': 9,\n",
       " '/home/venkateshiyer/handwritten_dataset/final_NIST_inference/6/hsf_1_00356.png': 0,\n",
       " '/home/venkateshiyer/handwritten_dataset/final_NIST_inference/6/hsf_1_00357.png': 0,\n",
       " '/home/venkateshiyer/handwritten_dataset/final_NIST_inference/6/hsf_1_00362.png': 0,\n",
       " '/home/venkateshiyer/handwritten_dataset/final_NIST_inference/6/hsf_1_00366.png': 0,\n",
       " '/home/venkateshiyer/handwritten_dataset/final_NIST_inference/6/hsf_1_00434.png': 2,\n",
       " '/home/venkateshiyer/handwritten_dataset/final_NIST_inference/6/hsf_1_01160.png': 5,\n",
       " '/home/venkateshiyer/handwritten_dataset/final_NIST_inference/6/hsf_1_01173.png': 2,\n",
       " '/home/venkateshiyer/handwritten_dataset/final_NIST_inference/6/hsf_1_01212.png': 4,\n",
       " '/home/venkateshiyer/handwritten_dataset/final_NIST_inference/6/hsf_1_01250.png': 4,\n",
       " '/home/venkateshiyer/handwritten_dataset/final_NIST_inference/6/hsf_1_01486.png': 4,\n",
       " '/home/venkateshiyer/handwritten_dataset/final_NIST_inference/6/hsf_1_01511.png': 8,\n",
       " '/home/venkateshiyer/handwritten_dataset/final_NIST_inference/6/hsf_1_01624.png': 4,\n",
       " '/home/venkateshiyer/handwritten_dataset/final_NIST_inference/6/hsf_1_01677.png': 5,\n",
       " '/home/venkateshiyer/handwritten_dataset/final_NIST_inference/6/hsf_1_01703.png': 4,\n",
       " '/home/venkateshiyer/handwritten_dataset/final_NIST_inference/6/hsf_1_01719.png': 5,\n",
       " '/home/venkateshiyer/handwritten_dataset/final_NIST_inference/6/hsf_1_01942.png': 3,\n",
       " '/home/venkateshiyer/handwritten_dataset/final_NIST_inference/6/hsf_1_01943.png': 3,\n",
       " '/home/venkateshiyer/handwritten_dataset/final_NIST_inference/6/hsf_1_01947.png': 3,\n",
       " '/home/venkateshiyer/handwritten_dataset/final_NIST_inference/6/hsf_1_01985.png': 5,\n",
       " '/home/venkateshiyer/handwritten_dataset/final_NIST_inference/6/hsf_1_02226.png': 1,\n",
       " '/home/venkateshiyer/handwritten_dataset/final_NIST_inference/6/hsf_1_02340.png': 0,\n",
       " '/home/venkateshiyer/handwritten_dataset/final_NIST_inference/6/hsf_1_02617.png': 5,\n",
       " '/home/venkateshiyer/handwritten_dataset/final_NIST_inference/6/hsf_1_02675.png': 4,\n",
       " '/home/venkateshiyer/handwritten_dataset/final_NIST_inference/6/hsf_1_02850.png': 0,\n",
       " '/home/venkateshiyer/handwritten_dataset/final_NIST_inference/6/hsf_1_02871.png': 0,\n",
       " '/home/venkateshiyer/handwritten_dataset/final_NIST_inference/6/hsf_1_03043.png': 4,\n",
       " '/home/venkateshiyer/handwritten_dataset/final_NIST_inference/6/hsf_1_03112.png': 5,\n",
       " '/home/venkateshiyer/handwritten_dataset/final_NIST_inference/6/hsf_1_03396.png': 5,\n",
       " '/home/venkateshiyer/handwritten_dataset/final_NIST_inference/6/hsf_1_03441.png': 2,\n",
       " '/home/venkateshiyer/handwritten_dataset/final_NIST_inference/6/hsf_1_03533.png': 4,\n",
       " '/home/venkateshiyer/handwritten_dataset/final_NIST_inference/6/hsf_1_03620.png': 4,\n",
       " '/home/venkateshiyer/handwritten_dataset/final_NIST_inference/6/hsf_1_03640.png': 8,\n",
       " '/home/venkateshiyer/handwritten_dataset/final_NIST_inference/6/hsf_1_04023.png': 4,\n",
       " '/home/venkateshiyer/handwritten_dataset/final_NIST_inference/6/hsf_1_04071.png': 5,\n",
       " '/home/venkateshiyer/handwritten_dataset/final_NIST_inference/6/hsf_1_04417.png': 9,\n",
       " '/home/venkateshiyer/handwritten_dataset/final_NIST_inference/6/hsf_1_04673.png': 0,\n",
       " '/home/venkateshiyer/handwritten_dataset/final_NIST_inference/6/hsf_1_04730.png': 4}"
      ]
     },
     "execution_count": 26,
     "metadata": {},
     "output_type": "execute_result"
    }
   ],
   "source": [
    "wrong_results"
   ]
  },
  {
   "cell_type": "code",
   "execution_count": null,
   "id": "d4c0936f",
   "metadata": {},
   "outputs": [],
   "source": []
  },
  {
   "cell_type": "code",
   "execution_count": 27,
   "id": "efe54f32",
   "metadata": {},
   "outputs": [],
   "source": [
    "path = os.path.expanduser('~')+'/handwritten_dataset/final_NIST_inference/7/*'\n",
    "result, accuracy, gt, prediction, wrong_results = pred_using_h5_digit(model,path)"
   ]
  },
  {
   "cell_type": "code",
   "execution_count": 28,
   "id": "2480caba",
   "metadata": {},
   "outputs": [
    {
     "name": "stdout",
     "output_type": "stream",
     "text": [
      "0.9951342584249414\n",
      "              precision    recall  f1-score   support\n",
      "\n",
      "           1       0.00      0.00      0.00         0\n",
      "           2       0.00      0.00      0.00         0\n",
      "           4       0.00      0.00      0.00         0\n",
      "           7       1.00      1.00      1.00      5549\n",
      "           8       0.00      0.00      0.00         0\n",
      "           9       0.00      0.00      0.00         0\n",
      "\n",
      "    accuracy                           1.00      5549\n",
      "   macro avg       0.17      0.17      0.17      5549\n",
      "weighted avg       1.00      1.00      1.00      5549\n",
      "\n"
     ]
    },
    {
     "name": "stderr",
     "output_type": "stream",
     "text": [
      "/home/venkateshiyer/ocrtool/lib/python3.8/site-packages/sklearn/metrics/_classification.py:1334: UndefinedMetricWarning: Recall and F-score are ill-defined and being set to 0.0 in labels with no true samples. Use `zero_division` parameter to control this behavior.\n",
      "  _warn_prf(average, modifier, msg_start, len(result))\n",
      "/home/venkateshiyer/ocrtool/lib/python3.8/site-packages/sklearn/metrics/_classification.py:1334: UndefinedMetricWarning: Recall and F-score are ill-defined and being set to 0.0 in labels with no true samples. Use `zero_division` parameter to control this behavior.\n",
      "  _warn_prf(average, modifier, msg_start, len(result))\n",
      "/home/venkateshiyer/ocrtool/lib/python3.8/site-packages/sklearn/metrics/_classification.py:1334: UndefinedMetricWarning: Recall and F-score are ill-defined and being set to 0.0 in labels with no true samples. Use `zero_division` parameter to control this behavior.\n",
      "  _warn_prf(average, modifier, msg_start, len(result))\n"
     ]
    }
   ],
   "source": [
    "print(accuracy)\n",
    "from sklearn import metrics\n",
    "print(metrics.classification_report(gt, prediction))"
   ]
  },
  {
   "cell_type": "code",
   "execution_count": 29,
   "id": "d06d0b63",
   "metadata": {},
   "outputs": [
    {
     "data": {
      "text/plain": [
       "27"
      ]
     },
     "execution_count": 29,
     "metadata": {},
     "output_type": "execute_result"
    }
   ],
   "source": [
    "len(wrong_results)"
   ]
  },
  {
   "cell_type": "code",
   "execution_count": 30,
   "id": "599b4442",
   "metadata": {},
   "outputs": [
    {
     "data": {
      "text/plain": [
       "{'/home/venkateshiyer/handwritten_dataset/final_NIST_inference/7/hsf_1_00109.png': 1,\n",
       " '/home/venkateshiyer/handwritten_dataset/final_NIST_inference/7/hsf_1_00320.png': 2,\n",
       " '/home/venkateshiyer/handwritten_dataset/final_NIST_inference/7/hsf_1_00379.png': 2,\n",
       " '/home/venkateshiyer/handwritten_dataset/final_NIST_inference/7/hsf_1_00719.png': 9,\n",
       " '/home/venkateshiyer/handwritten_dataset/final_NIST_inference/7/hsf_1_00933.png': 9,\n",
       " '/home/venkateshiyer/handwritten_dataset/final_NIST_inference/7/hsf_1_01136.png': 9,\n",
       " '/home/venkateshiyer/handwritten_dataset/final_NIST_inference/7/hsf_1_01137.png': 9,\n",
       " '/home/venkateshiyer/handwritten_dataset/final_NIST_inference/7/hsf_1_01140.png': 9,\n",
       " '/home/venkateshiyer/handwritten_dataset/final_NIST_inference/7/hsf_1_01141.png': 9,\n",
       " '/home/venkateshiyer/handwritten_dataset/final_NIST_inference/7/hsf_1_01146.png': 9,\n",
       " '/home/venkateshiyer/handwritten_dataset/final_NIST_inference/7/hsf_1_01666.png': 2,\n",
       " '/home/venkateshiyer/handwritten_dataset/final_NIST_inference/7/hsf_1_01741.png': 1,\n",
       " '/home/venkateshiyer/handwritten_dataset/final_NIST_inference/7/hsf_1_02851.png': 9,\n",
       " '/home/venkateshiyer/handwritten_dataset/final_NIST_inference/7/hsf_1_02857.png': 9,\n",
       " '/home/venkateshiyer/handwritten_dataset/final_NIST_inference/7/hsf_1_03108.png': 4,\n",
       " '/home/venkateshiyer/handwritten_dataset/final_NIST_inference/7/hsf_1_03235.png': 9,\n",
       " '/home/venkateshiyer/handwritten_dataset/final_NIST_inference/7/hsf_1_03724.png': 4,\n",
       " '/home/venkateshiyer/handwritten_dataset/final_NIST_inference/7/hsf_1_03966.png': 4,\n",
       " '/home/venkateshiyer/handwritten_dataset/final_NIST_inference/7/hsf_1_03972.png': 4,\n",
       " '/home/venkateshiyer/handwritten_dataset/final_NIST_inference/7/hsf_1_03973.png': 4,\n",
       " '/home/venkateshiyer/handwritten_dataset/final_NIST_inference/7/hsf_1_03975.png': 4,\n",
       " '/home/venkateshiyer/handwritten_dataset/final_NIST_inference/7/hsf_1_03976.png': 4,\n",
       " '/home/venkateshiyer/handwritten_dataset/final_NIST_inference/7/hsf_1_05115.png': 2,\n",
       " '/home/venkateshiyer/handwritten_dataset/final_NIST_inference/7/hsf_1_05142.png': 2,\n",
       " '/home/venkateshiyer/handwritten_dataset/final_NIST_inference/7/hsf_1_05144.png': 2,\n",
       " '/home/venkateshiyer/handwritten_dataset/final_NIST_inference/7/hsf_1_05161.png': 8,\n",
       " '/home/venkateshiyer/handwritten_dataset/final_NIST_inference/7/hsf_1_05246.png': 4}"
      ]
     },
     "execution_count": 30,
     "metadata": {},
     "output_type": "execute_result"
    }
   ],
   "source": [
    "wrong_results"
   ]
  },
  {
   "cell_type": "code",
   "execution_count": 31,
   "id": "a8f14d36",
   "metadata": {},
   "outputs": [],
   "source": [
    "path = os.path.expanduser('~')+'/handwritten_dataset/final_NIST_inference/8/*'\n",
    "result, accuracy, gt, prediction, wrong_results = pred_using_h5_digit(model,path)"
   ]
  },
  {
   "cell_type": "code",
   "execution_count": 32,
   "id": "ba83496d",
   "metadata": {},
   "outputs": [
    {
     "name": "stdout",
     "output_type": "stream",
     "text": [
      "0.9439359267734554\n",
      "              precision    recall  f1-score   support\n",
      "\n",
      "           0       0.00      0.00      0.00         0\n",
      "           2       0.00      0.00      0.00         0\n",
      "           3       0.00      0.00      0.00         0\n",
      "           4       0.00      0.00      0.00         0\n",
      "           5       0.00      0.00      0.00         0\n",
      "           6       0.00      0.00      0.00         0\n",
      "           7       0.00      0.00      0.00         0\n",
      "           8       1.00      0.94      0.97      5244\n",
      "           9       0.00      0.00      0.00         0\n",
      "\n",
      "    accuracy                           0.94      5244\n",
      "   macro avg       0.11      0.10      0.11      5244\n",
      "weighted avg       1.00      0.94      0.97      5244\n",
      "\n"
     ]
    },
    {
     "name": "stderr",
     "output_type": "stream",
     "text": [
      "/home/venkateshiyer/ocrtool/lib/python3.8/site-packages/sklearn/metrics/_classification.py:1334: UndefinedMetricWarning: Recall and F-score are ill-defined and being set to 0.0 in labels with no true samples. Use `zero_division` parameter to control this behavior.\n",
      "  _warn_prf(average, modifier, msg_start, len(result))\n",
      "/home/venkateshiyer/ocrtool/lib/python3.8/site-packages/sklearn/metrics/_classification.py:1334: UndefinedMetricWarning: Recall and F-score are ill-defined and being set to 0.0 in labels with no true samples. Use `zero_division` parameter to control this behavior.\n",
      "  _warn_prf(average, modifier, msg_start, len(result))\n",
      "/home/venkateshiyer/ocrtool/lib/python3.8/site-packages/sklearn/metrics/_classification.py:1334: UndefinedMetricWarning: Recall and F-score are ill-defined and being set to 0.0 in labels with no true samples. Use `zero_division` parameter to control this behavior.\n",
      "  _warn_prf(average, modifier, msg_start, len(result))\n"
     ]
    }
   ],
   "source": [
    "print(accuracy)\n",
    "from sklearn import metrics\n",
    "print(metrics.classification_report(gt, prediction))"
   ]
  },
  {
   "cell_type": "code",
   "execution_count": 33,
   "id": "85dd3e09",
   "metadata": {},
   "outputs": [
    {
     "data": {
      "text/plain": [
       "294"
      ]
     },
     "execution_count": 33,
     "metadata": {},
     "output_type": "execute_result"
    }
   ],
   "source": [
    "len(wrong_results)"
   ]
  },
  {
   "cell_type": "code",
   "execution_count": 34,
   "id": "bd967399",
   "metadata": {},
   "outputs": [
    {
     "data": {
      "text/plain": [
       "{'/home/venkateshiyer/handwritten_dataset/final_NIST_inference/8/hsf_1_00025.png': 2,\n",
       " '/home/venkateshiyer/handwritten_dataset/final_NIST_inference/8/hsf_1_00056.png': 3,\n",
       " '/home/venkateshiyer/handwritten_dataset/final_NIST_inference/8/hsf_1_00087.png': 9,\n",
       " '/home/venkateshiyer/handwritten_dataset/final_NIST_inference/8/hsf_1_00108.png': 9,\n",
       " '/home/venkateshiyer/handwritten_dataset/final_NIST_inference/8/hsf_1_00117.png': 7,\n",
       " '/home/venkateshiyer/handwritten_dataset/final_NIST_inference/8/hsf_1_00197.png': 9,\n",
       " '/home/venkateshiyer/handwritten_dataset/final_NIST_inference/8/hsf_1_00213.png': 3,\n",
       " '/home/venkateshiyer/handwritten_dataset/final_NIST_inference/8/hsf_1_00219.png': 3,\n",
       " '/home/venkateshiyer/handwritten_dataset/final_NIST_inference/8/hsf_1_00222.png': 3,\n",
       " '/home/venkateshiyer/handwritten_dataset/final_NIST_inference/8/hsf_1_00225.png': 3,\n",
       " '/home/venkateshiyer/handwritten_dataset/final_NIST_inference/8/hsf_1_00358.png': 3,\n",
       " '/home/venkateshiyer/handwritten_dataset/final_NIST_inference/8/hsf_1_00368.png': 2,\n",
       " '/home/venkateshiyer/handwritten_dataset/final_NIST_inference/8/hsf_1_00398.png': 2,\n",
       " '/home/venkateshiyer/handwritten_dataset/final_NIST_inference/8/hsf_1_00408.png': 3,\n",
       " '/home/venkateshiyer/handwritten_dataset/final_NIST_inference/8/hsf_1_00409.png': 5,\n",
       " '/home/venkateshiyer/handwritten_dataset/final_NIST_inference/8/hsf_1_00443.png': 3,\n",
       " '/home/venkateshiyer/handwritten_dataset/final_NIST_inference/8/hsf_1_00445.png': 3,\n",
       " '/home/venkateshiyer/handwritten_dataset/final_NIST_inference/8/hsf_1_00472.png': 3,\n",
       " '/home/venkateshiyer/handwritten_dataset/final_NIST_inference/8/hsf_1_00506.png': 7,\n",
       " '/home/venkateshiyer/handwritten_dataset/final_NIST_inference/8/hsf_1_00514.png': 9,\n",
       " '/home/venkateshiyer/handwritten_dataset/final_NIST_inference/8/hsf_1_00749.png': 9,\n",
       " '/home/venkateshiyer/handwritten_dataset/final_NIST_inference/8/hsf_1_00767.png': 2,\n",
       " '/home/venkateshiyer/handwritten_dataset/final_NIST_inference/8/hsf_1_00768.png': 9,\n",
       " '/home/venkateshiyer/handwritten_dataset/final_NIST_inference/8/hsf_1_00783.png': 4,\n",
       " '/home/venkateshiyer/handwritten_dataset/final_NIST_inference/8/hsf_1_00785.png': 9,\n",
       " '/home/venkateshiyer/handwritten_dataset/final_NIST_inference/8/hsf_1_00807.png': 2,\n",
       " '/home/venkateshiyer/handwritten_dataset/final_NIST_inference/8/hsf_1_00818.png': 2,\n",
       " '/home/venkateshiyer/handwritten_dataset/final_NIST_inference/8/hsf_1_00822.png': 3,\n",
       " '/home/venkateshiyer/handwritten_dataset/final_NIST_inference/8/hsf_1_00824.png': 3,\n",
       " '/home/venkateshiyer/handwritten_dataset/final_NIST_inference/8/hsf_1_00842.png': 9,\n",
       " '/home/venkateshiyer/handwritten_dataset/final_NIST_inference/8/hsf_1_00844.png': 3,\n",
       " '/home/venkateshiyer/handwritten_dataset/final_NIST_inference/8/hsf_1_00849.png': 9,\n",
       " '/home/venkateshiyer/handwritten_dataset/final_NIST_inference/8/hsf_1_00910.png': 2,\n",
       " '/home/venkateshiyer/handwritten_dataset/final_NIST_inference/8/hsf_1_00911.png': 5,\n",
       " '/home/venkateshiyer/handwritten_dataset/final_NIST_inference/8/hsf_1_00912.png': 3,\n",
       " '/home/venkateshiyer/handwritten_dataset/final_NIST_inference/8/hsf_1_00914.png': 3,\n",
       " '/home/venkateshiyer/handwritten_dataset/final_NIST_inference/8/hsf_1_00915.png': 3,\n",
       " '/home/venkateshiyer/handwritten_dataset/final_NIST_inference/8/hsf_1_00918.png': 2,\n",
       " '/home/venkateshiyer/handwritten_dataset/final_NIST_inference/8/hsf_1_00927.png': 3,\n",
       " '/home/venkateshiyer/handwritten_dataset/final_NIST_inference/8/hsf_1_00970.png': 9,\n",
       " '/home/venkateshiyer/handwritten_dataset/final_NIST_inference/8/hsf_1_00972.png': 3,\n",
       " '/home/venkateshiyer/handwritten_dataset/final_NIST_inference/8/hsf_1_00973.png': 9,\n",
       " '/home/venkateshiyer/handwritten_dataset/final_NIST_inference/8/hsf_1_00974.png': 7,\n",
       " '/home/venkateshiyer/handwritten_dataset/final_NIST_inference/8/hsf_1_00975.png': 9,\n",
       " '/home/venkateshiyer/handwritten_dataset/final_NIST_inference/8/hsf_1_00977.png': 9,\n",
       " '/home/venkateshiyer/handwritten_dataset/final_NIST_inference/8/hsf_1_00980.png': 9,\n",
       " '/home/venkateshiyer/handwritten_dataset/final_NIST_inference/8/hsf_1_00989.png': 2,\n",
       " '/home/venkateshiyer/handwritten_dataset/final_NIST_inference/8/hsf_1_01000.png': 9,\n",
       " '/home/venkateshiyer/handwritten_dataset/final_NIST_inference/8/hsf_1_01013.png': 3,\n",
       " '/home/venkateshiyer/handwritten_dataset/final_NIST_inference/8/hsf_1_01031.png': 9,\n",
       " '/home/venkateshiyer/handwritten_dataset/final_NIST_inference/8/hsf_1_01035.png': 4,\n",
       " '/home/venkateshiyer/handwritten_dataset/final_NIST_inference/8/hsf_1_01037.png': 4,\n",
       " '/home/venkateshiyer/handwritten_dataset/final_NIST_inference/8/hsf_1_01068.png': 9,\n",
       " '/home/venkateshiyer/handwritten_dataset/final_NIST_inference/8/hsf_1_01074.png': 9,\n",
       " '/home/venkateshiyer/handwritten_dataset/final_NIST_inference/8/hsf_1_01093.png': 6,\n",
       " '/home/venkateshiyer/handwritten_dataset/final_NIST_inference/8/hsf_1_01116.png': 0,\n",
       " '/home/venkateshiyer/handwritten_dataset/final_NIST_inference/8/hsf_1_01132.png': 3,\n",
       " '/home/venkateshiyer/handwritten_dataset/final_NIST_inference/8/hsf_1_01173.png': 3,\n",
       " '/home/venkateshiyer/handwritten_dataset/final_NIST_inference/8/hsf_1_01174.png': 3,\n",
       " '/home/venkateshiyer/handwritten_dataset/final_NIST_inference/8/hsf_1_01178.png': 3,\n",
       " '/home/venkateshiyer/handwritten_dataset/final_NIST_inference/8/hsf_1_01183.png': 7,\n",
       " '/home/venkateshiyer/handwritten_dataset/final_NIST_inference/8/hsf_1_01196.png': 9,\n",
       " '/home/venkateshiyer/handwritten_dataset/final_NIST_inference/8/hsf_1_01199.png': 9,\n",
       " '/home/venkateshiyer/handwritten_dataset/final_NIST_inference/8/hsf_1_01210.png': 9,\n",
       " '/home/venkateshiyer/handwritten_dataset/final_NIST_inference/8/hsf_1_01220.png': 3,\n",
       " '/home/venkateshiyer/handwritten_dataset/final_NIST_inference/8/hsf_1_01222.png': 3,\n",
       " '/home/venkateshiyer/handwritten_dataset/final_NIST_inference/8/hsf_1_01289.png': 9,\n",
       " '/home/venkateshiyer/handwritten_dataset/final_NIST_inference/8/hsf_1_01296.png': 9,\n",
       " '/home/venkateshiyer/handwritten_dataset/final_NIST_inference/8/hsf_1_01298.png': 3,\n",
       " '/home/venkateshiyer/handwritten_dataset/final_NIST_inference/8/hsf_1_01323.png': 3,\n",
       " '/home/venkateshiyer/handwritten_dataset/final_NIST_inference/8/hsf_1_01334.png': 3,\n",
       " '/home/venkateshiyer/handwritten_dataset/final_NIST_inference/8/hsf_1_01343.png': 3,\n",
       " '/home/venkateshiyer/handwritten_dataset/final_NIST_inference/8/hsf_1_01345.png': 2,\n",
       " '/home/venkateshiyer/handwritten_dataset/final_NIST_inference/8/hsf_1_01347.png': 9,\n",
       " '/home/venkateshiyer/handwritten_dataset/final_NIST_inference/8/hsf_1_01354.png': 7,\n",
       " '/home/venkateshiyer/handwritten_dataset/final_NIST_inference/8/hsf_1_01388.png': 9,\n",
       " '/home/venkateshiyer/handwritten_dataset/final_NIST_inference/8/hsf_1_01401.png': 3,\n",
       " '/home/venkateshiyer/handwritten_dataset/final_NIST_inference/8/hsf_1_01403.png': 3,\n",
       " '/home/venkateshiyer/handwritten_dataset/final_NIST_inference/8/hsf_1_01410.png': 4,\n",
       " '/home/venkateshiyer/handwritten_dataset/final_NIST_inference/8/hsf_1_01411.png': 3,\n",
       " '/home/venkateshiyer/handwritten_dataset/final_NIST_inference/8/hsf_1_01449.png': 7,\n",
       " '/home/venkateshiyer/handwritten_dataset/final_NIST_inference/8/hsf_1_01452.png': 2,\n",
       " '/home/venkateshiyer/handwritten_dataset/final_NIST_inference/8/hsf_1_01456.png': 7,\n",
       " '/home/venkateshiyer/handwritten_dataset/final_NIST_inference/8/hsf_1_01468.png': 2,\n",
       " '/home/venkateshiyer/handwritten_dataset/final_NIST_inference/8/hsf_1_01473.png': 2,\n",
       " '/home/venkateshiyer/handwritten_dataset/final_NIST_inference/8/hsf_1_01502.png': 7,\n",
       " '/home/venkateshiyer/handwritten_dataset/final_NIST_inference/8/hsf_1_01528.png': 3,\n",
       " '/home/venkateshiyer/handwritten_dataset/final_NIST_inference/8/hsf_1_01570.png': 3,\n",
       " '/home/venkateshiyer/handwritten_dataset/final_NIST_inference/8/hsf_1_01571.png': 3,\n",
       " '/home/venkateshiyer/handwritten_dataset/final_NIST_inference/8/hsf_1_01583.png': 3,\n",
       " '/home/venkateshiyer/handwritten_dataset/final_NIST_inference/8/hsf_1_01592.png': 3,\n",
       " '/home/venkateshiyer/handwritten_dataset/final_NIST_inference/8/hsf_1_01594.png': 3,\n",
       " '/home/venkateshiyer/handwritten_dataset/final_NIST_inference/8/hsf_1_01597.png': 3,\n",
       " '/home/venkateshiyer/handwritten_dataset/final_NIST_inference/8/hsf_1_01673.png': 3,\n",
       " '/home/venkateshiyer/handwritten_dataset/final_NIST_inference/8/hsf_1_01683.png': 7,\n",
       " '/home/venkateshiyer/handwritten_dataset/final_NIST_inference/8/hsf_1_01691.png': 3,\n",
       " '/home/venkateshiyer/handwritten_dataset/final_NIST_inference/8/hsf_1_01694.png': 2,\n",
       " '/home/venkateshiyer/handwritten_dataset/final_NIST_inference/8/hsf_1_01709.png': 4,\n",
       " '/home/venkateshiyer/handwritten_dataset/final_NIST_inference/8/hsf_1_01716.png': 3,\n",
       " '/home/venkateshiyer/handwritten_dataset/final_NIST_inference/8/hsf_1_01726.png': 3,\n",
       " '/home/venkateshiyer/handwritten_dataset/final_NIST_inference/8/hsf_1_01749.png': 9,\n",
       " '/home/venkateshiyer/handwritten_dataset/final_NIST_inference/8/hsf_1_01756.png': 3,\n",
       " '/home/venkateshiyer/handwritten_dataset/final_NIST_inference/8/hsf_1_01787.png': 9,\n",
       " '/home/venkateshiyer/handwritten_dataset/final_NIST_inference/8/hsf_1_01798.png': 3,\n",
       " '/home/venkateshiyer/handwritten_dataset/final_NIST_inference/8/hsf_1_01804.png': 3,\n",
       " '/home/venkateshiyer/handwritten_dataset/final_NIST_inference/8/hsf_1_01831.png': 9,\n",
       " '/home/venkateshiyer/handwritten_dataset/final_NIST_inference/8/hsf_1_01852.png': 3,\n",
       " '/home/venkateshiyer/handwritten_dataset/final_NIST_inference/8/hsf_1_01861.png': 2,\n",
       " '/home/venkateshiyer/handwritten_dataset/final_NIST_inference/8/hsf_1_01865.png': 3,\n",
       " '/home/venkateshiyer/handwritten_dataset/final_NIST_inference/8/hsf_1_01867.png': 2,\n",
       " '/home/venkateshiyer/handwritten_dataset/final_NIST_inference/8/hsf_1_01879.png': 9,\n",
       " '/home/venkateshiyer/handwritten_dataset/final_NIST_inference/8/hsf_1_01888.png': 9,\n",
       " '/home/venkateshiyer/handwritten_dataset/final_NIST_inference/8/hsf_1_01918.png': 9,\n",
       " '/home/venkateshiyer/handwritten_dataset/final_NIST_inference/8/hsf_1_01949.png': 0,\n",
       " '/home/venkateshiyer/handwritten_dataset/final_NIST_inference/8/hsf_1_01958.png': 2,\n",
       " '/home/venkateshiyer/handwritten_dataset/final_NIST_inference/8/hsf_1_01987.png': 3,\n",
       " '/home/venkateshiyer/handwritten_dataset/final_NIST_inference/8/hsf_1_01988.png': 3,\n",
       " '/home/venkateshiyer/handwritten_dataset/final_NIST_inference/8/hsf_1_01990.png': 9,\n",
       " '/home/venkateshiyer/handwritten_dataset/final_NIST_inference/8/hsf_1_01993.png': 2,\n",
       " '/home/venkateshiyer/handwritten_dataset/final_NIST_inference/8/hsf_1_02004.png': 9,\n",
       " '/home/venkateshiyer/handwritten_dataset/final_NIST_inference/8/hsf_1_02024.png': 3,\n",
       " '/home/venkateshiyer/handwritten_dataset/final_NIST_inference/8/hsf_1_02076.png': 9,\n",
       " '/home/venkateshiyer/handwritten_dataset/final_NIST_inference/8/hsf_1_02096.png': 2,\n",
       " '/home/venkateshiyer/handwritten_dataset/final_NIST_inference/8/hsf_1_02226.png': 7,\n",
       " '/home/venkateshiyer/handwritten_dataset/final_NIST_inference/8/hsf_1_02227.png': 3,\n",
       " '/home/venkateshiyer/handwritten_dataset/final_NIST_inference/8/hsf_1_02228.png': 3,\n",
       " '/home/venkateshiyer/handwritten_dataset/final_NIST_inference/8/hsf_1_02229.png': 2,\n",
       " '/home/venkateshiyer/handwritten_dataset/final_NIST_inference/8/hsf_1_02231.png': 7,\n",
       " '/home/venkateshiyer/handwritten_dataset/final_NIST_inference/8/hsf_1_02257.png': 2,\n",
       " '/home/venkateshiyer/handwritten_dataset/final_NIST_inference/8/hsf_1_02296.png': 3,\n",
       " '/home/venkateshiyer/handwritten_dataset/final_NIST_inference/8/hsf_1_02351.png': 7,\n",
       " '/home/venkateshiyer/handwritten_dataset/final_NIST_inference/8/hsf_1_02388.png': 3,\n",
       " '/home/venkateshiyer/handwritten_dataset/final_NIST_inference/8/hsf_1_02428.png': 6,\n",
       " '/home/venkateshiyer/handwritten_dataset/final_NIST_inference/8/hsf_1_02444.png': 2,\n",
       " '/home/venkateshiyer/handwritten_dataset/final_NIST_inference/8/hsf_1_02449.png': 3,\n",
       " '/home/venkateshiyer/handwritten_dataset/final_NIST_inference/8/hsf_1_02453.png': 3,\n",
       " '/home/venkateshiyer/handwritten_dataset/final_NIST_inference/8/hsf_1_02471.png': 9,\n",
       " '/home/venkateshiyer/handwritten_dataset/final_NIST_inference/8/hsf_1_02475.png': 7,\n",
       " '/home/venkateshiyer/handwritten_dataset/final_NIST_inference/8/hsf_1_02480.png': 9,\n",
       " '/home/venkateshiyer/handwritten_dataset/final_NIST_inference/8/hsf_1_02481.png': 6,\n",
       " '/home/venkateshiyer/handwritten_dataset/final_NIST_inference/8/hsf_1_02531.png': 9,\n",
       " '/home/venkateshiyer/handwritten_dataset/final_NIST_inference/8/hsf_1_02598.png': 2,\n",
       " '/home/venkateshiyer/handwritten_dataset/final_NIST_inference/8/hsf_1_02608.png': 3,\n",
       " '/home/venkateshiyer/handwritten_dataset/final_NIST_inference/8/hsf_1_02610.png': 3,\n",
       " '/home/venkateshiyer/handwritten_dataset/final_NIST_inference/8/hsf_1_02616.png': 3,\n",
       " '/home/venkateshiyer/handwritten_dataset/final_NIST_inference/8/hsf_1_02617.png': 3,\n",
       " '/home/venkateshiyer/handwritten_dataset/final_NIST_inference/8/hsf_1_02629.png': 2,\n",
       " '/home/venkateshiyer/handwritten_dataset/final_NIST_inference/8/hsf_1_02632.png': 3,\n",
       " '/home/venkateshiyer/handwritten_dataset/final_NIST_inference/8/hsf_1_02639.png': 3,\n",
       " '/home/venkateshiyer/handwritten_dataset/final_NIST_inference/8/hsf_1_02641.png': 3,\n",
       " '/home/venkateshiyer/handwritten_dataset/final_NIST_inference/8/hsf_1_02643.png': 3,\n",
       " '/home/venkateshiyer/handwritten_dataset/final_NIST_inference/8/hsf_1_02658.png': 9,\n",
       " '/home/venkateshiyer/handwritten_dataset/final_NIST_inference/8/hsf_1_02670.png': 3,\n",
       " '/home/venkateshiyer/handwritten_dataset/final_NIST_inference/8/hsf_1_02671.png': 2,\n",
       " '/home/venkateshiyer/handwritten_dataset/final_NIST_inference/8/hsf_1_02672.png': 3,\n",
       " '/home/venkateshiyer/handwritten_dataset/final_NIST_inference/8/hsf_1_02675.png': 2,\n",
       " '/home/venkateshiyer/handwritten_dataset/final_NIST_inference/8/hsf_1_02733.png': 9,\n",
       " '/home/venkateshiyer/handwritten_dataset/final_NIST_inference/8/hsf_1_02734.png': 9,\n",
       " '/home/venkateshiyer/handwritten_dataset/final_NIST_inference/8/hsf_1_02784.png': 3,\n",
       " '/home/venkateshiyer/handwritten_dataset/final_NIST_inference/8/hsf_1_02789.png': 3,\n",
       " '/home/venkateshiyer/handwritten_dataset/final_NIST_inference/8/hsf_1_02798.png': 3,\n",
       " '/home/venkateshiyer/handwritten_dataset/final_NIST_inference/8/hsf_1_02863.png': 9,\n",
       " '/home/venkateshiyer/handwritten_dataset/final_NIST_inference/8/hsf_1_02905.png': 9,\n",
       " '/home/venkateshiyer/handwritten_dataset/final_NIST_inference/8/hsf_1_02925.png': 3,\n",
       " '/home/venkateshiyer/handwritten_dataset/final_NIST_inference/8/hsf_1_02937.png': 2,\n",
       " '/home/venkateshiyer/handwritten_dataset/final_NIST_inference/8/hsf_1_02951.png': 5,\n",
       " '/home/venkateshiyer/handwritten_dataset/final_NIST_inference/8/hsf_1_02986.png': 3,\n",
       " '/home/venkateshiyer/handwritten_dataset/final_NIST_inference/8/hsf_1_02998.png': 9,\n",
       " '/home/venkateshiyer/handwritten_dataset/final_NIST_inference/8/hsf_1_03000.png': 2,\n",
       " '/home/venkateshiyer/handwritten_dataset/final_NIST_inference/8/hsf_1_03029.png': 3,\n",
       " '/home/venkateshiyer/handwritten_dataset/final_NIST_inference/8/hsf_1_03063.png': 0,\n",
       " '/home/venkateshiyer/handwritten_dataset/final_NIST_inference/8/hsf_1_03064.png': 0,\n",
       " '/home/venkateshiyer/handwritten_dataset/final_NIST_inference/8/hsf_1_03065.png': 3,\n",
       " '/home/venkateshiyer/handwritten_dataset/final_NIST_inference/8/hsf_1_03085.png': 9,\n",
       " '/home/venkateshiyer/handwritten_dataset/final_NIST_inference/8/hsf_1_03100.png': 3,\n",
       " '/home/venkateshiyer/handwritten_dataset/final_NIST_inference/8/hsf_1_03109.png': 7,\n",
       " '/home/venkateshiyer/handwritten_dataset/final_NIST_inference/8/hsf_1_03111.png': 7,\n",
       " '/home/venkateshiyer/handwritten_dataset/final_NIST_inference/8/hsf_1_03112.png': 7,\n",
       " '/home/venkateshiyer/handwritten_dataset/final_NIST_inference/8/hsf_1_03134.png': 3,\n",
       " '/home/venkateshiyer/handwritten_dataset/final_NIST_inference/8/hsf_1_03135.png': 3,\n",
       " '/home/venkateshiyer/handwritten_dataset/final_NIST_inference/8/hsf_1_03141.png': 7,\n",
       " '/home/venkateshiyer/handwritten_dataset/final_NIST_inference/8/hsf_1_03142.png': 7,\n",
       " '/home/venkateshiyer/handwritten_dataset/final_NIST_inference/8/hsf_1_03149.png': 7,\n",
       " '/home/venkateshiyer/handwritten_dataset/final_NIST_inference/8/hsf_1_03174.png': 3,\n",
       " '/home/venkateshiyer/handwritten_dataset/final_NIST_inference/8/hsf_1_03175.png': 0,\n",
       " '/home/venkateshiyer/handwritten_dataset/final_NIST_inference/8/hsf_1_03176.png': 3,\n",
       " '/home/venkateshiyer/handwritten_dataset/final_NIST_inference/8/hsf_1_03177.png': 3,\n",
       " '/home/venkateshiyer/handwritten_dataset/final_NIST_inference/8/hsf_1_03207.png': 7,\n",
       " '/home/venkateshiyer/handwritten_dataset/final_NIST_inference/8/hsf_1_03208.png': 9,\n",
       " '/home/venkateshiyer/handwritten_dataset/final_NIST_inference/8/hsf_1_03351.png': 9,\n",
       " '/home/venkateshiyer/handwritten_dataset/final_NIST_inference/8/hsf_1_03354.png': 4,\n",
       " '/home/venkateshiyer/handwritten_dataset/final_NIST_inference/8/hsf_1_03372.png': 3,\n",
       " '/home/venkateshiyer/handwritten_dataset/final_NIST_inference/8/hsf_1_03393.png': 3,\n",
       " '/home/venkateshiyer/handwritten_dataset/final_NIST_inference/8/hsf_1_03406.png': 3,\n",
       " '/home/venkateshiyer/handwritten_dataset/final_NIST_inference/8/hsf_1_03408.png': 7,\n",
       " '/home/venkateshiyer/handwritten_dataset/final_NIST_inference/8/hsf_1_03410.png': 7,\n",
       " '/home/venkateshiyer/handwritten_dataset/final_NIST_inference/8/hsf_1_03411.png': 7,\n",
       " '/home/venkateshiyer/handwritten_dataset/final_NIST_inference/8/hsf_1_03433.png': 9,\n",
       " '/home/venkateshiyer/handwritten_dataset/final_NIST_inference/8/hsf_1_03434.png': 9,\n",
       " '/home/venkateshiyer/handwritten_dataset/final_NIST_inference/8/hsf_1_03437.png': 4,\n",
       " '/home/venkateshiyer/handwritten_dataset/final_NIST_inference/8/hsf_1_03438.png': 7,\n",
       " '/home/venkateshiyer/handwritten_dataset/final_NIST_inference/8/hsf_1_03439.png': 9,\n",
       " '/home/venkateshiyer/handwritten_dataset/final_NIST_inference/8/hsf_1_03448.png': 2,\n",
       " '/home/venkateshiyer/handwritten_dataset/final_NIST_inference/8/hsf_1_03460.png': 9,\n",
       " '/home/venkateshiyer/handwritten_dataset/final_NIST_inference/8/hsf_1_03489.png': 3,\n",
       " '/home/venkateshiyer/handwritten_dataset/final_NIST_inference/8/hsf_1_03492.png': 7,\n",
       " '/home/venkateshiyer/handwritten_dataset/final_NIST_inference/8/hsf_1_03494.png': 9,\n",
       " '/home/venkateshiyer/handwritten_dataset/final_NIST_inference/8/hsf_1_03514.png': 7,\n",
       " '/home/venkateshiyer/handwritten_dataset/final_NIST_inference/8/hsf_1_03526.png': 4,\n",
       " '/home/venkateshiyer/handwritten_dataset/final_NIST_inference/8/hsf_1_03532.png': 2,\n",
       " '/home/venkateshiyer/handwritten_dataset/final_NIST_inference/8/hsf_1_03534.png': 5,\n",
       " '/home/venkateshiyer/handwritten_dataset/final_NIST_inference/8/hsf_1_03535.png': 6,\n",
       " '/home/venkateshiyer/handwritten_dataset/final_NIST_inference/8/hsf_1_03538.png': 9,\n",
       " '/home/venkateshiyer/handwritten_dataset/final_NIST_inference/8/hsf_1_03543.png': 7,\n",
       " '/home/venkateshiyer/handwritten_dataset/final_NIST_inference/8/hsf_1_03619.png': 2,\n",
       " '/home/venkateshiyer/handwritten_dataset/final_NIST_inference/8/hsf_1_03734.png': 7,\n",
       " '/home/venkateshiyer/handwritten_dataset/final_NIST_inference/8/hsf_1_03749.png': 3,\n",
       " '/home/venkateshiyer/handwritten_dataset/final_NIST_inference/8/hsf_1_03752.png': 7,\n",
       " '/home/venkateshiyer/handwritten_dataset/final_NIST_inference/8/hsf_1_03754.png': 3,\n",
       " '/home/venkateshiyer/handwritten_dataset/final_NIST_inference/8/hsf_1_03840.png': 3,\n",
       " '/home/venkateshiyer/handwritten_dataset/final_NIST_inference/8/hsf_1_03849.png': 9,\n",
       " '/home/venkateshiyer/handwritten_dataset/final_NIST_inference/8/hsf_1_03851.png': 9,\n",
       " '/home/venkateshiyer/handwritten_dataset/final_NIST_inference/8/hsf_1_03860.png': 3,\n",
       " '/home/venkateshiyer/handwritten_dataset/final_NIST_inference/8/hsf_1_03866.png': 3,\n",
       " '/home/venkateshiyer/handwritten_dataset/final_NIST_inference/8/hsf_1_03868.png': 3,\n",
       " '/home/venkateshiyer/handwritten_dataset/final_NIST_inference/8/hsf_1_03876.png': 3,\n",
       " '/home/venkateshiyer/handwritten_dataset/final_NIST_inference/8/hsf_1_03877.png': 3,\n",
       " '/home/venkateshiyer/handwritten_dataset/final_NIST_inference/8/hsf_1_03878.png': 2,\n",
       " '/home/venkateshiyer/handwritten_dataset/final_NIST_inference/8/hsf_1_03879.png': 2,\n",
       " '/home/venkateshiyer/handwritten_dataset/final_NIST_inference/8/hsf_1_03897.png': 3,\n",
       " '/home/venkateshiyer/handwritten_dataset/final_NIST_inference/8/hsf_1_03920.png': 3,\n",
       " '/home/venkateshiyer/handwritten_dataset/final_NIST_inference/8/hsf_1_03943.png': 2,\n",
       " '/home/venkateshiyer/handwritten_dataset/final_NIST_inference/8/hsf_1_03960.png': 9,\n",
       " '/home/venkateshiyer/handwritten_dataset/final_NIST_inference/8/hsf_1_03964.png': 4,\n",
       " '/home/venkateshiyer/handwritten_dataset/final_NIST_inference/8/hsf_1_03990.png': 9,\n",
       " '/home/venkateshiyer/handwritten_dataset/final_NIST_inference/8/hsf_1_03991.png': 3,\n",
       " '/home/venkateshiyer/handwritten_dataset/final_NIST_inference/8/hsf_1_04002.png': 9,\n",
       " '/home/venkateshiyer/handwritten_dataset/final_NIST_inference/8/hsf_1_04009.png': 9,\n",
       " '/home/venkateshiyer/handwritten_dataset/final_NIST_inference/8/hsf_1_04082.png': 3,\n",
       " '/home/venkateshiyer/handwritten_dataset/final_NIST_inference/8/hsf_1_04093.png': 9,\n",
       " '/home/venkateshiyer/handwritten_dataset/final_NIST_inference/8/hsf_1_04131.png': 9,\n",
       " '/home/venkateshiyer/handwritten_dataset/final_NIST_inference/8/hsf_1_04134.png': 7,\n",
       " '/home/venkateshiyer/handwritten_dataset/final_NIST_inference/8/hsf_1_04256.png': 9,\n",
       " '/home/venkateshiyer/handwritten_dataset/final_NIST_inference/8/hsf_1_04285.png': 4,\n",
       " '/home/venkateshiyer/handwritten_dataset/final_NIST_inference/8/hsf_1_04298.png': 7,\n",
       " '/home/venkateshiyer/handwritten_dataset/final_NIST_inference/8/hsf_1_04303.png': 3,\n",
       " '/home/venkateshiyer/handwritten_dataset/final_NIST_inference/8/hsf_1_04343.png': 2,\n",
       " '/home/venkateshiyer/handwritten_dataset/final_NIST_inference/8/hsf_1_04346.png': 2,\n",
       " '/home/venkateshiyer/handwritten_dataset/final_NIST_inference/8/hsf_1_04347.png': 2,\n",
       " '/home/venkateshiyer/handwritten_dataset/final_NIST_inference/8/hsf_1_04359.png': 7,\n",
       " '/home/venkateshiyer/handwritten_dataset/final_NIST_inference/8/hsf_1_04363.png': 3,\n",
       " '/home/venkateshiyer/handwritten_dataset/final_NIST_inference/8/hsf_1_04446.png': 3,\n",
       " '/home/venkateshiyer/handwritten_dataset/final_NIST_inference/8/hsf_1_04447.png': 3,\n",
       " '/home/venkateshiyer/handwritten_dataset/final_NIST_inference/8/hsf_1_04448.png': 3,\n",
       " '/home/venkateshiyer/handwritten_dataset/final_NIST_inference/8/hsf_1_04454.png': 3,\n",
       " '/home/venkateshiyer/handwritten_dataset/final_NIST_inference/8/hsf_1_04461.png': 3,\n",
       " '/home/venkateshiyer/handwritten_dataset/final_NIST_inference/8/hsf_1_04462.png': 3,\n",
       " '/home/venkateshiyer/handwritten_dataset/final_NIST_inference/8/hsf_1_04486.png': 3,\n",
       " '/home/venkateshiyer/handwritten_dataset/final_NIST_inference/8/hsf_1_04556.png': 3,\n",
       " '/home/venkateshiyer/handwritten_dataset/final_NIST_inference/8/hsf_1_04558.png': 3,\n",
       " '/home/venkateshiyer/handwritten_dataset/final_NIST_inference/8/hsf_1_04559.png': 3,\n",
       " '/home/venkateshiyer/handwritten_dataset/final_NIST_inference/8/hsf_1_04592.png': 3,\n",
       " '/home/venkateshiyer/handwritten_dataset/final_NIST_inference/8/hsf_1_04595.png': 9,\n",
       " '/home/venkateshiyer/handwritten_dataset/final_NIST_inference/8/hsf_1_04609.png': 9,\n",
       " '/home/venkateshiyer/handwritten_dataset/final_NIST_inference/8/hsf_1_04699.png': 3,\n",
       " '/home/venkateshiyer/handwritten_dataset/final_NIST_inference/8/hsf_1_04702.png': 3,\n",
       " '/home/venkateshiyer/handwritten_dataset/final_NIST_inference/8/hsf_1_04705.png': 3,\n",
       " '/home/venkateshiyer/handwritten_dataset/final_NIST_inference/8/hsf_1_04714.png': 0,\n",
       " '/home/venkateshiyer/handwritten_dataset/final_NIST_inference/8/hsf_1_04716.png': 9,\n",
       " '/home/venkateshiyer/handwritten_dataset/final_NIST_inference/8/hsf_1_04731.png': 9,\n",
       " '/home/venkateshiyer/handwritten_dataset/final_NIST_inference/8/hsf_1_04752.png': 9,\n",
       " '/home/venkateshiyer/handwritten_dataset/final_NIST_inference/8/hsf_1_04762.png': 3,\n",
       " '/home/venkateshiyer/handwritten_dataset/final_NIST_inference/8/hsf_1_04807.png': 3,\n",
       " '/home/venkateshiyer/handwritten_dataset/final_NIST_inference/8/hsf_1_04813.png': 3,\n",
       " '/home/venkateshiyer/handwritten_dataset/final_NIST_inference/8/hsf_1_04843.png': 2,\n",
       " '/home/venkateshiyer/handwritten_dataset/final_NIST_inference/8/hsf_1_04862.png': 3,\n",
       " '/home/venkateshiyer/handwritten_dataset/final_NIST_inference/8/hsf_1_04884.png': 7,\n",
       " '/home/venkateshiyer/handwritten_dataset/final_NIST_inference/8/hsf_1_04905.png': 9,\n",
       " '/home/venkateshiyer/handwritten_dataset/final_NIST_inference/8/hsf_1_04913.png': 9,\n",
       " '/home/venkateshiyer/handwritten_dataset/final_NIST_inference/8/hsf_1_04925.png': 5,\n",
       " '/home/venkateshiyer/handwritten_dataset/final_NIST_inference/8/hsf_1_04948.png': 9,\n",
       " '/home/venkateshiyer/handwritten_dataset/final_NIST_inference/8/hsf_1_05012.png': 3,\n",
       " '/home/venkateshiyer/handwritten_dataset/final_NIST_inference/8/hsf_1_05041.png': 3,\n",
       " '/home/venkateshiyer/handwritten_dataset/final_NIST_inference/8/hsf_1_05048.png': 3,\n",
       " '/home/venkateshiyer/handwritten_dataset/final_NIST_inference/8/hsf_1_05072.png': 2,\n",
       " '/home/venkateshiyer/handwritten_dataset/final_NIST_inference/8/hsf_1_05077.png': 7,\n",
       " '/home/venkateshiyer/handwritten_dataset/final_NIST_inference/8/hsf_1_05080.png': 7,\n",
       " '/home/venkateshiyer/handwritten_dataset/final_NIST_inference/8/hsf_1_05081.png': 9,\n",
       " '/home/venkateshiyer/handwritten_dataset/final_NIST_inference/8/hsf_1_05088.png': 4,\n",
       " '/home/venkateshiyer/handwritten_dataset/final_NIST_inference/8/hsf_1_05089.png': 7,\n",
       " '/home/venkateshiyer/handwritten_dataset/final_NIST_inference/8/hsf_1_05161.png': 9,\n",
       " '/home/venkateshiyer/handwritten_dataset/final_NIST_inference/8/hsf_1_05221.png': 2,\n",
       " '/home/venkateshiyer/handwritten_dataset/final_NIST_inference/8/hsf_1_05233.png': 3,\n",
       " '/home/venkateshiyer/handwritten_dataset/final_NIST_inference/8/hsf_1_05238.png': 9}"
      ]
     },
     "execution_count": 34,
     "metadata": {},
     "output_type": "execute_result"
    }
   ],
   "source": [
    "wrong_results"
   ]
  },
  {
   "cell_type": "code",
   "execution_count": 35,
   "id": "3d24dfe1",
   "metadata": {},
   "outputs": [],
   "source": [
    "path = os.path.expanduser('~')+'/handwritten_dataset/final_NIST_inference/9/*'\n",
    "result, accuracy, gt, prediction, wrong_results = pred_using_h5_digit(model,path)"
   ]
  },
  {
   "cell_type": "code",
   "execution_count": 36,
   "id": "68ec18a8",
   "metadata": {},
   "outputs": [
    {
     "name": "stdout",
     "output_type": "stream",
     "text": [
      "0.9853253523846303\n",
      "              precision    recall  f1-score   support\n",
      "\n",
      "           2       0.00      0.00      0.00         0\n",
      "           3       0.00      0.00      0.00         0\n",
      "           4       0.00      0.00      0.00         0\n",
      "           6       0.00      0.00      0.00         0\n",
      "           7       0.00      0.00      0.00         0\n",
      "           8       0.00      0.00      0.00         0\n",
      "           9       1.00      0.99      0.99      5179\n",
      "\n",
      "    accuracy                           0.99      5179\n",
      "   macro avg       0.14      0.14      0.14      5179\n",
      "weighted avg       1.00      0.99      0.99      5179\n",
      "\n"
     ]
    },
    {
     "name": "stderr",
     "output_type": "stream",
     "text": [
      "/home/venkateshiyer/ocrtool/lib/python3.8/site-packages/sklearn/metrics/_classification.py:1334: UndefinedMetricWarning: Recall and F-score are ill-defined and being set to 0.0 in labels with no true samples. Use `zero_division` parameter to control this behavior.\n",
      "  _warn_prf(average, modifier, msg_start, len(result))\n",
      "/home/venkateshiyer/ocrtool/lib/python3.8/site-packages/sklearn/metrics/_classification.py:1334: UndefinedMetricWarning: Recall and F-score are ill-defined and being set to 0.0 in labels with no true samples. Use `zero_division` parameter to control this behavior.\n",
      "  _warn_prf(average, modifier, msg_start, len(result))\n",
      "/home/venkateshiyer/ocrtool/lib/python3.8/site-packages/sklearn/metrics/_classification.py:1334: UndefinedMetricWarning: Recall and F-score are ill-defined and being set to 0.0 in labels with no true samples. Use `zero_division` parameter to control this behavior.\n",
      "  _warn_prf(average, modifier, msg_start, len(result))\n"
     ]
    }
   ],
   "source": [
    "print(accuracy)\n",
    "from sklearn import metrics\n",
    "print(metrics.classification_report(gt, prediction))"
   ]
  },
  {
   "cell_type": "code",
   "execution_count": 37,
   "id": "72a3d787",
   "metadata": {},
   "outputs": [
    {
     "data": {
      "text/plain": [
       "76"
      ]
     },
     "execution_count": 37,
     "metadata": {},
     "output_type": "execute_result"
    }
   ],
   "source": [
    "len(wrong_results)"
   ]
  },
  {
   "cell_type": "code",
   "execution_count": 38,
   "id": "da3a9971",
   "metadata": {},
   "outputs": [
    {
     "data": {
      "text/plain": [
       "{'/home/venkateshiyer/handwritten_dataset/final_NIST_inference/9/hsf_1_00249.png': 4,\n",
       " '/home/venkateshiyer/handwritten_dataset/final_NIST_inference/9/hsf_1_00322.png': 7,\n",
       " '/home/venkateshiyer/handwritten_dataset/final_NIST_inference/9/hsf_1_00335.png': 7,\n",
       " '/home/venkateshiyer/handwritten_dataset/final_NIST_inference/9/hsf_1_00342.png': 7,\n",
       " '/home/venkateshiyer/handwritten_dataset/final_NIST_inference/9/hsf_1_00455.png': 4,\n",
       " '/home/venkateshiyer/handwritten_dataset/final_NIST_inference/9/hsf_1_00570.png': 7,\n",
       " '/home/venkateshiyer/handwritten_dataset/final_NIST_inference/9/hsf_1_00704.png': 7,\n",
       " '/home/venkateshiyer/handwritten_dataset/final_NIST_inference/9/hsf_1_00815.png': 4,\n",
       " '/home/venkateshiyer/handwritten_dataset/final_NIST_inference/9/hsf_1_00930.png': 7,\n",
       " '/home/venkateshiyer/handwritten_dataset/final_NIST_inference/9/hsf_1_00932.png': 7,\n",
       " '/home/venkateshiyer/handwritten_dataset/final_NIST_inference/9/hsf_1_00967.png': 6,\n",
       " '/home/venkateshiyer/handwritten_dataset/final_NIST_inference/9/hsf_1_00975.png': 3,\n",
       " '/home/venkateshiyer/handwritten_dataset/final_NIST_inference/9/hsf_1_00999.png': 4,\n",
       " '/home/venkateshiyer/handwritten_dataset/final_NIST_inference/9/hsf_1_01120.png': 7,\n",
       " '/home/venkateshiyer/handwritten_dataset/final_NIST_inference/9/hsf_1_01155.png': 7,\n",
       " '/home/venkateshiyer/handwritten_dataset/final_NIST_inference/9/hsf_1_01156.png': 4,\n",
       " '/home/venkateshiyer/handwritten_dataset/final_NIST_inference/9/hsf_1_01163.png': 7,\n",
       " '/home/venkateshiyer/handwritten_dataset/final_NIST_inference/9/hsf_1_01177.png': 7,\n",
       " '/home/venkateshiyer/handwritten_dataset/final_NIST_inference/9/hsf_1_01346.png': 4,\n",
       " '/home/venkateshiyer/handwritten_dataset/final_NIST_inference/9/hsf_1_01349.png': 7,\n",
       " '/home/venkateshiyer/handwritten_dataset/final_NIST_inference/9/hsf_1_01351.png': 7,\n",
       " '/home/venkateshiyer/handwritten_dataset/final_NIST_inference/9/hsf_1_01355.png': 7,\n",
       " '/home/venkateshiyer/handwritten_dataset/final_NIST_inference/9/hsf_1_01462.png': 4,\n",
       " '/home/venkateshiyer/handwritten_dataset/final_NIST_inference/9/hsf_1_01487.png': 4,\n",
       " '/home/venkateshiyer/handwritten_dataset/final_NIST_inference/9/hsf_1_01488.png': 4,\n",
       " '/home/venkateshiyer/handwritten_dataset/final_NIST_inference/9/hsf_1_01540.png': 7,\n",
       " '/home/venkateshiyer/handwritten_dataset/final_NIST_inference/9/hsf_1_01548.png': 4,\n",
       " '/home/venkateshiyer/handwritten_dataset/final_NIST_inference/9/hsf_1_01646.png': 2,\n",
       " '/home/venkateshiyer/handwritten_dataset/final_NIST_inference/9/hsf_1_01810.png': 7,\n",
       " '/home/venkateshiyer/handwritten_dataset/final_NIST_inference/9/hsf_1_01937.png': 3,\n",
       " '/home/venkateshiyer/handwritten_dataset/final_NIST_inference/9/hsf_1_01939.png': 3,\n",
       " '/home/venkateshiyer/handwritten_dataset/final_NIST_inference/9/hsf_1_01940.png': 3,\n",
       " '/home/venkateshiyer/handwritten_dataset/final_NIST_inference/9/hsf_1_01943.png': 3,\n",
       " '/home/venkateshiyer/handwritten_dataset/final_NIST_inference/9/hsf_1_01944.png': 3,\n",
       " '/home/venkateshiyer/handwritten_dataset/final_NIST_inference/9/hsf_1_02201.png': 7,\n",
       " '/home/venkateshiyer/handwritten_dataset/final_NIST_inference/9/hsf_1_02206.png': 7,\n",
       " '/home/venkateshiyer/handwritten_dataset/final_NIST_inference/9/hsf_1_02313.png': 4,\n",
       " '/home/venkateshiyer/handwritten_dataset/final_NIST_inference/9/hsf_1_02315.png': 4,\n",
       " '/home/venkateshiyer/handwritten_dataset/final_NIST_inference/9/hsf_1_02316.png': 4,\n",
       " '/home/venkateshiyer/handwritten_dataset/final_NIST_inference/9/hsf_1_02319.png': 4,\n",
       " '/home/venkateshiyer/handwritten_dataset/final_NIST_inference/9/hsf_1_02332.png': 7,\n",
       " '/home/venkateshiyer/handwritten_dataset/final_NIST_inference/9/hsf_1_02388.png': 7,\n",
       " '/home/venkateshiyer/handwritten_dataset/final_NIST_inference/9/hsf_1_02398.png': 7,\n",
       " '/home/venkateshiyer/handwritten_dataset/final_NIST_inference/9/hsf_1_02420.png': 7,\n",
       " '/home/venkateshiyer/handwritten_dataset/final_NIST_inference/9/hsf_1_02421.png': 4,\n",
       " '/home/venkateshiyer/handwritten_dataset/final_NIST_inference/9/hsf_1_02424.png': 4,\n",
       " '/home/venkateshiyer/handwritten_dataset/final_NIST_inference/9/hsf_1_02529.png': 4,\n",
       " '/home/venkateshiyer/handwritten_dataset/final_NIST_inference/9/hsf_1_02576.png': 7,\n",
       " '/home/venkateshiyer/handwritten_dataset/final_NIST_inference/9/hsf_1_02622.png': 7,\n",
       " '/home/venkateshiyer/handwritten_dataset/final_NIST_inference/9/hsf_1_02764.png': 7,\n",
       " '/home/venkateshiyer/handwritten_dataset/final_NIST_inference/9/hsf_1_02984.png': 7,\n",
       " '/home/venkateshiyer/handwritten_dataset/final_NIST_inference/9/hsf_1_03054.png': 7,\n",
       " '/home/venkateshiyer/handwritten_dataset/final_NIST_inference/9/hsf_1_03093.png': 7,\n",
       " '/home/venkateshiyer/handwritten_dataset/final_NIST_inference/9/hsf_1_03128.png': 4,\n",
       " '/home/venkateshiyer/handwritten_dataset/final_NIST_inference/9/hsf_1_03333.png': 7,\n",
       " '/home/venkateshiyer/handwritten_dataset/final_NIST_inference/9/hsf_1_03406.png': 7,\n",
       " '/home/venkateshiyer/handwritten_dataset/final_NIST_inference/9/hsf_1_03510.png': 3,\n",
       " '/home/venkateshiyer/handwritten_dataset/final_NIST_inference/9/hsf_1_03537.png': 7,\n",
       " '/home/venkateshiyer/handwritten_dataset/final_NIST_inference/9/hsf_1_03673.png': 7,\n",
       " '/home/venkateshiyer/handwritten_dataset/final_NIST_inference/9/hsf_1_03677.png': 7,\n",
       " '/home/venkateshiyer/handwritten_dataset/final_NIST_inference/9/hsf_1_03917.png': 3,\n",
       " '/home/venkateshiyer/handwritten_dataset/final_NIST_inference/9/hsf_1_03995.png': 7,\n",
       " '/home/venkateshiyer/handwritten_dataset/final_NIST_inference/9/hsf_1_03999.png': 4,\n",
       " '/home/venkateshiyer/handwritten_dataset/final_NIST_inference/9/hsf_1_04004.png': 4,\n",
       " '/home/venkateshiyer/handwritten_dataset/final_NIST_inference/9/hsf_1_04010.png': 4,\n",
       " '/home/venkateshiyer/handwritten_dataset/final_NIST_inference/9/hsf_1_04068.png': 4,\n",
       " '/home/venkateshiyer/handwritten_dataset/final_NIST_inference/9/hsf_1_04147.png': 3,\n",
       " '/home/venkateshiyer/handwritten_dataset/final_NIST_inference/9/hsf_1_04209.png': 7,\n",
       " '/home/venkateshiyer/handwritten_dataset/final_NIST_inference/9/hsf_1_04384.png': 7,\n",
       " '/home/venkateshiyer/handwritten_dataset/final_NIST_inference/9/hsf_1_04405.png': 7,\n",
       " '/home/venkateshiyer/handwritten_dataset/final_NIST_inference/9/hsf_1_04625.png': 4,\n",
       " '/home/venkateshiyer/handwritten_dataset/final_NIST_inference/9/hsf_1_04740.png': 7,\n",
       " '/home/venkateshiyer/handwritten_dataset/final_NIST_inference/9/hsf_1_04883.png': 8,\n",
       " '/home/venkateshiyer/handwritten_dataset/final_NIST_inference/9/hsf_1_04925.png': 7,\n",
       " '/home/venkateshiyer/handwritten_dataset/final_NIST_inference/9/hsf_1_04984.png': 4,\n",
       " '/home/venkateshiyer/handwritten_dataset/final_NIST_inference/9/hsf_1_05029.png': 7}"
      ]
     },
     "execution_count": 38,
     "metadata": {},
     "output_type": "execute_result"
    }
   ],
   "source": [
    "wrong_results"
   ]
  },
  {
   "cell_type": "code",
   "execution_count": 1,
   "id": "c7aa3c33",
   "metadata": {},
   "outputs": [
    {
     "name": "stderr",
     "output_type": "stream",
     "text": [
      "2023-01-05 08:47:20.013064: W tensorflow/stream_executor/platform/default/dso_loader.cc:64] Could not load dynamic library 'libcudart.so.11.0'; dlerror: libcudart.so.11.0: cannot open shared object file: No such file or directory\n",
      "2023-01-05 08:47:20.013090: I tensorflow/stream_executor/cuda/cudart_stub.cc:29] Ignore above cudart dlerror if you do not have a GPU set up on your machine.\n"
     ]
    }
   ],
   "source": [
    "import tensorflow as tf\n",
    "import sys  \n",
    "import os\n",
    "sys.path.append(os.path.realpath('../../src'))\n",
    "from predict import pred_using_tflite_model\n",
    "import cv2\n",
    "import os\n",
    "import glob\n",
    "import numpy as np\n",
    "import matplotlib.pyplot as plt"
   ]
  },
  {
   "cell_type": "code",
   "execution_count": 2,
   "id": "fc7d5231",
   "metadata": {},
   "outputs": [],
   "source": [
    "model = '../../models/tflite_model/model_030123.tflite'"
   ]
  },
  {
   "cell_type": "code",
   "execution_count": 3,
   "id": "813aed41",
   "metadata": {},
   "outputs": [],
   "source": [
    "path = os.path.expanduser('~')+'/handwritten_dataset/NIST_full/0/*'\n",
    "result, accuracy = pred_using_tflite_model(model, path)"
   ]
  },
  {
   "cell_type": "code",
   "execution_count": 4,
   "id": "461229a7",
   "metadata": {},
   "outputs": [
    {
     "data": {
      "text/plain": [
       "0.9877123238164076"
      ]
     },
     "execution_count": 4,
     "metadata": {},
     "output_type": "execute_result"
    }
   ],
   "source": [
    "accuracy"
   ]
  },
  {
   "cell_type": "code",
   "execution_count": 5,
   "id": "165fabe4",
   "metadata": {},
   "outputs": [],
   "source": [
    "path = os.path.expanduser('~')+'/handwritten_dataset/NIST_full/1/*'\n",
    "result, accuracy = pred_using_tflite_model(model, path)"
   ]
  },
  {
   "cell_type": "code",
   "execution_count": 6,
   "id": "bf3c2f07",
   "metadata": {},
   "outputs": [
    {
     "data": {
      "text/plain": [
       "0.9748668442077231"
      ]
     },
     "execution_count": 6,
     "metadata": {},
     "output_type": "execute_result"
    }
   ],
   "source": [
    "accuracy"
   ]
  },
  {
   "cell_type": "code",
   "execution_count": 7,
   "id": "88239013",
   "metadata": {},
   "outputs": [],
   "source": [
    "path = os.path.expanduser('~')+'/handwritten_dataset/NIST_full/2/*'\n",
    "result, accuracy = pred_using_tflite_model(model, path)"
   ]
  },
  {
   "cell_type": "code",
   "execution_count": 8,
   "id": "2555aa42",
   "metadata": {},
   "outputs": [
    {
     "data": {
      "text/plain": [
       "0.9969930464198459"
      ]
     },
     "execution_count": 8,
     "metadata": {},
     "output_type": "execute_result"
    }
   ],
   "source": [
    "accuracy"
   ]
  },
  {
   "cell_type": "code",
   "execution_count": 9,
   "id": "14a6c9d7",
   "metadata": {},
   "outputs": [],
   "source": [
    "path = os.path.expanduser('~')+'/handwritten_dataset/NIST_full/3/*'\n",
    "result, accuracy = pred_using_tflite_model(model, path)"
   ]
  },
  {
   "cell_type": "code",
   "execution_count": 10,
   "id": "0af470f5",
   "metadata": {},
   "outputs": [
    {
     "data": {
      "text/plain": [
       "0.9824749642346209"
      ]
     },
     "execution_count": 10,
     "metadata": {},
     "output_type": "execute_result"
    }
   ],
   "source": [
    "accuracy"
   ]
  },
  {
   "cell_type": "code",
   "execution_count": 11,
   "id": "ae9a2195",
   "metadata": {},
   "outputs": [],
   "source": [
    "path = os.path.expanduser('~')+'/handwritten_dataset/NIST_full/4/*'\n",
    "result, accuracy = pred_using_tflite_model(model, path)"
   ]
  },
  {
   "cell_type": "code",
   "execution_count": 12,
   "id": "394cf9cf",
   "metadata": {},
   "outputs": [
    {
     "data": {
      "text/plain": [
       "0.9912006257332812"
      ]
     },
     "execution_count": 12,
     "metadata": {},
     "output_type": "execute_result"
    }
   ],
   "source": [
    "accuracy"
   ]
  },
  {
   "cell_type": "code",
   "execution_count": 13,
   "id": "4058885c",
   "metadata": {},
   "outputs": [],
   "source": [
    "path = os.path.expanduser('~')+'/handwritten_dataset/NIST_full/5/*'\n",
    "result, accuracy = pred_using_tflite_model(model, path)"
   ]
  },
  {
   "cell_type": "code",
   "execution_count": 14,
   "id": "70e49ae9",
   "metadata": {},
   "outputs": [
    {
     "data": {
      "text/plain": [
       "0.9858787747121442"
      ]
     },
     "execution_count": 14,
     "metadata": {},
     "output_type": "execute_result"
    }
   ],
   "source": [
    "accuracy"
   ]
  },
  {
   "cell_type": "code",
   "execution_count": 15,
   "id": "6c50442b",
   "metadata": {},
   "outputs": [],
   "source": [
    "path = os.path.expanduser('~')+'/handwritten_dataset/NIST_full/6/*'\n",
    "result, accuracy = pred_using_tflite_model(model, path)"
   ]
  },
  {
   "cell_type": "code",
   "execution_count": 16,
   "id": "cd1c698e",
   "metadata": {},
   "outputs": [
    {
     "data": {
      "text/plain": [
       "0.9915966386554622"
      ]
     },
     "execution_count": 16,
     "metadata": {},
     "output_type": "execute_result"
    }
   ],
   "source": [
    "accuracy"
   ]
  },
  {
   "cell_type": "code",
   "execution_count": 17,
   "id": "8bd61be5",
   "metadata": {},
   "outputs": [],
   "source": [
    "path = os.path.expanduser('~')+'/handwritten_dataset/NIST_full/7/*'\n",
    "result, accuracy = pred_using_tflite_model(model, path)"
   ]
  },
  {
   "cell_type": "code",
   "execution_count": 18,
   "id": "2865485a",
   "metadata": {},
   "outputs": [
    {
     "data": {
      "text/plain": [
       "0.9957058507783145"
      ]
     },
     "execution_count": 18,
     "metadata": {},
     "output_type": "execute_result"
    }
   ],
   "source": [
    "accuracy"
   ]
  },
  {
   "cell_type": "code",
   "execution_count": 19,
   "id": "bf0210b2",
   "metadata": {},
   "outputs": [],
   "source": [
    "path = os.path.expanduser('~')+'/handwritten_dataset/NIST_full/8/*'\n",
    "result, accuracy = pred_using_tflite_model(model, path)"
   ]
  },
  {
   "cell_type": "code",
   "execution_count": 20,
   "id": "361a1927",
   "metadata": {},
   "outputs": [
    {
     "data": {
      "text/plain": [
       "0.943177499049791"
      ]
     },
     "execution_count": 20,
     "metadata": {},
     "output_type": "execute_result"
    }
   ],
   "source": [
    "accuracy"
   ]
  },
  {
   "cell_type": "code",
   "execution_count": 21,
   "id": "20c011f5",
   "metadata": {},
   "outputs": [],
   "source": [
    "path = os.path.expanduser('~')+'/handwritten_dataset/NIST_full/9/*'\n",
    "result, accuracy = pred_using_tflite_model(model, path)"
   ]
  },
  {
   "cell_type": "code",
   "execution_count": 22,
   "id": "72abdb78",
   "metadata": {},
   "outputs": [
    {
     "data": {
      "text/plain": [
       "0.9865125240847784"
      ]
     },
     "execution_count": 22,
     "metadata": {},
     "output_type": "execute_result"
    }
   ],
   "source": [
    "accuracy"
   ]
  },
  {
   "cell_type": "code",
   "execution_count": null,
   "id": "1ec643c4",
   "metadata": {},
   "outputs": [],
   "source": []
  }
 ],
 "metadata": {
  "kernelspec": {
   "display_name": "Python 3 (ipykernel)",
   "language": "python",
   "name": "python3"
  },
  "language_info": {
   "codemirror_mode": {
    "name": "ipython",
    "version": 3
   },
   "file_extension": ".py",
   "mimetype": "text/x-python",
   "name": "python",
   "nbconvert_exporter": "python",
   "pygments_lexer": "ipython3",
   "version": "3.8.10"
  }
 },
 "nbformat": 4,
 "nbformat_minor": 5
}

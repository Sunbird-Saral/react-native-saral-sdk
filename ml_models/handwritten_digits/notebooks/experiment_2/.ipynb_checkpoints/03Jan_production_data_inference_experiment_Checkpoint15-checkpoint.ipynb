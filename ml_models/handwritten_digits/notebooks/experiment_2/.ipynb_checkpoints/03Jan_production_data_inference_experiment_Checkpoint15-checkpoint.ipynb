{
 "cells": [
  {
   "cell_type": "markdown",
   "id": "39733297",
   "metadata": {},
   "source": [
    "# Experiment records\n",
    "- Dataset used: Production dataset (Link: https://drive.google.com/file/d/1AC8YkEcZite9Cz2eFJ8Rusk-nUxpjgfW/view)\n",
    "- Description of experiment: To check the performance and analyse the misclassifications of new model (Jan 03- checkpoint_15_0.03.h5)\n",
    "- Result obtained on Partial dataset (removed strikeouts), Accuracy: 99.5%"
   ]
  },
  {
   "cell_type": "code",
   "execution_count": 1,
   "id": "25c26f0a",
   "metadata": {},
   "outputs": [
    {
     "name": "stderr",
     "output_type": "stream",
     "text": [
      "2023-01-04 16:53:20.569122: W tensorflow/stream_executor/platform/default/dso_loader.cc:64] Could not load dynamic library 'libcudart.so.11.0'; dlerror: libcudart.so.11.0: cannot open shared object file: No such file or directory\n",
      "2023-01-04 16:53:20.569147: I tensorflow/stream_executor/cuda/cudart_stub.cc:29] Ignore above cudart dlerror if you do not have a GPU set up on your machine.\n"
     ]
    }
   ],
   "source": [
    "import tensorflow as tf\n",
    "import sys  \n",
    "import os\n",
    "sys.path.append(os.path.realpath('../../src'))\n",
    "# from predict import pred_using_h5_digit, pred_using_tflite_model\n",
    "import cv2\n",
    "import os\n",
    "import glob\n",
    "import numpy as np\n",
    "import matplotlib.pyplot as plt"
   ]
  },
  {
   "cell_type": "code",
   "execution_count": 2,
   "id": "1fdca083",
   "metadata": {},
   "outputs": [
    {
     "name": "stderr",
     "output_type": "stream",
     "text": [
      "2023-01-04 16:55:11.423984: E tensorflow/stream_executor/cuda/cuda_driver.cc:271] failed call to cuInit: CUDA_ERROR_NO_DEVICE: no CUDA-capable device is detected\n",
      "2023-01-04 16:55:11.424026: I tensorflow/stream_executor/cuda/cuda_diagnostics.cc:156] kernel driver does not appear to be running on this host (ti-lap-492): /proc/driver/nvidia/version does not exist\n",
      "2023-01-04 16:55:11.424479: I tensorflow/core/platform/cpu_feature_guard.cc:142] This TensorFlow binary is optimized with oneAPI Deep Neural Network Library (oneDNN) to use the following CPU instructions in performance-critical operations:  AVX2 FMA\n",
      "To enable them in other operations, rebuild TensorFlow with the appropriate compiler flags.\n"
     ]
    }
   ],
   "source": [
    "model = tf.keras.models.load_model('../../models/saved_model/checkpoint_15_0.03.h5')"
   ]
  },
  {
   "cell_type": "code",
   "execution_count": 3,
   "id": "4aff4998",
   "metadata": {},
   "outputs": [],
   "source": [
    "def pred_using_h5_digit(model, path, gt = None, prediction= None, wrong_results = None):\n",
    "    result = {}\n",
    "    wrong_results = {}\n",
    "    gt=[]\n",
    "    prediction = []\n",
    "    wrong_count=0\n",
    "    for img1 in sorted(glob.iglob(path)):\n",
    "        img=cv2.imread(img1)\n",
    "        img_name = img1.split('/')[-1]\n",
    "        img=cv2.resize(img,(28,28))\n",
    "        write_img = img\n",
    "        img= cv2.cvtColor(img, cv2.COLOR_BGR2GRAY)\n",
    "        img = img.astype('float32') / 255.\n",
    "        img= np.reshape(img,(1,28,28,1))\n",
    "        res=model.predict(img)\n",
    "        pred=res[0].argmax(axis=0)\n",
    "        ground_truth = int(img1.split('/')[-2])\n",
    "        gt.append(int(ground_truth))\n",
    "        prediction.append(pred)\n",
    "        result[img1] = pred\n",
    "        if pred!= int(ground_truth):\n",
    "            wrong_count+=1\n",
    "            wrong_results[img1] = pred\n",
    "            cv2.imwrite('/home/venkateshiyer/handwritten_dataset/NIST_full_missclass/'+str(ground_truth)+'/'+img_name, write_img)\n",
    "    accuracy = (len(glob.glob(path))-wrong_count)/len(glob.glob(path))\n",
    "    return result, accuracy, gt, prediction, wrong_results"
   ]
  },
  {
   "cell_type": "code",
   "execution_count": 4,
   "id": "0cdc5f3a",
   "metadata": {},
   "outputs": [
    {
     "name": "stderr",
     "output_type": "stream",
     "text": [
      "2023-01-04 16:55:19.274675: I tensorflow/compiler/mlir/mlir_graph_optimization_pass.cc:185] None of the MLIR Optimization Passes are enabled (registered 2)\n"
     ]
    }
   ],
   "source": [
    "path = os.path.expanduser('~')+'/handwritten_dataset/new_inference_dataset/0/*'\n",
    "result, accuracy, gt, prediction, wrong_results = pred_using_h5_digit(model,path)"
   ]
  },
  {
   "cell_type": "code",
   "execution_count": 5,
   "id": "eaa073bc",
   "metadata": {},
   "outputs": [
    {
     "name": "stdout",
     "output_type": "stream",
     "text": [
      "1.0\n",
      "              precision    recall  f1-score   support\n",
      "\n",
      "           0       1.00      1.00      1.00        16\n",
      "\n",
      "    accuracy                           1.00        16\n",
      "   macro avg       1.00      1.00      1.00        16\n",
      "weighted avg       1.00      1.00      1.00        16\n",
      "\n"
     ]
    }
   ],
   "source": [
    "print(accuracy)\n",
    "from sklearn import metrics\n",
    "print(metrics.classification_report(gt, prediction))"
   ]
  },
  {
   "cell_type": "code",
   "execution_count": 6,
   "id": "2862058d",
   "metadata": {},
   "outputs": [],
   "source": [
    "path = os.path.expanduser('~')+'/handwritten_dataset/new_inference_dataset/1/*'\n",
    "result, accuracy, gt, prediction, wrong_results = pred_using_h5_digit(model,path)"
   ]
  },
  {
   "cell_type": "code",
   "execution_count": 7,
   "id": "71466da2",
   "metadata": {},
   "outputs": [
    {
     "name": "stdout",
     "output_type": "stream",
     "text": [
      "0.9583333333333334\n",
      "              precision    recall  f1-score   support\n",
      "\n",
      "           1       1.00      0.96      0.98        24\n",
      "           7       0.00      0.00      0.00         0\n",
      "\n",
      "    accuracy                           0.96        24\n",
      "   macro avg       0.50      0.48      0.49        24\n",
      "weighted avg       1.00      0.96      0.98        24\n",
      "\n"
     ]
    },
    {
     "name": "stderr",
     "output_type": "stream",
     "text": [
      "/home/venkateshiyer/ocrtool/lib/python3.8/site-packages/sklearn/metrics/_classification.py:1334: UndefinedMetricWarning: Recall and F-score are ill-defined and being set to 0.0 in labels with no true samples. Use `zero_division` parameter to control this behavior.\n",
      "  _warn_prf(average, modifier, msg_start, len(result))\n",
      "/home/venkateshiyer/ocrtool/lib/python3.8/site-packages/sklearn/metrics/_classification.py:1334: UndefinedMetricWarning: Recall and F-score are ill-defined and being set to 0.0 in labels with no true samples. Use `zero_division` parameter to control this behavior.\n",
      "  _warn_prf(average, modifier, msg_start, len(result))\n",
      "/home/venkateshiyer/ocrtool/lib/python3.8/site-packages/sklearn/metrics/_classification.py:1334: UndefinedMetricWarning: Recall and F-score are ill-defined and being set to 0.0 in labels with no true samples. Use `zero_division` parameter to control this behavior.\n",
      "  _warn_prf(average, modifier, msg_start, len(result))\n"
     ]
    }
   ],
   "source": [
    "print(accuracy)\n",
    "from sklearn import metrics\n",
    "print(metrics.classification_report(gt, prediction))"
   ]
  },
  {
   "cell_type": "code",
   "execution_count": 8,
   "id": "19cdb5e1",
   "metadata": {},
   "outputs": [
    {
     "data": {
      "text/plain": [
       "1"
      ]
     },
     "execution_count": 8,
     "metadata": {},
     "output_type": "execute_result"
    }
   ],
   "source": [
    "len(wrong_results)"
   ]
  },
  {
   "cell_type": "code",
   "execution_count": 10,
   "id": "48d4e9d2",
   "metadata": {},
   "outputs": [
    {
     "data": {
      "text/plain": [
       "Text(0.5, 0.98, 'Misclassifications')"
      ]
     },
     "execution_count": 10,
     "metadata": {},
     "output_type": "execute_result"
    },
    {
     "data": {
      "image/png": "[encoded data removed]",
      "text/plain": [
       "<Figure size 500x500 with 1 Axes>"
      ]
     },
     "metadata": {},
     "output_type": "display_data"
    }
   ],
   "source": [
    "import operator\n",
    "fig, axis = plt.subplots(nrows= 1, ncols=1, figsize=(5,5))\n",
    "if type(axis)!=np.ndarray:\n",
    "    axis = np.array([[axis]])\n",
    "axis = axis.flatten()\n",
    "count=0\n",
    "for img_name, prediction in sorted(wrong_results.items()):\n",
    "    pic =plt.imread(img_name)\n",
    "    axis[count].imshow(pic)\n",
    "    axis[count].set(title=prediction)\n",
    "    count+=1\n",
    "fig.suptitle('Misclassifications', fontsize=2)"
   ]
  },
  {
   "cell_type": "code",
   "execution_count": 11,
   "id": "b05f8c1f",
   "metadata": {},
   "outputs": [],
   "source": [
    "path = os.path.expanduser('~')+'/handwritten_dataset/new_inference_dataset/2/*'\n",
    "result, accuracy, gt, prediction, wrong_results = pred_using_h5_digit(model,path)"
   ]
  },
  {
   "cell_type": "code",
   "execution_count": 12,
   "id": "68ed23bb",
   "metadata": {},
   "outputs": [
    {
     "name": "stdout",
     "output_type": "stream",
     "text": [
      "1.0\n",
      "              precision    recall  f1-score   support\n",
      "\n",
      "           2       1.00      1.00      1.00        17\n",
      "\n",
      "    accuracy                           1.00        17\n",
      "   macro avg       1.00      1.00      1.00        17\n",
      "weighted avg       1.00      1.00      1.00        17\n",
      "\n"
     ]
    }
   ],
   "source": [
    "print(accuracy)\n",
    "from sklearn import metrics\n",
    "print(metrics.classification_report(gt, prediction))"
   ]
  },
  {
   "cell_type": "code",
   "execution_count": 13,
   "id": "4846ecee",
   "metadata": {},
   "outputs": [],
   "source": [
    "path = os.path.expanduser('~')+'/handwritten_dataset/partly_new_inference_dataset/3/*'\n",
    "result, accuracy, gt, prediction, wrong_results = pred_using_h5_digit(model,path)"
   ]
  },
  {
   "cell_type": "code",
   "execution_count": 14,
   "id": "de446316",
   "metadata": {},
   "outputs": [
    {
     "name": "stdout",
     "output_type": "stream",
     "text": [
      "1.0\n",
      "              precision    recall  f1-score   support\n",
      "\n",
      "           3       1.00      1.00      1.00        22\n",
      "\n",
      "    accuracy                           1.00        22\n",
      "   macro avg       1.00      1.00      1.00        22\n",
      "weighted avg       1.00      1.00      1.00        22\n",
      "\n"
     ]
    }
   ],
   "source": [
    "print(accuracy)\n",
    "from sklearn import metrics\n",
    "print(metrics.classification_report(gt, prediction))"
   ]
  },
  {
   "cell_type": "code",
   "execution_count": 15,
   "id": "78f79f17",
   "metadata": {},
   "outputs": [],
   "source": [
    "path = os.path.expanduser('~')+'/handwritten_dataset/partly_new_inference_dataset/4/*'\n",
    "result, accuracy, gt, prediction, wrong_results = pred_using_h5_digit(model,path)"
   ]
  },
  {
   "cell_type": "code",
   "execution_count": 16,
   "id": "882124e1",
   "metadata": {},
   "outputs": [
    {
     "name": "stdout",
     "output_type": "stream",
     "text": [
      "1.0\n",
      "              precision    recall  f1-score   support\n",
      "\n",
      "           4       1.00      1.00      1.00        19\n",
      "\n",
      "    accuracy                           1.00        19\n",
      "   macro avg       1.00      1.00      1.00        19\n",
      "weighted avg       1.00      1.00      1.00        19\n",
      "\n"
     ]
    }
   ],
   "source": [
    "print(accuracy)\n",
    "from sklearn import metrics\n",
    "print(metrics.classification_report(gt, prediction))"
   ]
  },
  {
   "cell_type": "code",
   "execution_count": 17,
   "id": "6f37cbc6",
   "metadata": {},
   "outputs": [],
   "source": [
    "path = os.path.expanduser('~')+'/handwritten_dataset/new_inference_dataset/5/*'\n",
    "result, accuracy, gt, prediction, wrong_results = pred_using_h5_digit(model,path)"
   ]
  },
  {
   "cell_type": "code",
   "execution_count": 18,
   "id": "0d2b8faa",
   "metadata": {},
   "outputs": [
    {
     "name": "stdout",
     "output_type": "stream",
     "text": [
      "1.0\n",
      "              precision    recall  f1-score   support\n",
      "\n",
      "           5       1.00      1.00      1.00        20\n",
      "\n",
      "    accuracy                           1.00        20\n",
      "   macro avg       1.00      1.00      1.00        20\n",
      "weighted avg       1.00      1.00      1.00        20\n",
      "\n"
     ]
    }
   ],
   "source": [
    "print(accuracy)\n",
    "from sklearn import metrics\n",
    "print(metrics.classification_report(gt, prediction))"
   ]
  },
  {
   "cell_type": "code",
   "execution_count": 19,
   "id": "09849011",
   "metadata": {},
   "outputs": [],
   "source": [
    "path = os.path.expanduser('~')+'/handwritten_dataset/new_inference_dataset/6/*'\n",
    "result, accuracy, gt, prediction, wrong_results = pred_using_h5_digit(model,path)"
   ]
  },
  {
   "cell_type": "code",
   "execution_count": 20,
   "id": "785d7d70",
   "metadata": {},
   "outputs": [
    {
     "name": "stdout",
     "output_type": "stream",
     "text": [
      "1.0\n",
      "              precision    recall  f1-score   support\n",
      "\n",
      "           6       1.00      1.00      1.00        11\n",
      "\n",
      "    accuracy                           1.00        11\n",
      "   macro avg       1.00      1.00      1.00        11\n",
      "weighted avg       1.00      1.00      1.00        11\n",
      "\n"
     ]
    }
   ],
   "source": [
    "print(accuracy)\n",
    "from sklearn import metrics\n",
    "print(metrics.classification_report(gt, prediction))"
   ]
  },
  {
   "cell_type": "code",
   "execution_count": 21,
   "id": "9ec3a93f",
   "metadata": {},
   "outputs": [],
   "source": [
    "path = os.path.expanduser('~')+'/handwritten_dataset/partly_new_inference_dataset/7/*'\n",
    "result, accuracy, gt, prediction, wrong_results = pred_using_h5_digit(model,path)"
   ]
  },
  {
   "cell_type": "code",
   "execution_count": 22,
   "id": "9742ebd2",
   "metadata": {},
   "outputs": [
    {
     "name": "stdout",
     "output_type": "stream",
     "text": [
      "1.0\n",
      "              precision    recall  f1-score   support\n",
      "\n",
      "           7       1.00      1.00      1.00        18\n",
      "\n",
      "    accuracy                           1.00        18\n",
      "   macro avg       1.00      1.00      1.00        18\n",
      "weighted avg       1.00      1.00      1.00        18\n",
      "\n"
     ]
    }
   ],
   "source": [
    "print(accuracy)\n",
    "from sklearn import metrics\n",
    "print(metrics.classification_report(gt, prediction))"
   ]
  },
  {
   "cell_type": "code",
   "execution_count": 23,
   "id": "705ab089",
   "metadata": {},
   "outputs": [],
   "source": [
    "path = os.path.expanduser('~')+'/handwritten_dataset/partly_new_inference_dataset/8/*'\n",
    "result, accuracy, gt, prediction, wrong_results = pred_using_h5_digit(model,path)"
   ]
  },
  {
   "cell_type": "code",
   "execution_count": 24,
   "id": "bac5f0c5",
   "metadata": {},
   "outputs": [
    {
     "name": "stdout",
     "output_type": "stream",
     "text": [
      "1.0\n",
      "              precision    recall  f1-score   support\n",
      "\n",
      "           8       1.00      1.00      1.00        11\n",
      "\n",
      "    accuracy                           1.00        11\n",
      "   macro avg       1.00      1.00      1.00        11\n",
      "weighted avg       1.00      1.00      1.00        11\n",
      "\n"
     ]
    }
   ],
   "source": [
    "print(accuracy)\n",
    "from sklearn import metrics\n",
    "print(metrics.classification_report(gt, prediction))"
   ]
  },
  {
   "cell_type": "code",
   "execution_count": 25,
   "id": "f1f3f36a",
   "metadata": {},
   "outputs": [],
   "source": [
    "path = os.path.expanduser('~')+'/handwritten_dataset/partly_new_inference_dataset/9/*'\n",
    "result, accuracy, gt, prediction, wrong_results = pred_using_h5_digit(model,path)"
   ]
  },
  {
   "cell_type": "code",
   "execution_count": 26,
   "id": "b57f7833",
   "metadata": {},
   "outputs": [
    {
     "name": "stdout",
     "output_type": "stream",
     "text": [
      "1.0\n",
      "              precision    recall  f1-score   support\n",
      "\n",
      "           9       1.00      1.00      1.00         9\n",
      "\n",
      "    accuracy                           1.00         9\n",
      "   macro avg       1.00      1.00      1.00         9\n",
      "weighted avg       1.00      1.00      1.00         9\n",
      "\n"
     ]
    }
   ],
   "source": [
    "print(accuracy)\n",
    "from sklearn import metrics\n",
    "print(metrics.classification_report(gt, prediction))"
   ]
  },
  {
   "cell_type": "code",
   "execution_count": 27,
   "id": "acdd49fb",
   "metadata": {},
   "outputs": [
    {
     "data": {
      "text/plain": [
       "0"
      ]
     },
     "execution_count": 27,
     "metadata": {},
     "output_type": "execute_result"
    }
   ],
   "source": [
    "len(wrong_results)"
   ]
  },
  {
   "cell_type": "markdown",
   "id": "cc98e549",
   "metadata": {},
   "source": [
    "# TF lite model"
   ]
  },
  {
   "cell_type": "code",
   "execution_count": 1,
   "id": "ff885613",
   "metadata": {},
   "outputs": [
    {
     "name": "stderr",
     "output_type": "stream",
     "text": [
      "2023-01-05 08:37:43.279278: W tensorflow/stream_executor/platform/default/dso_loader.cc:64] Could not load dynamic library 'libcudart.so.11.0'; dlerror: libcudart.so.11.0: cannot open shared object file: No such file or directory\n",
      "2023-01-05 08:37:43.279301: I tensorflow/stream_executor/cuda/cudart_stub.cc:29] Ignore above cudart dlerror if you do not have a GPU set up on your machine.\n"
     ]
    }
   ],
   "source": [
    "import tensorflow as tf\n",
    "import sys  \n",
    "import os\n",
    "sys.path.append(os.path.realpath('../../src'))\n",
    "from predict import pred_using_tflite_model\n",
    "import cv2\n",
    "import os\n",
    "import glob\n",
    "import numpy as np\n",
    "import matplotlib.pyplot as plt"
   ]
  },
  {
   "cell_type": "code",
   "execution_count": 2,
   "id": "471988e9",
   "metadata": {},
   "outputs": [],
   "source": [
    "model = '../../models/tflite_model/model_030123.tflite'"
   ]
  },
  {
   "cell_type": "code",
   "execution_count": 3,
   "id": "51800f75",
   "metadata": {},
   "outputs": [],
   "source": [
    "path = os.path.expanduser('~')+'/handwritten_dataset/new_inference_dataset/0/*'\n",
    "result, accuracy = pred_using_tflite_model(model, path)"
   ]
  },
  {
   "cell_type": "code",
   "execution_count": 4,
   "id": "3c154d95",
   "metadata": {},
   "outputs": [
    {
     "data": {
      "text/plain": [
       "1.0"
      ]
     },
     "execution_count": 4,
     "metadata": {},
     "output_type": "execute_result"
    }
   ],
   "source": [
    "accuracy"
   ]
  },
  {
   "cell_type": "code",
   "execution_count": 5,
   "id": "a0de7b02",
   "metadata": {},
   "outputs": [],
   "source": [
    "path = os.path.expanduser('~')+'/handwritten_dataset/new_inference_dataset/1/*'\n",
    "result, accuracy = pred_using_tflite_model(model, path)"
   ]
  },
  {
   "cell_type": "code",
   "execution_count": 6,
   "id": "d732ed09",
   "metadata": {},
   "outputs": [
    {
     "data": {
      "text/plain": [
       "0.9583333333333334"
      ]
     },
     "execution_count": 6,
     "metadata": {},
     "output_type": "execute_result"
    }
   ],
   "source": [
    "accuracy"
   ]
  },
  {
   "cell_type": "code",
   "execution_count": 7,
   "id": "7a5bdc01",
   "metadata": {},
   "outputs": [],
   "source": [
    "path = os.path.expanduser('~')+'/handwritten_dataset/new_inference_dataset/2/*'\n",
    "result, accuracy = pred_using_tflite_model(model, path)"
   ]
  },
  {
   "cell_type": "code",
   "execution_count": 8,
   "id": "6fc661b5",
   "metadata": {},
   "outputs": [
    {
     "data": {
      "text/plain": [
       "1.0"
      ]
     },
     "execution_count": 8,
     "metadata": {},
     "output_type": "execute_result"
    }
   ],
   "source": [
    "accuracy"
   ]
  },
  {
   "cell_type": "code",
   "execution_count": 11,
   "id": "48cf13db",
   "metadata": {},
   "outputs": [],
   "source": [
    "path = os.path.expanduser('~')+'/handwritten_dataset/partly_new_inference_dataset/3/*'\n",
    "result, accuracy = pred_using_tflite_model(model, path)"
   ]
  },
  {
   "cell_type": "code",
   "execution_count": 12,
   "id": "955811a5",
   "metadata": {},
   "outputs": [
    {
     "data": {
      "text/plain": [
       "1.0"
      ]
     },
     "execution_count": 12,
     "metadata": {},
     "output_type": "execute_result"
    }
   ],
   "source": [
    "accuracy"
   ]
  },
  {
   "cell_type": "code",
   "execution_count": 13,
   "id": "b0dc80c6",
   "metadata": {},
   "outputs": [],
   "source": [
    "path = os.path.expanduser('~')+'/handwritten_dataset/partly_new_inference_dataset/4/*'\n",
    "result, accuracy = pred_using_tflite_model(model, path)"
   ]
  },
  {
   "cell_type": "code",
   "execution_count": 14,
   "id": "6426f6ed",
   "metadata": {},
   "outputs": [
    {
     "data": {
      "text/plain": [
       "1.0"
      ]
     },
     "execution_count": 14,
     "metadata": {},
     "output_type": "execute_result"
    }
   ],
   "source": [
    "accuracy"
   ]
  },
  {
   "cell_type": "code",
   "execution_count": 15,
   "id": "322c930d",
   "metadata": {},
   "outputs": [],
   "source": [
    "path = os.path.expanduser('~')+'/handwritten_dataset/new_inference_dataset/5/*'\n",
    "result, accuracy = pred_using_tflite_model(model, path)"
   ]
  },
  {
   "cell_type": "code",
   "execution_count": 16,
   "id": "b1d8be67",
   "metadata": {},
   "outputs": [
    {
     "data": {
      "text/plain": [
       "1.0"
      ]
     },
     "execution_count": 16,
     "metadata": {},
     "output_type": "execute_result"
    }
   ],
   "source": [
    "accuracy"
   ]
  },
  {
   "cell_type": "code",
   "execution_count": 17,
   "id": "d2915ae5",
   "metadata": {},
   "outputs": [],
   "source": [
    "path = os.path.expanduser('~')+'/handwritten_dataset/new_inference_dataset/6/*'\n",
    "result, accuracy = pred_using_tflite_model(model, path)"
   ]
  },
  {
   "cell_type": "code",
   "execution_count": 18,
   "id": "ddbd6e99",
   "metadata": {},
   "outputs": [
    {
     "data": {
      "text/plain": [
       "1.0"
      ]
     },
     "execution_count": 18,
     "metadata": {},
     "output_type": "execute_result"
    }
   ],
   "source": [
    "accuracy"
   ]
  },
  {
   "cell_type": "code",
   "execution_count": 19,
   "id": "b05e485d",
   "metadata": {},
   "outputs": [],
   "source": [
    "path = os.path.expanduser('~')+'/handwritten_dataset/partly_new_inference_dataset/7/*'\n",
    "result, accuracy = pred_using_tflite_model(model, path)"
   ]
  },
  {
   "cell_type": "code",
   "execution_count": 20,
   "id": "1c0ae229",
   "metadata": {},
   "outputs": [
    {
     "data": {
      "text/plain": [
       "1.0"
      ]
     },
     "execution_count": 20,
     "metadata": {},
     "output_type": "execute_result"
    }
   ],
   "source": [
    "accuracy"
   ]
  },
  {
   "cell_type": "code",
   "execution_count": 21,
   "id": "43690f95",
   "metadata": {},
   "outputs": [],
   "source": [
    "path = os.path.expanduser('~')+'/handwritten_dataset/partly_new_inference_dataset/8/*'\n",
    "result, accuracy = pred_using_tflite_model(model, path)"
   ]
  },
  {
   "cell_type": "code",
   "execution_count": 22,
   "id": "75720dce",
   "metadata": {},
   "outputs": [
    {
     "data": {
      "text/plain": [
       "1.0"
      ]
     },
     "execution_count": 22,
     "metadata": {},
     "output_type": "execute_result"
    }
   ],
   "source": [
    "accuracy"
   ]
  },
  {
   "cell_type": "code",
   "execution_count": 23,
   "id": "8270cd20",
   "metadata": {},
   "outputs": [],
   "source": [
    "path = os.path.expanduser('~')+'/handwritten_dataset/partly_new_inference_dataset/9/*'\n",
    "result, accuracy = pred_using_tflite_model(model, path)"
   ]
  },
  {
   "cell_type": "code",
   "execution_count": 24,
   "id": "d729b896",
   "metadata": {},
   "outputs": [
    {
     "data": {
      "text/plain": [
       "1.0"
      ]
     },
     "execution_count": 24,
     "metadata": {},
     "output_type": "execute_result"
    }
   ],
   "source": [
    "accuracy"
   ]
  },
  {
   "cell_type": "code",
   "execution_count": null,
   "id": "aa812cd7",
   "metadata": {},
   "outputs": [],
   "source": []
  }
 ],
 "metadata": {
  "kernelspec": {
   "display_name": "Python 3 (ipykernel)",
   "language": "python",
   "name": "python3"
  },
  "language_info": {
   "codemirror_mode": {
    "name": "ipython",
    "version": 3
   },
   "file_extension": ".py",
   "mimetype": "text/x-python",
   "name": "python",
   "nbconvert_exporter": "python",
   "pygments_lexer": "ipython3",
   "version": "3.8.10"
  }
 },
 "nbformat": 4,
 "nbformat_minor": 5
}

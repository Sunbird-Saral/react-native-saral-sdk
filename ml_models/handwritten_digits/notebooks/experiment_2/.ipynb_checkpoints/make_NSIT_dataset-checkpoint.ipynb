{
 "cells": [
  {
   "cell_type": "code",
   "execution_count": null,
   "id": "fdd0d286",
   "metadata": {},
   "outputs": [],
   "source": [
    "list_folders = [30,31,32,33,34,35,36,37,38,39]"
   ]
  },
  {
   "cell_type": "code",
   "execution_count": null,
   "id": "327aa2e9",
   "metadata": {},
   "outputs": [],
   "source": [
    "# For 0\n",
    "path = '/home/venkateshiyer/Downloads/by_class/30/hsf_0'\n"
   ]
  }
 ],
 "metadata": {
  "kernelspec": {
   "display_name": "Python 3 (ipykernel)",
   "language": "python",
   "name": "python3"
  },
  "language_info": {
   "codemirror_mode": {
    "name": "ipython",
    "version": 3
   },
   "file_extension": ".py",
   "mimetype": "text/x-python",
   "name": "python",
   "nbconvert_exporter": "python",
   "pygments_lexer": "ipython3",
   "version": "3.8.10"
  }
 },
 "nbformat": 4,
 "nbformat_minor": 5
}

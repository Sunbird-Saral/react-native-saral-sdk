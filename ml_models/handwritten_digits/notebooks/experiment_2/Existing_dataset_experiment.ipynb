{
 "cells": [
  {
   "cell_type": "markdown",
   "id": "b6be3d45",
   "metadata": {},
   "source": [
    "# Experiment records\n",
    "- Trained model name: resnet_trained_model_digit_with_printed_v1_new_finetune_13_08_22_epoch_5.h5 (Fine-tuned on base model)\n",
    "- Trained for: 22 epochs\n",
    "- Augmentations used: No\n",
    "- Accuracy achieved: approx. 98%\n",
    "- Dataset used: https://drive.google.com/file/d/1bTjKBzN-QsCnrQxznRj-b3Szt8_mLKdL/view?usp=share_link"
   ]
  },
  {
   "cell_type": "code",
   "execution_count": 1,
   "id": "ede64db3",
   "metadata": {},
   "outputs": [
    {
     "name": "stderr",
     "output_type": "stream",
     "text": [
      "2022-12-07 16:56:45.359569: W tensorflow/stream_executor/platform/default/dso_loader.cc:64] Could not load dynamic library 'libcudart.so.11.0'; dlerror: libcudart.so.11.0: cannot open shared object file: No such file or directory\n",
      "2022-12-07 16:56:45.359589: I tensorflow/stream_executor/cuda/cudart_stub.cc:29] Ignore above cudart dlerror if you do not have a GPU set up on your machine.\n"
     ]
    }
   ],
   "source": [
    "import tensorflow as tf\n",
    "import sys  \n",
    "import os\n",
    "sys.path.append(os.path.realpath('../../src'))\n",
    "# from predict import pred_using_h5_digit, pred_using_tflite_model\n",
    "import cv2\n",
    "import os\n",
    "import glob\n",
    "import numpy as np\n",
    "import matplotlib.pyplot as plt"
   ]
  },
  {
   "cell_type": "code",
   "execution_count": 2,
   "id": "acea0e8a",
   "metadata": {},
   "outputs": [
    {
     "name": "stderr",
     "output_type": "stream",
     "text": [
      "2022-12-07 16:56:49.332320: E tensorflow/stream_executor/cuda/cuda_driver.cc:271] failed call to cuInit: CUDA_ERROR_NO_DEVICE: no CUDA-capable device is detected\n",
      "2022-12-07 16:56:49.332594: I tensorflow/stream_executor/cuda/cuda_diagnostics.cc:156] kernel driver does not appear to be running on this host (ti-lap-492): /proc/driver/nvidia/version does not exist\n",
      "2022-12-07 16:56:49.333776: I tensorflow/core/platform/cpu_feature_guard.cc:142] This TensorFlow binary is optimized with oneAPI Deep Neural Network Library (oneDNN) to use the following CPU instructions in performance-critical operations:  AVX2 FMA\n",
      "To enable them in other operations, rebuild TensorFlow with the appropriate compiler flags.\n"
     ]
    }
   ],
   "source": [
    "model = tf.keras.models.load_model('/home/venkateshiyer/react-native-saral-sdk/ml_models/handwritten_digits/models/pre-trained_model/resnet_trained_model_digit_with_printed_v1_new_finetune_13_08_22_epoch_5.h5')"
   ]
  },
  {
   "cell_type": "code",
   "execution_count": 5,
   "id": "75860e86",
   "metadata": {},
   "outputs": [],
   "source": [
    "def pred_using_h5_digit(model, path, gt = None, prediction= None, wrong_imgs=None):\n",
    "    result = {}\n",
    "    gt=[]\n",
    "    prediction = []\n",
    "    wrong_imgs = {}\n",
    "    wrong_count=0\n",
    "    for img1 in sorted(glob.iglob(path)):\n",
    "        img=cv2.imread(img1)\n",
    "        img=cv2.resize(img,(28,28))\n",
    "        img= cv2.cvtColor(img, cv2.COLOR_BGR2GRAY)\n",
    "        img = img.astype('float32') / 255.\n",
    "        img= np.reshape(img,(1,28,28,1))\n",
    "        res=model.predict(img)\n",
    "        pred=res[0].argmax(axis=0)\n",
    "        ground_truth = int(img1.split('/')[-2])\n",
    "        gt.append(int(ground_truth))\n",
    "        prediction.append(pred)\n",
    "        result[img1] = pred\n",
    "        if pred!= int(ground_truth):\n",
    "            wrong_count+=1\n",
    "            wrong_imgs[img1] = pred\n",
    "    accuracy = (len(glob.glob(path))-wrong_count)/len(glob.glob(path))\n",
    "    return result, accuracy, gt, prediction, wrong_imgs"
   ]
  },
  {
   "cell_type": "code",
   "execution_count": null,
   "id": "b3805795",
   "metadata": {},
   "outputs": [],
   "source": [
    "# For 0"
   ]
  },
  {
   "cell_type": "code",
   "execution_count": 6,
   "id": "994f4cdb",
   "metadata": {},
   "outputs": [
    {
     "name": "stderr",
     "output_type": "stream",
     "text": [
      "2022-12-07 16:57:36.247617: I tensorflow/compiler/mlir/mlir_graph_optimization_pass.cc:185] None of the MLIR Optimization Passes are enabled (registered 2)\n"
     ]
    }
   ],
   "source": [
    "path = '/home/venkateshiyer/Handwritten_digits_existing/0/*'\n",
    "result, accuracy, gt, prediction, wrong_imgs = pred_using_h5_digit(model,path)"
   ]
  },
  {
   "cell_type": "code",
   "execution_count": 7,
   "id": "f4d8c570",
   "metadata": {},
   "outputs": [
    {
     "data": {
      "text/plain": [
       "0"
      ]
     },
     "execution_count": 7,
     "metadata": {},
     "output_type": "execute_result"
    }
   ],
   "source": [
    "len(wrong_imgs)"
   ]
  },
  {
   "cell_type": "code",
   "execution_count": 8,
   "id": "43d9ffa2",
   "metadata": {},
   "outputs": [
    {
     "name": "stdout",
     "output_type": "stream",
     "text": [
      "1.0\n",
      "              precision    recall  f1-score   support\n",
      "\n",
      "           0       1.00      1.00      1.00      1003\n",
      "\n",
      "    accuracy                           1.00      1003\n",
      "   macro avg       1.00      1.00      1.00      1003\n",
      "weighted avg       1.00      1.00      1.00      1003\n",
      "\n"
     ]
    }
   ],
   "source": [
    "print(accuracy)\n",
    "from sklearn import metrics\n",
    "print(metrics.classification_report(gt, prediction))"
   ]
  },
  {
   "cell_type": "code",
   "execution_count": null,
   "id": "6566be39",
   "metadata": {},
   "outputs": [],
   "source": [
    "# For 1"
   ]
  },
  {
   "cell_type": "code",
   "execution_count": 9,
   "id": "78c0fd9f",
   "metadata": {},
   "outputs": [],
   "source": [
    "path = '/home/venkateshiyer/Handwritten_digits_existing/1/*'\n",
    "result, accuracy, gt, prediction, wrong_imgs = pred_using_h5_digit(model,path)"
   ]
  },
  {
   "cell_type": "code",
   "execution_count": 10,
   "id": "70f0497a",
   "metadata": {},
   "outputs": [
    {
     "name": "stdout",
     "output_type": "stream",
     "text": [
      "0.9980059820538385\n",
      "              precision    recall  f1-score   support\n",
      "\n",
      "           1       1.00      1.00      1.00      1003\n",
      "          10       0.00      0.00      0.00         0\n",
      "\n",
      "    accuracy                           1.00      1003\n",
      "   macro avg       0.50      0.50      0.50      1003\n",
      "weighted avg       1.00      1.00      1.00      1003\n",
      "\n"
     ]
    },
    {
     "name": "stderr",
     "output_type": "stream",
     "text": [
      "/home/venkateshiyer/ocrtool/lib/python3.8/site-packages/sklearn/metrics/_classification.py:1334: UndefinedMetricWarning: Recall and F-score are ill-defined and being set to 0.0 in labels with no true samples. Use `zero_division` parameter to control this behavior.\n",
      "  _warn_prf(average, modifier, msg_start, len(result))\n",
      "/home/venkateshiyer/ocrtool/lib/python3.8/site-packages/sklearn/metrics/_classification.py:1334: UndefinedMetricWarning: Recall and F-score are ill-defined and being set to 0.0 in labels with no true samples. Use `zero_division` parameter to control this behavior.\n",
      "  _warn_prf(average, modifier, msg_start, len(result))\n",
      "/home/venkateshiyer/ocrtool/lib/python3.8/site-packages/sklearn/metrics/_classification.py:1334: UndefinedMetricWarning: Recall and F-score are ill-defined and being set to 0.0 in labels with no true samples. Use `zero_division` parameter to control this behavior.\n",
      "  _warn_prf(average, modifier, msg_start, len(result))\n"
     ]
    }
   ],
   "source": [
    "print(accuracy)\n",
    "from sklearn import metrics\n",
    "print(metrics.classification_report(gt, prediction))"
   ]
  },
  {
   "cell_type": "code",
   "execution_count": 15,
   "id": "81bef3ab",
   "metadata": {},
   "outputs": [
    {
     "data": {
      "text/plain": [
       "{'/home/venkateshiyer/Handwritten_digits_existing/1/0c2de636c1c247088ba47887426c9748.jpg': 10,\n",
       " '/home/venkateshiyer/Handwritten_digits_existing/1/1ea2c1e9a3394cb1a9c77a6f0bf57711.jpg': 10}"
      ]
     },
     "execution_count": 15,
     "metadata": {},
     "output_type": "execute_result"
    }
   ],
   "source": [
    "len(wrong_imgs)\n",
    "wrong_imgs"
   ]
  },
  {
   "cell_type": "code",
   "execution_count": 14,
   "id": "a06699b0",
   "metadata": {},
   "outputs": [
    {
     "data": {
      "text/plain": [
       "Text(0.5, 0.98, 'Misclassifications')"
      ]
     },
     "execution_count": 14,
     "metadata": {},
     "output_type": "execute_result"
    },
    {
     "data": {
      "image/png": "[encoded data removed]",
      "text/plain": [
       "<Figure size 500x500 with 2 Axes>"
      ]
     },
     "metadata": {},
     "output_type": "display_data"
    }
   ],
   "source": [
    "fig, axis = plt.subplots(nrows= 1, ncols=len(wrong_imgs), figsize=(5,5))\n",
    "if type(axis)!=np.ndarray:\n",
    "    axis = np.array([[axis]])\n",
    "axis = axis.flatten()\n",
    "count=0\n",
    "for img_name, prediction in wrong_imgs.items():\n",
    "    pic =plt.imread(img_name)\n",
    "    axis[count].imshow(pic)\n",
    "    axis[count].set(title=prediction)\n",
    "    count+=1\n",
    "fig.suptitle('Misclassifications', fontsize=10)"
   ]
  },
  {
   "cell_type": "code",
   "execution_count": null,
   "id": "e3ede00e",
   "metadata": {},
   "outputs": [],
   "source": [
    "# For 2"
   ]
  },
  {
   "cell_type": "code",
   "execution_count": 16,
   "id": "b825d3d0",
   "metadata": {},
   "outputs": [],
   "source": [
    "path = '/home/venkateshiyer/Handwritten_digits_existing/2/*'\n",
    "result, accuracy, gt, prediction, wrong_imgs = pred_using_h5_digit(model,path)"
   ]
  },
  {
   "cell_type": "code",
   "execution_count": 17,
   "id": "9a0ae5da",
   "metadata": {},
   "outputs": [
    {
     "name": "stdout",
     "output_type": "stream",
     "text": [
      "1.0\n",
      "              precision    recall  f1-score   support\n",
      "\n",
      "           2       1.00      1.00      1.00      1003\n",
      "\n",
      "    accuracy                           1.00      1003\n",
      "   macro avg       1.00      1.00      1.00      1003\n",
      "weighted avg       1.00      1.00      1.00      1003\n",
      "\n"
     ]
    }
   ],
   "source": [
    "print(accuracy)\n",
    "from sklearn import metrics\n",
    "print(metrics.classification_report(gt, prediction))"
   ]
  },
  {
   "cell_type": "code",
   "execution_count": null,
   "id": "6263bf7d",
   "metadata": {},
   "outputs": [],
   "source": [
    "# For 3"
   ]
  },
  {
   "cell_type": "code",
   "execution_count": 18,
   "id": "0e61e13a",
   "metadata": {},
   "outputs": [],
   "source": [
    "path = '/home/venkateshiyer/Handwritten_digits_existing/3/*'\n",
    "result, accuracy, gt, prediction, wrong_imgs = pred_using_h5_digit(model,path)"
   ]
  },
  {
   "cell_type": "code",
   "execution_count": 19,
   "id": "bc9ad70d",
   "metadata": {},
   "outputs": [
    {
     "name": "stdout",
     "output_type": "stream",
     "text": [
      "1.0\n",
      "              precision    recall  f1-score   support\n",
      "\n",
      "           3       1.00      1.00      1.00      1003\n",
      "\n",
      "    accuracy                           1.00      1003\n",
      "   macro avg       1.00      1.00      1.00      1003\n",
      "weighted avg       1.00      1.00      1.00      1003\n",
      "\n"
     ]
    }
   ],
   "source": [
    "print(accuracy)\n",
    "from sklearn import metrics\n",
    "print(metrics.classification_report(gt, prediction))"
   ]
  },
  {
   "cell_type": "code",
   "execution_count": null,
   "id": "ea64bfe6",
   "metadata": {},
   "outputs": [],
   "source": [
    "# For 4"
   ]
  },
  {
   "cell_type": "code",
   "execution_count": 20,
   "id": "6ee47df5",
   "metadata": {},
   "outputs": [],
   "source": [
    "path = '/home/venkateshiyer/Handwritten_digits_existing/4/*'\n",
    "result, accuracy, gt, prediction, wrong_imgs = pred_using_h5_digit(model,path)"
   ]
  },
  {
   "cell_type": "code",
   "execution_count": 21,
   "id": "d9f66838",
   "metadata": {},
   "outputs": [
    {
     "name": "stdout",
     "output_type": "stream",
     "text": [
      "1.0\n",
      "              precision    recall  f1-score   support\n",
      "\n",
      "           4       1.00      1.00      1.00      1003\n",
      "\n",
      "    accuracy                           1.00      1003\n",
      "   macro avg       1.00      1.00      1.00      1003\n",
      "weighted avg       1.00      1.00      1.00      1003\n",
      "\n"
     ]
    }
   ],
   "source": [
    "print(accuracy)\n",
    "from sklearn import metrics\n",
    "print(metrics.classification_report(gt, prediction))"
   ]
  },
  {
   "cell_type": "code",
   "execution_count": null,
   "id": "7c3b2e16",
   "metadata": {},
   "outputs": [],
   "source": [
    "# For 5"
   ]
  },
  {
   "cell_type": "code",
   "execution_count": 22,
   "id": "aed6f002",
   "metadata": {},
   "outputs": [],
   "source": [
    "path = '/home/venkateshiyer/Handwritten_digits_existing/5/*'\n",
    "result, accuracy, gt, prediction, wrong_imgs = pred_using_h5_digit(model,path)"
   ]
  },
  {
   "cell_type": "code",
   "execution_count": 23,
   "id": "2ecb7f1a",
   "metadata": {},
   "outputs": [
    {
     "name": "stdout",
     "output_type": "stream",
     "text": [
      "0.9990079365079365\n",
      "              precision    recall  f1-score   support\n",
      "\n",
      "           5       1.00      1.00      1.00      1008\n",
      "           6       0.00      0.00      0.00         0\n",
      "\n",
      "    accuracy                           1.00      1008\n",
      "   macro avg       0.50      0.50      0.50      1008\n",
      "weighted avg       1.00      1.00      1.00      1008\n",
      "\n"
     ]
    },
    {
     "name": "stderr",
     "output_type": "stream",
     "text": [
      "/home/venkateshiyer/ocrtool/lib/python3.8/site-packages/sklearn/metrics/_classification.py:1334: UndefinedMetricWarning: Recall and F-score are ill-defined and being set to 0.0 in labels with no true samples. Use `zero_division` parameter to control this behavior.\n",
      "  _warn_prf(average, modifier, msg_start, len(result))\n",
      "/home/venkateshiyer/ocrtool/lib/python3.8/site-packages/sklearn/metrics/_classification.py:1334: UndefinedMetricWarning: Recall and F-score are ill-defined and being set to 0.0 in labels with no true samples. Use `zero_division` parameter to control this behavior.\n",
      "  _warn_prf(average, modifier, msg_start, len(result))\n",
      "/home/venkateshiyer/ocrtool/lib/python3.8/site-packages/sklearn/metrics/_classification.py:1334: UndefinedMetricWarning: Recall and F-score are ill-defined and being set to 0.0 in labels with no true samples. Use `zero_division` parameter to control this behavior.\n",
      "  _warn_prf(average, modifier, msg_start, len(result))\n"
     ]
    }
   ],
   "source": [
    "print(accuracy)\n",
    "from sklearn import metrics\n",
    "print(metrics.classification_report(gt, prediction))"
   ]
  },
  {
   "cell_type": "code",
   "execution_count": 24,
   "id": "db8455a1",
   "metadata": {},
   "outputs": [
    {
     "data": {
      "text/plain": [
       "{'/home/venkateshiyer/Handwritten_digits_existing/5/63ad93f7-961d-4448-8e65-eb37beca271c_printed.jpg': 6}"
      ]
     },
     "execution_count": 24,
     "metadata": {},
     "output_type": "execute_result"
    }
   ],
   "source": [
    "len(wrong_imgs)\n",
    "wrong_imgs"
   ]
  },
  {
   "cell_type": "code",
   "execution_count": 26,
   "id": "2479c1da",
   "metadata": {},
   "outputs": [
    {
     "data": {
      "text/plain": [
       "Text(0.5, 0.98, 'Misclassifications')"
      ]
     },
     "execution_count": 26,
     "metadata": {},
     "output_type": "execute_result"
    },
    {
     "data": {
      "image/png": "[encoded data removed]",
      "text/plain": [
       "<Figure size 200x200 with 1 Axes>"
      ]
     },
     "metadata": {},
     "output_type": "display_data"
    }
   ],
   "source": [
    "fig, axis = plt.subplots(nrows= 1, ncols=len(wrong_imgs), figsize=(2,2))\n",
    "if type(axis)!=np.ndarray:\n",
    "    axis = np.array([[axis]])\n",
    "axis = axis.flatten()\n",
    "count=0\n",
    "for img_name, prediction in wrong_imgs.items():\n",
    "    pic =plt.imread(img_name)\n",
    "    axis[count].imshow(pic)\n",
    "    axis[count].set(title=prediction)\n",
    "    count+=1\n",
    "fig.suptitle('Misclassifications', fontsize=10)"
   ]
  },
  {
   "cell_type": "code",
   "execution_count": null,
   "id": "9f748926",
   "metadata": {},
   "outputs": [],
   "source": [
    "# For 6"
   ]
  },
  {
   "cell_type": "code",
   "execution_count": 27,
   "id": "f38a1b36",
   "metadata": {},
   "outputs": [],
   "source": [
    "path = '/home/venkateshiyer/Handwritten_digits_existing/6/*'\n",
    "result, accuracy, gt, prediction, wrong_imgs = pred_using_h5_digit(model,path)"
   ]
  },
  {
   "cell_type": "code",
   "execution_count": 28,
   "id": "26defc5c",
   "metadata": {},
   "outputs": [
    {
     "name": "stdout",
     "output_type": "stream",
     "text": [
      "0.9990079365079365\n",
      "              precision    recall  f1-score   support\n",
      "\n",
      "           6       1.00      1.00      1.00      1008\n",
      "           8       0.00      0.00      0.00         0\n",
      "\n",
      "    accuracy                           1.00      1008\n",
      "   macro avg       0.50      0.50      0.50      1008\n",
      "weighted avg       1.00      1.00      1.00      1008\n",
      "\n"
     ]
    },
    {
     "name": "stderr",
     "output_type": "stream",
     "text": [
      "/home/venkateshiyer/ocrtool/lib/python3.8/site-packages/sklearn/metrics/_classification.py:1334: UndefinedMetricWarning: Recall and F-score are ill-defined and being set to 0.0 in labels with no true samples. Use `zero_division` parameter to control this behavior.\n",
      "  _warn_prf(average, modifier, msg_start, len(result))\n",
      "/home/venkateshiyer/ocrtool/lib/python3.8/site-packages/sklearn/metrics/_classification.py:1334: UndefinedMetricWarning: Recall and F-score are ill-defined and being set to 0.0 in labels with no true samples. Use `zero_division` parameter to control this behavior.\n",
      "  _warn_prf(average, modifier, msg_start, len(result))\n",
      "/home/venkateshiyer/ocrtool/lib/python3.8/site-packages/sklearn/metrics/_classification.py:1334: UndefinedMetricWarning: Recall and F-score are ill-defined and being set to 0.0 in labels with no true samples. Use `zero_division` parameter to control this behavior.\n",
      "  _warn_prf(average, modifier, msg_start, len(result))\n"
     ]
    }
   ],
   "source": [
    "print(accuracy)\n",
    "from sklearn import metrics\n",
    "print(metrics.classification_report(gt, prediction))"
   ]
  },
  {
   "cell_type": "code",
   "execution_count": 29,
   "id": "73018ab7",
   "metadata": {},
   "outputs": [
    {
     "data": {
      "text/plain": [
       "{'/home/venkateshiyer/Handwritten_digits_existing/6/42fecdd52bea499e9001a2796692273d__printed.jpg': 8}"
      ]
     },
     "execution_count": 29,
     "metadata": {},
     "output_type": "execute_result"
    }
   ],
   "source": [
    "len(wrong_imgs)\n",
    "wrong_imgs"
   ]
  },
  {
   "cell_type": "code",
   "execution_count": 30,
   "id": "194e4c45",
   "metadata": {},
   "outputs": [
    {
     "data": {
      "text/plain": [
       "Text(0.5, 0.98, 'Misclassifications')"
      ]
     },
     "execution_count": 30,
     "metadata": {},
     "output_type": "execute_result"
    },
    {
     "data": {
      "image/png": "[encoded data removed]",
      "text/plain": [
       "<Figure size 200x200 with 1 Axes>"
      ]
     },
     "metadata": {},
     "output_type": "display_data"
    }
   ],
   "source": [
    "fig, axis = plt.subplots(nrows= 1, ncols=len(wrong_imgs), figsize=(2,2))\n",
    "if type(axis)!=np.ndarray:\n",
    "    axis = np.array([[axis]])\n",
    "axis = axis.flatten()\n",
    "count=0\n",
    "for img_name, prediction in wrong_imgs.items():\n",
    "    pic =plt.imread(img_name)\n",
    "    axis[count].imshow(pic)\n",
    "    axis[count].set(title=prediction)\n",
    "    count+=1\n",
    "fig.suptitle('Misclassifications', fontsize=10)"
   ]
  },
  {
   "cell_type": "code",
   "execution_count": null,
   "id": "8fd30a61",
   "metadata": {},
   "outputs": [],
   "source": [
    "# FOr 7"
   ]
  },
  {
   "cell_type": "code",
   "execution_count": 31,
   "id": "36e9bc90",
   "metadata": {},
   "outputs": [],
   "source": [
    "path = '/home/venkateshiyer/Handwritten_digits_existing/7/*'\n",
    "result, accuracy, gt, prediction, wrong_imgs = pred_using_h5_digit(model,path)"
   ]
  },
  {
   "cell_type": "code",
   "execution_count": 32,
   "id": "22eb1347",
   "metadata": {},
   "outputs": [
    {
     "name": "stdout",
     "output_type": "stream",
     "text": [
      "1.0\n",
      "              precision    recall  f1-score   support\n",
      "\n",
      "           7       1.00      1.00      1.00      1008\n",
      "\n",
      "    accuracy                           1.00      1008\n",
      "   macro avg       1.00      1.00      1.00      1008\n",
      "weighted avg       1.00      1.00      1.00      1008\n",
      "\n"
     ]
    }
   ],
   "source": [
    "print(accuracy)\n",
    "from sklearn import metrics\n",
    "print(metrics.classification_report(gt, prediction))"
   ]
  },
  {
   "cell_type": "code",
   "execution_count": null,
   "id": "357f238f",
   "metadata": {},
   "outputs": [],
   "source": [
    "# For 8"
   ]
  },
  {
   "cell_type": "code",
   "execution_count": 33,
   "id": "bda81071",
   "metadata": {},
   "outputs": [],
   "source": [
    "path = '/home/venkateshiyer/Handwritten_digits_existing/8/*'\n",
    "result, accuracy, gt, prediction, wrong_imgs = pred_using_h5_digit(model,path)"
   ]
  },
  {
   "cell_type": "code",
   "execution_count": 34,
   "id": "152a568b",
   "metadata": {},
   "outputs": [
    {
     "name": "stdout",
     "output_type": "stream",
     "text": [
      "1.0\n",
      "              precision    recall  f1-score   support\n",
      "\n",
      "           8       1.00      1.00      1.00      1008\n",
      "\n",
      "    accuracy                           1.00      1008\n",
      "   macro avg       1.00      1.00      1.00      1008\n",
      "weighted avg       1.00      1.00      1.00      1008\n",
      "\n"
     ]
    }
   ],
   "source": [
    "print(accuracy)\n",
    "from sklearn import metrics\n",
    "print(metrics.classification_report(gt, prediction))"
   ]
  },
  {
   "cell_type": "code",
   "execution_count": null,
   "id": "eff6b407",
   "metadata": {},
   "outputs": [],
   "source": [
    "# For 9"
   ]
  },
  {
   "cell_type": "code",
   "execution_count": 35,
   "id": "a3efe0cb",
   "metadata": {},
   "outputs": [],
   "source": [
    "path = '/home/venkateshiyer/Handwritten_digits_existing/9/*'\n",
    "result, accuracy, gt, prediction, wrong_imgs = pred_using_h5_digit(model,path)"
   ]
  },
  {
   "cell_type": "code",
   "execution_count": 36,
   "id": "e6e0edf9",
   "metadata": {},
   "outputs": [
    {
     "name": "stdout",
     "output_type": "stream",
     "text": [
      "0.9990079365079365\n",
      "              precision    recall  f1-score   support\n",
      "\n",
      "           5       0.00      0.00      0.00         0\n",
      "           9       1.00      1.00      1.00      1008\n",
      "\n",
      "    accuracy                           1.00      1008\n",
      "   macro avg       0.50      0.50      0.50      1008\n",
      "weighted avg       1.00      1.00      1.00      1008\n",
      "\n"
     ]
    },
    {
     "name": "stderr",
     "output_type": "stream",
     "text": [
      "/home/venkateshiyer/ocrtool/lib/python3.8/site-packages/sklearn/metrics/_classification.py:1334: UndefinedMetricWarning: Recall and F-score are ill-defined and being set to 0.0 in labels with no true samples. Use `zero_division` parameter to control this behavior.\n",
      "  _warn_prf(average, modifier, msg_start, len(result))\n",
      "/home/venkateshiyer/ocrtool/lib/python3.8/site-packages/sklearn/metrics/_classification.py:1334: UndefinedMetricWarning: Recall and F-score are ill-defined and being set to 0.0 in labels with no true samples. Use `zero_division` parameter to control this behavior.\n",
      "  _warn_prf(average, modifier, msg_start, len(result))\n",
      "/home/venkateshiyer/ocrtool/lib/python3.8/site-packages/sklearn/metrics/_classification.py:1334: UndefinedMetricWarning: Recall and F-score are ill-defined and being set to 0.0 in labels with no true samples. Use `zero_division` parameter to control this behavior.\n",
      "  _warn_prf(average, modifier, msg_start, len(result))\n"
     ]
    }
   ],
   "source": [
    "print(accuracy)\n",
    "from sklearn import metrics\n",
    "print(metrics.classification_report(gt, prediction))"
   ]
  },
  {
   "cell_type": "code",
   "execution_count": 37,
   "id": "18b52015",
   "metadata": {},
   "outputs": [
    {
     "data": {
      "text/plain": [
       "{'/home/venkateshiyer/Handwritten_digits_existing/9/5c34e9e5-cc60-4fcf-bd45-066c98c44422_printed.jpg': 5}"
      ]
     },
     "execution_count": 37,
     "metadata": {},
     "output_type": "execute_result"
    }
   ],
   "source": [
    "len(wrong_imgs)\n",
    "wrong_imgs"
   ]
  },
  {
   "cell_type": "code",
   "execution_count": 38,
   "id": "345f1f3b",
   "metadata": {},
   "outputs": [
    {
     "data": {
      "text/plain": [
       "Text(0.5, 0.98, 'Misclassifications')"
      ]
     },
     "execution_count": 38,
     "metadata": {},
     "output_type": "execute_result"
    },
    {
     "data": {
      "image/png": "[encoded data removed]",
      "text/plain": [
       "<Figure size 200x200 with 1 Axes>"
      ]
     },
     "metadata": {},
     "output_type": "display_data"
    }
   ],
   "source": [
    "fig, axis = plt.subplots(nrows= 1, ncols=len(wrong_imgs), figsize=(2,2))\n",
    "if type(axis)!=np.ndarray:\n",
    "    axis = np.array([[axis]])\n",
    "axis = axis.flatten()\n",
    "count=0\n",
    "for img_name, prediction in wrong_imgs.items():\n",
    "    pic =plt.imread(img_name)\n",
    "    axis[count].imshow(pic)\n",
    "    axis[count].set(title=prediction)\n",
    "    count+=1\n",
    "fig.suptitle('Misclassifications', fontsize=10)"
   ]
  },
  {
   "cell_type": "code",
   "execution_count": null,
   "id": "1c0be592",
   "metadata": {},
   "outputs": [],
   "source": []
  }
 ],
 "metadata": {
  "kernelspec": {
   "display_name": "Python 3 (ipykernel)",
   "language": "python",
   "name": "python3"
  },
  "language_info": {
   "codemirror_mode": {
    "name": "ipython",
    "version": 3
   },
   "file_extension": ".py",
   "mimetype": "text/x-python",
   "name": "python",
   "nbconvert_exporter": "python",
   "pygments_lexer": "ipython3",
   "version": "3.8.10"
  }
 },
 "nbformat": 4,
 "nbformat_minor": 5
}

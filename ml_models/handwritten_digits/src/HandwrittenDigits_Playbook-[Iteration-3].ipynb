{
 "cells": [
  {
   "cell_type": "markdown",
   "id": "9d513001",
   "metadata": {},
   "source": [
    "# Download and create dataset for training"
   ]
  },
  {
   "cell_type": "markdown",
   "id": "e6f2a640",
   "metadata": {},
   "source": [
    "### NSIT Dataset. Download link: https://s3.amazonaws.com/nist-srd/SD19/by_class.zip"
   ]
  },
  {
   "cell_type": "code",
   "execution_count": 4,
   "id": "5f3e6e78",
   "metadata": {},
   "outputs": [],
   "source": [
    "import os\n",
    "import json\n",
    "import config"
   ]
  },
  {
   "cell_type": "code",
   "execution_count": 5,
   "id": "fecafcca",
   "metadata": {},
   "outputs": [],
   "source": [
    "# Selecting images from JSON file for training\n",
    "json_file_path = \"../training_dataset_NSIT.json\"\n",
    "f = open(json_file_path)\n",
    "NSIT_data = json.load(f)"
   ]
  },
  {
   "cell_type": "code",
   "execution_count": 6,
   "id": "1d10867c",
   "metadata": {},
   "outputs": [],
   "source": [
    "# Path to the NSIT dataset\n",
    "dataset_path = os.path.expanduser('~')+\"/Downloads/by_class/\""
   ]
  },
  {
   "cell_type": "code",
   "execution_count": 7,
   "id": "63a19c41",
   "metadata": {},
   "outputs": [],
   "source": [
    "# Dictionary of class/ digits and the folder used for training\n",
    "digit_folder = {\"0\":\"30/hsf_0/\", \"1\":\"31/hsf_0/\", \"2\":\"32/hsf_0/\", \"3\":\"33/hsf_0/\", \"4\":\"34/hsf_0/\", \"5\":\"35/hsf_0/\", \"6\":\"36/hsf_0/\", \"7\":\"37/hsf_0/\", \"8\":\"38/hsf_0/\", \"9\":\"39/hsf_0/\"}"
   ]
  },
  {
   "cell_type": "code",
   "execution_count": null,
   "id": "cadd6fa6",
   "metadata": {},
   "outputs": [],
   "source": [
    "# To create folders/classes (0-9) with the images converted to gray background and resizing it to 28*28\n",
    "for digit, folder in digit_folder.items():\n",
    "    os.mkdir(os.path.expanduser('~')+\"/Downloads/dataset/\"+digit)\n",
    "    for image in NSIT_data[digit]:\n",
    "        image_name = image.split('/')[0]\n",
    "        im = Image.open(dataset_path+folder+image).convert('L')\n",
    "        im = im.resize((28,28))\n",
    "        bw = im.point(lambda x: 0 if x<128 else 255)\n",
    "        result = ImageOps.colorize(bw, (0,0,0), (174, 181, 174))\n",
    "        im1 = result.save(os.path.expanduser('~')+\"/Downloads/dataset/\"+digit+\"/\"+image_name+\".jpg\")\n",
    "print('Created classes 0 - 9')"
   ]
  },
  {
   "cell_type": "code",
   "execution_count": null,
   "id": "be9ca857",
   "metadata": {},
   "outputs": [],
   "source": [
    "# To create background class (10)\n",
    "i =0\n",
    "os.mkdir(os.path.expanduser('~')+'/Downloads/dataset/10')\n",
    "while i < 3000: \n",
    "    new = Image.new(mode='RGB', size = (28,28), color = (174, 181, 174))\n",
    "    new = new.resize((28,28))\n",
    "    new.save(os.path.expanduser('~')+'/Downloads/dataset/10/'+str(i)+'.jpg')\n",
    "    i+=1\n",
    "print('Created class 10')"
   ]
  },
  {
   "cell_type": "markdown",
   "id": "7c8b668c",
   "metadata": {},
   "source": [
    "### Existing dataset. Download link: https://drive.google.com/file/d/1bTjKBzN-QsCnrQxznRj-b3Szt8_mLKdL/view?usp=share_link"
   ]
  },
  {
   "cell_type": "code",
   "execution_count": null,
   "id": "fd06272c",
   "metadata": {},
   "outputs": [],
   "source": [
    "from zipfile import ZipFile\n",
    "import os\n",
    "os.mkdir(os.path.expanduser('~')+'/Downloads/printed_digits_v1')\n",
    "with ZipFile(os.path.expanduser('~')+'/Downloads/printed_digits_v1.zip', 'r') as zipObj:\n",
    "   # Extract all the contents of zip file in current directory\n",
    "   zipObj.extractall(path= os.path.expanduser('~')+'/Downloads/printed_digits_v1')\n",
    "print('Extraction of dataset complete!')"
   ]
  },
  {
   "cell_type": "markdown",
   "id": "ee8400d2",
   "metadata": {},
   "source": [
    "### NOTE: Combine both the above datasets and place the entire training dataset in ../data/raw"
   ]
  },
  {
   "cell_type": "markdown",
   "id": "8e3ac171",
   "metadata": {},
   "source": [
    "# Training of the model starts here..."
   ]
  },
  {
   "cell_type": "code",
   "execution_count": null,
   "id": "d67e39bb",
   "metadata": {},
   "outputs": [],
   "source": [
    "# All parameters for training are set in config.py. Please change it as per requirements\n",
    "from train import main\n",
    "main()"
   ]
  },
  {
   "cell_type": "markdown",
   "id": "7369cb43",
   "metadata": {},
   "source": [
    "# Prediction using .h5 model"
   ]
  },
  {
   "cell_type": "code",
   "execution_count": null,
   "id": "58eb3ed5",
   "metadata": {},
   "outputs": [],
   "source": [
    "from predict import pred_using_h5_digit, pred_using_tflite_model"
   ]
  },
  {
   "cell_type": "code",
   "execution_count": null,
   "id": "bcaf6430",
   "metadata": {},
   "outputs": [],
   "source": [
    "# Trained model path and test data path\n",
    "model = tf.keras.models.load_model('../models/pre-trained_model/trained_resnet_model_v2_10.h5')"
   ]
  },
  {
   "cell_type": "code",
   "execution_count": null,
   "id": "8bdf95e4",
   "metadata": {},
   "outputs": [],
   "source": [
    "# To get the accuracy on test data and the number of misclassifications\n",
    "path = '../data/test/0/*'\n",
    "result, accuracy = pred_using_h5_digit(model, path)\n",
    "print(\"Accuracy on test dataset using .h5 model>>>>\",accuracy)"
   ]
  },
  {
   "cell_type": "markdown",
   "id": "f602f6f5",
   "metadata": {},
   "source": [
    "### Conversion of .h5 model to .tflite model"
   ]
  },
  {
   "cell_type": "code",
   "execution_count": null,
   "id": "3b1a9c7d",
   "metadata": {},
   "outputs": [],
   "source": [
    "# Parameters for path are set in config.py. Please change it as per requirements \n",
    "h5_model_path = config.H5_MODEL_PATH\n",
    "model = tf.keras.models.load_model(h5_model_path)\n",
    "converter = tf.lite.TFLiteConverter.from_keras_model(model)\n",
    "tflite_model = converter.convert()\n",
    "open(config.TF_LITE_SAVE_PATH, \"wb\").write(tflite_model)"
   ]
  },
  {
   "cell_type": "markdown",
   "id": "0ca1c67d",
   "metadata": {},
   "source": [
    "# Prediction using .tflite model"
   ]
  },
  {
   "cell_type": "code",
   "execution_count": null,
   "id": "077508c8",
   "metadata": {},
   "outputs": [],
   "source": [
    "# Trained model path and test data path\n",
    "model = '../models/tflite_model/trained_resnet_model_v2_10.tflite'"
   ]
  },
  {
   "cell_type": "code",
   "execution_count": null,
   "id": "113cef4f",
   "metadata": {},
   "outputs": [],
   "source": [
    "# To get the accuracy on test data and the number of misclassifications\n",
    "path = '../data/test/0/*'\n",
    "result, accuracy = pred_using_tflite_model(model, path)\n",
    "print(\"Accuracy on test dataset using .tflite model\", accuracy)"
   ]
  }
 ],
 "metadata": {
  "kernelspec": {
   "display_name": "Python 3 (ipykernel)",
   "language": "python",
   "name": "python3"
  },
  "language_info": {
   "codemirror_mode": {
    "name": "ipython",
    "version": 3
   },
   "file_extension": ".py",
   "mimetype": "text/x-python",
   "name": "python",
   "nbconvert_exporter": "python",
   "pygments_lexer": "ipython3",
   "version": "3.8.10"
  }
 },
 "nbformat": 4,
 "nbformat_minor": 5
}

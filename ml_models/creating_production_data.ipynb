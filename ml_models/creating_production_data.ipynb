{
 "cells": [
  {
   "cell_type": "code",
   "execution_count": 50,
   "id": "a9c88253",
   "metadata": {},
   "outputs": [],
   "source": [
    "import json\n",
    "import base64\n",
    "import os\n",
    "from PIL import Image\n",
    "from io import BytesIO"
   ]
  },
  {
   "cell_type": "code",
   "execution_count": 51,
   "id": "c2e08c5d",
   "metadata": {},
   "outputs": [],
   "source": [
    "def get_length(data):\n",
    "    return len(data)"
   ]
  },
  {
   "cell_type": "code",
   "execution_count": null,
   "id": "40c9bf49",
   "metadata": {},
   "outputs": [],
   "source": [
    "# # Keep the path containing training data json files extracted from MongoDB\n",
    "# path = os.path.expanduser('~')+'/Desktop/production_json/'\n",
    "# for json_file in os.listdir(path):\n",
    "#     name_json = json_file.split('.')[0]\n",
    "#     path_jsonfile = path+json_file\n",
    "#     f = open(path_jsonfile)\n",
    "#     data = json.load(f)\n",
    "#     length = get_length(data)\n",
    "#     for i, base64string in enumerate(data[0]['studentIdTrainingData']):\n",
    "#         im = Image.open(BytesIO(base64.b64decode(base64string)))\n",
    "#         im = im.resize((28,28))\n",
    "#         im.save(os.path.expanduser('~')+'Desktop/production_images/'+name_json+str(i)+\".png\",'PNG')\n",
    "# print('Production dataset created!')"
   ]
  },
  {
   "cell_type": "code",
   "execution_count": null,
   "id": "55a1aff0",
   "metadata": {},
   "outputs": [],
   "source": [
    "path = os.path.expanduser('~')+'/Desktop/production_json/'\n",
    "for json_file in os.listdir(path):\n",
    "    name_json = json_file.split('.')[0]\n",
    "    path_jsonfile = path+json_file\n",
    "    f = open(path_jsonfile)\n",
    "    data = json.load(f)\n",
    "    length = get_length(data)\n",
    "    print(length)\n",
    "    for student in range(0,length):\n",
    "        for i, base64string in enumerate(data[student]['studentIdTrainingData']):\n",
    "            im = Image.open(BytesIO(base64.b64decode(base64string)))\n",
    "            im = im.resize((28,28))\n",
    "            im.save(os.path.expanduser('~')+'/Desktop/production_images/'+name_json+str(student)+str(i)+\".png\",'PNG')\n",
    "print('Production dataset created!')"
   ]
  },
  {
   "cell_type": "code",
   "execution_count": null,
   "id": "0f608e63",
   "metadata": {},
   "outputs": [],
   "source": []
  }
 ],
 "metadata": {
  "kernelspec": {
   "display_name": "Python 3 (ipykernel)",
   "language": "python",
   "name": "python3"
  },
  "language_info": {
   "codemirror_mode": {
    "name": "ipython",
    "version": 3
   },
   "file_extension": ".py",
   "mimetype": "text/x-python",
   "name": "python",
   "nbconvert_exporter": "python",
   "pygments_lexer": "ipython3",
   "version": "3.8.10"
  }
 },
 "nbformat": 4,
 "nbformat_minor": 5
}

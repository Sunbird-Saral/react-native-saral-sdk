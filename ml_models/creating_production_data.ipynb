{
 "cells": [
  {
   "cell_type": "code",
   "execution_count": null,
   "id": "1617c9fb",
   "metadata": {},
   "outputs": [],
   "source": [
    "import json\n",
    "import base64\n",
    "import os\n",
    "from PIL import Image\n",
    "from io import BytesIO"
   ]
  },
  {
   "cell_type": "code",
   "execution_count": null,
   "id": "d78c8ac0",
   "metadata": {},
   "outputs": [],
   "source": [
    "# Keep the path containing training data json files extracted from MongoDB\n",
    "path = os.path.expanduser('~')+'/Desktop/production_json/'\n",
    "for json_file in os.listdir(path):\n",
    "    name_json = json_file.split('.')[0]\n",
    "    path_jsonfile = path+json_file\n",
    "    f = open(path_jsonfile)\n",
    "    data = json.load(f)\n",
    "    for i, base64string in enumerate(data[0]['studentIdTrainingData']):\n",
    "        im = Image.open(BytesIO(base64.b64decode(base64string)))\n",
    "        im = im.resize((28,28))\n",
    "        im.save(os.path.expanduser('~')+'Desktop/production_images/'+name_json+str(i)+\".png\",'PNG')\n",
    "print('Production dataset created!')"
   ]
  }
 ],
 "metadata": {
  "kernelspec": {
   "display_name": "Python 3 (ipykernel)",
   "language": "python",
   "name": "python3"
  },
  "language_info": {
   "codemirror_mode": {
    "name": "ipython",
    "version": 3
   },
   "file_extension": ".py",
   "mimetype": "text/x-python",
   "name": "python",
   "nbconvert_exporter": "python",
   "pygments_lexer": "ipython3",
   "version": "3.8.10"
  }
 },
 "nbformat": 4,
 "nbformat_minor": 5
}

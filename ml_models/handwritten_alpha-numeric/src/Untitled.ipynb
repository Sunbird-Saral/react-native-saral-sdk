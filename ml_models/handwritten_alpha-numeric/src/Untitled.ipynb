{
 "cells": [
  {
   "cell_type": "code",
   "execution_count": 1,
   "id": "b82066d2-621f-4633-8ef6-ad54074784b0",
   "metadata": {},
   "outputs": [],
   "source": [
    "import cv2"
   ]
  },
  {
   "cell_type": "code",
   "execution_count": 2,
   "id": "78ab3f90-3c55-419a-85e1-ec6c038a1500",
   "metadata": {},
   "outputs": [],
   "source": [
    "img = cv2.imread(\"/home/venkateshiyer/react-native-saral-sdk/ml_models/handwritten_alpha-numeric/data/final/65/)_119.jpg\")"
   ]
  },
  {
   "cell_type": "code",
   "execution_count": 4,
   "id": "72027f4d-671e-43ab-888f-cec5f287eee3",
   "metadata": {},
   "outputs": [
    {
     "data": {
      "text/plain": [
       "(45, 45, 3)"
      ]
     },
     "execution_count": 4,
     "metadata": {},
     "output_type": "execute_result"
    }
   ],
   "source": [
    "img.shape"
   ]
  },
  {
   "cell_type": "code",
   "execution_count": 5,
   "id": "9262ef9b-8033-4de4-be77-6889e2e00b7c",
   "metadata": {},
   "outputs": [],
   "source": [
    "img1 = cv2.imread(\"/home/venkateshiyer/react-native-saral-sdk/ml_models/handwritten_alpha-numeric/data/final/38/62_00012.png\")"
   ]
  },
  {
   "cell_type": "code",
   "execution_count": 6,
   "id": "c73d770c-2ce2-48b1-8fa4-9d235f12a53d",
   "metadata": {},
   "outputs": [
    {
     "data": {
      "text/plain": [
       "(128, 128, 3)"
      ]
     },
     "execution_count": 6,
     "metadata": {},
     "output_type": "execute_result"
    }
   ],
   "source": [
    "img1.shape"
   ]
  },
  {
   "cell_type": "code",
   "execution_count": null,
   "id": "4df31f8f-7f06-422b-8455-38f328dde8fa",
   "metadata": {},
   "outputs": [],
   "source": []
  }
 ],
 "metadata": {
  "kernelspec": {
   "display_name": "Python 3 (ipykernel)",
   "language": "python",
   "name": "python3"
  },
  "language_info": {
   "codemirror_mode": {
    "name": "ipython",
    "version": 3
   },
   "file_extension": ".py",
   "mimetype": "text/x-python",
   "name": "python",
   "nbconvert_exporter": "python",
   "pygments_lexer": "ipython3",
   "version": "3.8.10"
  }
 },
 "nbformat": 4,
 "nbformat_minor": 5
}

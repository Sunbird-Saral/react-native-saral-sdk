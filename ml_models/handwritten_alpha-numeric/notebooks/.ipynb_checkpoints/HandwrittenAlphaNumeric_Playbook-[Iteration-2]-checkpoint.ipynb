{
 "cells": [
  {
   "cell_type": "markdown",
   "id": "15981eb9",
   "metadata": {},
   "source": [
    "# Download and create dataset for training"
   ]
  },
  {
   "cell_type": "markdown",
   "id": "e07fa012",
   "metadata": {},
   "source": [
    "## NSIT Dataset. Download link: https://s3.amazonaws.com/nist-srd/SD19/by_class.zip"
   ]
  },
  {
   "cell_type": "code",
   "execution_count": 17,
   "id": "b6498300",
   "metadata": {},
   "outputs": [],
   "source": [
    "import sys\n",
    "import os\n",
    "import json\n",
    "sys.path.append(os.path.realpath('../src'))\n",
    "import config\n",
    "import base64\n",
    "from io import BytesIO\n",
    "from PIL import Image, ImageOps"
   ]
  },
  {
   "cell_type": "code",
   "execution_count": 18,
   "id": "6f19131a",
   "metadata": {},
   "outputs": [],
   "source": [
    "# To load the 1st version (0.1) of iteration 2.0 training\n",
    "NIST_data_iter2_0 = [json.loads(line) for line in open('../training_samples_v01_iter2_0.json', 'r')]"
   ]
  },
  {
   "cell_type": "code",
   "execution_count": 19,
   "id": "da1f80f4",
   "metadata": {},
   "outputs": [],
   "source": [
    "# To load the 2nd version (0.2) of iteration 2.1 training\n",
    "NIST_data_iter2_1 = [json.loads(line) for line in open('../training_samples_v02_iter2_1.json', 'r')]"
   ]
  },
  {
   "cell_type": "code",
   "execution_count": 20,
   "id": "6dee002c",
   "metadata": {},
   "outputs": [],
   "source": [
    "# Path to the NSIT dataset\n",
    "dataset_path = os.path.expanduser('~')+\"/Downloads/by_class/\""
   ]
  },
  {
   "cell_type": "markdown",
   "id": "35472322",
   "metadata": {},
   "source": [
    "## To form the training dataset for the 1st version (0.1) of iteration 2.0 training"
   ]
  },
  {
   "cell_type": "code",
   "execution_count": 21,
   "id": "c3bbfe5b",
   "metadata": {},
   "outputs": [
    {
     "name": "stdout",
     "output_type": "stream",
     "text": [
      "Created classes 0 - 36 at Downloads/NIST_dataset_iter2_0 - Except class 19 (I) and class 10 (background)\n"
     ]
    }
   ],
   "source": [
    "# To create folders/classes (0-9) with the images converted to gray background and resizing it to 28*28\n",
    "path = os.path.expanduser('~')+\"/Downloads/\"\n",
    "if not os.path.exists(path+'NIST_dataset_iter2_0/'):\n",
    "    os.mkdir(path+\"NIST_dataset_iter2_0/\")\n",
    "for digit, folder in NIST_data_iter2_0[2]['NIST_class_mapping'].items():\n",
    "    if not os.path.exists(path+'NIST_dataset_iter2_0/'+digit):\n",
    "        os.mkdir(path+'NIST_dataset_iter2_0/'+digit)\n",
    "    for image in NIST_data_iter2_0[3][\"NIST_data\"][digit]:\n",
    "        image_name = image.split('/')[0]\n",
    "        image_jpg = image_name.split('.')[0]\n",
    "        im = Image.open(dataset_path+folder+image).convert('L')\n",
    "        im = im.resize((28,28))\n",
    "#         bw = im.point(lambda x: 0 if x<128 else 255)\n",
    "#         result = ImageOps.colorize(bw, (0,0,0), (174, 181, 174))\n",
    "        im1 = im.save(path+\"NIST_dataset_iter2_0/\"+digit+\"/\"+image_jpg+\".jpg\")\n",
    "print('Created classes 0 - 36 at Downloads/NIST_dataset_iter2_0 - Except class 19 (I) and class 10 (background)')"
   ]
  },
  {
   "cell_type": "markdown",
   "id": "56573018",
   "metadata": {},
   "source": [
    "## To form the training dataset for the 1st version (0.2) of iteration 2.1 training"
   ]
  },
  {
   "cell_type": "code",
   "execution_count": 22,
   "id": "1df30f76",
   "metadata": {},
   "outputs": [
    {
     "name": "stdout",
     "output_type": "stream",
     "text": [
      "NIST dataset created at Downloads/NIST_dataset_iter2_1\n"
     ]
    }
   ],
   "source": [
    "# To create NIST misclassifications dataset\n",
    "path = os.path.expanduser('~')+\"/Downloads/\"\n",
    "if not os.path.exists(path+'NIST_dataset_iter2_1/'):\n",
    "    os.mkdir(path+\"NIST_dataset_iter2_1/\")\n",
    "for digit, folder in NIST_data_iter2_1[2]['NIST_class_mapping'].items():\n",
    "    if not os.path.exists(path+'NIST_dataset_iter2_1/'+digit):\n",
    "        os.mkdir(path+\"NIST_dataset_iter2_1/\"+digit)\n",
    "    for image in NIST_data_iter2_1[3][\"NIST_data\"][digit]:\n",
    "        image_name = image.split('/')[0]\n",
    "        image_jpg = image_name.split('.')[0]\n",
    "        im = Image.open(dataset_path+folder+image).convert('L')\n",
    "        im = im.resize((28,28))\n",
    "        im.save(path+\"NIST_dataset_iter2_1/\"+digit+\"/\"+image_jpg+\".jpg\")\n",
    "print('NIST dataset created at Downloads/NIST_dataset_iter2_1 - Except class 19 (I) and class 10 (background)')"
   ]
  },
  {
   "cell_type": "markdown",
   "id": "e138e09d",
   "metadata": {},
   "source": [
    "## Existing dataset. Download link: https://drive.google.com/file/d/1bTjKBzN-QsCnrQxznRj-b3Szt8_mLKdL/view?usp=share_link"
   ]
  },
  {
   "cell_type": "code",
   "execution_count": null,
   "id": "4575ea47",
   "metadata": {},
   "outputs": [],
   "source": [
    "from zipfile import ZipFile\n",
    "import os\n",
    "os.mkdir(os.path.expanduser('~')+'/Downloads/printed_digits_v1')\n",
    "with ZipFile(os.path.expanduser('~')+'/Downloads/printed_digits_v1.zip', 'r') as zipObj:\n",
    "   # Extract all the contents of zip file in current directory\n",
    "   zipObj.extractall(path= os.path.expanduser('~')+'/Downloads/printed_digits_v1')\n",
    "print('Extraction of dataset complete!')"
   ]
  },
  {
   "cell_type": "markdown",
   "id": "ad253663",
   "metadata": {},
   "source": [
    "## NOTE: Combine both existing dataset and iteration 3.0 training dataset or existing dataset and iteration 3.1 training dataset and place the entire training dataset in ../data/raw"
   ]
  },
  {
   "cell_type": "code",
   "execution_count": null,
   "id": "fd2a8ce4",
   "metadata": {},
   "outputs": [],
   "source": [
    "# All parameters for training are set in config.py. Please change it as per requirements\n",
    "from train import main\n",
    "main()"
   ]
  },
  {
   "cell_type": "markdown",
   "id": "ff318e0f",
   "metadata": {},
   "source": [
    "## Prediction using .h5 model"
   ]
  },
  {
   "cell_type": "code",
   "execution_count": null,
   "id": "6a05fc3c",
   "metadata": {},
   "outputs": [],
   "source": [
    "from predict import pred_using_h5_digit, pred_using_tflite_model"
   ]
  },
  {
   "cell_type": "code",
   "execution_count": null,
   "id": "b2d56d4c",
   "metadata": {},
   "outputs": [],
   "source": [
    "# To get the accuracy on test data and the number of misclassifications\n",
    "path = '../data/test/0/*'\n",
    "result, accuracy = pred_using_h5_digit(model, path)\n",
    "print(\"Accuracy on test dataset using .h5 model>>>>\",accuracy)"
   ]
  },
  {
   "cell_type": "markdown",
   "id": "463da452",
   "metadata": {},
   "source": [
    "### Conversion of .h5 model to .tflite model"
   ]
  },
  {
   "cell_type": "code",
   "execution_count": null,
   "id": "833ad055",
   "metadata": {},
   "outputs": [],
   "source": [
    "# Parameters for path are set in config.py. Please change it as per requirements \n",
    "h5_model_path = config.H5_MODEL_PATH\n",
    "model = tf.keras.models.load_model(h5_model_path)\n",
    "converter = tf.lite.TFLiteConverter.from_keras_model(model)\n",
    "tflite_model = converter.convert()\n",
    "open(config.TF_LITE_SAVE_PATH, \"wb\").write(tflite_model)"
   ]
  },
  {
   "cell_type": "markdown",
   "id": "085326fc",
   "metadata": {},
   "source": [
    "## Prediction using .tflite model"
   ]
  },
  {
   "cell_type": "code",
   "execution_count": null,
   "id": "21c22055",
   "metadata": {},
   "outputs": [],
   "source": [
    "# Trained model path and test data path\n",
    "model = '../models/tflite_model/trained_resnet_model_v2_10.tflite'"
   ]
  },
  {
   "cell_type": "code",
   "execution_count": null,
   "id": "d4f79d69",
   "metadata": {},
   "outputs": [],
   "source": [
    "# To get the accuracy on test data and the number of misclassifications\n",
    "path = '../data/test/0/*'\n",
    "result, accuracy = pred_using_tflite_model(model, path)\n",
    "print(\"Accuracy on test dataset using .tflite model\", accuracy)"
   ]
  }
 ],
 "metadata": {
  "kernelspec": {
   "display_name": "Python 3 (ipykernel)",
   "language": "python",
   "name": "python3"
  },
  "language_info": {
   "codemirror_mode": {
    "name": "ipython",
    "version": 3
   },
   "file_extension": ".py",
   "mimetype": "text/x-python",
   "name": "python",
   "nbconvert_exporter": "python",
   "pygments_lexer": "ipython3",
   "version": "3.8.10"
  }
 },
 "nbformat": 4,
 "nbformat_minor": 5
}

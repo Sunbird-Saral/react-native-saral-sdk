{
 "cells": [
  {
   "cell_type": "markdown",
   "id": "2f259cf5",
   "metadata": {},
   "source": [
    "# Experiment records\n",
    "- Trained model name: resnet_trained_model_alphanumeric_with_printed_v1_new_finetune_13_08_22_epoch_23.h5 (Finetuned on base model)\n",
    "- Trained for: 22 epochs\n",
    "- Augmentations used: Yes\n",
    "- Accuracy achieved: approx. 93.05%\n",
    "- Dataset used: HASVy2 (https://www.kaggle.com/datasets/guru001/hasyv2) - Block letters from A-Z"
   ]
  },
  {
   "cell_type": "code",
   "execution_count": 1,
   "id": "ceebbbfd",
   "metadata": {},
   "outputs": [
    {
     "name": "stderr",
     "output_type": "stream",
     "text": [
      "2022-12-02 15:33:35.061335: W tensorflow/stream_executor/platform/default/dso_loader.cc:64] Could not load dynamic library 'libcudart.so.11.0'; dlerror: libcudart.so.11.0: cannot open shared object file: No such file or directory\n",
      "2022-12-02 15:33:35.061358: I tensorflow/stream_executor/cuda/cudart_stub.cc:29] Ignore above cudart dlerror if you do not have a GPU set up on your machine.\n"
     ]
    }
   ],
   "source": [
    "import tensorflow as tf\n",
    "import sys  \n",
    "import os\n",
    "sys.path.append(os.path.realpath('../../src'))\n",
    "from predict import pred_using_h5_digit, pred_using_tflite_model\n",
    "import cv2\n",
    "import os\n",
    "import glob\n",
    "import numpy as np\n",
    "import matplotlib.pyplot as plt"
   ]
  },
  {
   "cell_type": "code",
   "execution_count": 2,
   "id": "de7b3f59",
   "metadata": {},
   "outputs": [
    {
     "name": "stderr",
     "output_type": "stream",
     "text": [
      "2022-12-02 15:33:37.105802: E tensorflow/stream_executor/cuda/cuda_driver.cc:271] failed call to cuInit: CUDA_ERROR_NO_DEVICE: no CUDA-capable device is detected\n",
      "2022-12-02 15:33:37.105827: I tensorflow/stream_executor/cuda/cuda_diagnostics.cc:156] kernel driver does not appear to be running on this host (ti-lap-492): /proc/driver/nvidia/version does not exist\n",
      "2022-12-02 15:33:37.106051: I tensorflow/core/platform/cpu_feature_guard.cc:142] This TensorFlow binary is optimized with oneAPI Deep Neural Network Library (oneDNN) to use the following CPU instructions in performance-critical operations:  AVX2 FMA\n",
      "To enable them in other operations, rebuild TensorFlow with the appropriate compiler flags.\n"
     ]
    }
   ],
   "source": [
    "# Trained model path and test data path\n",
    "model = tf.keras.models.load_model('../../models/pre-trained_model/resnet_trained_model_alphanumeric_with_printed_v1_new_finetune_13_08_22_epoch_23.h5')\n",
    "path = '../../data/test/*'"
   ]
  },
  {
   "cell_type": "code",
   "execution_count": 3,
   "id": "ffebdaa3",
   "metadata": {},
   "outputs": [
    {
     "name": "stderr",
     "output_type": "stream",
     "text": [
      "2022-12-02 15:33:40.341392: I tensorflow/compiler/mlir/mlir_graph_optimization_pass.cc:185] None of the MLIR Optimization Passes are enabled (registered 2)\n"
     ]
    },
    {
     "name": "stdout",
     "output_type": "stream",
     "text": [
      "Accuracy on test dataset using .h5 model>>>> 0.9305555555555556\n"
     ]
    }
   ],
   "source": [
    "# To get the accuracy on test data and the number of misclassifications\n",
    "result, accuracy, predict, gt = pred_using_h5_digit(model, path)\n",
    "print(\"Accuracy on test dataset using .h5 model>>>>\",accuracy)"
   ]
  },
  {
   "cell_type": "code",
   "execution_count": null,
   "id": "dc94c811",
   "metadata": {},
   "outputs": [],
   "source": [
    "# To plot the images versus prediction (title of the image)\n",
    "fig, axis = plt.subplots(nrows= 10, ncols=len(result), figsize=(2,2))\n",
    "if type(axis)!=np.ndarray:\n",
    "    axis = np.array([[axis]])\n",
    "axis = axis.flatten()\n",
    "count=0\n",
    "for img_name, prediction in result.items():\n",
    "    pic =plt.imread(img_name)\n",
    "    axis[count].imshow(pic)\n",
    "    axis[count].set(title=prediction)\n",
    "    count+=1\n",
    "fig.suptitle('Inference', fontsize=10)"
   ]
  },
  {
   "cell_type": "code",
   "execution_count": 4,
   "id": "a7433cfd",
   "metadata": {
    "scrolled": true
   },
   "outputs": [
    {
     "name": "stdout",
     "output_type": "stream",
     "text": [
      "[11, 11, 11, 11, 11, 11, 11, 11, 11, 12, 12, 12, 12, 12, 28, 12, 13, 13, 13, 13, 13, 13, 13, 14, 14, 14, 14, 14, 14, 15, 16, 16, 15, 15, 16, 16, 16, 16, 16, 17, 17, 17, 17, 17, 17, 17, 17, 17, 18, 18, 18, 18, 18, 19, 19, 19, 19, 19, 20, 20, 3, 3, 20, 3, 20, 21, 21, 21, 21, 21, 22, 22, 22, 22, 22, 22, 24, 23, 23, 23, 23, 23, 23, 24, 24, 24, 24, 24, 25, 25, 25, 25, 0, 25, 26, 26, 26, 26, 26, 27, 27, 27, 27, 27, 27, 28, 28, 29, 29, 29, 29, 29, 29, 30, 30, 32, 31, 31, 32, 31, 31, 32, 32, 32, 32, 32, 33, 33, 33, 33, 33, 34, 34, 34, 35, 35, 35, 36, 36, 36, 36, 36, 36, 36]\n",
      "[11, 11, 11, 11, 11, 11, 11, 11, 11, 12, 12, 12, 12, 12, 12, 12, 13, 13, 13, 13, 13, 13, 13, 14, 14, 14, 14, 14, 14, 15, 15, 15, 15, 15, 16, 16, 16, 16, 16, 17, 17, 17, 17, 17, 17, 17, 17, 17, 18, 18, 18, 18, 18, 19, 19, 19, 19, 19, 20, 20, 20, 20, 20, 20, 20, 21, 21, 21, 21, 21, 22, 22, 22, 22, 22, 22, 23, 23, 23, 23, 23, 23, 23, 24, 24, 24, 24, 24, 25, 25, 25, 25, 25, 25, 26, 26, 26, 26, 26, 27, 27, 27, 27, 27, 27, 28, 28, 29, 29, 29, 29, 29, 29, 30, 30, 31, 31, 31, 31, 31, 31, 32, 32, 32, 32, 32, 33, 33, 33, 33, 33, 34, 34, 34, 35, 35, 35, 36, 36, 36, 36, 36, 36, 36]\n"
     ]
    }
   ],
   "source": [
    "print(predict)\n",
    "print(gt)"
   ]
  },
  {
   "cell_type": "code",
   "execution_count": 8,
   "id": "61dbd3c1",
   "metadata": {},
   "outputs": [],
   "source": [
    "from sklearn.metrics import multilabel_confusion_matrix\n",
    "cm = multilabel_confusion_matrix(gt, predict)"
   ]
  },
  {
   "cell_type": "code",
   "execution_count": 10,
   "id": "9de1dda9",
   "metadata": {},
   "outputs": [
    {
     "data": {
      "text/plain": [
       "array([[[143,   1],\n",
       "        [  0,   0]],\n",
       "\n",
       "       [[141,   3],\n",
       "        [  0,   0]],\n",
       "\n",
       "       [[135,   0],\n",
       "        [  0,   9]],\n",
       "\n",
       "       [[137,   0],\n",
       "        [  1,   6]],\n",
       "\n",
       "       [[137,   0],\n",
       "        [  0,   7]],\n",
       "\n",
       "       [[138,   0],\n",
       "        [  0,   6]],\n",
       "\n",
       "       [[139,   0],\n",
       "        [  2,   3]],\n",
       "\n",
       "       [[137,   2],\n",
       "        [  0,   5]],\n",
       "\n",
       "       [[135,   0],\n",
       "        [  0,   9]],\n",
       "\n",
       "       [[139,   0],\n",
       "        [  0,   5]],\n",
       "\n",
       "       [[139,   0],\n",
       "        [  0,   5]],\n",
       "\n",
       "       [[137,   0],\n",
       "        [  3,   4]],\n",
       "\n",
       "       [[139,   0],\n",
       "        [  0,   5]],\n",
       "\n",
       "       [[138,   0],\n",
       "        [  0,   6]],\n",
       "\n",
       "       [[137,   0],\n",
       "        [  1,   6]],\n",
       "\n",
       "       [[138,   1],\n",
       "        [  0,   5]],\n",
       "\n",
       "       [[138,   0],\n",
       "        [  1,   5]],\n",
       "\n",
       "       [[139,   0],\n",
       "        [  0,   5]],\n",
       "\n",
       "       [[138,   0],\n",
       "        [  0,   6]],\n",
       "\n",
       "       [[141,   1],\n",
       "        [  0,   2]],\n",
       "\n",
       "       [[138,   0],\n",
       "        [  0,   6]],\n",
       "\n",
       "       [[142,   0],\n",
       "        [  0,   2]],\n",
       "\n",
       "       [[138,   0],\n",
       "        [  2,   4]],\n",
       "\n",
       "       [[137,   2],\n",
       "        [  0,   5]],\n",
       "\n",
       "       [[139,   0],\n",
       "        [  0,   5]],\n",
       "\n",
       "       [[141,   0],\n",
       "        [  0,   3]],\n",
       "\n",
       "       [[141,   0],\n",
       "        [  0,   3]],\n",
       "\n",
       "       [[137,   0],\n",
       "        [  0,   7]]])"
      ]
     },
     "execution_count": 10,
     "metadata": {},
     "output_type": "execute_result"
    }
   ],
   "source": [
    "cm"
   ]
  },
  {
   "cell_type": "markdown",
   "id": "3fc8d5ed",
   "metadata": {},
   "source": [
    "# tflite model"
   ]
  },
  {
   "cell_type": "code",
   "execution_count": 9,
   "id": "35d44f8f",
   "metadata": {},
   "outputs": [],
   "source": [
    "# Trained model path and test data path\n",
    "model = '../../models/tflite_model/resnet_trained_model_alphanumeric_with_printed_v1_new_finetune_13_08_22_epoch_23_tflite.tflite'\n",
    "path = '../../data/test/*'"
   ]
  },
  {
   "cell_type": "code",
   "execution_count": 10,
   "id": "49792905",
   "metadata": {},
   "outputs": [
    {
     "name": "stdout",
     "output_type": "stream",
     "text": [
      "Accuracy on test dataset using .tflite model 93.05555555555556\n"
     ]
    }
   ],
   "source": [
    "# To get the accuracy on test data and the number of misclassifications\n",
    "result, accuracy = pred_using_tflite_model(model, path)\n",
    "print(\"Accuracy on test dataset using .tflite model\", accuracy)"
   ]
  },
  {
   "cell_type": "code",
   "execution_count": null,
   "id": "5cb5da4a",
   "metadata": {},
   "outputs": [],
   "source": []
  }
 ],
 "metadata": {
  "kernelspec": {
   "display_name": "Python 3 (ipykernel)",
   "language": "python",
   "name": "python3"
  },
  "language_info": {
   "codemirror_mode": {
    "name": "ipython",
    "version": 3
   },
   "file_extension": ".py",
   "mimetype": "text/x-python",
   "name": "python",
   "nbconvert_exporter": "python",
   "pygments_lexer": "ipython3",
   "version": "3.8.10"
  }
 },
 "nbformat": 4,
 "nbformat_minor": 5
}

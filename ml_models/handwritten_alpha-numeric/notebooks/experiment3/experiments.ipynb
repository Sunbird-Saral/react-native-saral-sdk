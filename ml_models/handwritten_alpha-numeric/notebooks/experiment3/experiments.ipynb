{
 "cells": [
  {
   "cell_type": "markdown",
   "id": "2f259cf5",
   "metadata": {},
   "source": [
    "# Experiment records\n",
    "- Trained model name: resnet_trained_model_alphanumeric_with_printed_v1_new_finetune_13_08_22_epoch_23.h5 (Finetuned on base model)\n",
    "- Trained for: 22 epochs\n",
    "- Augmentations used: Yes\n",
    "- Accuracy achieved: approx. 93.05%\n",
    "- Dataset used: HASVy2 (https://www.kaggle.com/datasets/guru001/hasyv2) - Block letters from A-Z"
   ]
  },
  {
   "cell_type": "code",
   "execution_count": 1,
   "id": "ceebbbfd",
   "metadata": {},
   "outputs": [
    {
     "name": "stderr",
     "output_type": "stream",
     "text": [
      "2022-12-05 08:56:39.303923: W tensorflow/stream_executor/platform/default/dso_loader.cc:64] Could not load dynamic library 'libcudart.so.11.0'; dlerror: libcudart.so.11.0: cannot open shared object file: No such file or directory\n",
      "2022-12-05 08:56:39.303942: I tensorflow/stream_executor/cuda/cudart_stub.cc:29] Ignore above cudart dlerror if you do not have a GPU set up on your machine.\n"
     ]
    }
   ],
   "source": [
    "import tensorflow as tf\n",
    "import sys  \n",
    "import os\n",
    "sys.path.append(os.path.realpath('../../src'))\n",
    "from predict import pred_using_h5_digit, pred_using_tflite_model\n",
    "import cv2\n",
    "import os\n",
    "import glob\n",
    "import numpy as np\n",
    "import matplotlib.pyplot as plt"
   ]
  },
  {
   "cell_type": "code",
   "execution_count": 2,
   "id": "de7b3f59",
   "metadata": {},
   "outputs": [
    {
     "name": "stderr",
     "output_type": "stream",
     "text": [
      "2022-12-05 08:56:47.743693: E tensorflow/stream_executor/cuda/cuda_driver.cc:271] failed call to cuInit: CUDA_ERROR_NO_DEVICE: no CUDA-capable device is detected\n",
      "2022-12-05 08:56:47.743718: I tensorflow/stream_executor/cuda/cuda_diagnostics.cc:156] kernel driver does not appear to be running on this host (ti-lap-492): /proc/driver/nvidia/version does not exist\n",
      "2022-12-05 08:56:47.743945: I tensorflow/core/platform/cpu_feature_guard.cc:142] This TensorFlow binary is optimized with oneAPI Deep Neural Network Library (oneDNN) to use the following CPU instructions in performance-critical operations:  AVX2 FMA\n",
      "To enable them in other operations, rebuild TensorFlow with the appropriate compiler flags.\n"
     ]
    }
   ],
   "source": [
    "# Trained model path and test data path\n",
    "model = tf.keras.models.load_model('../../models/pre-trained_model/resnet_trained_model_alphanumeric_with_printed_v1_new_finetune_13_08_22_epoch_23.h5')\n",
    "path = '../../data/test/*'"
   ]
  },
  {
   "cell_type": "code",
   "execution_count": 3,
   "id": "ffebdaa3",
   "metadata": {},
   "outputs": [
    {
     "name": "stderr",
     "output_type": "stream",
     "text": [
      "2022-12-05 08:56:53.712182: I tensorflow/compiler/mlir/mlir_graph_optimization_pass.cc:185] None of the MLIR Optimization Passes are enabled (registered 2)\n"
     ]
    },
    {
     "name": "stdout",
     "output_type": "stream",
     "text": [
      "Accuracy on test dataset using .h5 model>>>> 0.9305555555555556\n"
     ]
    }
   ],
   "source": [
    "# To get the accuracy on test data and the number of misclassifications\n",
    "result, accuracy, predict, gt = pred_using_h5_digit(model, path)\n",
    "print(\"Accuracy on test dataset using .h5 model>>>>\",accuracy)"
   ]
  },
  {
   "cell_type": "code",
   "execution_count": null,
   "id": "dc94c811",
   "metadata": {},
   "outputs": [],
   "source": [
    "# To plot the images versus prediction (title of the image)\n",
    "fig, axis = plt.subplots(nrows= 10, ncols=len(result), figsize=(2,2))\n",
    "if type(axis)!=np.ndarray:\n",
    "    axis = np.array([[axis]])\n",
    "axis = axis.flatten()\n",
    "count=0\n",
    "for img_name, prediction in result.items():\n",
    "    pic =plt.imread(img_name)\n",
    "    axis[count].imshow(pic)\n",
    "    axis[count].set(title=prediction)\n",
    "    count+=1\n",
    "fig.suptitle('Inference', fontsize=10)"
   ]
  },
  {
   "cell_type": "code",
   "execution_count": 4,
   "id": "86820bb8",
   "metadata": {},
   "outputs": [
    {
     "name": "stdout",
     "output_type": "stream",
     "text": [
      "              precision    recall  f1-score   support\n",
      "\n",
      "           0       0.00      0.00      0.00         0\n",
      "           3       0.00      0.00      0.00         0\n",
      "          11       1.00      1.00      1.00         9\n",
      "          12       1.00      0.86      0.92         7\n",
      "          13       1.00      1.00      1.00         7\n",
      "          14       1.00      1.00      1.00         6\n",
      "          15       1.00      0.60      0.75         5\n",
      "          16       0.71      1.00      0.83         5\n",
      "          17       1.00      1.00      1.00         9\n",
      "          18       1.00      1.00      1.00         5\n",
      "          19       1.00      1.00      1.00         5\n",
      "          20       1.00      0.57      0.73         7\n",
      "          21       1.00      1.00      1.00         5\n",
      "          22       1.00      1.00      1.00         6\n",
      "          23       1.00      0.86      0.92         7\n",
      "          24       0.83      1.00      0.91         5\n",
      "          25       1.00      0.83      0.91         6\n",
      "          26       1.00      1.00      1.00         5\n",
      "          27       1.00      1.00      1.00         6\n",
      "          28       0.67      1.00      0.80         2\n",
      "          29       1.00      1.00      1.00         6\n",
      "          30       1.00      1.00      1.00         2\n",
      "          31       1.00      0.67      0.80         6\n",
      "          32       0.71      1.00      0.83         5\n",
      "          33       1.00      1.00      1.00         5\n",
      "          34       1.00      1.00      1.00         3\n",
      "          35       1.00      1.00      1.00         3\n",
      "          36       1.00      1.00      1.00         7\n",
      "\n",
      "    accuracy                           0.93       144\n",
      "   macro avg       0.89      0.87      0.87       144\n",
      "weighted avg       0.97      0.93      0.94       144\n",
      "\n"
     ]
    },
    {
     "name": "stderr",
     "output_type": "stream",
     "text": [
      "/home/venkateshiyer/ocrtool/lib/python3.8/site-packages/sklearn/metrics/_classification.py:1334: UndefinedMetricWarning: Recall and F-score are ill-defined and being set to 0.0 in labels with no true samples. Use `zero_division` parameter to control this behavior.\n",
      "  _warn_prf(average, modifier, msg_start, len(result))\n",
      "/home/venkateshiyer/ocrtool/lib/python3.8/site-packages/sklearn/metrics/_classification.py:1334: UndefinedMetricWarning: Recall and F-score are ill-defined and being set to 0.0 in labels with no true samples. Use `zero_division` parameter to control this behavior.\n",
      "  _warn_prf(average, modifier, msg_start, len(result))\n",
      "/home/venkateshiyer/ocrtool/lib/python3.8/site-packages/sklearn/metrics/_classification.py:1334: UndefinedMetricWarning: Recall and F-score are ill-defined and being set to 0.0 in labels with no true samples. Use `zero_division` parameter to control this behavior.\n",
      "  _warn_prf(average, modifier, msg_start, len(result))\n"
     ]
    }
   ],
   "source": [
    "# To get the report of the model i.e Precision, recall, f1-score per class.\n",
    "from sklearn import metrics\n",
    "print(metrics.classification_report(gt, predict))"
   ]
  },
  {
   "cell_type": "markdown",
   "id": "3fc8d5ed",
   "metadata": {},
   "source": [
    "# tflite model"
   ]
  },
  {
   "cell_type": "code",
   "execution_count": 5,
   "id": "35d44f8f",
   "metadata": {},
   "outputs": [],
   "source": [
    "# Trained model path and test data path\n",
    "model = '../../models/tflite_model/resnet_trained_model_alphanumeric_with_printed_v1_new_finetune_13_08_22_epoch_23_tflite.tflite'\n",
    "path = '../../data/test/*'"
   ]
  },
  {
   "cell_type": "code",
   "execution_count": 6,
   "id": "49792905",
   "metadata": {},
   "outputs": [
    {
     "name": "stdout",
     "output_type": "stream",
     "text": [
      "Accuracy on test dataset using .tflite model 93.05555555555556\n"
     ]
    }
   ],
   "source": [
    "# To get the accuracy on test data and the number of misclassifications\n",
    "result, accuracy = pred_using_tflite_model(model, path)\n",
    "print(\"Accuracy on test dataset using .tflite model\", accuracy)"
   ]
  },
  {
   "cell_type": "code",
   "execution_count": null,
   "id": "5cb5da4a",
   "metadata": {},
   "outputs": [],
   "source": [
    "# To plot the images versus prediction (title of the image)\n",
    "fig, axis = plt.subplots(nrows= 10, ncols=len(result), figsize=(2,2))\n",
    "if type(axis)!=np.ndarray:\n",
    "    axis = np.array([[axis]])\n",
    "axis = axis.flatten()\n",
    "count=0\n",
    "for img_name, prediction in result.items():\n",
    "    pic =plt.imread(img_name)\n",
    "    axis[count].imshow(pic)\n",
    "    axis[count].set(title=prediction)\n",
    "    count+=1\n",
    "fig.suptitle('Inference', fontsize=10)"
   ]
  },
  {
   "cell_type": "code",
   "execution_count": 7,
   "id": "116d3b01",
   "metadata": {},
   "outputs": [
    {
     "name": "stdout",
     "output_type": "stream",
     "text": [
      "              precision    recall  f1-score   support\n",
      "\n",
      "           0       0.00      0.00      0.00         0\n",
      "           3       0.00      0.00      0.00         0\n",
      "          11       1.00      1.00      1.00         9\n",
      "          12       1.00      0.86      0.92         7\n",
      "          13       1.00      1.00      1.00         7\n",
      "          14       1.00      1.00      1.00         6\n",
      "          15       1.00      0.60      0.75         5\n",
      "          16       0.71      1.00      0.83         5\n",
      "          17       1.00      1.00      1.00         9\n",
      "          18       1.00      1.00      1.00         5\n",
      "          19       1.00      1.00      1.00         5\n",
      "          20       1.00      0.57      0.73         7\n",
      "          21       1.00      1.00      1.00         5\n",
      "          22       1.00      1.00      1.00         6\n",
      "          23       1.00      0.86      0.92         7\n",
      "          24       0.83      1.00      0.91         5\n",
      "          25       1.00      0.83      0.91         6\n",
      "          26       1.00      1.00      1.00         5\n",
      "          27       1.00      1.00      1.00         6\n",
      "          28       0.67      1.00      0.80         2\n",
      "          29       1.00      1.00      1.00         6\n",
      "          30       1.00      1.00      1.00         2\n",
      "          31       1.00      0.67      0.80         6\n",
      "          32       0.71      1.00      0.83         5\n",
      "          33       1.00      1.00      1.00         5\n",
      "          34       1.00      1.00      1.00         3\n",
      "          35       1.00      1.00      1.00         3\n",
      "          36       1.00      1.00      1.00         7\n",
      "\n",
      "    accuracy                           0.93       144\n",
      "   macro avg       0.89      0.87      0.87       144\n",
      "weighted avg       0.97      0.93      0.94       144\n",
      "\n"
     ]
    },
    {
     "name": "stderr",
     "output_type": "stream",
     "text": [
      "/home/venkateshiyer/ocrtool/lib/python3.8/site-packages/sklearn/metrics/_classification.py:1334: UndefinedMetricWarning: Recall and F-score are ill-defined and being set to 0.0 in labels with no true samples. Use `zero_division` parameter to control this behavior.\n",
      "  _warn_prf(average, modifier, msg_start, len(result))\n",
      "/home/venkateshiyer/ocrtool/lib/python3.8/site-packages/sklearn/metrics/_classification.py:1334: UndefinedMetricWarning: Recall and F-score are ill-defined and being set to 0.0 in labels with no true samples. Use `zero_division` parameter to control this behavior.\n",
      "  _warn_prf(average, modifier, msg_start, len(result))\n",
      "/home/venkateshiyer/ocrtool/lib/python3.8/site-packages/sklearn/metrics/_classification.py:1334: UndefinedMetricWarning: Recall and F-score are ill-defined and being set to 0.0 in labels with no true samples. Use `zero_division` parameter to control this behavior.\n",
      "  _warn_prf(average, modifier, msg_start, len(result))\n"
     ]
    }
   ],
   "source": [
    "# To get the report of the model i.e Precision, recall, f1-score per class.\n",
    "from sklearn import metrics\n",
    "print(metrics.classification_report(gt, predict))"
   ]
  },
  {
   "cell_type": "code",
   "execution_count": null,
   "id": "f3c30e09",
   "metadata": {},
   "outputs": [],
   "source": []
  }
 ],
 "metadata": {
  "kernelspec": {
   "display_name": "Python 3 (ipykernel)",
   "language": "python",
   "name": "python3"
  },
  "language_info": {
   "codemirror_mode": {
    "name": "ipython",
    "version": 3
   },
   "file_extension": ".py",
   "mimetype": "text/x-python",
   "name": "python",
   "nbconvert_exporter": "python",
   "pygments_lexer": "ipython3",
   "version": "3.8.10"
  }
 },
 "nbformat": 4,
 "nbformat_minor": 5
}

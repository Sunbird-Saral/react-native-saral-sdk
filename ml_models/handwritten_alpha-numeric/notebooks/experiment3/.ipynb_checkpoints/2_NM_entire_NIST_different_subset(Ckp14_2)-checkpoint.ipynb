{
 "cells": [
  {
   "cell_type": "markdown",
   "id": "c6d02ef2",
   "metadata": {},
   "source": [
    "# Experiment records\n",
    "- Trained model name: new-model (Checkpoint 14_2) (Fine-tuned on resnet_trained_model_alphanumeric_with_printed_v1_new_finetune_13_08_22_epoch_23.h5 )\n",
    "- Trained for: 32\n",
    "- Augmentations used: Yes\n",
    "- Accuracy achieved: approx.\n",
    "- Dataset used: https://s3.amazonaws.com/nist-srd/SD19/by_class.zip [hsf_2 of each class] (Class background(10) and aplhabet I(19) excluded)\n",
    "- Description: Check performance of above model on all images of existing dataset"
   ]
  },
  {
   "cell_type": "code",
   "execution_count": 1,
   "id": "f6f1101b",
   "metadata": {},
   "outputs": [
    {
     "name": "stderr",
     "output_type": "stream",
     "text": [
      "2023-01-24 09:52:05.377012: W tensorflow/stream_executor/platform/default/dso_loader.cc:64] Could not load dynamic library 'libcudart.so.11.0'; dlerror: libcudart.so.11.0: cannot open shared object file: No such file or directory\n",
      "2023-01-24 09:52:05.377038: I tensorflow/stream_executor/cuda/cudart_stub.cc:29] Ignore above cudart dlerror if you do not have a GPU set up on your machine.\n"
     ]
    }
   ],
   "source": [
    "import tensorflow as tf\n",
    "import sys  \n",
    "import os\n",
    "sys.path.append(os.path.realpath('../../src'))\n",
    "# from predict import pred_using_h5_digit, pred_using_tflite_model\n",
    "import cv2\n",
    "import os\n",
    "import glob\n",
    "import numpy as np\n",
    "import matplotlib.pyplot as plt"
   ]
  },
  {
   "cell_type": "code",
   "execution_count": 2,
   "id": "9031ab29",
   "metadata": {},
   "outputs": [
    {
     "name": "stderr",
     "output_type": "stream",
     "text": [
      "2023-01-23 08:59:09.969205: E tensorflow/stream_executor/cuda/cuda_driver.cc:271] failed call to cuInit: CUDA_ERROR_NO_DEVICE: no CUDA-capable device is detected\n",
      "2023-01-23 08:59:09.969238: I tensorflow/stream_executor/cuda/cuda_diagnostics.cc:156] kernel driver does not appear to be running on this host (ti-lap-492): /proc/driver/nvidia/version does not exist\n",
      "2023-01-23 08:59:09.969623: I tensorflow/core/platform/cpu_feature_guard.cc:142] This TensorFlow binary is optimized with oneAPI Deep Neural Network Library (oneDNN) to use the following CPU instructions in performance-critical operations:  AVX2 FMA\n",
      "To enable them in other operations, rebuild TensorFlow with the appropriate compiler flags.\n"
     ]
    }
   ],
   "source": [
    "model = tf.keras.models.load_model('../../models/saved_model/checkpoint_14_0.13.h5')"
   ]
  },
  {
   "cell_type": "code",
   "execution_count": 3,
   "id": "04f9b40f",
   "metadata": {},
   "outputs": [],
   "source": [
    "def pred_using_h5_digit(model, path, gt = None, prediction= None, wrong_imgs=None):\n",
    "    result = {}\n",
    "    gt=[]\n",
    "    prediction = []\n",
    "    wrong_imgs = {}\n",
    "    wrong_count=0\n",
    "    for img1 in sorted(glob.iglob(path)):\n",
    "        img=cv2.imread(img1)\n",
    "        img_name = img1.split('/')[-1]\n",
    "        img=cv2.resize(img,(28,28))\n",
    "        write_img = img\n",
    "        img= cv2.cvtColor(img, cv2.COLOR_BGR2GRAY)\n",
    "        img = img.astype('float32') / 255.\n",
    "        img= np.reshape(img,(1,28,28,1))\n",
    "        res=model.predict(img)\n",
    "        pred=res[0].argmax(axis=0)\n",
    "        ground_truth = int(img1.split('/')[-2])\n",
    "        gt.append(int(ground_truth))\n",
    "        prediction.append(pred)\n",
    "        result[img1] = pred\n",
    "        if pred!= int(ground_truth):\n",
    "            wrong_count+=1\n",
    "            wrong_imgs[img1] = pred\n",
    "#             cv2.imwrite('/home/venkateshiyer/alphanumeric_dataset/NIST_hsf1_misclass/'+str(ground_truth)+'/'+img_name, write_img)\n",
    "    accuracy = (len(glob.glob(path))-wrong_count)/len(glob.glob(path))\n",
    "    return result, accuracy, gt, prediction, wrong_imgs"
   ]
  },
  {
   "cell_type": "code",
   "execution_count": 4,
   "id": "e6cca2b0",
   "metadata": {},
   "outputs": [
    {
     "name": "stderr",
     "output_type": "stream",
     "text": [
      "2023-01-23 09:06:33.015753: I tensorflow/compiler/mlir/mlir_graph_optimization_pass.cc:185] None of the MLIR Optimization Passes are enabled (registered 2)\n"
     ]
    }
   ],
   "source": [
    "path = os.path.expanduser('~')+'/alphanumeric_dataset/NIST_hsf2_subset/11/*'\n",
    "result, accuracy, gt, prediction, wrong_results = pred_using_h5_digit(model,path)"
   ]
  },
  {
   "cell_type": "code",
   "execution_count": 5,
   "id": "e38872ce",
   "metadata": {},
   "outputs": [
    {
     "data": {
      "text/plain": [
       "45"
      ]
     },
     "execution_count": 5,
     "metadata": {},
     "output_type": "execute_result"
    }
   ],
   "source": [
    "len(wrong_results)"
   ]
  },
  {
   "cell_type": "code",
   "execution_count": 6,
   "id": "21cedec5",
   "metadata": {},
   "outputs": [
    {
     "name": "stdout",
     "output_type": "stream",
     "text": [
      "0.9725274725274725\n",
      "              precision    recall  f1-score   support\n",
      "\n",
      "           2       0.00      0.00      0.00         0\n",
      "           4       0.00      0.00      0.00         0\n",
      "           7       0.00      0.00      0.00         0\n",
      "           9       0.00      0.00      0.00         0\n",
      "          11       1.00      0.97      0.99      1638\n",
      "          12       0.00      0.00      0.00         0\n",
      "          13       0.00      0.00      0.00         0\n",
      "          14       0.00      0.00      0.00         0\n",
      "          16       0.00      0.00      0.00         0\n",
      "          17       0.00      0.00      0.00         0\n",
      "          18       0.00      0.00      0.00         0\n",
      "          23       0.00      0.00      0.00         0\n",
      "          24       0.00      0.00      0.00         0\n",
      "          25       0.00      0.00      0.00         0\n",
      "          26       0.00      0.00      0.00         0\n",
      "          28       0.00      0.00      0.00         0\n",
      "          29       0.00      0.00      0.00         0\n",
      "          30       0.00      0.00      0.00         0\n",
      "\n",
      "    accuracy                           0.97      1638\n",
      "   macro avg       0.06      0.05      0.05      1638\n",
      "weighted avg       1.00      0.97      0.99      1638\n",
      "\n"
     ]
    },
    {
     "name": "stderr",
     "output_type": "stream",
     "text": [
      "/home/venkateshiyer/ocrtool/lib/python3.8/site-packages/sklearn/metrics/_classification.py:1334: UndefinedMetricWarning: Recall and F-score are ill-defined and being set to 0.0 in labels with no true samples. Use `zero_division` parameter to control this behavior.\n",
      "  _warn_prf(average, modifier, msg_start, len(result))\n",
      "/home/venkateshiyer/ocrtool/lib/python3.8/site-packages/sklearn/metrics/_classification.py:1334: UndefinedMetricWarning: Recall and F-score are ill-defined and being set to 0.0 in labels with no true samples. Use `zero_division` parameter to control this behavior.\n",
      "  _warn_prf(average, modifier, msg_start, len(result))\n",
      "/home/venkateshiyer/ocrtool/lib/python3.8/site-packages/sklearn/metrics/_classification.py:1334: UndefinedMetricWarning: Recall and F-score are ill-defined and being set to 0.0 in labels with no true samples. Use `zero_division` parameter to control this behavior.\n",
      "  _warn_prf(average, modifier, msg_start, len(result))\n"
     ]
    }
   ],
   "source": [
    "print(accuracy)\n",
    "from sklearn import metrics\n",
    "print(metrics.classification_report(gt, prediction))"
   ]
  },
  {
   "cell_type": "code",
   "execution_count": 7,
   "id": "995496c8",
   "metadata": {},
   "outputs": [],
   "source": [
    "path = os.path.expanduser('~')+'/alphanumeric_dataset/NIST_hsf2_subset/12/*'\n",
    "result, accuracy, gt, prediction, wrong_results = pred_using_h5_digit(model,path)"
   ]
  },
  {
   "cell_type": "code",
   "execution_count": 8,
   "id": "7b7cd79a",
   "metadata": {},
   "outputs": [
    {
     "data": {
      "text/plain": [
       "42"
      ]
     },
     "execution_count": 8,
     "metadata": {},
     "output_type": "execute_result"
    }
   ],
   "source": [
    "len(wrong_results)"
   ]
  },
  {
   "cell_type": "code",
   "execution_count": 10,
   "id": "144c59e7",
   "metadata": {},
   "outputs": [
    {
     "name": "stdout",
     "output_type": "stream",
     "text": [
      "0.9448818897637795\n",
      "              precision    recall  f1-score   support\n",
      "\n",
      "           0       0.00      0.00      0.00         0\n",
      "           3       0.00      0.00      0.00         0\n",
      "           6       0.00      0.00      0.00         0\n",
      "           8       0.00      0.00      0.00         0\n",
      "          12       1.00      0.94      0.97       762\n",
      "          17       0.00      0.00      0.00         0\n",
      "          28       0.00      0.00      0.00         0\n",
      "          31       0.00      0.00      0.00         0\n",
      "\n",
      "    accuracy                           0.94       762\n",
      "   macro avg       0.12      0.12      0.12       762\n",
      "weighted avg       1.00      0.94      0.97       762\n",
      "\n"
     ]
    },
    {
     "name": "stderr",
     "output_type": "stream",
     "text": [
      "/home/venkateshiyer/ocrtool/lib/python3.8/site-packages/sklearn/metrics/_classification.py:1334: UndefinedMetricWarning: Recall and F-score are ill-defined and being set to 0.0 in labels with no true samples. Use `zero_division` parameter to control this behavior.\n",
      "  _warn_prf(average, modifier, msg_start, len(result))\n",
      "/home/venkateshiyer/ocrtool/lib/python3.8/site-packages/sklearn/metrics/_classification.py:1334: UndefinedMetricWarning: Recall and F-score are ill-defined and being set to 0.0 in labels with no true samples. Use `zero_division` parameter to control this behavior.\n",
      "  _warn_prf(average, modifier, msg_start, len(result))\n",
      "/home/venkateshiyer/ocrtool/lib/python3.8/site-packages/sklearn/metrics/_classification.py:1334: UndefinedMetricWarning: Recall and F-score are ill-defined and being set to 0.0 in labels with no true samples. Use `zero_division` parameter to control this behavior.\n",
      "  _warn_prf(average, modifier, msg_start, len(result))\n"
     ]
    }
   ],
   "source": [
    "print(accuracy)\n",
    "from sklearn import metrics\n",
    "print(metrics.classification_report(gt, prediction))"
   ]
  },
  {
   "cell_type": "code",
   "execution_count": 11,
   "id": "965e048e",
   "metadata": {},
   "outputs": [],
   "source": [
    "path = os.path.expanduser('~')+'/alphanumeric_dataset/NIST_hsf2_subset/13/*'\n",
    "result, accuracy, gt, prediction, wrong_results = pred_using_h5_digit(model,path)"
   ]
  },
  {
   "cell_type": "code",
   "execution_count": 12,
   "id": "d31b970d",
   "metadata": {},
   "outputs": [
    {
     "data": {
      "text/plain": [
       "34"
      ]
     },
     "execution_count": 12,
     "metadata": {},
     "output_type": "execute_result"
    }
   ],
   "source": [
    "len(wrong_results)"
   ]
  },
  {
   "cell_type": "code",
   "execution_count": 13,
   "id": "a0663f1c",
   "metadata": {},
   "outputs": [
    {
     "name": "stdout",
     "output_type": "stream",
     "text": [
      "0.9858274280950396\n",
      "              precision    recall  f1-score   support\n",
      "\n",
      "           6       0.00      0.00      0.00         0\n",
      "          13       1.00      0.99      0.99      2399\n",
      "          15       0.00      0.00      0.00         0\n",
      "          17       0.00      0.00      0.00         0\n",
      "          22       0.00      0.00      0.00         0\n",
      "          25       0.00      0.00      0.00         0\n",
      "\n",
      "    accuracy                           0.99      2399\n",
      "   macro avg       0.17      0.16      0.17      2399\n",
      "weighted avg       1.00      0.99      0.99      2399\n",
      "\n"
     ]
    },
    {
     "name": "stderr",
     "output_type": "stream",
     "text": [
      "/home/venkateshiyer/ocrtool/lib/python3.8/site-packages/sklearn/metrics/_classification.py:1334: UndefinedMetricWarning: Recall and F-score are ill-defined and being set to 0.0 in labels with no true samples. Use `zero_division` parameter to control this behavior.\n",
      "  _warn_prf(average, modifier, msg_start, len(result))\n",
      "/home/venkateshiyer/ocrtool/lib/python3.8/site-packages/sklearn/metrics/_classification.py:1334: UndefinedMetricWarning: Recall and F-score are ill-defined and being set to 0.0 in labels with no true samples. Use `zero_division` parameter to control this behavior.\n",
      "  _warn_prf(average, modifier, msg_start, len(result))\n",
      "/home/venkateshiyer/ocrtool/lib/python3.8/site-packages/sklearn/metrics/_classification.py:1334: UndefinedMetricWarning: Recall and F-score are ill-defined and being set to 0.0 in labels with no true samples. Use `zero_division` parameter to control this behavior.\n",
      "  _warn_prf(average, modifier, msg_start, len(result))\n"
     ]
    }
   ],
   "source": [
    "print(accuracy)\n",
    "from sklearn import metrics\n",
    "print(metrics.classification_report(gt, prediction))"
   ]
  },
  {
   "cell_type": "code",
   "execution_count": 14,
   "id": "27e7e2ed",
   "metadata": {},
   "outputs": [],
   "source": [
    "path = os.path.expanduser('~')+'/alphanumeric_dataset/NIST_hsf2_subset/14/*'\n",
    "result, accuracy, gt, prediction, wrong_results = pred_using_h5_digit(model,path)"
   ]
  },
  {
   "cell_type": "code",
   "execution_count": 15,
   "id": "3eaa1784",
   "metadata": {},
   "outputs": [
    {
     "data": {
      "text/plain": [
       "160"
      ]
     },
     "execution_count": 15,
     "metadata": {},
     "output_type": "execute_result"
    }
   ],
   "source": [
    "len(wrong_results)"
   ]
  },
  {
   "cell_type": "code",
   "execution_count": 16,
   "id": "cfccba1d",
   "metadata": {},
   "outputs": [
    {
     "name": "stdout",
     "output_type": "stream",
     "text": [
      "0.8232044198895028\n",
      "              precision    recall  f1-score   support\n",
      "\n",
      "           0       0.00      0.00      0.00         0\n",
      "           3       0.00      0.00      0.00         0\n",
      "          14       1.00      0.82      0.90       905\n",
      "          24       0.00      0.00      0.00         0\n",
      "          25       0.00      0.00      0.00         0\n",
      "          26       0.00      0.00      0.00         0\n",
      "          31       0.00      0.00      0.00         0\n",
      "          32       0.00      0.00      0.00         0\n",
      "          33       0.00      0.00      0.00         0\n",
      "\n",
      "    accuracy                           0.82       905\n",
      "   macro avg       0.11      0.09      0.10       905\n",
      "weighted avg       1.00      0.82      0.90       905\n",
      "\n"
     ]
    },
    {
     "name": "stderr",
     "output_type": "stream",
     "text": [
      "/home/venkateshiyer/ocrtool/lib/python3.8/site-packages/sklearn/metrics/_classification.py:1334: UndefinedMetricWarning: Recall and F-score are ill-defined and being set to 0.0 in labels with no true samples. Use `zero_division` parameter to control this behavior.\n",
      "  _warn_prf(average, modifier, msg_start, len(result))\n",
      "/home/venkateshiyer/ocrtool/lib/python3.8/site-packages/sklearn/metrics/_classification.py:1334: UndefinedMetricWarning: Recall and F-score are ill-defined and being set to 0.0 in labels with no true samples. Use `zero_division` parameter to control this behavior.\n",
      "  _warn_prf(average, modifier, msg_start, len(result))\n",
      "/home/venkateshiyer/ocrtool/lib/python3.8/site-packages/sklearn/metrics/_classification.py:1334: UndefinedMetricWarning: Recall and F-score are ill-defined and being set to 0.0 in labels with no true samples. Use `zero_division` parameter to control this behavior.\n",
      "  _warn_prf(average, modifier, msg_start, len(result))\n"
     ]
    }
   ],
   "source": [
    "print(accuracy)\n",
    "from sklearn import metrics\n",
    "print(metrics.classification_report(gt, prediction))"
   ]
  },
  {
   "cell_type": "code",
   "execution_count": 17,
   "id": "4356987c",
   "metadata": {},
   "outputs": [],
   "source": [
    "path = os.path.expanduser('~')+'/alphanumeric_dataset/NIST_hsf2_subset/15/*'\n",
    "result, accuracy, gt, prediction, wrong_results = pred_using_h5_digit(model,path)"
   ]
  },
  {
   "cell_type": "code",
   "execution_count": 18,
   "id": "0c8b8568",
   "metadata": {},
   "outputs": [
    {
     "data": {
      "text/plain": [
       "16"
      ]
     },
     "execution_count": 18,
     "metadata": {},
     "output_type": "execute_result"
    }
   ],
   "source": [
    "len(wrong_results)"
   ]
  },
  {
   "cell_type": "code",
   "execution_count": 19,
   "id": "67f74135",
   "metadata": {},
   "outputs": [
    {
     "name": "stdout",
     "output_type": "stream",
     "text": [
      "0.9623529411764706\n",
      "              precision    recall  f1-score   support\n",
      "\n",
      "          12       0.00      0.00      0.00         0\n",
      "          13       0.00      0.00      0.00         0\n",
      "          15       1.00      0.96      0.98       425\n",
      "          16       0.00      0.00      0.00         0\n",
      "          17       0.00      0.00      0.00         0\n",
      "          28       0.00      0.00      0.00         0\n",
      "\n",
      "    accuracy                           0.96       425\n",
      "   macro avg       0.17      0.16      0.16       425\n",
      "weighted avg       1.00      0.96      0.98       425\n",
      "\n"
     ]
    },
    {
     "name": "stderr",
     "output_type": "stream",
     "text": [
      "/home/venkateshiyer/ocrtool/lib/python3.8/site-packages/sklearn/metrics/_classification.py:1334: UndefinedMetricWarning: Recall and F-score are ill-defined and being set to 0.0 in labels with no true samples. Use `zero_division` parameter to control this behavior.\n",
      "  _warn_prf(average, modifier, msg_start, len(result))\n",
      "/home/venkateshiyer/ocrtool/lib/python3.8/site-packages/sklearn/metrics/_classification.py:1334: UndefinedMetricWarning: Recall and F-score are ill-defined and being set to 0.0 in labels with no true samples. Use `zero_division` parameter to control this behavior.\n",
      "  _warn_prf(average, modifier, msg_start, len(result))\n",
      "/home/venkateshiyer/ocrtool/lib/python3.8/site-packages/sklearn/metrics/_classification.py:1334: UndefinedMetricWarning: Recall and F-score are ill-defined and being set to 0.0 in labels with no true samples. Use `zero_division` parameter to control this behavior.\n",
      "  _warn_prf(average, modifier, msg_start, len(result))\n"
     ]
    }
   ],
   "source": [
    "print(accuracy)\n",
    "from sklearn import metrics\n",
    "print(metrics.classification_report(gt, prediction))"
   ]
  },
  {
   "cell_type": "code",
   "execution_count": 20,
   "id": "b20659bb",
   "metadata": {},
   "outputs": [],
   "source": [
    "path = os.path.expanduser('~')+'/alphanumeric_dataset/NIST_hsf2_subset/16/*'\n",
    "result, accuracy, gt, prediction, wrong_results = pred_using_h5_digit(model,path)"
   ]
  },
  {
   "cell_type": "code",
   "execution_count": 21,
   "id": "b5109500",
   "metadata": {},
   "outputs": [
    {
     "data": {
      "text/plain": [
       "20"
      ]
     },
     "execution_count": 21,
     "metadata": {},
     "output_type": "execute_result"
    }
   ],
   "source": [
    "len(wrong_results)"
   ]
  },
  {
   "cell_type": "code",
   "execution_count": 22,
   "id": "aaf499f3",
   "metadata": {},
   "outputs": [
    {
     "name": "stdout",
     "output_type": "stream",
     "text": [
      "0.9912739965095986\n",
      "              precision    recall  f1-score   support\n",
      "\n",
      "           1       0.00      0.00      0.00         0\n",
      "           5       0.00      0.00      0.00         0\n",
      "           7       0.00      0.00      0.00         0\n",
      "           8       0.00      0.00      0.00         0\n",
      "           9       0.00      0.00      0.00         0\n",
      "          13       0.00      0.00      0.00         0\n",
      "          15       0.00      0.00      0.00         0\n",
      "          16       1.00      0.99      1.00      2292\n",
      "          26       0.00      0.00      0.00         0\n",
      "          29       0.00      0.00      0.00         0\n",
      "          30       0.00      0.00      0.00         0\n",
      "\n",
      "    accuracy                           0.99      2292\n",
      "   macro avg       0.09      0.09      0.09      2292\n",
      "weighted avg       1.00      0.99      1.00      2292\n",
      "\n"
     ]
    },
    {
     "name": "stderr",
     "output_type": "stream",
     "text": [
      "/home/venkateshiyer/ocrtool/lib/python3.8/site-packages/sklearn/metrics/_classification.py:1334: UndefinedMetricWarning: Recall and F-score are ill-defined and being set to 0.0 in labels with no true samples. Use `zero_division` parameter to control this behavior.\n",
      "  _warn_prf(average, modifier, msg_start, len(result))\n",
      "/home/venkateshiyer/ocrtool/lib/python3.8/site-packages/sklearn/metrics/_classification.py:1334: UndefinedMetricWarning: Recall and F-score are ill-defined and being set to 0.0 in labels with no true samples. Use `zero_division` parameter to control this behavior.\n",
      "  _warn_prf(average, modifier, msg_start, len(result))\n",
      "/home/venkateshiyer/ocrtool/lib/python3.8/site-packages/sklearn/metrics/_classification.py:1334: UndefinedMetricWarning: Recall and F-score are ill-defined and being set to 0.0 in labels with no true samples. Use `zero_division` parameter to control this behavior.\n",
      "  _warn_prf(average, modifier, msg_start, len(result))\n"
     ]
    }
   ],
   "source": [
    "print(accuracy)\n",
    "from sklearn import metrics\n",
    "print(metrics.classification_report(gt, prediction))"
   ]
  },
  {
   "cell_type": "code",
   "execution_count": 23,
   "id": "b83b9210",
   "metadata": {},
   "outputs": [],
   "source": [
    "path = os.path.expanduser('~')+'/alphanumeric_dataset/NIST_hsf2_subset/17/*'\n",
    "result, accuracy, gt, prediction, wrong_results = pred_using_h5_digit(model,path)"
   ]
  },
  {
   "cell_type": "code",
   "execution_count": 24,
   "id": "eb9c3926",
   "metadata": {},
   "outputs": [
    {
     "data": {
      "text/plain": [
       "38"
      ]
     },
     "execution_count": 24,
     "metadata": {},
     "output_type": "execute_result"
    }
   ],
   "source": [
    "len(wrong_results)"
   ]
  },
  {
   "cell_type": "code",
   "execution_count": 25,
   "id": "e483bf04",
   "metadata": {},
   "outputs": [
    {
     "name": "stdout",
     "output_type": "stream",
     "text": [
      "0.9086538461538461\n",
      "              precision    recall  f1-score   support\n",
      "\n",
      "           0       0.00      0.00      0.00         0\n",
      "           3       0.00      0.00      0.00         0\n",
      "           6       0.00      0.00      0.00         0\n",
      "           9       0.00      0.00      0.00         0\n",
      "          11       0.00      0.00      0.00         0\n",
      "          12       0.00      0.00      0.00         0\n",
      "          13       0.00      0.00      0.00         0\n",
      "          15       0.00      0.00      0.00         0\n",
      "          16       0.00      0.00      0.00         0\n",
      "          17       1.00      0.91      0.95       416\n",
      "          27       0.00      0.00      0.00         0\n",
      "          29       0.00      0.00      0.00         0\n",
      "          31       0.00      0.00      0.00         0\n",
      "\n",
      "    accuracy                           0.91       416\n",
      "   macro avg       0.08      0.07      0.07       416\n",
      "weighted avg       1.00      0.91      0.95       416\n",
      "\n"
     ]
    },
    {
     "name": "stderr",
     "output_type": "stream",
     "text": [
      "/home/venkateshiyer/ocrtool/lib/python3.8/site-packages/sklearn/metrics/_classification.py:1334: UndefinedMetricWarning: Recall and F-score are ill-defined and being set to 0.0 in labels with no true samples. Use `zero_division` parameter to control this behavior.\n",
      "  _warn_prf(average, modifier, msg_start, len(result))\n",
      "/home/venkateshiyer/ocrtool/lib/python3.8/site-packages/sklearn/metrics/_classification.py:1334: UndefinedMetricWarning: Recall and F-score are ill-defined and being set to 0.0 in labels with no true samples. Use `zero_division` parameter to control this behavior.\n",
      "  _warn_prf(average, modifier, msg_start, len(result))\n",
      "/home/venkateshiyer/ocrtool/lib/python3.8/site-packages/sklearn/metrics/_classification.py:1334: UndefinedMetricWarning: Recall and F-score are ill-defined and being set to 0.0 in labels with no true samples. Use `zero_division` parameter to control this behavior.\n",
      "  _warn_prf(average, modifier, msg_start, len(result))\n"
     ]
    }
   ],
   "source": [
    "print(accuracy)\n",
    "from sklearn import metrics\n",
    "print(metrics.classification_report(gt, prediction))"
   ]
  },
  {
   "cell_type": "code",
   "execution_count": 26,
   "id": "3a2e4136",
   "metadata": {},
   "outputs": [],
   "source": [
    "path = os.path.expanduser('~')+'/alphanumeric_dataset/NIST_hsf2_subset/18/*'\n",
    "result, accuracy, gt, prediction, wrong_results = pred_using_h5_digit(model,path)"
   ]
  },
  {
   "cell_type": "code",
   "execution_count": 27,
   "id": "32407822",
   "metadata": {},
   "outputs": [
    {
     "data": {
      "text/plain": [
       "20"
      ]
     },
     "execution_count": 27,
     "metadata": {},
     "output_type": "execute_result"
    }
   ],
   "source": [
    "len(wrong_results)"
   ]
  },
  {
   "cell_type": "code",
   "execution_count": 28,
   "id": "141de37b",
   "metadata": {},
   "outputs": [
    {
     "name": "stdout",
     "output_type": "stream",
     "text": [
      "0.95\n",
      "              precision    recall  f1-score   support\n",
      "\n",
      "           4       0.00      0.00      0.00         0\n",
      "          11       0.00      0.00      0.00         0\n",
      "          18       1.00      0.95      0.97       400\n",
      "          24       0.00      0.00      0.00         0\n",
      "          33       0.00      0.00      0.00         0\n",
      "\n",
      "    accuracy                           0.95       400\n",
      "   macro avg       0.20      0.19      0.19       400\n",
      "weighted avg       1.00      0.95      0.97       400\n",
      "\n"
     ]
    },
    {
     "name": "stderr",
     "output_type": "stream",
     "text": [
      "/home/venkateshiyer/ocrtool/lib/python3.8/site-packages/sklearn/metrics/_classification.py:1334: UndefinedMetricWarning: Recall and F-score are ill-defined and being set to 0.0 in labels with no true samples. Use `zero_division` parameter to control this behavior.\n",
      "  _warn_prf(average, modifier, msg_start, len(result))\n",
      "/home/venkateshiyer/ocrtool/lib/python3.8/site-packages/sklearn/metrics/_classification.py:1334: UndefinedMetricWarning: Recall and F-score are ill-defined and being set to 0.0 in labels with no true samples. Use `zero_division` parameter to control this behavior.\n",
      "  _warn_prf(average, modifier, msg_start, len(result))\n",
      "/home/venkateshiyer/ocrtool/lib/python3.8/site-packages/sklearn/metrics/_classification.py:1334: UndefinedMetricWarning: Recall and F-score are ill-defined and being set to 0.0 in labels with no true samples. Use `zero_division` parameter to control this behavior.\n",
      "  _warn_prf(average, modifier, msg_start, len(result))\n"
     ]
    }
   ],
   "source": [
    "print(accuracy)\n",
    "from sklearn import metrics\n",
    "print(metrics.classification_report(gt, prediction))"
   ]
  },
  {
   "cell_type": "code",
   "execution_count": 30,
   "id": "7b40591f",
   "metadata": {},
   "outputs": [],
   "source": [
    "path = os.path.expanduser('~')+'/alphanumeric_dataset/NIST_hsf2_subset/20/*'\n",
    "result, accuracy, gt, prediction, wrong_results = pred_using_h5_digit(model,path)"
   ]
  },
  {
   "cell_type": "code",
   "execution_count": 31,
   "id": "5e8d2ec1",
   "metadata": {},
   "outputs": [
    {
     "data": {
      "text/plain": [
       "19"
      ]
     },
     "execution_count": 31,
     "metadata": {},
     "output_type": "execute_result"
    }
   ],
   "source": [
    "len(wrong_results)"
   ]
  },
  {
   "cell_type": "code",
   "execution_count": 32,
   "id": "bea26ed8",
   "metadata": {},
   "outputs": [
    {
     "name": "stdout",
     "output_type": "stream",
     "text": [
      "0.9714285714285714\n",
      "              precision    recall  f1-score   support\n",
      "\n",
      "           2       0.00      0.00      0.00         0\n",
      "           3       0.00      0.00      0.00         0\n",
      "           5       0.00      0.00      0.00         0\n",
      "          16       0.00      0.00      0.00         0\n",
      "          20       1.00      0.97      0.99       665\n",
      "          29       0.00      0.00      0.00         0\n",
      "          30       0.00      0.00      0.00         0\n",
      "          31       0.00      0.00      0.00         0\n",
      "\n",
      "    accuracy                           0.97       665\n",
      "   macro avg       0.12      0.12      0.12       665\n",
      "weighted avg       1.00      0.97      0.99       665\n",
      "\n"
     ]
    },
    {
     "name": "stderr",
     "output_type": "stream",
     "text": [
      "/home/venkateshiyer/ocrtool/lib/python3.8/site-packages/sklearn/metrics/_classification.py:1334: UndefinedMetricWarning: Recall and F-score are ill-defined and being set to 0.0 in labels with no true samples. Use `zero_division` parameter to control this behavior.\n",
      "  _warn_prf(average, modifier, msg_start, len(result))\n",
      "/home/venkateshiyer/ocrtool/lib/python3.8/site-packages/sklearn/metrics/_classification.py:1334: UndefinedMetricWarning: Recall and F-score are ill-defined and being set to 0.0 in labels with no true samples. Use `zero_division` parameter to control this behavior.\n",
      "  _warn_prf(average, modifier, msg_start, len(result))\n",
      "/home/venkateshiyer/ocrtool/lib/python3.8/site-packages/sklearn/metrics/_classification.py:1334: UndefinedMetricWarning: Recall and F-score are ill-defined and being set to 0.0 in labels with no true samples. Use `zero_division` parameter to control this behavior.\n",
      "  _warn_prf(average, modifier, msg_start, len(result))\n"
     ]
    }
   ],
   "source": [
    "print(accuracy)\n",
    "from sklearn import metrics\n",
    "print(metrics.classification_report(gt, prediction))"
   ]
  },
  {
   "cell_type": "code",
   "execution_count": 33,
   "id": "9121b981",
   "metadata": {},
   "outputs": [],
   "source": [
    "path = os.path.expanduser('~')+'/alphanumeric_dataset/NIST_hsf2_subset/21/*'\n",
    "result, accuracy, gt, prediction, wrong_results = pred_using_h5_digit(model,path)"
   ]
  },
  {
   "cell_type": "code",
   "execution_count": 34,
   "id": "d878b6bc",
   "metadata": {},
   "outputs": [
    {
     "data": {
      "text/plain": [
       "19"
      ]
     },
     "execution_count": 34,
     "metadata": {},
     "output_type": "execute_result"
    }
   ],
   "source": [
    "len(wrong_results)"
   ]
  },
  {
   "cell_type": "code",
   "execution_count": 35,
   "id": "40849e8b",
   "metadata": {},
   "outputs": [
    {
     "name": "stdout",
     "output_type": "stream",
     "text": [
      "0.9511568123393316\n",
      "              precision    recall  f1-score   support\n",
      "\n",
      "          16       0.00      0.00      0.00         0\n",
      "          18       0.00      0.00      0.00         0\n",
      "          21       1.00      0.95      0.97       389\n",
      "          24       0.00      0.00      0.00         0\n",
      "          28       0.00      0.00      0.00         0\n",
      "          30       0.00      0.00      0.00         0\n",
      "          31       0.00      0.00      0.00         0\n",
      "          34       0.00      0.00      0.00         0\n",
      "\n",
      "    accuracy                           0.95       389\n",
      "   macro avg       0.12      0.12      0.12       389\n",
      "weighted avg       1.00      0.95      0.97       389\n",
      "\n"
     ]
    },
    {
     "name": "stderr",
     "output_type": "stream",
     "text": [
      "/home/venkateshiyer/ocrtool/lib/python3.8/site-packages/sklearn/metrics/_classification.py:1334: UndefinedMetricWarning: Recall and F-score are ill-defined and being set to 0.0 in labels with no true samples. Use `zero_division` parameter to control this behavior.\n",
      "  _warn_prf(average, modifier, msg_start, len(result))\n",
      "/home/venkateshiyer/ocrtool/lib/python3.8/site-packages/sklearn/metrics/_classification.py:1334: UndefinedMetricWarning: Recall and F-score are ill-defined and being set to 0.0 in labels with no true samples. Use `zero_division` parameter to control this behavior.\n",
      "  _warn_prf(average, modifier, msg_start, len(result))\n",
      "/home/venkateshiyer/ocrtool/lib/python3.8/site-packages/sklearn/metrics/_classification.py:1334: UndefinedMetricWarning: Recall and F-score are ill-defined and being set to 0.0 in labels with no true samples. Use `zero_division` parameter to control this behavior.\n",
      "  _warn_prf(average, modifier, msg_start, len(result))\n"
     ]
    }
   ],
   "source": [
    "print(accuracy)\n",
    "from sklearn import metrics\n",
    "print(metrics.classification_report(gt, prediction))"
   ]
  },
  {
   "cell_type": "code",
   "execution_count": 36,
   "id": "b10d2674",
   "metadata": {},
   "outputs": [],
   "source": [
    "path = os.path.expanduser('~')+'/alphanumeric_dataset/NIST_hsf2_subset/22/*'\n",
    "result, accuracy, gt, prediction, wrong_results = pred_using_h5_digit(model,path)"
   ]
  },
  {
   "cell_type": "code",
   "execution_count": 37,
   "id": "9704404a",
   "metadata": {},
   "outputs": [
    {
     "data": {
      "text/plain": [
       "50"
      ]
     },
     "execution_count": 37,
     "metadata": {},
     "output_type": "execute_result"
    }
   ],
   "source": [
    "len(wrong_results)"
   ]
  },
  {
   "cell_type": "code",
   "execution_count": 38,
   "id": "8dfba03a",
   "metadata": {},
   "outputs": [
    {
     "name": "stdout",
     "output_type": "stream",
     "text": [
      "0.9474237644584648\n",
      "              precision    recall  f1-score   support\n",
      "\n",
      "           1       0.00      0.00      0.00         0\n",
      "           2       0.00      0.00      0.00         0\n",
      "           4       0.00      0.00      0.00         0\n",
      "           6       0.00      0.00      0.00         0\n",
      "          11       0.00      0.00      0.00         0\n",
      "          13       0.00      0.00      0.00         0\n",
      "          16       0.00      0.00      0.00         0\n",
      "          22       1.00      0.95      0.97       951\n",
      "          26       0.00      0.00      0.00         0\n",
      "          31       0.00      0.00      0.00         0\n",
      "          33       0.00      0.00      0.00         0\n",
      "          36       0.00      0.00      0.00         0\n",
      "\n",
      "    accuracy                           0.95       951\n",
      "   macro avg       0.08      0.08      0.08       951\n",
      "weighted avg       1.00      0.95      0.97       951\n",
      "\n"
     ]
    },
    {
     "name": "stderr",
     "output_type": "stream",
     "text": [
      "/home/venkateshiyer/ocrtool/lib/python3.8/site-packages/sklearn/metrics/_classification.py:1334: UndefinedMetricWarning: Recall and F-score are ill-defined and being set to 0.0 in labels with no true samples. Use `zero_division` parameter to control this behavior.\n",
      "  _warn_prf(average, modifier, msg_start, len(result))\n",
      "/home/venkateshiyer/ocrtool/lib/python3.8/site-packages/sklearn/metrics/_classification.py:1334: UndefinedMetricWarning: Recall and F-score are ill-defined and being set to 0.0 in labels with no true samples. Use `zero_division` parameter to control this behavior.\n",
      "  _warn_prf(average, modifier, msg_start, len(result))\n",
      "/home/venkateshiyer/ocrtool/lib/python3.8/site-packages/sklearn/metrics/_classification.py:1334: UndefinedMetricWarning: Recall and F-score are ill-defined and being set to 0.0 in labels with no true samples. Use `zero_division` parameter to control this behavior.\n",
      "  _warn_prf(average, modifier, msg_start, len(result))\n"
     ]
    }
   ],
   "source": [
    "print(accuracy)\n",
    "from sklearn import metrics\n",
    "print(metrics.classification_report(gt, prediction))"
   ]
  },
  {
   "cell_type": "code",
   "execution_count": 39,
   "id": "7a14d540",
   "metadata": {},
   "outputs": [],
   "source": [
    "path = os.path.expanduser('~')+'/alphanumeric_dataset/NIST_hsf2_subset/23/*'\n",
    "result, accuracy, gt, prediction, wrong_results = pred_using_h5_digit(model,path)"
   ]
  },
  {
   "cell_type": "code",
   "execution_count": 40,
   "id": "013312e4",
   "metadata": {},
   "outputs": [
    {
     "data": {
      "text/plain": [
       "51"
      ]
     },
     "execution_count": 40,
     "metadata": {},
     "output_type": "execute_result"
    }
   ],
   "source": [
    "len(wrong_results)"
   ]
  },
  {
   "cell_type": "code",
   "execution_count": 41,
   "id": "a0b0fbc6",
   "metadata": {},
   "outputs": [
    {
     "name": "stdout",
     "output_type": "stream",
     "text": [
      "0.9792935444579781\n",
      "              precision    recall  f1-score   support\n",
      "\n",
      "           4       0.00      0.00      0.00         0\n",
      "           7       0.00      0.00      0.00         0\n",
      "          11       0.00      0.00      0.00         0\n",
      "          18       0.00      0.00      0.00         0\n",
      "          23       1.00      0.98      0.99      2463\n",
      "          24       0.00      0.00      0.00         0\n",
      "          25       0.00      0.00      0.00         0\n",
      "          26       0.00      0.00      0.00         0\n",
      "          30       0.00      0.00      0.00         0\n",
      "          31       0.00      0.00      0.00         0\n",
      "          32       0.00      0.00      0.00         0\n",
      "          33       0.00      0.00      0.00         0\n",
      "\n",
      "    accuracy                           0.98      2463\n",
      "   macro avg       0.08      0.08      0.08      2463\n",
      "weighted avg       1.00      0.98      0.99      2463\n",
      "\n"
     ]
    },
    {
     "name": "stderr",
     "output_type": "stream",
     "text": [
      "/home/venkateshiyer/ocrtool/lib/python3.8/site-packages/sklearn/metrics/_classification.py:1334: UndefinedMetricWarning: Recall and F-score are ill-defined and being set to 0.0 in labels with no true samples. Use `zero_division` parameter to control this behavior.\n",
      "  _warn_prf(average, modifier, msg_start, len(result))\n",
      "/home/venkateshiyer/ocrtool/lib/python3.8/site-packages/sklearn/metrics/_classification.py:1334: UndefinedMetricWarning: Recall and F-score are ill-defined and being set to 0.0 in labels with no true samples. Use `zero_division` parameter to control this behavior.\n",
      "  _warn_prf(average, modifier, msg_start, len(result))\n",
      "/home/venkateshiyer/ocrtool/lib/python3.8/site-packages/sklearn/metrics/_classification.py:1334: UndefinedMetricWarning: Recall and F-score are ill-defined and being set to 0.0 in labels with no true samples. Use `zero_division` parameter to control this behavior.\n",
      "  _warn_prf(average, modifier, msg_start, len(result))\n"
     ]
    }
   ],
   "source": [
    "print(accuracy)\n",
    "from sklearn import metrics\n",
    "print(metrics.classification_report(gt, prediction))"
   ]
  },
  {
   "cell_type": "code",
   "execution_count": 42,
   "id": "d4eb3a0a",
   "metadata": {},
   "outputs": [],
   "source": [
    "path = os.path.expanduser('~')+'/alphanumeric_dataset/NIST_hsf2_subset/24/*'\n",
    "result, accuracy, gt, prediction, wrong_results = pred_using_h5_digit(model,path)"
   ]
  },
  {
   "cell_type": "code",
   "execution_count": 43,
   "id": "da6e9235",
   "metadata": {},
   "outputs": [
    {
     "data": {
      "text/plain": [
       "48"
      ]
     },
     "execution_count": 43,
     "metadata": {},
     "output_type": "execute_result"
    }
   ],
   "source": [
    "len(wrong_results)"
   ]
  },
  {
   "cell_type": "code",
   "execution_count": 44,
   "id": "714c4be2",
   "metadata": {},
   "outputs": [
    {
     "name": "stdout",
     "output_type": "stream",
     "text": [
      "0.9753972321886212\n",
      "              precision    recall  f1-score   support\n",
      "\n",
      "           7       0.00      0.00      0.00         0\n",
      "          11       0.00      0.00      0.00         0\n",
      "          18       0.00      0.00      0.00         0\n",
      "          20       0.00      0.00      0.00         0\n",
      "          23       0.00      0.00      0.00         0\n",
      "          24       1.00      0.98      0.99      1951\n",
      "          25       0.00      0.00      0.00         0\n",
      "          26       0.00      0.00      0.00         0\n",
      "          28       0.00      0.00      0.00         0\n",
      "          31       0.00      0.00      0.00         0\n",
      "          32       0.00      0.00      0.00         0\n",
      "          33       0.00      0.00      0.00         0\n",
      "          34       0.00      0.00      0.00         0\n",
      "\n",
      "    accuracy                           0.98      1951\n",
      "   macro avg       0.08      0.08      0.08      1951\n",
      "weighted avg       1.00      0.98      0.99      1951\n",
      "\n"
     ]
    },
    {
     "name": "stderr",
     "output_type": "stream",
     "text": [
      "/home/venkateshiyer/ocrtool/lib/python3.8/site-packages/sklearn/metrics/_classification.py:1334: UndefinedMetricWarning: Recall and F-score are ill-defined and being set to 0.0 in labels with no true samples. Use `zero_division` parameter to control this behavior.\n",
      "  _warn_prf(average, modifier, msg_start, len(result))\n",
      "/home/venkateshiyer/ocrtool/lib/python3.8/site-packages/sklearn/metrics/_classification.py:1334: UndefinedMetricWarning: Recall and F-score are ill-defined and being set to 0.0 in labels with no true samples. Use `zero_division` parameter to control this behavior.\n",
      "  _warn_prf(average, modifier, msg_start, len(result))\n",
      "/home/venkateshiyer/ocrtool/lib/python3.8/site-packages/sklearn/metrics/_classification.py:1334: UndefinedMetricWarning: Recall and F-score are ill-defined and being set to 0.0 in labels with no true samples. Use `zero_division` parameter to control this behavior.\n",
      "  _warn_prf(average, modifier, msg_start, len(result))\n"
     ]
    }
   ],
   "source": [
    "print(accuracy)\n",
    "from sklearn import metrics\n",
    "print(metrics.classification_report(gt, prediction))"
   ]
  },
  {
   "cell_type": "code",
   "execution_count": 45,
   "id": "78eaff77",
   "metadata": {},
   "outputs": [],
   "source": [
    "path = os.path.expanduser('~')+'/alphanumeric_dataset/NIST_hsf2_subset/25/*'\n",
    "result, accuracy, gt, prediction, wrong_results = pred_using_h5_digit(model,path)"
   ]
  },
  {
   "cell_type": "code",
   "execution_count": 46,
   "id": "80fe64b2",
   "metadata": {},
   "outputs": [
    {
     "data": {
      "text/plain": [
       "1956"
      ]
     },
     "execution_count": 46,
     "metadata": {},
     "output_type": "execute_result"
    }
   ],
   "source": [
    "len(wrong_results)"
   ]
  },
  {
   "cell_type": "code",
   "execution_count": 47,
   "id": "16823c0b",
   "metadata": {},
   "outputs": [
    {
     "name": "stdout",
     "output_type": "stream",
     "text": [
      "0.7457098283931357\n",
      "              precision    recall  f1-score   support\n",
      "\n",
      "           0       0.00      0.00      0.00         0\n",
      "           1       0.00      0.00      0.00         0\n",
      "           3       0.00      0.00      0.00         0\n",
      "           5       0.00      0.00      0.00         0\n",
      "           6       0.00      0.00      0.00         0\n",
      "           8       0.00      0.00      0.00         0\n",
      "           9       0.00      0.00      0.00         0\n",
      "          12       0.00      0.00      0.00         0\n",
      "          13       0.00      0.00      0.00         0\n",
      "          14       0.00      0.00      0.00         0\n",
      "          25       1.00      0.75      0.85      7692\n",
      "          27       0.00      0.00      0.00         0\n",
      "          29       0.00      0.00      0.00         0\n",
      "          31       0.00      0.00      0.00         0\n",
      "          32       0.00      0.00      0.00         0\n",
      "\n",
      "    accuracy                           0.75      7692\n",
      "   macro avg       0.07      0.05      0.06      7692\n",
      "weighted avg       1.00      0.75      0.85      7692\n",
      "\n"
     ]
    },
    {
     "name": "stderr",
     "output_type": "stream",
     "text": [
      "/home/venkateshiyer/ocrtool/lib/python3.8/site-packages/sklearn/metrics/_classification.py:1334: UndefinedMetricWarning: Recall and F-score are ill-defined and being set to 0.0 in labels with no true samples. Use `zero_division` parameter to control this behavior.\n",
      "  _warn_prf(average, modifier, msg_start, len(result))\n",
      "/home/venkateshiyer/ocrtool/lib/python3.8/site-packages/sklearn/metrics/_classification.py:1334: UndefinedMetricWarning: Recall and F-score are ill-defined and being set to 0.0 in labels with no true samples. Use `zero_division` parameter to control this behavior.\n",
      "  _warn_prf(average, modifier, msg_start, len(result))\n",
      "/home/venkateshiyer/ocrtool/lib/python3.8/site-packages/sklearn/metrics/_classification.py:1334: UndefinedMetricWarning: Recall and F-score are ill-defined and being set to 0.0 in labels with no true samples. Use `zero_division` parameter to control this behavior.\n",
      "  _warn_prf(average, modifier, msg_start, len(result))\n"
     ]
    }
   ],
   "source": [
    "print(accuracy)\n",
    "from sklearn import metrics\n",
    "print(metrics.classification_report(gt, prediction))"
   ]
  },
  {
   "cell_type": "code",
   "execution_count": 48,
   "id": "0f4fbafe",
   "metadata": {},
   "outputs": [],
   "source": [
    "path = os.path.expanduser('~')+'/alphanumeric_dataset/NIST_hsf2_subset/26/*'\n",
    "result, accuracy, gt, prediction, wrong_results = pred_using_h5_digit(model,path)"
   ]
  },
  {
   "cell_type": "code",
   "execution_count": 49,
   "id": "9f767892",
   "metadata": {},
   "outputs": [
    {
     "data": {
      "text/plain": [
       "58"
      ]
     },
     "execution_count": 49,
     "metadata": {},
     "output_type": "execute_result"
    }
   ],
   "source": [
    "len(wrong_results)"
   ]
  },
  {
   "cell_type": "code",
   "execution_count": 50,
   "id": "019aa89f",
   "metadata": {},
   "outputs": [
    {
     "name": "stdout",
     "output_type": "stream",
     "text": [
      "0.9717348927875243\n",
      "              precision    recall  f1-score   support\n",
      "\n",
      "           0       0.00      0.00      0.00         0\n",
      "           1       0.00      0.00      0.00         0\n",
      "           4       0.00      0.00      0.00         0\n",
      "           8       0.00      0.00      0.00         0\n",
      "           9       0.00      0.00      0.00         0\n",
      "          14       0.00      0.00      0.00         0\n",
      "          16       0.00      0.00      0.00         0\n",
      "          25       0.00      0.00      0.00         0\n",
      "          26       1.00      0.97      0.99      2052\n",
      "          27       0.00      0.00      0.00         0\n",
      "          30       0.00      0.00      0.00         0\n",
      "          35       0.00      0.00      0.00         0\n",
      "\n",
      "    accuracy                           0.97      2052\n",
      "   macro avg       0.08      0.08      0.08      2052\n",
      "weighted avg       1.00      0.97      0.99      2052\n",
      "\n"
     ]
    },
    {
     "name": "stderr",
     "output_type": "stream",
     "text": [
      "/home/venkateshiyer/ocrtool/lib/python3.8/site-packages/sklearn/metrics/_classification.py:1334: UndefinedMetricWarning: Recall and F-score are ill-defined and being set to 0.0 in labels with no true samples. Use `zero_division` parameter to control this behavior.\n",
      "  _warn_prf(average, modifier, msg_start, len(result))\n",
      "/home/venkateshiyer/ocrtool/lib/python3.8/site-packages/sklearn/metrics/_classification.py:1334: UndefinedMetricWarning: Recall and F-score are ill-defined and being set to 0.0 in labels with no true samples. Use `zero_division` parameter to control this behavior.\n",
      "  _warn_prf(average, modifier, msg_start, len(result))\n",
      "/home/venkateshiyer/ocrtool/lib/python3.8/site-packages/sklearn/metrics/_classification.py:1334: UndefinedMetricWarning: Recall and F-score are ill-defined and being set to 0.0 in labels with no true samples. Use `zero_division` parameter to control this behavior.\n",
      "  _warn_prf(average, modifier, msg_start, len(result))\n"
     ]
    }
   ],
   "source": [
    "print(accuracy)\n",
    "from sklearn import metrics\n",
    "print(metrics.classification_report(gt, prediction))"
   ]
  },
  {
   "cell_type": "code",
   "execution_count": 51,
   "id": "cf15b84c",
   "metadata": {},
   "outputs": [],
   "source": [
    "path = os.path.expanduser('~')+'/alphanumeric_dataset/NIST_hsf2_subset/27/*'\n",
    "result, accuracy, gt, prediction, wrong_results = pred_using_h5_digit(model,path)"
   ]
  },
  {
   "cell_type": "code",
   "execution_count": 52,
   "id": "f542e736",
   "metadata": {},
   "outputs": [
    {
     "data": {
      "text/plain": [
       "50"
      ]
     },
     "execution_count": 52,
     "metadata": {},
     "output_type": "execute_result"
    }
   ],
   "source": [
    "len(wrong_results)"
   ]
  },
  {
   "cell_type": "code",
   "execution_count": 53,
   "id": "de7bc591",
   "metadata": {},
   "outputs": [
    {
     "name": "stdout",
     "output_type": "stream",
     "text": [
      "0.8721227621483376\n",
      "              precision    recall  f1-score   support\n",
      "\n",
      "           0       0.00      0.00      0.00         0\n",
      "           2       0.00      0.00      0.00         0\n",
      "           8       0.00      0.00      0.00         0\n",
      "           9       0.00      0.00      0.00         0\n",
      "          12       0.00      0.00      0.00         0\n",
      "          17       0.00      0.00      0.00         0\n",
      "          25       0.00      0.00      0.00         0\n",
      "          26       0.00      0.00      0.00         0\n",
      "          27       1.00      0.87      0.93       391\n",
      "          28       0.00      0.00      0.00         0\n",
      "          31       0.00      0.00      0.00         0\n",
      "          33       0.00      0.00      0.00         0\n",
      "\n",
      "    accuracy                           0.87       391\n",
      "   macro avg       0.08      0.07      0.08       391\n",
      "weighted avg       1.00      0.87      0.93       391\n",
      "\n"
     ]
    },
    {
     "name": "stderr",
     "output_type": "stream",
     "text": [
      "/home/venkateshiyer/ocrtool/lib/python3.8/site-packages/sklearn/metrics/_classification.py:1334: UndefinedMetricWarning: Recall and F-score are ill-defined and being set to 0.0 in labels with no true samples. Use `zero_division` parameter to control this behavior.\n",
      "  _warn_prf(average, modifier, msg_start, len(result))\n",
      "/home/venkateshiyer/ocrtool/lib/python3.8/site-packages/sklearn/metrics/_classification.py:1334: UndefinedMetricWarning: Recall and F-score are ill-defined and being set to 0.0 in labels with no true samples. Use `zero_division` parameter to control this behavior.\n",
      "  _warn_prf(average, modifier, msg_start, len(result))\n",
      "/home/venkateshiyer/ocrtool/lib/python3.8/site-packages/sklearn/metrics/_classification.py:1334: UndefinedMetricWarning: Recall and F-score are ill-defined and being set to 0.0 in labels with no true samples. Use `zero_division` parameter to control this behavior.\n",
      "  _warn_prf(average, modifier, msg_start, len(result))\n"
     ]
    }
   ],
   "source": [
    "print(accuracy)\n",
    "from sklearn import metrics\n",
    "print(metrics.classification_report(gt, prediction))"
   ]
  },
  {
   "cell_type": "code",
   "execution_count": 54,
   "id": "5ded58a1",
   "metadata": {},
   "outputs": [],
   "source": [
    "path = os.path.expanduser('~')+'/alphanumeric_dataset/NIST_hsf2_subset/28/*'\n",
    "result, accuracy, gt, prediction, wrong_results = pred_using_h5_digit(model,path)"
   ]
  },
  {
   "cell_type": "code",
   "execution_count": 55,
   "id": "f6134182",
   "metadata": {},
   "outputs": [
    {
     "data": {
      "text/plain": [
       "13"
      ]
     },
     "execution_count": 55,
     "metadata": {},
     "output_type": "execute_result"
    }
   ],
   "source": [
    "len(wrong_results)"
   ]
  },
  {
   "cell_type": "code",
   "execution_count": 56,
   "id": "37ae038a",
   "metadata": {},
   "outputs": [
    {
     "name": "stdout",
     "output_type": "stream",
     "text": [
      "0.9686746987951808\n",
      "              precision    recall  f1-score   support\n",
      "\n",
      "           2       0.00      0.00      0.00         0\n",
      "           8       0.00      0.00      0.00         0\n",
      "           9       0.00      0.00      0.00         0\n",
      "          11       0.00      0.00      0.00         0\n",
      "          13       0.00      0.00      0.00         0\n",
      "          16       0.00      0.00      0.00         0\n",
      "          21       0.00      0.00      0.00         0\n",
      "          26       0.00      0.00      0.00         0\n",
      "          28       1.00      0.97      0.98       415\n",
      "\n",
      "    accuracy                           0.97       415\n",
      "   macro avg       0.11      0.11      0.11       415\n",
      "weighted avg       1.00      0.97      0.98       415\n",
      "\n"
     ]
    },
    {
     "name": "stderr",
     "output_type": "stream",
     "text": [
      "/home/venkateshiyer/ocrtool/lib/python3.8/site-packages/sklearn/metrics/_classification.py:1334: UndefinedMetricWarning: Recall and F-score are ill-defined and being set to 0.0 in labels with no true samples. Use `zero_division` parameter to control this behavior.\n",
      "  _warn_prf(average, modifier, msg_start, len(result))\n",
      "/home/venkateshiyer/ocrtool/lib/python3.8/site-packages/sklearn/metrics/_classification.py:1334: UndefinedMetricWarning: Recall and F-score are ill-defined and being set to 0.0 in labels with no true samples. Use `zero_division` parameter to control this behavior.\n",
      "  _warn_prf(average, modifier, msg_start, len(result))\n",
      "/home/venkateshiyer/ocrtool/lib/python3.8/site-packages/sklearn/metrics/_classification.py:1334: UndefinedMetricWarning: Recall and F-score are ill-defined and being set to 0.0 in labels with no true samples. Use `zero_division` parameter to control this behavior.\n",
      "  _warn_prf(average, modifier, msg_start, len(result))\n"
     ]
    }
   ],
   "source": [
    "print(accuracy)\n",
    "from sklearn import metrics\n",
    "print(metrics.classification_report(gt, prediction))"
   ]
  },
  {
   "cell_type": "code",
   "execution_count": 57,
   "id": "67378651",
   "metadata": {},
   "outputs": [],
   "source": [
    "path = os.path.expanduser('~')+'/alphanumeric_dataset/NIST_hsf2_subset/29/*'\n",
    "result, accuracy, gt, prediction, wrong_results = pred_using_h5_digit(model,path)"
   ]
  },
  {
   "cell_type": "code",
   "execution_count": 58,
   "id": "2e83afa5",
   "metadata": {},
   "outputs": [
    {
     "data": {
      "text/plain": [
       "198"
      ]
     },
     "execution_count": 58,
     "metadata": {},
     "output_type": "execute_result"
    }
   ],
   "source": [
    "len(wrong_results)"
   ]
  },
  {
   "cell_type": "code",
   "execution_count": 59,
   "id": "00958cea",
   "metadata": {},
   "outputs": [
    {
     "name": "stdout",
     "output_type": "stream",
     "text": [
      "0.9667450453476655\n",
      "              precision    recall  f1-score   support\n",
      "\n",
      "           1       0.00      0.00      0.00         0\n",
      "           2       0.00      0.00      0.00         0\n",
      "           3       0.00      0.00      0.00         0\n",
      "           5       0.00      0.00      0.00         0\n",
      "           6       0.00      0.00      0.00         0\n",
      "           8       0.00      0.00      0.00         0\n",
      "           9       0.00      0.00      0.00         0\n",
      "          12       0.00      0.00      0.00         0\n",
      "          13       0.00      0.00      0.00         0\n",
      "          15       0.00      0.00      0.00         0\n",
      "          16       0.00      0.00      0.00         0\n",
      "          20       0.00      0.00      0.00         0\n",
      "          25       0.00      0.00      0.00         0\n",
      "          29       1.00      0.97      0.98      5954\n",
      "\n",
      "    accuracy                           0.97      5954\n",
      "   macro avg       0.07      0.07      0.07      5954\n",
      "weighted avg       1.00      0.97      0.98      5954\n",
      "\n"
     ]
    },
    {
     "name": "stderr",
     "output_type": "stream",
     "text": [
      "/home/venkateshiyer/ocrtool/lib/python3.8/site-packages/sklearn/metrics/_classification.py:1334: UndefinedMetricWarning: Recall and F-score are ill-defined and being set to 0.0 in labels with no true samples. Use `zero_division` parameter to control this behavior.\n",
      "  _warn_prf(average, modifier, msg_start, len(result))\n",
      "/home/venkateshiyer/ocrtool/lib/python3.8/site-packages/sklearn/metrics/_classification.py:1334: UndefinedMetricWarning: Recall and F-score are ill-defined and being set to 0.0 in labels with no true samples. Use `zero_division` parameter to control this behavior.\n",
      "  _warn_prf(average, modifier, msg_start, len(result))\n",
      "/home/venkateshiyer/ocrtool/lib/python3.8/site-packages/sklearn/metrics/_classification.py:1334: UndefinedMetricWarning: Recall and F-score are ill-defined and being set to 0.0 in labels with no true samples. Use `zero_division` parameter to control this behavior.\n",
      "  _warn_prf(average, modifier, msg_start, len(result))\n"
     ]
    }
   ],
   "source": [
    "print(accuracy)\n",
    "from sklearn import metrics\n",
    "print(metrics.classification_report(gt, prediction))"
   ]
  },
  {
   "cell_type": "code",
   "execution_count": 60,
   "id": "56a92ac1",
   "metadata": {},
   "outputs": [],
   "source": [
    "path = os.path.expanduser('~')+'/alphanumeric_dataset/NIST_hsf2_subset/30/*'\n",
    "result, accuracy, gt, prediction, wrong_results = pred_using_h5_digit(model,path)"
   ]
  },
  {
   "cell_type": "code",
   "execution_count": 61,
   "id": "0fc3dc4c",
   "metadata": {},
   "outputs": [
    {
     "data": {
      "text/plain": [
       "43"
      ]
     },
     "execution_count": 61,
     "metadata": {},
     "output_type": "execute_result"
    }
   ],
   "source": [
    "len(wrong_results)"
   ]
  },
  {
   "cell_type": "code",
   "execution_count": 62,
   "id": "0eac33f2",
   "metadata": {},
   "outputs": [
    {
     "name": "stdout",
     "output_type": "stream",
     "text": [
      "0.9828274760383386\n",
      "              precision    recall  f1-score   support\n",
      "\n",
      "           1       0.00      0.00      0.00         0\n",
      "           7       0.00      0.00      0.00         0\n",
      "           9       0.00      0.00      0.00         0\n",
      "          20       0.00      0.00      0.00         0\n",
      "          30       1.00      0.98      0.99      2504\n",
      "          35       0.00      0.00      0.00         0\n",
      "\n",
      "    accuracy                           0.98      2504\n",
      "   macro avg       0.17      0.16      0.17      2504\n",
      "weighted avg       1.00      0.98      0.99      2504\n",
      "\n"
     ]
    },
    {
     "name": "stderr",
     "output_type": "stream",
     "text": [
      "/home/venkateshiyer/ocrtool/lib/python3.8/site-packages/sklearn/metrics/_classification.py:1334: UndefinedMetricWarning: Recall and F-score are ill-defined and being set to 0.0 in labels with no true samples. Use `zero_division` parameter to control this behavior.\n",
      "  _warn_prf(average, modifier, msg_start, len(result))\n",
      "/home/venkateshiyer/ocrtool/lib/python3.8/site-packages/sklearn/metrics/_classification.py:1334: UndefinedMetricWarning: Recall and F-score are ill-defined and being set to 0.0 in labels with no true samples. Use `zero_division` parameter to control this behavior.\n",
      "  _warn_prf(average, modifier, msg_start, len(result))\n",
      "/home/venkateshiyer/ocrtool/lib/python3.8/site-packages/sklearn/metrics/_classification.py:1334: UndefinedMetricWarning: Recall and F-score are ill-defined and being set to 0.0 in labels with no true samples. Use `zero_division` parameter to control this behavior.\n",
      "  _warn_prf(average, modifier, msg_start, len(result))\n"
     ]
    }
   ],
   "source": [
    "print(accuracy)\n",
    "from sklearn import metrics\n",
    "print(metrics.classification_report(gt, prediction))"
   ]
  },
  {
   "cell_type": "code",
   "execution_count": 63,
   "id": "76fc64b2",
   "metadata": {},
   "outputs": [],
   "source": [
    "path = os.path.expanduser('~')+'/alphanumeric_dataset/NIST_hsf2_subset/31/*'\n",
    "result, accuracy, gt, prediction, wrong_results = pred_using_h5_digit(model,path)"
   ]
  },
  {
   "cell_type": "code",
   "execution_count": 64,
   "id": "8315a645",
   "metadata": {},
   "outputs": [
    {
     "data": {
      "text/plain": [
       "167"
      ]
     },
     "execution_count": 64,
     "metadata": {},
     "output_type": "execute_result"
    }
   ],
   "source": [
    "len(wrong_results)"
   ]
  },
  {
   "cell_type": "code",
   "execution_count": 65,
   "id": "a8cb365b",
   "metadata": {},
   "outputs": [
    {
     "name": "stdout",
     "output_type": "stream",
     "text": [
      "0.9501045712578429\n",
      "              precision    recall  f1-score   support\n",
      "\n",
      "           4       0.00      0.00      0.00         0\n",
      "           6       0.00      0.00      0.00         0\n",
      "           8       0.00      0.00      0.00         0\n",
      "           9       0.00      0.00      0.00         0\n",
      "          13       0.00      0.00      0.00         0\n",
      "          18       0.00      0.00      0.00         0\n",
      "          23       0.00      0.00      0.00         0\n",
      "          24       0.00      0.00      0.00         0\n",
      "          25       0.00      0.00      0.00         0\n",
      "          31       1.00      0.95      0.97      3347\n",
      "          32       0.00      0.00      0.00         0\n",
      "          33       0.00      0.00      0.00         0\n",
      "\n",
      "    accuracy                           0.95      3347\n",
      "   macro avg       0.08      0.08      0.08      3347\n",
      "weighted avg       1.00      0.95      0.97      3347\n",
      "\n"
     ]
    },
    {
     "name": "stderr",
     "output_type": "stream",
     "text": [
      "/home/venkateshiyer/ocrtool/lib/python3.8/site-packages/sklearn/metrics/_classification.py:1334: UndefinedMetricWarning: Recall and F-score are ill-defined and being set to 0.0 in labels with no true samples. Use `zero_division` parameter to control this behavior.\n",
      "  _warn_prf(average, modifier, msg_start, len(result))\n",
      "/home/venkateshiyer/ocrtool/lib/python3.8/site-packages/sklearn/metrics/_classification.py:1334: UndefinedMetricWarning: Recall and F-score are ill-defined and being set to 0.0 in labels with no true samples. Use `zero_division` parameter to control this behavior.\n",
      "  _warn_prf(average, modifier, msg_start, len(result))\n",
      "/home/venkateshiyer/ocrtool/lib/python3.8/site-packages/sklearn/metrics/_classification.py:1334: UndefinedMetricWarning: Recall and F-score are ill-defined and being set to 0.0 in labels with no true samples. Use `zero_division` parameter to control this behavior.\n",
      "  _warn_prf(average, modifier, msg_start, len(result))\n"
     ]
    }
   ],
   "source": [
    "print(accuracy)\n",
    "from sklearn import metrics\n",
    "print(metrics.classification_report(gt, prediction))"
   ]
  },
  {
   "cell_type": "code",
   "execution_count": 66,
   "id": "622d869f",
   "metadata": {},
   "outputs": [],
   "source": [
    "path = os.path.expanduser('~')+'/alphanumeric_dataset/NIST_hsf2_subset/32/*'\n",
    "result, accuracy, gt, prediction, wrong_results = pred_using_h5_digit(model,path)"
   ]
  },
  {
   "cell_type": "code",
   "execution_count": 67,
   "id": "f20cbc79",
   "metadata": {},
   "outputs": [
    {
     "data": {
      "text/plain": [
       "123"
      ]
     },
     "execution_count": 67,
     "metadata": {},
     "output_type": "execute_result"
    }
   ],
   "source": [
    "len(wrong_results)"
   ]
  },
  {
   "cell_type": "code",
   "execution_count": 68,
   "id": "264b0836",
   "metadata": {},
   "outputs": [
    {
     "name": "stdout",
     "output_type": "stream",
     "text": [
      "0.9013632718524459\n",
      "              precision    recall  f1-score   support\n",
      "\n",
      "           1       0.00      0.00      0.00         0\n",
      "           7       0.00      0.00      0.00         0\n",
      "          20       0.00      0.00      0.00         0\n",
      "          22       0.00      0.00      0.00         0\n",
      "          25       0.00      0.00      0.00         0\n",
      "          29       0.00      0.00      0.00         0\n",
      "          31       0.00      0.00      0.00         0\n",
      "          32       1.00      0.90      0.95      1247\n",
      "          35       0.00      0.00      0.00         0\n",
      "\n",
      "    accuracy                           0.90      1247\n",
      "   macro avg       0.11      0.10      0.11      1247\n",
      "weighted avg       1.00      0.90      0.95      1247\n",
      "\n"
     ]
    },
    {
     "name": "stderr",
     "output_type": "stream",
     "text": [
      "/home/venkateshiyer/ocrtool/lib/python3.8/site-packages/sklearn/metrics/_classification.py:1334: UndefinedMetricWarning: Recall and F-score are ill-defined and being set to 0.0 in labels with no true samples. Use `zero_division` parameter to control this behavior.\n",
      "  _warn_prf(average, modifier, msg_start, len(result))\n",
      "/home/venkateshiyer/ocrtool/lib/python3.8/site-packages/sklearn/metrics/_classification.py:1334: UndefinedMetricWarning: Recall and F-score are ill-defined and being set to 0.0 in labels with no true samples. Use `zero_division` parameter to control this behavior.\n",
      "  _warn_prf(average, modifier, msg_start, len(result))\n",
      "/home/venkateshiyer/ocrtool/lib/python3.8/site-packages/sklearn/metrics/_classification.py:1334: UndefinedMetricWarning: Recall and F-score are ill-defined and being set to 0.0 in labels with no true samples. Use `zero_division` parameter to control this behavior.\n",
      "  _warn_prf(average, modifier, msg_start, len(result))\n"
     ]
    }
   ],
   "source": [
    "print(accuracy)\n",
    "from sklearn import metrics\n",
    "print(metrics.classification_report(gt, prediction))"
   ]
  },
  {
   "cell_type": "code",
   "execution_count": 69,
   "id": "8af2b921",
   "metadata": {},
   "outputs": [],
   "source": [
    "path = os.path.expanduser('~')+'/alphanumeric_dataset/NIST_hsf2_subset/33/*'\n",
    "result, accuracy, gt, prediction, wrong_results = pred_using_h5_digit(model,path)"
   ]
  },
  {
   "cell_type": "code",
   "execution_count": 70,
   "id": "ff2c6cea",
   "metadata": {},
   "outputs": [
    {
     "data": {
      "text/plain": [
       "11"
      ]
     },
     "execution_count": 70,
     "metadata": {},
     "output_type": "execute_result"
    }
   ],
   "source": [
    "len(wrong_results)"
   ]
  },
  {
   "cell_type": "code",
   "execution_count": 71,
   "id": "8f82072a",
   "metadata": {},
   "outputs": [
    {
     "name": "stdout",
     "output_type": "stream",
     "text": [
      "0.9887640449438202\n",
      "              precision    recall  f1-score   support\n",
      "\n",
      "           4       0.00      0.00      0.00         0\n",
      "          18       0.00      0.00      0.00         0\n",
      "          23       0.00      0.00      0.00         0\n",
      "          24       0.00      0.00      0.00         0\n",
      "          31       0.00      0.00      0.00         0\n",
      "          32       0.00      0.00      0.00         0\n",
      "          33       1.00      0.99      0.99       979\n",
      "          36       0.00      0.00      0.00         0\n",
      "\n",
      "    accuracy                           0.99       979\n",
      "   macro avg       0.12      0.12      0.12       979\n",
      "weighted avg       1.00      0.99      0.99       979\n",
      "\n"
     ]
    },
    {
     "name": "stderr",
     "output_type": "stream",
     "text": [
      "/home/venkateshiyer/ocrtool/lib/python3.8/site-packages/sklearn/metrics/_classification.py:1334: UndefinedMetricWarning: Recall and F-score are ill-defined and being set to 0.0 in labels with no true samples. Use `zero_division` parameter to control this behavior.\n",
      "  _warn_prf(average, modifier, msg_start, len(result))\n",
      "/home/venkateshiyer/ocrtool/lib/python3.8/site-packages/sklearn/metrics/_classification.py:1334: UndefinedMetricWarning: Recall and F-score are ill-defined and being set to 0.0 in labels with no true samples. Use `zero_division` parameter to control this behavior.\n",
      "  _warn_prf(average, modifier, msg_start, len(result))\n",
      "/home/venkateshiyer/ocrtool/lib/python3.8/site-packages/sklearn/metrics/_classification.py:1334: UndefinedMetricWarning: Recall and F-score are ill-defined and being set to 0.0 in labels with no true samples. Use `zero_division` parameter to control this behavior.\n",
      "  _warn_prf(average, modifier, msg_start, len(result))\n"
     ]
    }
   ],
   "source": [
    "print(accuracy)\n",
    "from sklearn import metrics\n",
    "print(metrics.classification_report(gt, prediction))"
   ]
  },
  {
   "cell_type": "code",
   "execution_count": 72,
   "id": "49f65b3f",
   "metadata": {},
   "outputs": [],
   "source": [
    "path = os.path.expanduser('~')+'/alphanumeric_dataset/NIST_hsf2_subset/34/*'\n",
    "result, accuracy, gt, prediction, wrong_results = pred_using_h5_digit(model,path)"
   ]
  },
  {
   "cell_type": "code",
   "execution_count": 73,
   "id": "79f64930",
   "metadata": {},
   "outputs": [
    {
     "data": {
      "text/plain": [
       "30"
      ]
     },
     "execution_count": 73,
     "metadata": {},
     "output_type": "execute_result"
    }
   ],
   "source": [
    "len(wrong_results)"
   ]
  },
  {
   "cell_type": "code",
   "execution_count": 74,
   "id": "4879bbb3",
   "metadata": {},
   "outputs": [
    {
     "name": "stdout",
     "output_type": "stream",
     "text": [
      "0.9300699300699301\n",
      "              precision    recall  f1-score   support\n",
      "\n",
      "           4       0.00      0.00      0.00         0\n",
      "          21       0.00      0.00      0.00         0\n",
      "          30       0.00      0.00      0.00         0\n",
      "          31       0.00      0.00      0.00         0\n",
      "          34       1.00      0.93      0.96       429\n",
      "          35       0.00      0.00      0.00         0\n",
      "\n",
      "    accuracy                           0.93       429\n",
      "   macro avg       0.17      0.16      0.16       429\n",
      "weighted avg       1.00      0.93      0.96       429\n",
      "\n"
     ]
    },
    {
     "name": "stderr",
     "output_type": "stream",
     "text": [
      "/home/venkateshiyer/ocrtool/lib/python3.8/site-packages/sklearn/metrics/_classification.py:1334: UndefinedMetricWarning: Recall and F-score are ill-defined and being set to 0.0 in labels with no true samples. Use `zero_division` parameter to control this behavior.\n",
      "  _warn_prf(average, modifier, msg_start, len(result))\n",
      "/home/venkateshiyer/ocrtool/lib/python3.8/site-packages/sklearn/metrics/_classification.py:1334: UndefinedMetricWarning: Recall and F-score are ill-defined and being set to 0.0 in labels with no true samples. Use `zero_division` parameter to control this behavior.\n",
      "  _warn_prf(average, modifier, msg_start, len(result))\n",
      "/home/venkateshiyer/ocrtool/lib/python3.8/site-packages/sklearn/metrics/_classification.py:1334: UndefinedMetricWarning: Recall and F-score are ill-defined and being set to 0.0 in labels with no true samples. Use `zero_division` parameter to control this behavior.\n",
      "  _warn_prf(average, modifier, msg_start, len(result))\n"
     ]
    }
   ],
   "source": [
    "print(accuracy)\n",
    "from sklearn import metrics\n",
    "print(metrics.classification_report(gt, prediction))"
   ]
  },
  {
   "cell_type": "code",
   "execution_count": 78,
   "id": "7ecab576",
   "metadata": {},
   "outputs": [],
   "source": [
    "path = os.path.expanduser('~')+'/alphanumeric_dataset/NIST_hsf2_subset/35/*'\n",
    "result, accuracy, gt, prediction, wrong_results = pred_using_h5_digit(model,path)"
   ]
  },
  {
   "cell_type": "code",
   "execution_count": 79,
   "id": "1b4e47da",
   "metadata": {},
   "outputs": [
    {
     "data": {
      "text/plain": [
       "46"
      ]
     },
     "execution_count": 79,
     "metadata": {},
     "output_type": "execute_result"
    }
   ],
   "source": [
    "len(wrong_results)"
   ]
  },
  {
   "cell_type": "code",
   "execution_count": 80,
   "id": "46968647",
   "metadata": {},
   "outputs": [
    {
     "data": {
      "text/plain": [
       "{'/home/venkateshiyer/alphanumeric_dataset/NIST_hsf2_subset/35/hsf_2_00068.png': 1,\n",
       " '/home/venkateshiyer/alphanumeric_dataset/NIST_hsf2_subset/35/hsf_2_00074.png': 9,\n",
       " '/home/venkateshiyer/alphanumeric_dataset/NIST_hsf2_subset/35/hsf_2_00089.png': 7,\n",
       " '/home/venkateshiyer/alphanumeric_dataset/NIST_hsf2_subset/35/hsf_2_00109.png': 7,\n",
       " '/home/venkateshiyer/alphanumeric_dataset/NIST_hsf2_subset/35/hsf_2_00172.png': 7,\n",
       " '/home/venkateshiyer/alphanumeric_dataset/NIST_hsf2_subset/35/hsf_2_00182.png': 7,\n",
       " '/home/venkateshiyer/alphanumeric_dataset/NIST_hsf2_subset/35/hsf_2_00193.png': 4,\n",
       " '/home/venkateshiyer/alphanumeric_dataset/NIST_hsf2_subset/35/hsf_2_00197.png': 4,\n",
       " '/home/venkateshiyer/alphanumeric_dataset/NIST_hsf2_subset/35/hsf_2_00202.png': 7,\n",
       " '/home/venkateshiyer/alphanumeric_dataset/NIST_hsf2_subset/35/hsf_2_00205.png': 4,\n",
       " '/home/venkateshiyer/alphanumeric_dataset/NIST_hsf2_subset/35/hsf_2_00212.png': 4,\n",
       " '/home/venkateshiyer/alphanumeric_dataset/NIST_hsf2_subset/35/hsf_2_00274.png': 1,\n",
       " '/home/venkateshiyer/alphanumeric_dataset/NIST_hsf2_subset/35/hsf_2_00316.png': 32,\n",
       " '/home/venkateshiyer/alphanumeric_dataset/NIST_hsf2_subset/35/hsf_2_00329.png': 30,\n",
       " '/home/venkateshiyer/alphanumeric_dataset/NIST_hsf2_subset/35/hsf_2_00365.png': 4,\n",
       " '/home/venkateshiyer/alphanumeric_dataset/NIST_hsf2_subset/35/hsf_2_00367.png': 4,\n",
       " '/home/venkateshiyer/alphanumeric_dataset/NIST_hsf2_subset/35/hsf_2_00380.png': 4,\n",
       " '/home/venkateshiyer/alphanumeric_dataset/NIST_hsf2_subset/35/hsf_2_00467.png': 4,\n",
       " '/home/venkateshiyer/alphanumeric_dataset/NIST_hsf2_subset/35/hsf_2_00512.png': 4,\n",
       " '/home/venkateshiyer/alphanumeric_dataset/NIST_hsf2_subset/35/hsf_2_00537.png': 4,\n",
       " '/home/venkateshiyer/alphanumeric_dataset/NIST_hsf2_subset/35/hsf_2_00566.png': 4,\n",
       " '/home/venkateshiyer/alphanumeric_dataset/NIST_hsf2_subset/35/hsf_2_00597.png': 32,\n",
       " '/home/venkateshiyer/alphanumeric_dataset/NIST_hsf2_subset/35/hsf_2_00602.png': 32,\n",
       " '/home/venkateshiyer/alphanumeric_dataset/NIST_hsf2_subset/35/hsf_2_00611.png': 32,\n",
       " '/home/venkateshiyer/alphanumeric_dataset/NIST_hsf2_subset/35/hsf_2_00615.png': 32,\n",
       " '/home/venkateshiyer/alphanumeric_dataset/NIST_hsf2_subset/35/hsf_2_00636.png': 32,\n",
       " '/home/venkateshiyer/alphanumeric_dataset/NIST_hsf2_subset/35/hsf_2_00678.png': 4,\n",
       " '/home/venkateshiyer/alphanumeric_dataset/NIST_hsf2_subset/35/hsf_2_00705.png': 4,\n",
       " '/home/venkateshiyer/alphanumeric_dataset/NIST_hsf2_subset/35/hsf_2_00715.png': 4,\n",
       " '/home/venkateshiyer/alphanumeric_dataset/NIST_hsf2_subset/35/hsf_2_00730.png': 32,\n",
       " '/home/venkateshiyer/alphanumeric_dataset/NIST_hsf2_subset/35/hsf_2_00738.png': 32,\n",
       " '/home/venkateshiyer/alphanumeric_dataset/NIST_hsf2_subset/35/hsf_2_00751.png': 32,\n",
       " '/home/venkateshiyer/alphanumeric_dataset/NIST_hsf2_subset/35/hsf_2_00757.png': 8,\n",
       " '/home/venkateshiyer/alphanumeric_dataset/NIST_hsf2_subset/35/hsf_2_00787.png': 32,\n",
       " '/home/venkateshiyer/alphanumeric_dataset/NIST_hsf2_subset/35/hsf_2_00795.png': 32,\n",
       " '/home/venkateshiyer/alphanumeric_dataset/NIST_hsf2_subset/35/hsf_2_00797.png': 32,\n",
       " '/home/venkateshiyer/alphanumeric_dataset/NIST_hsf2_subset/35/hsf_2_00826.png': 32,\n",
       " '/home/venkateshiyer/alphanumeric_dataset/NIST_hsf2_subset/35/hsf_2_00831.png': 32,\n",
       " '/home/venkateshiyer/alphanumeric_dataset/NIST_hsf2_subset/35/hsf_2_00869.png': 32,\n",
       " '/home/venkateshiyer/alphanumeric_dataset/NIST_hsf2_subset/35/hsf_2_00890.png': 32,\n",
       " '/home/venkateshiyer/alphanumeric_dataset/NIST_hsf2_subset/35/hsf_2_00891.png': 32,\n",
       " '/home/venkateshiyer/alphanumeric_dataset/NIST_hsf2_subset/35/hsf_2_00909.png': 32,\n",
       " '/home/venkateshiyer/alphanumeric_dataset/NIST_hsf2_subset/35/hsf_2_00936.png': 4,\n",
       " '/home/venkateshiyer/alphanumeric_dataset/NIST_hsf2_subset/35/hsf_2_00944.png': 32,\n",
       " '/home/venkateshiyer/alphanumeric_dataset/NIST_hsf2_subset/35/hsf_2_00947.png': 4,\n",
       " '/home/venkateshiyer/alphanumeric_dataset/NIST_hsf2_subset/35/hsf_2_00960.png': 4}"
      ]
     },
     "execution_count": 80,
     "metadata": {},
     "output_type": "execute_result"
    }
   ],
   "source": [
    "wrong_results"
   ]
  },
  {
   "cell_type": "code",
   "execution_count": 81,
   "id": "efaf8af4",
   "metadata": {},
   "outputs": [
    {
     "name": "stdout",
     "output_type": "stream",
     "text": [
      "0.9521829521829522\n",
      "              precision    recall  f1-score   support\n",
      "\n",
      "           1       0.00      0.00      0.00         0\n",
      "           4       0.00      0.00      0.00         0\n",
      "           7       0.00      0.00      0.00         0\n",
      "           8       0.00      0.00      0.00         0\n",
      "           9       0.00      0.00      0.00         0\n",
      "          30       0.00      0.00      0.00         0\n",
      "          32       0.00      0.00      0.00         0\n",
      "          35       1.00      0.95      0.98       962\n",
      "\n",
      "    accuracy                           0.95       962\n",
      "   macro avg       0.12      0.12      0.12       962\n",
      "weighted avg       1.00      0.95      0.98       962\n",
      "\n"
     ]
    },
    {
     "name": "stderr",
     "output_type": "stream",
     "text": [
      "/home/venkateshiyer/ocrtool/lib/python3.8/site-packages/sklearn/metrics/_classification.py:1334: UndefinedMetricWarning: Recall and F-score are ill-defined and being set to 0.0 in labels with no true samples. Use `zero_division` parameter to control this behavior.\n",
      "  _warn_prf(average, modifier, msg_start, len(result))\n",
      "/home/venkateshiyer/ocrtool/lib/python3.8/site-packages/sklearn/metrics/_classification.py:1334: UndefinedMetricWarning: Recall and F-score are ill-defined and being set to 0.0 in labels with no true samples. Use `zero_division` parameter to control this behavior.\n",
      "  _warn_prf(average, modifier, msg_start, len(result))\n",
      "/home/venkateshiyer/ocrtool/lib/python3.8/site-packages/sklearn/metrics/_classification.py:1334: UndefinedMetricWarning: Recall and F-score are ill-defined and being set to 0.0 in labels with no true samples. Use `zero_division` parameter to control this behavior.\n",
      "  _warn_prf(average, modifier, msg_start, len(result))\n"
     ]
    }
   ],
   "source": [
    "print(accuracy)\n",
    "from sklearn import metrics\n",
    "print(metrics.classification_report(gt, prediction))"
   ]
  },
  {
   "cell_type": "code",
   "execution_count": 82,
   "id": "f374b562",
   "metadata": {},
   "outputs": [],
   "source": [
    "path = os.path.expanduser('~')+'/alphanumeric_dataset/NIST_hsf2_subset/36/*'\n",
    "result, accuracy, gt, prediction, wrong_results = pred_using_h5_digit(model,path)"
   ]
  },
  {
   "cell_type": "code",
   "execution_count": 83,
   "id": "384169ad",
   "metadata": {},
   "outputs": [
    {
     "data": {
      "text/plain": [
       "67"
      ]
     },
     "execution_count": 83,
     "metadata": {},
     "output_type": "execute_result"
    }
   ],
   "source": [
    "len(wrong_results)"
   ]
  },
  {
   "cell_type": "code",
   "execution_count": 84,
   "id": "52b7bbc9",
   "metadata": {},
   "outputs": [
    {
     "data": {
      "text/plain": [
       "{'/home/venkateshiyer/alphanumeric_dataset/NIST_hsf2_subset/36/hsf_2_00006.png': 2,\n",
       " '/home/venkateshiyer/alphanumeric_dataset/NIST_hsf2_subset/36/hsf_2_00008.png': 2,\n",
       " '/home/venkateshiyer/alphanumeric_dataset/NIST_hsf2_subset/36/hsf_2_00011.png': 2,\n",
       " '/home/venkateshiyer/alphanumeric_dataset/NIST_hsf2_subset/36/hsf_2_00020.png': 2,\n",
       " '/home/venkateshiyer/alphanumeric_dataset/NIST_hsf2_subset/36/hsf_2_00021.png': 2,\n",
       " '/home/venkateshiyer/alphanumeric_dataset/NIST_hsf2_subset/36/hsf_2_00032.png': 2,\n",
       " '/home/venkateshiyer/alphanumeric_dataset/NIST_hsf2_subset/36/hsf_2_00033.png': 2,\n",
       " '/home/venkateshiyer/alphanumeric_dataset/NIST_hsf2_subset/36/hsf_2_00060.png': 7,\n",
       " '/home/venkateshiyer/alphanumeric_dataset/NIST_hsf2_subset/36/hsf_2_00064.png': 2,\n",
       " '/home/venkateshiyer/alphanumeric_dataset/NIST_hsf2_subset/36/hsf_2_00071.png': 2,\n",
       " '/home/venkateshiyer/alphanumeric_dataset/NIST_hsf2_subset/36/hsf_2_00073.png': 2,\n",
       " '/home/venkateshiyer/alphanumeric_dataset/NIST_hsf2_subset/36/hsf_2_00082.png': 2,\n",
       " '/home/venkateshiyer/alphanumeric_dataset/NIST_hsf2_subset/36/hsf_2_00090.png': 2,\n",
       " '/home/venkateshiyer/alphanumeric_dataset/NIST_hsf2_subset/36/hsf_2_00092.png': 2,\n",
       " '/home/venkateshiyer/alphanumeric_dataset/NIST_hsf2_subset/36/hsf_2_00094.png': 2,\n",
       " '/home/venkateshiyer/alphanumeric_dataset/NIST_hsf2_subset/36/hsf_2_00102.png': 2,\n",
       " '/home/venkateshiyer/alphanumeric_dataset/NIST_hsf2_subset/36/hsf_2_00106.png': 2,\n",
       " '/home/venkateshiyer/alphanumeric_dataset/NIST_hsf2_subset/36/hsf_2_00116.png': 2,\n",
       " '/home/venkateshiyer/alphanumeric_dataset/NIST_hsf2_subset/36/hsf_2_00118.png': 2,\n",
       " '/home/venkateshiyer/alphanumeric_dataset/NIST_hsf2_subset/36/hsf_2_00121.png': 2,\n",
       " '/home/venkateshiyer/alphanumeric_dataset/NIST_hsf2_subset/36/hsf_2_00122.png': 2,\n",
       " '/home/venkateshiyer/alphanumeric_dataset/NIST_hsf2_subset/36/hsf_2_00142.png': 2,\n",
       " '/home/venkateshiyer/alphanumeric_dataset/NIST_hsf2_subset/36/hsf_2_00146.png': 2,\n",
       " '/home/venkateshiyer/alphanumeric_dataset/NIST_hsf2_subset/36/hsf_2_00151.png': 2,\n",
       " '/home/venkateshiyer/alphanumeric_dataset/NIST_hsf2_subset/36/hsf_2_00152.png': 2,\n",
       " '/home/venkateshiyer/alphanumeric_dataset/NIST_hsf2_subset/36/hsf_2_00160.png': 2,\n",
       " '/home/venkateshiyer/alphanumeric_dataset/NIST_hsf2_subset/36/hsf_2_00173.png': 2,\n",
       " '/home/venkateshiyer/alphanumeric_dataset/NIST_hsf2_subset/36/hsf_2_00174.png': 2,\n",
       " '/home/venkateshiyer/alphanumeric_dataset/NIST_hsf2_subset/36/hsf_2_00188.png': 2,\n",
       " '/home/venkateshiyer/alphanumeric_dataset/NIST_hsf2_subset/36/hsf_2_00189.png': 2,\n",
       " '/home/venkateshiyer/alphanumeric_dataset/NIST_hsf2_subset/36/hsf_2_00217.png': 2,\n",
       " '/home/venkateshiyer/alphanumeric_dataset/NIST_hsf2_subset/36/hsf_2_00223.png': 2,\n",
       " '/home/venkateshiyer/alphanumeric_dataset/NIST_hsf2_subset/36/hsf_2_00224.png': 2,\n",
       " '/home/venkateshiyer/alphanumeric_dataset/NIST_hsf2_subset/36/hsf_2_00225.png': 2,\n",
       " '/home/venkateshiyer/alphanumeric_dataset/NIST_hsf2_subset/36/hsf_2_00226.png': 2,\n",
       " '/home/venkateshiyer/alphanumeric_dataset/NIST_hsf2_subset/36/hsf_2_00227.png': 2,\n",
       " '/home/venkateshiyer/alphanumeric_dataset/NIST_hsf2_subset/36/hsf_2_00230.png': 7,\n",
       " '/home/venkateshiyer/alphanumeric_dataset/NIST_hsf2_subset/36/hsf_2_00231.png': 2,\n",
       " '/home/venkateshiyer/alphanumeric_dataset/NIST_hsf2_subset/36/hsf_2_00232.png': 16,\n",
       " '/home/venkateshiyer/alphanumeric_dataset/NIST_hsf2_subset/36/hsf_2_00236.png': 2,\n",
       " '/home/venkateshiyer/alphanumeric_dataset/NIST_hsf2_subset/36/hsf_2_00242.png': 2,\n",
       " '/home/venkateshiyer/alphanumeric_dataset/NIST_hsf2_subset/36/hsf_2_00253.png': 2,\n",
       " '/home/venkateshiyer/alphanumeric_dataset/NIST_hsf2_subset/36/hsf_2_00261.png': 2,\n",
       " '/home/venkateshiyer/alphanumeric_dataset/NIST_hsf2_subset/36/hsf_2_00265.png': 2,\n",
       " '/home/venkateshiyer/alphanumeric_dataset/NIST_hsf2_subset/36/hsf_2_00267.png': 2,\n",
       " '/home/venkateshiyer/alphanumeric_dataset/NIST_hsf2_subset/36/hsf_2_00269.png': 2,\n",
       " '/home/venkateshiyer/alphanumeric_dataset/NIST_hsf2_subset/36/hsf_2_00275.png': 2,\n",
       " '/home/venkateshiyer/alphanumeric_dataset/NIST_hsf2_subset/36/hsf_2_00292.png': 2,\n",
       " '/home/venkateshiyer/alphanumeric_dataset/NIST_hsf2_subset/36/hsf_2_00307.png': 2,\n",
       " '/home/venkateshiyer/alphanumeric_dataset/NIST_hsf2_subset/36/hsf_2_00309.png': 2,\n",
       " '/home/venkateshiyer/alphanumeric_dataset/NIST_hsf2_subset/36/hsf_2_00315.png': 2,\n",
       " '/home/venkateshiyer/alphanumeric_dataset/NIST_hsf2_subset/36/hsf_2_00322.png': 2,\n",
       " '/home/venkateshiyer/alphanumeric_dataset/NIST_hsf2_subset/36/hsf_2_00326.png': 2,\n",
       " '/home/venkateshiyer/alphanumeric_dataset/NIST_hsf2_subset/36/hsf_2_00331.png': 2,\n",
       " '/home/venkateshiyer/alphanumeric_dataset/NIST_hsf2_subset/36/hsf_2_00332.png': 7,\n",
       " '/home/venkateshiyer/alphanumeric_dataset/NIST_hsf2_subset/36/hsf_2_00334.png': 2,\n",
       " '/home/venkateshiyer/alphanumeric_dataset/NIST_hsf2_subset/36/hsf_2_00336.png': 2,\n",
       " '/home/venkateshiyer/alphanumeric_dataset/NIST_hsf2_subset/36/hsf_2_00339.png': 2,\n",
       " '/home/venkateshiyer/alphanumeric_dataset/NIST_hsf2_subset/36/hsf_2_00340.png': 2,\n",
       " '/home/venkateshiyer/alphanumeric_dataset/NIST_hsf2_subset/36/hsf_2_00366.png': 2,\n",
       " '/home/venkateshiyer/alphanumeric_dataset/NIST_hsf2_subset/36/hsf_2_00367.png': 2,\n",
       " '/home/venkateshiyer/alphanumeric_dataset/NIST_hsf2_subset/36/hsf_2_00370.png': 2,\n",
       " '/home/venkateshiyer/alphanumeric_dataset/NIST_hsf2_subset/36/hsf_2_00371.png': 2,\n",
       " '/home/venkateshiyer/alphanumeric_dataset/NIST_hsf2_subset/36/hsf_2_00375.png': 2,\n",
       " '/home/venkateshiyer/alphanumeric_dataset/NIST_hsf2_subset/36/hsf_2_00378.png': 2,\n",
       " '/home/venkateshiyer/alphanumeric_dataset/NIST_hsf2_subset/36/hsf_2_00380.png': 2,\n",
       " '/home/venkateshiyer/alphanumeric_dataset/NIST_hsf2_subset/36/hsf_2_00426.png': 2}"
      ]
     },
     "execution_count": 84,
     "metadata": {},
     "output_type": "execute_result"
    }
   ],
   "source": [
    "wrong_results"
   ]
  },
  {
   "cell_type": "code",
   "execution_count": 85,
   "id": "c99adacd",
   "metadata": {},
   "outputs": [
    {
     "name": "stdout",
     "output_type": "stream",
     "text": [
      "0.8470319634703196\n",
      "              precision    recall  f1-score   support\n",
      "\n",
      "           2       0.00      0.00      0.00         0\n",
      "           7       0.00      0.00      0.00         0\n",
      "          16       0.00      0.00      0.00         0\n",
      "          36       1.00      0.85      0.92       438\n",
      "\n",
      "    accuracy                           0.85       438\n",
      "   macro avg       0.25      0.21      0.23       438\n",
      "weighted avg       1.00      0.85      0.92       438\n",
      "\n"
     ]
    },
    {
     "name": "stderr",
     "output_type": "stream",
     "text": [
      "/home/venkateshiyer/ocrtool/lib/python3.8/site-packages/sklearn/metrics/_classification.py:1334: UndefinedMetricWarning: Recall and F-score are ill-defined and being set to 0.0 in labels with no true samples. Use `zero_division` parameter to control this behavior.\n",
      "  _warn_prf(average, modifier, msg_start, len(result))\n",
      "/home/venkateshiyer/ocrtool/lib/python3.8/site-packages/sklearn/metrics/_classification.py:1334: UndefinedMetricWarning: Recall and F-score are ill-defined and being set to 0.0 in labels with no true samples. Use `zero_division` parameter to control this behavior.\n",
      "  _warn_prf(average, modifier, msg_start, len(result))\n",
      "/home/venkateshiyer/ocrtool/lib/python3.8/site-packages/sklearn/metrics/_classification.py:1334: UndefinedMetricWarning: Recall and F-score are ill-defined and being set to 0.0 in labels with no true samples. Use `zero_division` parameter to control this behavior.\n",
      "  _warn_prf(average, modifier, msg_start, len(result))\n"
     ]
    }
   ],
   "source": [
    "print(accuracy)\n",
    "from sklearn import metrics\n",
    "print(metrics.classification_report(gt, prediction))"
   ]
  },
  {
   "cell_type": "markdown",
   "id": "c9f1dae4",
   "metadata": {},
   "source": [
    "## Numbers"
   ]
  },
  {
   "cell_type": "code",
   "execution_count": 86,
   "id": "830bc6b8",
   "metadata": {},
   "outputs": [],
   "source": [
    "path = os.path.expanduser('~')+'/alphanumeric_dataset/NIST_hsf2_subset/0/*'\n",
    "result, accuracy, gt, prediction, wrong_results = pred_using_h5_digit(model,path)"
   ]
  },
  {
   "cell_type": "code",
   "execution_count": 87,
   "id": "ac952524",
   "metadata": {},
   "outputs": [
    {
     "data": {
      "text/plain": [
       "2382"
      ]
     },
     "execution_count": 87,
     "metadata": {},
     "output_type": "execute_result"
    }
   ],
   "source": [
    "len(wrong_results)"
   ]
  },
  {
   "cell_type": "code",
   "execution_count": 88,
   "id": "4ec11c6d",
   "metadata": {},
   "outputs": [
    {
     "name": "stdout",
     "output_type": "stream",
     "text": [
      "0.554932735426009\n",
      "              precision    recall  f1-score   support\n",
      "\n",
      "           0       1.00      0.55      0.71      5352\n",
      "           6       0.00      0.00      0.00         0\n",
      "           8       0.00      0.00      0.00         0\n",
      "           9       0.00      0.00      0.00         0\n",
      "          11       0.00      0.00      0.00         0\n",
      "          13       0.00      0.00      0.00         0\n",
      "          14       0.00      0.00      0.00         0\n",
      "          17       0.00      0.00      0.00         0\n",
      "          25       0.00      0.00      0.00         0\n",
      "          27       0.00      0.00      0.00         0\n",
      "          29       0.00      0.00      0.00         0\n",
      "          31       0.00      0.00      0.00         0\n",
      "\n",
      "    accuracy                           0.55      5352\n",
      "   macro avg       0.08      0.05      0.06      5352\n",
      "weighted avg       1.00      0.55      0.71      5352\n",
      "\n"
     ]
    },
    {
     "name": "stderr",
     "output_type": "stream",
     "text": [
      "/home/venkateshiyer/ocrtool/lib/python3.8/site-packages/sklearn/metrics/_classification.py:1334: UndefinedMetricWarning: Recall and F-score are ill-defined and being set to 0.0 in labels with no true samples. Use `zero_division` parameter to control this behavior.\n",
      "  _warn_prf(average, modifier, msg_start, len(result))\n",
      "/home/venkateshiyer/ocrtool/lib/python3.8/site-packages/sklearn/metrics/_classification.py:1334: UndefinedMetricWarning: Recall and F-score are ill-defined and being set to 0.0 in labels with no true samples. Use `zero_division` parameter to control this behavior.\n",
      "  _warn_prf(average, modifier, msg_start, len(result))\n",
      "/home/venkateshiyer/ocrtool/lib/python3.8/site-packages/sklearn/metrics/_classification.py:1334: UndefinedMetricWarning: Recall and F-score are ill-defined and being set to 0.0 in labels with no true samples. Use `zero_division` parameter to control this behavior.\n",
      "  _warn_prf(average, modifier, msg_start, len(result))\n"
     ]
    }
   ],
   "source": [
    "print(accuracy)\n",
    "from sklearn import metrics\n",
    "print(metrics.classification_report(gt, prediction))"
   ]
  },
  {
   "cell_type": "code",
   "execution_count": 89,
   "id": "9abb3e35",
   "metadata": {},
   "outputs": [],
   "source": [
    "path = os.path.expanduser('~')+'/alphanumeric_dataset/NIST_hsf2_subset/1/*'\n",
    "result, accuracy, gt, prediction, wrong_results = pred_using_h5_digit(model,path)"
   ]
  },
  {
   "cell_type": "code",
   "execution_count": 90,
   "id": "e5a4a122",
   "metadata": {},
   "outputs": [
    {
     "data": {
      "text/plain": [
       "19"
      ]
     },
     "execution_count": 90,
     "metadata": {},
     "output_type": "execute_result"
    }
   ],
   "source": [
    "len(wrong_results)"
   ]
  },
  {
   "cell_type": "code",
   "execution_count": 91,
   "id": "c68fbc25",
   "metadata": {},
   "outputs": [
    {
     "name": "stdout",
     "output_type": "stream",
     "text": [
      "0.9967331499312242\n",
      "              precision    recall  f1-score   support\n",
      "\n",
      "           1       1.00      1.00      1.00      5816\n",
      "           6       0.00      0.00      0.00         0\n",
      "           7       0.00      0.00      0.00         0\n",
      "           8       0.00      0.00      0.00         0\n",
      "          19       0.00      0.00      0.00         0\n",
      "          20       0.00      0.00      0.00         0\n",
      "          22       0.00      0.00      0.00         0\n",
      "          29       0.00      0.00      0.00         0\n",
      "          30       0.00      0.00      0.00         0\n",
      "          32       0.00      0.00      0.00         0\n",
      "          35       0.00      0.00      0.00         0\n",
      "\n",
      "    accuracy                           1.00      5816\n",
      "   macro avg       0.09      0.09      0.09      5816\n",
      "weighted avg       1.00      1.00      1.00      5816\n",
      "\n"
     ]
    },
    {
     "name": "stderr",
     "output_type": "stream",
     "text": [
      "/home/venkateshiyer/ocrtool/lib/python3.8/site-packages/sklearn/metrics/_classification.py:1334: UndefinedMetricWarning: Recall and F-score are ill-defined and being set to 0.0 in labels with no true samples. Use `zero_division` parameter to control this behavior.\n",
      "  _warn_prf(average, modifier, msg_start, len(result))\n",
      "/home/venkateshiyer/ocrtool/lib/python3.8/site-packages/sklearn/metrics/_classification.py:1334: UndefinedMetricWarning: Recall and F-score are ill-defined and being set to 0.0 in labels with no true samples. Use `zero_division` parameter to control this behavior.\n",
      "  _warn_prf(average, modifier, msg_start, len(result))\n",
      "/home/venkateshiyer/ocrtool/lib/python3.8/site-packages/sklearn/metrics/_classification.py:1334: UndefinedMetricWarning: Recall and F-score are ill-defined and being set to 0.0 in labels with no true samples. Use `zero_division` parameter to control this behavior.\n",
      "  _warn_prf(average, modifier, msg_start, len(result))\n"
     ]
    }
   ],
   "source": [
    "print(accuracy)\n",
    "from sklearn import metrics\n",
    "print(metrics.classification_report(gt, prediction))"
   ]
  },
  {
   "cell_type": "code",
   "execution_count": 92,
   "id": "7195cba4",
   "metadata": {},
   "outputs": [],
   "source": [
    "path = os.path.expanduser('~')+'/alphanumeric_dataset/NIST_hsf2_subset/2/*'\n",
    "result, accuracy, gt, prediction, wrong_results = pred_using_h5_digit(model,path)"
   ]
  },
  {
   "cell_type": "code",
   "execution_count": 93,
   "id": "29c6a39d",
   "metadata": {},
   "outputs": [
    {
     "data": {
      "text/plain": [
       "151"
      ]
     },
     "execution_count": 93,
     "metadata": {},
     "output_type": "execute_result"
    }
   ],
   "source": [
    "len(wrong_results)"
   ]
  },
  {
   "cell_type": "code",
   "execution_count": 94,
   "id": "ca55fda7",
   "metadata": {},
   "outputs": [
    {
     "name": "stdout",
     "output_type": "stream",
     "text": [
      "0.9708887603624445\n",
      "              precision    recall  f1-score   support\n",
      "\n",
      "           0       0.00      0.00      0.00         0\n",
      "           1       0.00      0.00      0.00         0\n",
      "           2       1.00      0.97      0.99      5187\n",
      "           3       0.00      0.00      0.00         0\n",
      "           7       0.00      0.00      0.00         0\n",
      "          11       0.00      0.00      0.00         0\n",
      "          13       0.00      0.00      0.00         0\n",
      "          14       0.00      0.00      0.00         0\n",
      "          15       0.00      0.00      0.00         0\n",
      "          16       0.00      0.00      0.00         0\n",
      "          22       0.00      0.00      0.00         0\n",
      "          27       0.00      0.00      0.00         0\n",
      "          28       0.00      0.00      0.00         0\n",
      "          29       0.00      0.00      0.00         0\n",
      "          32       0.00      0.00      0.00         0\n",
      "          33       0.00      0.00      0.00         0\n",
      "          35       0.00      0.00      0.00         0\n",
      "          36       0.00      0.00      0.00         0\n",
      "\n",
      "    accuracy                           0.97      5187\n",
      "   macro avg       0.06      0.05      0.05      5187\n",
      "weighted avg       1.00      0.97      0.99      5187\n",
      "\n"
     ]
    },
    {
     "name": "stderr",
     "output_type": "stream",
     "text": [
      "/home/venkateshiyer/ocrtool/lib/python3.8/site-packages/sklearn/metrics/_classification.py:1334: UndefinedMetricWarning: Recall and F-score are ill-defined and being set to 0.0 in labels with no true samples. Use `zero_division` parameter to control this behavior.\n",
      "  _warn_prf(average, modifier, msg_start, len(result))\n",
      "/home/venkateshiyer/ocrtool/lib/python3.8/site-packages/sklearn/metrics/_classification.py:1334: UndefinedMetricWarning: Recall and F-score are ill-defined and being set to 0.0 in labels with no true samples. Use `zero_division` parameter to control this behavior.\n",
      "  _warn_prf(average, modifier, msg_start, len(result))\n",
      "/home/venkateshiyer/ocrtool/lib/python3.8/site-packages/sklearn/metrics/_classification.py:1334: UndefinedMetricWarning: Recall and F-score are ill-defined and being set to 0.0 in labels with no true samples. Use `zero_division` parameter to control this behavior.\n",
      "  _warn_prf(average, modifier, msg_start, len(result))\n"
     ]
    }
   ],
   "source": [
    "print(accuracy)\n",
    "from sklearn import metrics\n",
    "print(metrics.classification_report(gt, prediction))"
   ]
  },
  {
   "cell_type": "code",
   "execution_count": 95,
   "id": "9430574c",
   "metadata": {},
   "outputs": [],
   "source": [
    "path = os.path.expanduser('~')+'/alphanumeric_dataset/NIST_hsf2_subset/3/*'\n",
    "result, accuracy, gt, prediction, wrong_results = pred_using_h5_digit(model,path)"
   ]
  },
  {
   "cell_type": "code",
   "execution_count": 96,
   "id": "8c952626",
   "metadata": {},
   "outputs": [
    {
     "data": {
      "text/plain": [
       "67"
      ]
     },
     "execution_count": 96,
     "metadata": {},
     "output_type": "execute_result"
    }
   ],
   "source": [
    "len(wrong_results)"
   ]
  },
  {
   "cell_type": "code",
   "execution_count": 97,
   "id": "bb6d5b4e",
   "metadata": {},
   "outputs": [
    {
     "name": "stdout",
     "output_type": "stream",
     "text": [
      "0.9878292461398729\n",
      "              precision    recall  f1-score   support\n",
      "\n",
      "           2       0.00      0.00      0.00         0\n",
      "           3       1.00      0.99      0.99      5505\n",
      "           5       0.00      0.00      0.00         0\n",
      "           7       0.00      0.00      0.00         0\n",
      "           8       0.00      0.00      0.00         0\n",
      "           9       0.00      0.00      0.00         0\n",
      "          12       0.00      0.00      0.00         0\n",
      "          20       0.00      0.00      0.00         0\n",
      "          29       0.00      0.00      0.00         0\n",
      "\n",
      "    accuracy                           0.99      5505\n",
      "   macro avg       0.11      0.11      0.11      5505\n",
      "weighted avg       1.00      0.99      0.99      5505\n",
      "\n"
     ]
    },
    {
     "name": "stderr",
     "output_type": "stream",
     "text": [
      "/home/venkateshiyer/ocrtool/lib/python3.8/site-packages/sklearn/metrics/_classification.py:1334: UndefinedMetricWarning: Recall and F-score are ill-defined and being set to 0.0 in labels with no true samples. Use `zero_division` parameter to control this behavior.\n",
      "  _warn_prf(average, modifier, msg_start, len(result))\n",
      "/home/venkateshiyer/ocrtool/lib/python3.8/site-packages/sklearn/metrics/_classification.py:1334: UndefinedMetricWarning: Recall and F-score are ill-defined and being set to 0.0 in labels with no true samples. Use `zero_division` parameter to control this behavior.\n",
      "  _warn_prf(average, modifier, msg_start, len(result))\n",
      "/home/venkateshiyer/ocrtool/lib/python3.8/site-packages/sklearn/metrics/_classification.py:1334: UndefinedMetricWarning: Recall and F-score are ill-defined and being set to 0.0 in labels with no true samples. Use `zero_division` parameter to control this behavior.\n",
      "  _warn_prf(average, modifier, msg_start, len(result))\n"
     ]
    }
   ],
   "source": [
    "print(accuracy)\n",
    "from sklearn import metrics\n",
    "print(metrics.classification_report(gt, prediction))"
   ]
  },
  {
   "cell_type": "code",
   "execution_count": 98,
   "id": "6de572fb",
   "metadata": {},
   "outputs": [],
   "source": [
    "path = os.path.expanduser('~')+'/alphanumeric_dataset/NIST_hsf2_subset/4/*'\n",
    "result, accuracy, gt, prediction, wrong_results = pred_using_h5_digit(model,path)"
   ]
  },
  {
   "cell_type": "code",
   "execution_count": 99,
   "id": "7d1b891a",
   "metadata": {},
   "outputs": [
    {
     "data": {
      "text/plain": [
       "180"
      ]
     },
     "execution_count": 99,
     "metadata": {},
     "output_type": "execute_result"
    }
   ],
   "source": [
    "len(wrong_results)"
   ]
  },
  {
   "cell_type": "code",
   "execution_count": 100,
   "id": "9afdc53d",
   "metadata": {},
   "outputs": [
    {
     "name": "stdout",
     "output_type": "stream",
     "text": [
      "0.964685108887581\n",
      "              precision    recall  f1-score   support\n",
      "\n",
      "           4       1.00      0.96      0.98      5097\n",
      "           6       0.00      0.00      0.00         0\n",
      "           7       0.00      0.00      0.00         0\n",
      "           8       0.00      0.00      0.00         0\n",
      "           9       0.00      0.00      0.00         0\n",
      "          11       0.00      0.00      0.00         0\n",
      "          13       0.00      0.00      0.00         0\n",
      "          16       0.00      0.00      0.00         0\n",
      "          18       0.00      0.00      0.00         0\n",
      "          20       0.00      0.00      0.00         0\n",
      "          22       0.00      0.00      0.00         0\n",
      "          24       0.00      0.00      0.00         0\n",
      "          25       0.00      0.00      0.00         0\n",
      "          29       0.00      0.00      0.00         0\n",
      "          30       0.00      0.00      0.00         0\n",
      "          31       0.00      0.00      0.00         0\n",
      "          32       0.00      0.00      0.00         0\n",
      "          35       0.00      0.00      0.00         0\n",
      "\n",
      "    accuracy                           0.96      5097\n",
      "   macro avg       0.06      0.05      0.05      5097\n",
      "weighted avg       1.00      0.96      0.98      5097\n",
      "\n"
     ]
    },
    {
     "name": "stderr",
     "output_type": "stream",
     "text": [
      "/home/venkateshiyer/ocrtool/lib/python3.8/site-packages/sklearn/metrics/_classification.py:1334: UndefinedMetricWarning: Recall and F-score are ill-defined and being set to 0.0 in labels with no true samples. Use `zero_division` parameter to control this behavior.\n",
      "  _warn_prf(average, modifier, msg_start, len(result))\n",
      "/home/venkateshiyer/ocrtool/lib/python3.8/site-packages/sklearn/metrics/_classification.py:1334: UndefinedMetricWarning: Recall and F-score are ill-defined and being set to 0.0 in labels with no true samples. Use `zero_division` parameter to control this behavior.\n",
      "  _warn_prf(average, modifier, msg_start, len(result))\n",
      "/home/venkateshiyer/ocrtool/lib/python3.8/site-packages/sklearn/metrics/_classification.py:1334: UndefinedMetricWarning: Recall and F-score are ill-defined and being set to 0.0 in labels with no true samples. Use `zero_division` parameter to control this behavior.\n",
      "  _warn_prf(average, modifier, msg_start, len(result))\n"
     ]
    }
   ],
   "source": [
    "print(accuracy)\n",
    "from sklearn import metrics\n",
    "print(metrics.classification_report(gt, prediction))"
   ]
  },
  {
   "cell_type": "code",
   "execution_count": 101,
   "id": "94d494e4",
   "metadata": {},
   "outputs": [],
   "source": [
    "path = os.path.expanduser('~')+'/alphanumeric_dataset/NIST_hsf2_subset/5/*'\n",
    "result, accuracy, gt, prediction, wrong_results = pred_using_h5_digit(model,path)"
   ]
  },
  {
   "cell_type": "code",
   "execution_count": 102,
   "id": "629438c3",
   "metadata": {},
   "outputs": [
    {
     "data": {
      "text/plain": [
       "709"
      ]
     },
     "execution_count": 102,
     "metadata": {},
     "output_type": "execute_result"
    }
   ],
   "source": [
    "len(wrong_results)"
   ]
  },
  {
   "cell_type": "code",
   "execution_count": 103,
   "id": "33871708",
   "metadata": {},
   "outputs": [
    {
     "name": "stdout",
     "output_type": "stream",
     "text": [
      "0.8447218572054315\n",
      "              precision    recall  f1-score   support\n",
      "\n",
      "           3       0.00      0.00      0.00         0\n",
      "           5       1.00      0.84      0.92      4566\n",
      "           6       0.00      0.00      0.00         0\n",
      "           8       0.00      0.00      0.00         0\n",
      "           9       0.00      0.00      0.00         0\n",
      "          12       0.00      0.00      0.00         0\n",
      "          15       0.00      0.00      0.00         0\n",
      "          16       0.00      0.00      0.00         0\n",
      "          17       0.00      0.00      0.00         0\n",
      "          20       0.00      0.00      0.00         0\n",
      "          25       0.00      0.00      0.00         0\n",
      "          29       0.00      0.00      0.00         0\n",
      "          32       0.00      0.00      0.00         0\n",
      "\n",
      "    accuracy                           0.84      4566\n",
      "   macro avg       0.08      0.06      0.07      4566\n",
      "weighted avg       1.00      0.84      0.92      4566\n",
      "\n"
     ]
    },
    {
     "name": "stderr",
     "output_type": "stream",
     "text": [
      "/home/venkateshiyer/ocrtool/lib/python3.8/site-packages/sklearn/metrics/_classification.py:1334: UndefinedMetricWarning: Recall and F-score are ill-defined and being set to 0.0 in labels with no true samples. Use `zero_division` parameter to control this behavior.\n",
      "  _warn_prf(average, modifier, msg_start, len(result))\n",
      "/home/venkateshiyer/ocrtool/lib/python3.8/site-packages/sklearn/metrics/_classification.py:1334: UndefinedMetricWarning: Recall and F-score are ill-defined and being set to 0.0 in labels with no true samples. Use `zero_division` parameter to control this behavior.\n",
      "  _warn_prf(average, modifier, msg_start, len(result))\n",
      "/home/venkateshiyer/ocrtool/lib/python3.8/site-packages/sklearn/metrics/_classification.py:1334: UndefinedMetricWarning: Recall and F-score are ill-defined and being set to 0.0 in labels with no true samples. Use `zero_division` parameter to control this behavior.\n",
      "  _warn_prf(average, modifier, msg_start, len(result))\n"
     ]
    }
   ],
   "source": [
    "print(accuracy)\n",
    "from sklearn import metrics\n",
    "print(metrics.classification_report(gt, prediction))"
   ]
  },
  {
   "cell_type": "code",
   "execution_count": 104,
   "id": "fac68355",
   "metadata": {},
   "outputs": [],
   "source": [
    "path = os.path.expanduser('~')+'/alphanumeric_dataset/NIST_hsf2_subset/6/*'\n",
    "result, accuracy, gt, prediction, wrong_results = pred_using_h5_digit(model,path)"
   ]
  },
  {
   "cell_type": "code",
   "execution_count": 105,
   "id": "1eda59be",
   "metadata": {},
   "outputs": [
    {
     "data": {
      "text/plain": [
       "78"
      ]
     },
     "execution_count": 105,
     "metadata": {},
     "output_type": "execute_result"
    }
   ],
   "source": [
    "len(wrong_results)"
   ]
  },
  {
   "cell_type": "code",
   "execution_count": 106,
   "id": "76422657",
   "metadata": {},
   "outputs": [
    {
     "name": "stdout",
     "output_type": "stream",
     "text": [
      "0.9850172877449097\n",
      "              precision    recall  f1-score   support\n",
      "\n",
      "           0       0.00      0.00      0.00         0\n",
      "           1       0.00      0.00      0.00         0\n",
      "           4       0.00      0.00      0.00         0\n",
      "           5       0.00      0.00      0.00         0\n",
      "           6       1.00      0.99      0.99      5206\n",
      "           8       0.00      0.00      0.00         0\n",
      "          13       0.00      0.00      0.00         0\n",
      "          15       0.00      0.00      0.00         0\n",
      "          17       0.00      0.00      0.00         0\n",
      "          22       0.00      0.00      0.00         0\n",
      "          25       0.00      0.00      0.00         0\n",
      "          29       0.00      0.00      0.00         0\n",
      "          31       0.00      0.00      0.00         0\n",
      "\n",
      "    accuracy                           0.99      5206\n",
      "   macro avg       0.08      0.08      0.08      5206\n",
      "weighted avg       1.00      0.99      0.99      5206\n",
      "\n"
     ]
    },
    {
     "name": "stderr",
     "output_type": "stream",
     "text": [
      "/home/venkateshiyer/ocrtool/lib/python3.8/site-packages/sklearn/metrics/_classification.py:1334: UndefinedMetricWarning: Recall and F-score are ill-defined and being set to 0.0 in labels with no true samples. Use `zero_division` parameter to control this behavior.\n",
      "  _warn_prf(average, modifier, msg_start, len(result))\n",
      "/home/venkateshiyer/ocrtool/lib/python3.8/site-packages/sklearn/metrics/_classification.py:1334: UndefinedMetricWarning: Recall and F-score are ill-defined and being set to 0.0 in labels with no true samples. Use `zero_division` parameter to control this behavior.\n",
      "  _warn_prf(average, modifier, msg_start, len(result))\n",
      "/home/venkateshiyer/ocrtool/lib/python3.8/site-packages/sklearn/metrics/_classification.py:1334: UndefinedMetricWarning: Recall and F-score are ill-defined and being set to 0.0 in labels with no true samples. Use `zero_division` parameter to control this behavior.\n",
      "  _warn_prf(average, modifier, msg_start, len(result))\n"
     ]
    }
   ],
   "source": [
    "print(accuracy)\n",
    "from sklearn import metrics\n",
    "print(metrics.classification_report(gt, prediction))"
   ]
  },
  {
   "cell_type": "code",
   "execution_count": 107,
   "id": "72d0c589",
   "metadata": {},
   "outputs": [],
   "source": [
    "path = os.path.expanduser('~')+'/alphanumeric_dataset/NIST_hsf2_subset/7/*'\n",
    "result, accuracy, gt, prediction, wrong_results = pred_using_h5_digit(model,path)"
   ]
  },
  {
   "cell_type": "code",
   "execution_count": 108,
   "id": "f7e28325",
   "metadata": {},
   "outputs": [
    {
     "data": {
      "text/plain": [
       "95"
      ]
     },
     "execution_count": 108,
     "metadata": {},
     "output_type": "execute_result"
    }
   ],
   "source": [
    "len(wrong_results)"
   ]
  },
  {
   "cell_type": "code",
   "execution_count": 109,
   "id": "28c9bf56",
   "metadata": {},
   "outputs": [
    {
     "name": "stdout",
     "output_type": "stream",
     "text": [
      "0.9825975453379739\n",
      "              precision    recall  f1-score   support\n",
      "\n",
      "           1       0.00      0.00      0.00         0\n",
      "           2       0.00      0.00      0.00         0\n",
      "           3       0.00      0.00      0.00         0\n",
      "           4       0.00      0.00      0.00         0\n",
      "           7       1.00      0.98      0.99      5459\n",
      "           8       0.00      0.00      0.00         0\n",
      "           9       0.00      0.00      0.00         0\n",
      "          16       0.00      0.00      0.00         0\n",
      "          24       0.00      0.00      0.00         0\n",
      "          30       0.00      0.00      0.00         0\n",
      "          35       0.00      0.00      0.00         0\n",
      "\n",
      "    accuracy                           0.98      5459\n",
      "   macro avg       0.09      0.09      0.09      5459\n",
      "weighted avg       1.00      0.98      0.99      5459\n",
      "\n"
     ]
    },
    {
     "name": "stderr",
     "output_type": "stream",
     "text": [
      "/home/venkateshiyer/ocrtool/lib/python3.8/site-packages/sklearn/metrics/_classification.py:1334: UndefinedMetricWarning: Recall and F-score are ill-defined and being set to 0.0 in labels with no true samples. Use `zero_division` parameter to control this behavior.\n",
      "  _warn_prf(average, modifier, msg_start, len(result))\n",
      "/home/venkateshiyer/ocrtool/lib/python3.8/site-packages/sklearn/metrics/_classification.py:1334: UndefinedMetricWarning: Recall and F-score are ill-defined and being set to 0.0 in labels with no true samples. Use `zero_division` parameter to control this behavior.\n",
      "  _warn_prf(average, modifier, msg_start, len(result))\n",
      "/home/venkateshiyer/ocrtool/lib/python3.8/site-packages/sklearn/metrics/_classification.py:1334: UndefinedMetricWarning: Recall and F-score are ill-defined and being set to 0.0 in labels with no true samples. Use `zero_division` parameter to control this behavior.\n",
      "  _warn_prf(average, modifier, msg_start, len(result))\n"
     ]
    }
   ],
   "source": [
    "print(accuracy)\n",
    "from sklearn import metrics\n",
    "print(metrics.classification_report(gt, prediction))"
   ]
  },
  {
   "cell_type": "code",
   "execution_count": 110,
   "id": "f3439e0b",
   "metadata": {},
   "outputs": [],
   "source": [
    "path = os.path.expanduser('~')+'/alphanumeric_dataset/NIST_hsf2_subset/8/*'\n",
    "result, accuracy, gt, prediction, wrong_results = pred_using_h5_digit(model,path)"
   ]
  },
  {
   "cell_type": "code",
   "execution_count": 111,
   "id": "12c86b67",
   "metadata": {},
   "outputs": [
    {
     "data": {
      "text/plain": [
       "156"
      ]
     },
     "execution_count": 111,
     "metadata": {},
     "output_type": "execute_result"
    }
   ],
   "source": [
    "len(wrong_results)"
   ]
  },
  {
   "cell_type": "code",
   "execution_count": 112,
   "id": "9fd10005",
   "metadata": {},
   "outputs": [
    {
     "name": "stdout",
     "output_type": "stream",
     "text": [
      "0.9700172977128579\n",
      "              precision    recall  f1-score   support\n",
      "\n",
      "           1       0.00      0.00      0.00         0\n",
      "           3       0.00      0.00      0.00         0\n",
      "           5       0.00      0.00      0.00         0\n",
      "           7       0.00      0.00      0.00         0\n",
      "           8       1.00      0.97      0.98      5203\n",
      "           9       0.00      0.00      0.00         0\n",
      "          11       0.00      0.00      0.00         0\n",
      "          12       0.00      0.00      0.00         0\n",
      "          14       0.00      0.00      0.00         0\n",
      "          15       0.00      0.00      0.00         0\n",
      "          16       0.00      0.00      0.00         0\n",
      "          26       0.00      0.00      0.00         0\n",
      "          28       0.00      0.00      0.00         0\n",
      "          29       0.00      0.00      0.00         0\n",
      "          30       0.00      0.00      0.00         0\n",
      "          32       0.00      0.00      0.00         0\n",
      "          35       0.00      0.00      0.00         0\n",
      "\n",
      "    accuracy                           0.97      5203\n",
      "   macro avg       0.06      0.06      0.06      5203\n",
      "weighted avg       1.00      0.97      0.98      5203\n",
      "\n"
     ]
    },
    {
     "name": "stderr",
     "output_type": "stream",
     "text": [
      "/home/venkateshiyer/ocrtool/lib/python3.8/site-packages/sklearn/metrics/_classification.py:1334: UndefinedMetricWarning: Recall and F-score are ill-defined and being set to 0.0 in labels with no true samples. Use `zero_division` parameter to control this behavior.\n",
      "  _warn_prf(average, modifier, msg_start, len(result))\n",
      "/home/venkateshiyer/ocrtool/lib/python3.8/site-packages/sklearn/metrics/_classification.py:1334: UndefinedMetricWarning: Recall and F-score are ill-defined and being set to 0.0 in labels with no true samples. Use `zero_division` parameter to control this behavior.\n",
      "  _warn_prf(average, modifier, msg_start, len(result))\n",
      "/home/venkateshiyer/ocrtool/lib/python3.8/site-packages/sklearn/metrics/_classification.py:1334: UndefinedMetricWarning: Recall and F-score are ill-defined and being set to 0.0 in labels with no true samples. Use `zero_division` parameter to control this behavior.\n",
      "  _warn_prf(average, modifier, msg_start, len(result))\n"
     ]
    }
   ],
   "source": [
    "print(accuracy)\n",
    "from sklearn import metrics\n",
    "print(metrics.classification_report(gt, prediction))"
   ]
  },
  {
   "cell_type": "code",
   "execution_count": 113,
   "id": "3d3830fc",
   "metadata": {},
   "outputs": [],
   "source": [
    "path = os.path.expanduser('~')+'/alphanumeric_dataset/NIST_hsf2_subset/9/*'\n",
    "result, accuracy, gt, prediction, wrong_results = pred_using_h5_digit(model,path)"
   ]
  },
  {
   "cell_type": "code",
   "execution_count": 114,
   "id": "6c1a4afb",
   "metadata": {},
   "outputs": [
    {
     "data": {
      "text/plain": [
       "44"
      ]
     },
     "execution_count": 114,
     "metadata": {},
     "output_type": "execute_result"
    }
   ],
   "source": [
    "len(wrong_results)"
   ]
  },
  {
   "cell_type": "code",
   "execution_count": 115,
   "id": "0afb0478",
   "metadata": {},
   "outputs": [
    {
     "name": "stdout",
     "output_type": "stream",
     "text": [
      "0.9913317572892041\n",
      "              precision    recall  f1-score   support\n",
      "\n",
      "           3       0.00      0.00      0.00         0\n",
      "           4       0.00      0.00      0.00         0\n",
      "           6       0.00      0.00      0.00         0\n",
      "           7       0.00      0.00      0.00         0\n",
      "           8       0.00      0.00      0.00         0\n",
      "           9       1.00      0.99      1.00      5076\n",
      "          16       0.00      0.00      0.00         0\n",
      "          29       0.00      0.00      0.00         0\n",
      "          35       0.00      0.00      0.00         0\n",
      "\n",
      "    accuracy                           0.99      5076\n",
      "   macro avg       0.11      0.11      0.11      5076\n",
      "weighted avg       1.00      0.99      1.00      5076\n",
      "\n"
     ]
    },
    {
     "name": "stderr",
     "output_type": "stream",
     "text": [
      "/home/venkateshiyer/ocrtool/lib/python3.8/site-packages/sklearn/metrics/_classification.py:1334: UndefinedMetricWarning: Recall and F-score are ill-defined and being set to 0.0 in labels with no true samples. Use `zero_division` parameter to control this behavior.\n",
      "  _warn_prf(average, modifier, msg_start, len(result))\n",
      "/home/venkateshiyer/ocrtool/lib/python3.8/site-packages/sklearn/metrics/_classification.py:1334: UndefinedMetricWarning: Recall and F-score are ill-defined and being set to 0.0 in labels with no true samples. Use `zero_division` parameter to control this behavior.\n",
      "  _warn_prf(average, modifier, msg_start, len(result))\n",
      "/home/venkateshiyer/ocrtool/lib/python3.8/site-packages/sklearn/metrics/_classification.py:1334: UndefinedMetricWarning: Recall and F-score are ill-defined and being set to 0.0 in labels with no true samples. Use `zero_division` parameter to control this behavior.\n",
      "  _warn_prf(average, modifier, msg_start, len(result))\n"
     ]
    }
   ],
   "source": [
    "print(accuracy)\n",
    "from sklearn import metrics\n",
    "print(metrics.classification_report(gt, prediction))"
   ]
  },
  {
   "cell_type": "code",
   "execution_count": null,
   "id": "59a7eb6d",
   "metadata": {},
   "outputs": [],
   "source": []
  }
 ],
 "metadata": {
  "kernelspec": {
   "display_name": "Python 3 (ipykernel)",
   "language": "python",
   "name": "python3"
  },
  "language_info": {
   "codemirror_mode": {
    "name": "ipython",
    "version": 3
   },
   "file_extension": ".py",
   "mimetype": "text/x-python",
   "name": "python",
   "nbconvert_exporter": "python",
   "pygments_lexer": "ipython3",
   "version": "3.8.10"
  }
 },
 "nbformat": 4,
 "nbformat_minor": 5
}

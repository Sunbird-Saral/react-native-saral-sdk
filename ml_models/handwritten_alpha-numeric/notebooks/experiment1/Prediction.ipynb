{
 "cells": [
  {
   "cell_type": "code",
   "execution_count": 1,
   "id": "19736483",
   "metadata": {},
   "outputs": [
    {
     "name": "stderr",
     "output_type": "stream",
     "text": [
      "2022-11-29 21:15:15.403418: W tensorflow/stream_executor/platform/default/dso_loader.cc:64] Could not load dynamic library 'libcudart.so.11.0'; dlerror: libcudart.so.11.0: cannot open shared object file: No such file or directory\n",
      "2022-11-29 21:15:15.403444: I tensorflow/stream_executor/cuda/cudart_stub.cc:29] Ignore above cudart dlerror if you do not have a GPU set up on your machine.\n"
     ]
    }
   ],
   "source": [
    "import tensorflow as tf\n",
    "import os\n",
    "import cv2\n",
    "import glob\n",
    "import numpy as np"
   ]
  },
  {
   "cell_type": "code",
   "execution_count": null,
   "id": "d6dbc773",
   "metadata": {},
   "outputs": [],
   "source": [
    "model = tf.keras.models.load_model(os.path.expanduser('~')+'/ml_models/handwritten_digits/models')\n",
    "path = os.path.expanduser('~')+'/ml_models/handwritten_digits/data/test/*'"
   ]
  },
  {
   "cell_type": "code",
   "execution_count": null,
   "id": "1e359d09",
   "metadata": {},
   "outputs": [],
   "source": [
    "def pred_using_h5_digit(model,path):\n",
    "    result = {}\n",
    "    wrong_count=0\n",
    "    for img1 in sorted(glob.glob(path)):\n",
    "        img=cv2.imread(img1)\n",
    "        img= cv2.cvtColor(img, cv2.COLOR_BGR2GRAY)\n",
    "        img = img.astype('float32') / 255.\n",
    "        img=np.reshape(img,(1,28,28,1))\n",
    "        res=model.predict(img)\n",
    "        pred=res[0].argmax(axis=0)\n",
    "        ground = int(img1.split('/')[8])\n",
    "        name = img1.split('/')[-2]\n",
    "        if pred!=ground:\n",
    "            result[name]=pred\n",
    "            wrong_count+=1\n",
    "    accuracy = (len(glob.glob(path))-wrong_count)/len(glob.glob(path))\n",
    "    return result,accuracy"
   ]
  },
  {
   "cell_type": "markdown",
   "id": "c839f7c2",
   "metadata": {},
   "source": []
  }
 ],
 "metadata": {
  "kernelspec": {
   "display_name": "Python 3 (ipykernel)",
   "language": "python",
   "name": "python3"
  },
  "language_info": {
   "codemirror_mode": {
    "name": "ipython",
    "version": 3
   },
   "file_extension": ".py",
   "mimetype": "text/x-python",
   "name": "python",
   "nbconvert_exporter": "python",
   "pygments_lexer": "ipython3",
   "version": "3.8.10"
  }
 },
 "nbformat": 4,
 "nbformat_minor": 5
}
